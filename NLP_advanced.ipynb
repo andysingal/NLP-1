{
 "cells": [
  {
   "cell_type": "code",
   "execution_count": 124,
   "id": "7a32921a",
   "metadata": {},
   "outputs": [
    {
     "data": {
      "application/javascript": [
       "if (window.IpyVizzu) { window.IpyVizzu.clearInhibitScroll(element); }"
      ]
     },
     "metadata": {},
     "output_type": "display_data"
    }
   ],
   "source": [
    "%%capture\n",
    "!pip install readability-lxml"
   ]
  },
  {
   "cell_type": "code",
   "execution_count": 125,
   "id": "a039061f",
   "metadata": {},
   "outputs": [
    {
     "data": {
      "application/javascript": [
       "if (window.IpyVizzu) { window.IpyVizzu.clearInhibitScroll(element); }"
      ]
     },
     "metadata": {},
     "output_type": "display_data"
    }
   ],
   "source": [
    "import os \n",
    "import bs4\n",
    "import json\n",
    "import nltk\n",
    "import time \n",
    "import codecs\n",
    "import pickle \n",
    "import logging\n",
    "import random,math\n",
    "\n",
    "\n",
    "\n",
    "from nltk.tokenize import WordPunctTokenizer\n",
    "from nltk.corpus.reader.api import CorpusReader\n",
    "from nltk.corpus.reader.plaintext import CategorizedPlaintextCorpusReader\n",
    "from nltk.corpus import LazyCorpusLoader, CategorizedPlaintextCorpusReader,CategorizedCorpusReader\n",
    "\n",
    "\n",
    "\n",
    "from readability.readability import Unparseable\n",
    "from readability.readability import Document as Paper\n",
    "from nltk import pos_tag, sent_tokenize, wordpunct_tokenize\n",
    "\n",
    "log = logging.getLogger(\"readability.readability\")\n",
    "log.setLevel('WARNING')\n",
    "# from readability.readability import Document as Paper\n",
    "# Module Variables\n",
    "#https://github.com/DistrictDataLabs/PyCon2016/tree/master/notebooks/tutorial"
   ]
  },
  {
   "cell_type": "code",
   "execution_count": 126,
   "id": "f699796a",
   "metadata": {},
   "outputs": [
    {
     "data": {
      "application/javascript": [
       "if (window.IpyVizzu) { window.IpyVizzu.clearInhibitScroll(element); }"
      ]
     },
     "metadata": {},
     "output_type": "display_data"
    },
    {
     "data": {
      "text/plain": [
       "'/Users/ankush.singal/Desktop/atap/snippets/ch04/nomi/pickled'"
      ]
     },
     "execution_count": 126,
     "metadata": {},
     "output_type": "execute_result"
    }
   ],
   "source": [
    "ROOT = os.getcwd() \n",
    "nomi = os.path.join(ROOT, \"nomi\", \"frankie\")\n",
    "pickle_dir = os.path.join(ROOT, \"nomi\", 'pickled')\n",
    "pickle_dir\n",
    "# CORPUS   = os.path.join(ROOT, \"fixtures\", \"corpus\")\n",
    "# GALACTIC = os.path.join(ROOT, \"fixtures\", \"galactic\")\n",
    "# TAGGED   = os.path.join(ROOT, \"fixtures\", \"preprocessed\")"
   ]
  },
  {
   "cell_type": "code",
   "execution_count": 127,
   "id": "c5ae446b",
   "metadata": {},
   "outputs": [
    {
     "data": {
      "application/javascript": [
       "if (window.IpyVizzu) { window.IpyVizzu.clearInhibitScroll(element); }"
      ]
     },
     "metadata": {},
     "output_type": "display_data"
    }
   ],
   "source": [
    "#https://bitcoden.com/answers/creating-a-custom-categorized-corpus-in-nltk-and-python\n",
    "#https://python.hotexamples.com/examples/nltk.corpus/PlaintextCorpusReader/sents/python-plaintextcorpusreader-sents-method-examples.html\n",
    "DOC_PATTERN = r'.*\\.txt'\n",
    "CAT_PATTERN = r'(\\w+)/*'\n",
    "corpus = CategorizedPlaintextCorpusReader(nomi, r'.*\\.txt', cat_pattern=CAT_PATTERN)\n"
   ]
  },
  {
   "cell_type": "code",
   "execution_count": 128,
   "id": "e4ef8c7b",
   "metadata": {},
   "outputs": [
    {
     "data": {
      "application/javascript": [
       "if (window.IpyVizzu) { window.IpyVizzu.clearInhibitScroll(element); }"
      ]
     },
     "metadata": {},
     "output_type": "display_data"
    },
    {
     "name": "stdout",
     "output_type": "stream",
     "text": [
      "2\n"
     ]
    }
   ],
   "source": [
    "#https://www.districtdatalabs.com/named-entity-recognition-and-classification-for-entity-extraction\n",
    "def get_documents(path=nomi):\n",
    "    \"\"\"\n",
    "    Returns a filtered list of paths to PDF files representing our corpus.\n",
    "    \"\"\"\n",
    "    for name in os.listdir(path):\n",
    "        if name.startswith('c') and name.endswith('.txt'):\n",
    "            yield os.path.join(path, name)\n",
    "\n",
    "# Print the total number of documents\n",
    "print(len(list(get_documents())))"
   ]
  },
  {
   "cell_type": "code",
   "execution_count": 129,
   "id": "c219b0e7",
   "metadata": {},
   "outputs": [
    {
     "data": {
      "application/javascript": [
       "if (window.IpyVizzu) { window.IpyVizzu.clearInhibitScroll(element); }"
      ]
     },
     "metadata": {},
     "output_type": "display_data"
    },
    {
     "name": "stdout",
     "output_type": "stream",
     "text": [
      "CorpusView\n",
      "abspath\n",
      "abspaths\n",
      "categories\n",
      "citation\n",
      "encoding\n",
      "ensure_loaded\n",
      "fileids\n",
      "license\n",
      "open\n",
      "paras\n",
      "raw\n",
      "readme\n",
      "root\n",
      "sents\n",
      "words\n"
     ]
    }
   ],
   "source": [
    "for prop in dir(corpus):\n",
    "    if not prop.startswith('_'): print(prop)"
   ]
  },
  {
   "cell_type": "code",
   "execution_count": 130,
   "id": "039679f8",
   "metadata": {},
   "outputs": [
    {
     "data": {
      "application/javascript": [
       "if (window.IpyVizzu) { window.IpyVizzu.clearInhibitScroll(element); }"
      ]
     },
     "metadata": {},
     "output_type": "display_data"
    },
    {
     "data": {
      "text/plain": [
       "['corpus', 'gutenberg']"
      ]
     },
     "execution_count": 130,
     "metadata": {},
     "output_type": "execute_result"
    }
   ],
   "source": [
    "corpus.categories()"
   ]
  },
  {
   "cell_type": "code",
   "execution_count": 131,
   "id": "16f36256",
   "metadata": {},
   "outputs": [
    {
     "data": {
      "application/javascript": [
       "if (window.IpyVizzu) { window.IpyVizzu.clearInhibitScroll(element); }"
      ]
     },
     "metadata": {},
     "output_type": "display_data"
    },
    {
     "name": "stdout",
     "output_type": "stream",
     "text": [
      "corpus-original.txt\n",
      "corpus.txt\n",
      "gutenberg.txt\n"
     ]
    }
   ],
   "source": [
    "# Print out the fileids\n",
    "for fid in corpus.fileids(): print(fid)"
   ]
  },
  {
   "cell_type": "code",
   "execution_count": 132,
   "id": "801541f6",
   "metadata": {},
   "outputs": [
    {
     "data": {
      "application/javascript": [
       "if (window.IpyVizzu) { window.IpyVizzu.clearInhibitScroll(element); }"
      ]
     },
     "metadata": {},
     "output_type": "display_data"
    },
    {
     "name": "stdout",
     "output_type": "stream",
     "text": [
      "Corpus contains a vocabulary of 6178253 and a word count of 79228.\n"
     ]
    }
   ],
   "source": [
    "words = nltk.FreqDist(corpus.words())\n",
    "count = sum(words.values())\n",
    "vocab = len(words)\n",
    "\n",
    "print(\"Corpus contains a vocabulary of {} and a word count of {}.\".format(\n",
    "    count, vocab\n",
    "))"
   ]
  },
  {
   "cell_type": "markdown",
   "id": "306cc503",
   "metadata": {},
   "source": [
    "#USING REGULAR EXPRESSIONS TO EXTRACT SPECIFIC SECTIONS\n",
    "#To begin our exploration of regular expressions (a.k.a. \"regex\"), it's important to point out some good resources for those new to the topic. An excellent resource may be found in Johns Hopkins University's Coursera video titled Getting and Cleaning Data."
   ]
  },
  {
   "cell_type": "code",
   "execution_count": 133,
   "id": "f3b5d793",
   "metadata": {},
   "outputs": [
    {
     "data": {
      "application/javascript": [
       "if (window.IpyVizzu) { window.IpyVizzu.clearInhibitScroll(element); }"
      ]
     },
     "metadata": {},
     "output_type": "display_data"
    },
    {
     "name": "stdout",
     "output_type": "stream",
     "text": [
      "PRIDE AND PREJUDICE By Jane Austen\n",
      "However little known the feelings or views of such a man may be on his first entering a neighbourhood, this truth is so well fixed in the minds of the surrounding families, that he is considered the rightful property of some one or other of their daughters. \"My dear Mr.\n",
      "PRIDE AND PREJUDICE By Jane Austen\n"
     ]
    }
   ],
   "source": [
    "import re\n",
    "def titles(fileid=None,corpus=corpus):\n",
    "    \"\"\"\n",
    "    Use a regular expression to extract the titles from the corpus.\n",
    "    \"\"\"\n",
    "    pattern = re.compile(r'^(.*)[\\s]+[\\s]?(.*)?')\n",
    "\n",
    "    if fileid is not None:\n",
    "        match = pattern.search(corpus.raw(fileid))\n",
    "        yield \" \".join(map(lambda s: s.strip(), match.groups()))\n",
    "    else:\n",
    "        for fileid in corpus.fileids():\n",
    "            # Search for a pattern match\n",
    "            match = pattern.search(corpus.raw(fileid))\n",
    "\n",
    "            if match:\n",
    "                # If we find one, yield the space joined groups.\n",
    "                yield \" \".join(map(lambda s: s.strip(), match.groups()))\n",
    "\n",
    "for idx, title in enumerate(titles()):\n",
    "        print(title)\n",
    "        if idx >= 10:\n",
    "             break"
   ]
  },
  {
   "cell_type": "code",
   "execution_count": 134,
   "id": "bc1caead",
   "metadata": {},
   "outputs": [
    {
     "data": {
      "application/javascript": [
       "if (window.IpyVizzu) { window.IpyVizzu.clearInhibitScroll(element); }"
      ]
     },
     "metadata": {},
     "output_type": "display_data"
    }
   ],
   "source": [
    "# View the first 12 sentences in Star Trek\n",
    "# for idx, sent in enumerate(corpus.sents(fileids='corpus-original.txt')):\n",
    "#     print(sent)\n",
    "#     if idx > 12: break"
   ]
  },
  {
   "cell_type": "code",
   "execution_count": 135,
   "id": "ce7f4896",
   "metadata": {},
   "outputs": [
    {
     "data": {
      "application/javascript": [
       "if (window.IpyVizzu) { window.IpyVizzu.clearInhibitScroll(element); }"
      ]
     },
     "metadata": {},
     "output_type": "display_data"
    }
   ],
   "source": [
    "# Corpus Patterns \n",
    "DOC_PATTERN = r'.*\\.txt'\n",
    "CAT_PATTERN = r'(\\w+)/*'\n",
    "PKL_PATTERN = r'.+\\.pickle'     # Pickled files end in .pickle\n",
    "\n",
    "\n",
    "class BaleenCorpusReader(CategorizedCorpusReader, CorpusReader):\n",
    "    \"\"\"\n",
    "    A corpus reader for the raw JSON Baleen documents that have not been\n",
    "    preprocessed and have the complete feed information exported from Mongo.\n",
    "    \"\"\"\n",
    "\n",
    "    # Tags to extract as paragraphs from the HTML text\n",
    "    TAGS = [\n",
    "        'h1', 'h2', 'h3', 'h4', 'h5', 'h6', 'h7', 'p', 'li'\n",
    "    ]\n",
    "\n",
    "    def __init__(self, root, fileids=DOC_PATTERN, tags=None,\n",
    "                 word_tokenizer=WordPunctTokenizer(),\n",
    "                 sent_tokenizer=nltk.data.LazyLoader(\n",
    "                    'tokenizers/punkt/english.pickle'),\n",
    "                 encoding='utf8', **kwargs):\n",
    "        \"\"\"\n",
    "        Initialize the corpus reader.  Categorization arguments\n",
    "        (``cat_pattern``, ``cat_map``, and ``cat_file``) are passed to\n",
    "        the ``CategorizedCorpusReader`` constructor.  The remaining arguments\n",
    "        are passed to the ``CorpusReader`` constructor.\n",
    "        \"\"\"\n",
    "        # Add the default category pattern if not passed into the class.\n",
    "        if not any(key.startswith('cat_') for key in kwargs.keys()):\n",
    "            kwargs['cat_pattern'] = CAT_PATTERN\n",
    "\n",
    "        CategorizedCorpusReader.__init__(self, kwargs)\n",
    "        CorpusReader.__init__(self, root, fileids, encoding)\n",
    "\n",
    "        self._word_tokenizer = word_tokenizer\n",
    "        self._sent_tokenizer = sent_tokenizer\n",
    "        self._good_tags = tags or self.TAGS\n",
    "\n",
    "#     def feeds(self):\n",
    "#         \"\"\"\n",
    "#         Opens and returns the collection of feeds associated with the corpus.\n",
    "#         \"\"\"\n",
    "#         data = self.open('feeds.json')\n",
    "#         return json.load(data)\n",
    "\n",
    "    def resolve(self, fileids, categories):\n",
    "            \"\"\"\n",
    "            Returns a list of fileids or categories depending on what is passed\n",
    "            to each internal corpus reader function. Implemented similarly to\n",
    "            the NLTK ``CategorizedPlaintextCorpusReader``.\n",
    "            \"\"\"\n",
    "            if fileids is not None and categories is not None:\n",
    "                raise ValueError(\"Specify fileids or categories, not both\")\n",
    "\n",
    "            if categories is not None:\n",
    "                return self.fileids(categories)\n",
    "            return fileids\n",
    "\n",
    "    def docs(self, fileids=None, categories=None):\n",
    "        \"\"\"\n",
    "        Returns the complete text of a document, closing the document\n",
    "        after we are done reading it and yielding it in a memory safe fashion.\n",
    "        \"\"\"\n",
    "        # Resolve the fileids and the categories\n",
    "        fileids = self.resolve(fileids, categories)\n",
    "\n",
    "        # Create a generator, loading one document into memory at a time.\n",
    "        for path, encoding in self.abspaths(fileids, include_encoding=True):\n",
    "            with codecs.open(path, 'r', encoding=encoding) as f:\n",
    "                yield f.read()\n",
    "    \n",
    "    def sizes(self, fileids=None, categories=None):\n",
    "        \"\"\"\n",
    "        Returns a list of tuples, the fileid and size on disk of the file.\n",
    "        This function is used to detect oddly large files in the corpus.\n",
    "        \"\"\"\n",
    "        # Resolve the fileids and the categories\n",
    "        fileids = self.resolve(fileids, categories)\n",
    "\n",
    "        # Create a generator, getting every path and computing filesize\n",
    "        for path in self.abspaths(fileids):\n",
    "            yield os.path.getsize(path)            \n",
    "\n",
    "    def fields(self, fields, fileids=None, categories=None):\n",
    "        \"\"\"\n",
    "        Helper function to extract particular fields from the json documents.\n",
    "        Fields can be a string or an iterable of fields. If just one field is\n",
    "        passed in, then the values are returned, otherwise dictionaries of\n",
    "        the requsted fields are returned.\n",
    "\n",
    "        This method doesn't raise KeyErrors nor does it yield None values if\n",
    "        the document doesn't contain a particular field.\n",
    "\n",
    "        For example to get title and pubdate from the documents:\n",
    "\n",
    "            corpus.fields(['title', 'pubdate'])\n",
    "\n",
    "        Or to simply get all of the summaries:\n",
    "\n",
    "            corpus.fields('summary')\n",
    "\n",
    "        Note: there is not yet support for nested fields.\n",
    "        \"\"\"\n",
    "        if isinstance(fields, string_types):\n",
    "            fields = [fields,]\n",
    "\n",
    "        if len(fields) == 1:\n",
    "            for doc in self.docs(fileids, categories):\n",
    "                if fields[0] in doc:\n",
    "                    yield doc[fields[0]]\n",
    "\n",
    "        else:\n",
    "            for doc in self.docs(fileids, categories):\n",
    "                yield {\n",
    "                    key: doc.get(key, None)\n",
    "                    for key in fields\n",
    "                }\n",
    "\n",
    "#     def html(self, fileids=None, categories=None, readability=True):\n",
    "#         \"\"\"\n",
    "#         Returns the HTML content from each JSON document for every file in\n",
    "#         the corpus, ensuring that it exists. Note, this simply returns the\n",
    "#         HTML strings, it doesn't perform any parsing of the HTML.\n",
    "\n",
    "#         If readability is True, clean HTML is returned.\n",
    "#         \"\"\"\n",
    "#         ## Returns a generator of documents.\n",
    "#         html = self.fields('content', fileids, categories)\n",
    "#         if readability:\n",
    "#             for doc in html:\n",
    "#                 try:\n",
    "#                     yield Paper(doc).summary()\n",
    "#                 except:\n",
    "#                     continue\n",
    "#         else:\n",
    "#             for doc in html:\n",
    "#                 yield doc\n",
    "                \n",
    "    def paras(self, fileids=None, categories=None):\n",
    "        \"\"\"\n",
    "        Uses splitlines() to parse the paragraphs from plain text.\n",
    "        \"\"\"\n",
    "        # Resolve the fileids and the categories\n",
    "        fileids = self.resolve(fileids, categories)\n",
    "        \n",
    "        for doc in self.docs(fileids):\n",
    "            for par in doc.splitlines():\n",
    "                if len(par) > 0:\n",
    "                    yield par\n",
    "    def sents(self, fileids=None, categories=None):\n",
    "        \"\"\"\n",
    "        Uses the built in sentence tokenizer to extract sentences from the\n",
    "        paragraphs. Note that this method uses BeautifulSoup to parse HTML.\n",
    "        \"\"\"\n",
    "        for paragraph in self.paras(fileids, categories):\n",
    "            for sentence in self._sent_tokenizer.tokenize(paragraph):\n",
    "                yield sentence\n",
    "\n",
    "    def words(self, fileids=None, categories=None):\n",
    "        \"\"\"\n",
    "        Uses the built in word tokenizer to extract tokens from sentences.\n",
    "        \"\"\"\n",
    "        # Resolve the fileids and the categories\n",
    "        fileids = self.resolve(fileids, categories)\n",
    "        \n",
    "        for sentence in self.sents(fileids):\n",
    "            for token in wordpunct_tokenize(sentence):\n",
    "                yield token\n",
    "\n",
    "                \n",
    "    def tokenize(self, fileids=None, categories=None):\n",
    "        \"\"\"\n",
    "        Segments, tokenizes, and tags a document in the corpus.\n",
    "        \"\"\"\n",
    "        for paragraph in self.paras(fileids, categories):\n",
    "            yield [\n",
    "                pos_tag(wordpunct_tokenize(sent))\n",
    "                for sent in sent_tokenize(paragraph)\n",
    "            ]\n",
    "\n",
    "    def describe(self, fileids=None, categories=None):\n",
    "        \"\"\"\n",
    "        Performs a single pass of the corpus and\n",
    "        returns a dictionary with a variety of metrics\n",
    "        concerning the state of the corpus.\n",
    "        \"\"\"\n",
    "        started = time.time()\n",
    "\n",
    "        # Structures to perform counting.\n",
    "        counts  = nltk.FreqDist()\n",
    "        tokens  = nltk.FreqDist()\n",
    "\n",
    "        # Perform single pass over paragraphs, tokenize and count\n",
    "        for para in self.paras(fileids, categories):\n",
    "            counts['paras'] += 1\n",
    "\n",
    "            for sent in sent_tokenize(para):\n",
    "                counts['sents'] += 1\n",
    "\n",
    "                for word in wordpunct_tokenize(sent):\n",
    "                    counts['words'] += 1\n",
    "                    tokens[word] += 1\n",
    "\n",
    "        # Compute the number of files and categories in the corpus\n",
    "        n_fileids = len(self.resolve(fileids, categories) or self.fileids())\n",
    "        n_topics  = len(self.categories(self.resolve(fileids, categories)))\n",
    "\n",
    "        # Return data structure with information\n",
    "        return {\n",
    "            'files':  n_fileids,\n",
    "            'categories': n_topics,\n",
    "            'paragraphs':  counts['paras'],\n",
    "            'sentences':  counts['sents'],\n",
    "            'words':  counts['words'],\n",
    "            'vocabulary_size':  len(tokens),\n",
    "            'lexical_diversity': float(counts['words']) / float(len(tokens)),\n",
    "            'paras_per_doc':  float(counts['paras']) / float(n_fileids),\n",
    "            'words_per_doc':  float(counts['words']) / float(n_fileids),\n",
    "            'sents_per_para':  float(counts['sents']) / float(counts['paras']),\n",
    "            'secs':   time.time() - started,\n",
    "        }\n",
    "    "
   ]
  },
  {
   "cell_type": "code",
   "execution_count": 136,
   "id": "2d3074d2",
   "metadata": {},
   "outputs": [
    {
     "data": {
      "application/javascript": [
       "if (window.IpyVizzu) { window.IpyVizzu.clearInhibitScroll(element); }"
      ]
     },
     "metadata": {},
     "output_type": "display_data"
    },
    {
     "name": "stdout",
     "output_type": "stream",
     "text": [
      "Baleen corpus contains 3 files in 2 categories\n"
     ]
    }
   ],
   "source": [
    "# Load the Baleen Corpus Reader\n",
    "corpus2 = BaleenCorpusReader(nomi, r'.+\\.txt')\n",
    "print(\n",
    "    \"Baleen corpus contains {} files in {} categories\".format(\n",
    "        len(corpus.fileids()), len(corpus.categories())\n",
    "    )\n",
    ")"
   ]
  },
  {
   "cell_type": "code",
   "execution_count": 137,
   "id": "8a733dd9",
   "metadata": {},
   "outputs": [
    {
     "data": {
      "application/javascript": [
       "if (window.IpyVizzu) { window.IpyVizzu.clearInhibitScroll(element); }"
      ]
     },
     "metadata": {},
     "output_type": "display_data"
    },
    {
     "name": "stdout",
     "output_type": "stream",
     "text": [
      "3 documents in 2 categories\n"
     ]
    }
   ],
   "source": [
    "print(\"{} documents in {} categories\".format(len(corpus2.fileids()), len(corpus2.categories())))"
   ]
  },
  {
   "cell_type": "code",
   "execution_count": 138,
   "id": "fe36737a",
   "metadata": {},
   "outputs": [
    {
     "data": {
      "application/javascript": [
       "if (window.IpyVizzu) { window.IpyVizzu.clearInhibitScroll(element); }"
      ]
     },
     "metadata": {},
     "output_type": "display_data"
    },
    {
     "name": "stdout",
     "output_type": "stream",
     "text": [
      "corpus has 79,175 vocab and 5,086,415 words\n",
      "gutenberg has 32,970 vocab and 1,092,764 words\n"
     ]
    }
   ],
   "source": [
    "# Optional to run\n",
    "# Print statistics about each category. \n",
    "words = nltk.ConditionalFreqDist([\n",
    "        (category, word) \n",
    "        for category in corpus2.categories()\n",
    "        for word in corpus2.words(categories=category)\n",
    "    ])\n",
    "\n",
    "for category, dist in words.items():\n",
    "    wc = sum(dist.values())\n",
    "    vb = len(dist) \n",
    "    print(\"{} has {:>,} vocab and {:>,} words\".format(category, vb, wc))"
   ]
  },
  {
   "cell_type": "code",
   "execution_count": 139,
   "id": "4f94df9e",
   "metadata": {},
   "outputs": [
    {
     "data": {
      "application/javascript": [
       "if (window.IpyVizzu) { window.IpyVizzu.clearInhibitScroll(element); }"
      ]
     },
     "metadata": {},
     "output_type": "display_data"
    },
    {
     "name": "stdout",
     "output_type": "stream",
     "text": [
      "files 3\n",
      "categories 2\n",
      "paragraphs 272037\n",
      "sentences 290805\n",
      "words 6179179\n",
      "vocabulary_size 79175\n",
      "lexical_diversity 78.04457215029997\n",
      "paras_per_doc 90679.0\n",
      "words_per_doc 2059726.3333333333\n",
      "sents_per_para 1.0689906152471906\n",
      "secs 11.139745950698853\n"
     ]
    }
   ],
   "source": [
    "#https://github.com/wilkens-teaching/textmining/blob/master/exercises/03%20corpus%20reader%20advanced.ipynb\n",
    "description = corpus2.describe()\n",
    "for key in description:\n",
    "    print(key, description[key])"
   ]
  },
  {
   "cell_type": "code",
   "execution_count": 140,
   "id": "ffa3db92",
   "metadata": {},
   "outputs": [
    {
     "data": {
      "application/javascript": [
       "if (window.IpyVizzu) { window.IpyVizzu.clearInhibitScroll(element); }"
      ]
     },
     "metadata": {},
     "output_type": "display_data"
    },
    {
     "name": "stdout",
     "output_type": "stream",
     "text": [
      "79,175 vocabulary 6,179,179 word count\n"
     ]
    }
   ],
   "source": [
    "class PickledCorpusReader(CategorizedCorpusReader, CorpusReader):\n",
    "\n",
    "    def __init__(self, root, fileids=PKL_PATTERN, **kwargs):\n",
    "        \"\"\"\n",
    "        Initialize the corpus reader.  Categorization arguments\n",
    "        (``cat_pattern``, ``cat_map``, and ``cat_file``) are passed to\n",
    "        the ``CategorizedCorpusReader`` constructor.  The remaining arguments\n",
    "        are passed to the ``CorpusReader`` constructor.\n",
    "        \"\"\"\n",
    "        # Add the default category pattern if not passed into the class.\n",
    "        if not any(key.startswith('cat_') for key in kwargs.keys()):\n",
    "            kwargs['cat_pattern'] = CAT_PATTERN\n",
    "\n",
    "        CategorizedCorpusReader.__init__(self, kwargs)\n",
    "        CorpusReader.__init__(self, root, fileids)\n",
    "\n",
    "    def resolve(self, fileids, categories):\n",
    "            \"\"\"\n",
    "            Returns a list of fileids or categories depending on what is passed\n",
    "            to each internal corpus reader function. Implemented similarly to\n",
    "            the NLTK ``CategorizedPlaintextCorpusReader``.\n",
    "            \"\"\"\n",
    "            if fileids is not None and categories is not None:\n",
    "                raise ValueError(\"Specify fileids or categories, not both\")\n",
    "\n",
    "            if categories is not None:\n",
    "                return self.fileids(categories)\n",
    "            return fileids\n",
    "\n",
    "    def docs(self, fileids=None, categories=None):\n",
    "        \"\"\"\n",
    "        Returns the complete text of a document, closing the document\n",
    "        after we are done reading it and yielding it in a memory safe fashion.\n",
    "        \"\"\"\n",
    "        # Resolve the fileids and the categories\n",
    "        fileids = self.resolve(fileids, categories)\n",
    "\n",
    "        # Create a generator, loading one document into memory at a time.\n",
    "        for path, encoding in self.abspaths(fileids, include_encoding=True):\n",
    "            with codecs.open(path, 'r', encoding=encoding) as f:\n",
    "                yield f.read()\n",
    "    \n",
    "\n",
    "    def paras(self, fileids=None, categories=None):\n",
    "        \"\"\"\n",
    "        Uses splitlines() to parse the paragraphs from plain text.\n",
    "        \"\"\"\n",
    "        # Resolve the fileids and the categories\n",
    "        fileids = self.resolve(fileids, categories)\n",
    "        \n",
    "        for doc in self.docs(fileids):\n",
    "            for par in doc.splitlines():\n",
    "                if len(par) > 0:\n",
    "                    yield par\n",
    "    def sents(self, fileids=None, categories=None):\n",
    "        \"\"\"\n",
    "        Uses the built in sentence tokenizer to extract sentences from the\n",
    "        paragraphs.\n",
    "        \"\"\"\n",
    "        # Resolve the fileids and the categories\n",
    "        fileids = self.resolve(fileids, categories)\n",
    "        \n",
    "        for paragraph in self.paras(fileids):\n",
    "            for sentence in sent_tokenize(paragraph):\n",
    "                yield sentence\n",
    "\n",
    "\n",
    "    def tagged(self, fileids=None, categories=None):\n",
    "        for sent in self.sents(fileids, categories):\n",
    "            for token in sent:\n",
    "                yield token\n",
    "\n",
    "    def words(self, fileids=None, categories=None):\n",
    "        \"\"\"\n",
    "        Uses the built in word tokenizer to extract tokens from sentences.\n",
    "        \"\"\"\n",
    "        # Resolve the fileids and the categories\n",
    "        fileids = self.resolve(fileids, categories)\n",
    "        \n",
    "        for sentence in self.sents(fileids):\n",
    "            for token in wordpunct_tokenize(sentence):\n",
    "                yield token\n",
    "\n",
    "\n",
    "if __name__ == '__main__':\n",
    "    from collections import Counter\n",
    "\n",
    "    corpus3 = PickledCorpusReader(nomi,r'.+\\.txt')\n",
    "    words  = Counter(corpus3.words())\n",
    "\n",
    "    print(\"{:,} vocabulary {:,} word count\".format(len(words.keys()), sum(words.values())))\n",
    "#https://github.com/wilkens-teaching/textmining/blob/master/exercises/03%20corpus%20reader%20advanced.ipynb\n",
    "#https://github.com/DistrictDataLabs/PyCon2016/blob/master/notebooks/tutorial/Machine%20Learning.ipynb"
   ]
  },
  {
   "cell_type": "markdown",
   "id": "6fc483a0",
   "metadata": {},
   "source": [
    "\"\"\"Our next step will be to prepare our preprocessed text data for machine learning by encoding it as vectors. We’ll weigh several techniques for vector encoding, and discuss how to wrap that encoding process in a pipeline to allow for systematic loading, normalization, and feature extraction.\"\"\""
   ]
  },
  {
   "cell_type": "code",
   "execution_count": 141,
   "id": "5de8dd6e",
   "metadata": {},
   "outputs": [
    {
     "data": {
      "application/javascript": [
       "if (window.IpyVizzu) { window.IpyVizzu.clearInhibitScroll(element); }"
      ]
     },
     "metadata": {},
     "output_type": "display_data"
    }
   ],
   "source": [
    "#USING BaseEstimator and Transformermin\n",
    "#https://bbengfort.github.io/2016/05/text-classification-nltk-sckit-learn/\n",
    "#https://www.kaggle.com/code/baghern/a-deep-dive-into-sklearn-pipelines\n",
    "#https://towardsdatascience.com/customizing-sklearn-pipelines-transformermixin-a54341d8d624\n",
    "#https://towardsdatascience.com/pipelines-custom-transformers-in-scikit-learn-ef792bbb3260\n",
    "#https://stackoverflow.com/questions/70550018/sklearn-custom-transformers-with-pipeline-all-the-input-array-dimensions-for-th"
   ]
  },
  {
   "cell_type": "code",
   "execution_count": 152,
   "id": "6b8000c0",
   "metadata": {},
   "outputs": [
    {
     "data": {
      "application/javascript": [
       "if (window.IpyVizzu) { window.IpyVizzu.clearInhibitScroll(element); }"
      ]
     },
     "metadata": {},
     "output_type": "display_data"
    },
    {
     "ename": "TypeError",
     "evalue": "__init__() takes from 1 to 2 positional arguments but 4 were given",
     "output_type": "error",
     "traceback": [
      "\u001b[0;31m---------------------------------------------------------------------------\u001b[0m",
      "\u001b[0;31mTypeError\u001b[0m                                 Traceback (most recent call last)",
      "\u001b[0;32m/var/folders/rr/kjt2cp3n3n90916qxndltyjc0000gp/T/ipykernel_12506/2909710879.py\u001b[0m in \u001b[0;36m<module>\u001b[0;34m\u001b[0m\n\u001b[1;32m     98\u001b[0m \u001b[0;34m\u001b[0m\u001b[0m\n\u001b[1;32m     99\u001b[0m     \u001b[0mcorpus4\u001b[0m \u001b[0;34m=\u001b[0m \u001b[0mPickledCorpusReader\u001b[0m\u001b[0;34m(\u001b[0m\u001b[0mnomi\u001b[0m\u001b[0;34m,\u001b[0m\u001b[0;34mr'.+\\.txt'\u001b[0m\u001b[0;34m)\u001b[0m\u001b[0;34m\u001b[0m\u001b[0;34m\u001b[0m\u001b[0m\n\u001b[0;32m--> 100\u001b[0;31m     \u001b[0mloader\u001b[0m \u001b[0;34m=\u001b[0m \u001b[0mCorpusLoader\u001b[0m\u001b[0;34m(\u001b[0m\u001b[0mcorpus\u001b[0m\u001b[0;34m,\u001b[0m \u001b[0mfolds\u001b[0m\u001b[0;34m=\u001b[0m\u001b[0;36m12\u001b[0m\u001b[0;34m)\u001b[0m\u001b[0;34m\u001b[0m\u001b[0;34m\u001b[0m\u001b[0m\n\u001b[0m\u001b[1;32m    101\u001b[0m \u001b[0;34m\u001b[0m\u001b[0m\n\u001b[1;32m    102\u001b[0m     \u001b[0;32mfor\u001b[0m \u001b[0mfid\u001b[0m \u001b[0;32min\u001b[0m \u001b[0mloader\u001b[0m\u001b[0;34m.\u001b[0m\u001b[0mfileids\u001b[0m\u001b[0;34m(\u001b[0m\u001b[0;36m0\u001b[0m\u001b[0;34m)\u001b[0m\u001b[0;34m:\u001b[0m\u001b[0;34m\u001b[0m\u001b[0;34m\u001b[0m\u001b[0m\n",
      "\u001b[0;32m/var/folders/rr/kjt2cp3n3n90916qxndltyjc0000gp/T/ipykernel_12506/2909710879.py\u001b[0m in \u001b[0;36m__init__\u001b[0;34m(self, corpus, folds, shuffle)\u001b[0m\n\u001b[1;32m     19\u001b[0m         \u001b[0;32mif\u001b[0m \u001b[0mfolds\u001b[0m \u001b[0;32mis\u001b[0m \u001b[0;32mnot\u001b[0m \u001b[0;32mNone\u001b[0m\u001b[0;34m:\u001b[0m\u001b[0;34m\u001b[0m\u001b[0;34m\u001b[0m\u001b[0m\n\u001b[1;32m     20\u001b[0m             \u001b[0;31m# Generate the KFold cross validation for the loader.\u001b[0m\u001b[0;34m\u001b[0m\u001b[0;34m\u001b[0m\u001b[0;34m\u001b[0m\u001b[0m\n\u001b[0;32m---> 21\u001b[0;31m             \u001b[0mself\u001b[0m\u001b[0;34m.\u001b[0m\u001b[0mfolds\u001b[0m \u001b[0;34m=\u001b[0m \u001b[0mKFold\u001b[0m\u001b[0;34m(\u001b[0m\u001b[0mself\u001b[0m\u001b[0;34m.\u001b[0m\u001b[0mn_docs\u001b[0m\u001b[0;34m,\u001b[0m \u001b[0mfolds\u001b[0m\u001b[0;34m,\u001b[0m \u001b[0mshuffle\u001b[0m\u001b[0;34m)\u001b[0m\u001b[0;34m\u001b[0m\u001b[0;34m\u001b[0m\u001b[0m\n\u001b[0m\u001b[1;32m     22\u001b[0m \u001b[0;34m\u001b[0m\u001b[0m\n\u001b[1;32m     23\u001b[0m     \u001b[0;34m@\u001b[0m\u001b[0mproperty\u001b[0m\u001b[0;34m\u001b[0m\u001b[0;34m\u001b[0m\u001b[0m\n",
      "\u001b[0;31mTypeError\u001b[0m: __init__() takes from 1 to 2 positional arguments but 4 were given"
     ]
    }
   ],
   "source": [
    "from sklearn.model_selection import KFold\n",
    "from sklearn.model_selection import train_test_split as tts\n",
    "\n",
    "class CorpusLoader(object):\n",
    "    \"\"\"\n",
    "    The corpus loader knows how to deal with an NLTK corpus at the top of a\n",
    "    pipeline by simply taking as input a corpus to read from. It exposes both\n",
    "    the data and the labels and can be set up to do cross-validation.\n",
    "    If a number of folds is passed in for cross-validation, then the loader\n",
    "    is smart about how to access data for train/test splits. Otherwise it will\n",
    "    simply yield all documents in the corpus.\n",
    "    \"\"\"\n",
    "\n",
    "    def __init__(self, corpus, folds=12, shuffle=True):\n",
    "        self.n_docs = len(corpus.fileids())\n",
    "        self.corpus = corpus\n",
    "        self.folds  = KFold(n_splits=folds, shuffle=shuffle)\n",
    "        self.shuffle = True\n",
    "\n",
    "        if folds is not None:\n",
    "            # Generate the KFold cross validation for the loader.\n",
    "            self.folds = KFold(self.n_docs, folds, shuffle)\n",
    "\n",
    "    @property\n",
    "    def n_folds(self):\n",
    "        \"\"\"\n",
    "        Returns the number of folds if it exists; 0 otherwise.\n",
    "        \"\"\"\n",
    "        if self.folds is None: return 0\n",
    "        return self.folds.n_folds\n",
    "\n",
    "    def fileids(self, fold=None, train=False, test=False):\n",
    "        \"\"\"\n",
    "        Returns a listing of the documents filtering to retreive specific\n",
    "        data from the folds/splits. If no fold, train, or test is specified\n",
    "        then the method will return all fileids.\n",
    "        If a fold is specified (should be an integer between 0 and folds),\n",
    "        then the loader will return documents from that fold. Further, train\n",
    "        or test must be specified to split the fold correctly.\n",
    "        \"\"\"\n",
    "        if fold is None:\n",
    "            # If no fold is specified, return all the fileids.\n",
    "            return self.corpus.fileids()\n",
    "\n",
    "        # Otherwise, identify the fold specifically and get the train/test idx\n",
    "        for fold_idx, (train_idx, test_idx) in enumerate(self.folds):\n",
    "            if fold_idx == fold: break\n",
    "        else:\n",
    "            # We have discovered no correct fold.\n",
    "            raise ValueError(\n",
    "                \"{} is not a fold, specify an integer less than {}\".format(\n",
    "                    fold, self.folds.n_folds\n",
    "                )\n",
    "            )\n",
    "\n",
    "        # Now determine if we're in train or test mode.\n",
    "        if not (test or train) or (test and train):\n",
    "            raise ValueError(\n",
    "                \"Please specify either train or test flag\"\n",
    "            )\n",
    "\n",
    "        # Select only the indices to filter upon.\n",
    "        indices = train_idx if train else test_idx\n",
    "        return [\n",
    "            fileid for doc_idx, fileid in enumerate(self.corpus.fileids())\n",
    "            if doc_idx in indices\n",
    "        ]\n",
    "\n",
    "    def labels(self, fold=None, train=False, test=False):\n",
    "        \"\"\"\n",
    "        Fit will load a list of the labels from the corpus categories.\n",
    "        If a fold is specified (should be an integer between 0 and folds),\n",
    "        then the loader will return documents from that fold. Further, train\n",
    "        or test must be specified to split the fold correctly.\n",
    "        \"\"\"\n",
    "        return [\n",
    "            self.corpus.categories(fileids=fileid)[0]\n",
    "            for fileid in self.fileids(fold, train, test)\n",
    "        ]\n",
    "\n",
    "    def documents(self, fold=None, train=False, test=False):\n",
    "        \"\"\"\n",
    "        A generator of documents being streamed from disk. Each document is\n",
    "        a list of paragraphs, which are a list of sentences, which in turn is\n",
    "        a list of tuples of (token, tag) pairs. All preprocessing is done by\n",
    "        NLTK and the CorpusReader object this object wraps.\n",
    "        If a fold is specified (should be an integer between 0 and folds),\n",
    "        then the loader will return documents from that fold. Further, train\n",
    "        or test must be specified to split the fold correctly. This method\n",
    "        allows us to maintain the generator properties of document reads.\n",
    "        \"\"\"\n",
    "        for fileid in self.fileids(fold, train, test):\n",
    "            yield list(self.corpus.tagged(fileids=fileid))\n",
    "\n",
    "\n",
    "\n",
    "if __name__ == '__main__':\n",
    "    from reader import PickledCorpusReader\n",
    "\n",
    "    corpus4 = PickledCorpusReader(nomi,r'.+\\.txt')\n",
    "    loader = CorpusLoader(corpus, folds=12)\n",
    "\n",
    "    for fid in loader.fileids(0):\n",
    "        print(fid)"
   ]
  },
  {
   "cell_type": "code",
   "execution_count": 121,
   "id": "260d3a7b",
   "metadata": {},
   "outputs": [],
   "source": [
    "%%capture\n",
    "!pip install ipyvizzu"
   ]
  },
  {
   "cell_type": "code",
   "execution_count": 122,
   "id": "c64e882a",
   "metadata": {},
   "outputs": [
    {
     "data": {
      "application/javascript": [
       "if (!window.IpyVizzu) {\n",
       "    class IpyVizzu \n",
       "    {\n",
       "        constructor()\n",
       "        {\n",
       "            IpyVizzu.inhibitScroll = false;\n",
       "            IpyVizzu.nbconvert = false;\n",
       "            document.addEventListener('wheel', (evt) => { IpyVizzu.inhibitScroll = true }, true);\n",
       "            document.addEventListener('keydown', (evt) => { IpyVizzu.inhibitScroll = true }, true);\n",
       "            document.addEventListener('touchstart', (evt) => { IpyVizzu.inhibitScroll = true }, true);\n",
       "\n",
       "            this.elements = {};\n",
       "            this.charts = {};\n",
       "            \n",
       "            this.snapshots = {};\n",
       "            this.displays = {};\n",
       "\n",
       "            this.events = {};\n",
       "            this.loaded = {};\n",
       "            this.libs = {};\n",
       "        }\n",
       "\n",
       "        static clearInhibitScroll(element)\n",
       "        {\n",
       "            if (IpyVizzu.nbconvert) IpyVizzu._hide(element);\n",
       "            IpyVizzu.inhibitScroll = false;\n",
       "        }\n",
       "\n",
       "        createChart(element, chartId, vizzulib, divWidth, divHeight) {\n",
       "            this.elements[chartId] = document.createElement(\"div\");\n",
       "            this.elements[chartId].style.cssText = `width: ${divWidth}; height: ${divHeight};`;\n",
       "            this.loaded[chartId] = import(vizzulib);\n",
       "            this.charts[chartId] = this.loaded[chartId].then(Vizzu => {\n",
       "                this.libs[chartId] = Vizzu.default;\n",
       "                return new Vizzu.default(this.elements[chartId]).initializing\n",
       "            });\n",
       "            this._moveHere(chartId, element);\n",
       "        }\n",
       "\n",
       "        animate(element, chartId, displayTarget, scrollEnabled, getChartTarget, chartAnimOpts)\n",
       "        {\n",
       "            if (IpyVizzu.nbconvert) IpyVizzu._hide(element);\n",
       "            if (displayTarget === 'end') this._moveHere(chartId, element);\n",
       "            this.charts[chartId] = this.charts[chartId].then(chart => {\n",
       "                if (displayTarget === 'actual') this._moveHere(chartId, element);\n",
       "                this._scroll(chartId, scrollEnabled);\n",
       "                let chartTarget = getChartTarget(this.libs[chartId]);\n",
       "                if (typeof chartTarget === 'string') chartTarget = this.snapshots[chartTarget];\n",
       "                return chart.animate(chartTarget, chartAnimOpts);\n",
       "            });\n",
       "        }\n",
       "\n",
       "        store(element, chartId, id)\n",
       "        {\n",
       "            if (IpyVizzu.nbconvert) IpyVizzu._hide(element);\n",
       "            this.charts[chartId] = this.charts[chartId].then(chart => {\n",
       "                this.snapshots[id] = chart.store();\n",
       "                return chart;\n",
       "            });\n",
       "        }\n",
       "\n",
       "        feature(element, chartId, name, enabled)\n",
       "        {\n",
       "            if (IpyVizzu.nbconvert) IpyVizzu._hide(element);\n",
       "            this.charts[chartId] = this.charts[chartId].then(chart => {\n",
       "                chart.feature(name, enabled);\n",
       "                return chart;\n",
       "            });\n",
       "        }\n",
       "\n",
       "        setEvent(element, chartId, id, event, handler)\n",
       "        {\n",
       "            if (IpyVizzu.nbconvert) IpyVizzu._hide(element);\n",
       "            this.charts[chartId] = this.charts[chartId].then(chart => {\n",
       "                this.events[id] = handler;\n",
       "                chart.on(event, this.events[id]);\n",
       "                return chart;\n",
       "            });\n",
       "        }\n",
       "\n",
       "        clearEvent(element, chartId, id, event)\n",
       "        {\n",
       "            if (IpyVizzu.nbconvert) IpyVizzu._hide(element);\n",
       "            this.charts[chartId] = this.charts[chartId].then(chart => {\n",
       "                chart.off(event, this.events[id]);\n",
       "                return chart;\n",
       "            });\n",
       "        }\n",
       "\n",
       "        log(element, chartId, chartProperty)\n",
       "        {\n",
       "            if (IpyVizzu.nbconvert) IpyVizzu._hide(element);\n",
       "            this.charts[chartId] = this.charts[chartId].then(chart => {\n",
       "                console.log(chart[chartProperty])\n",
       "                return chart;\n",
       "            });\n",
       "        }\n",
       "\n",
       "        _moveHere(chartId, element)\n",
       "        {\n",
       "            if (IpyVizzu.nbconvert) IpyVizzu._display(this.elements[chartId], element);\n",
       "            element.append(this.elements[chartId]);\n",
       "        }\n",
       "\n",
       "        _scroll(chartId, enabled)\n",
       "        {\n",
       "            if (!IpyVizzu.inhibitScroll && enabled) {\n",
       "                this.elements[chartId].scrollIntoView({ behavior: \"auto\", block: \"center\" });\n",
       "            }\n",
       "        }\n",
       "\n",
       "        static _hide(element) {\n",
       "            document.getElementById(element.selector.substring(1)).parentNode.style.display = 'none';\n",
       "        }\n",
       "\n",
       "        static _display(prevElement, element) {\n",
       "            if (prevElement.parentNode) {\n",
       "                prevElement.parentNode.style.display = \"none\";\n",
       "            }\n",
       "            document.getElementById(element.selector.substring(1)).parentNode.style.display = 'flex';\n",
       "            document.getElementById(element.selector.substring(1)).parentNode.style.margin = 'auto';\n",
       "        }\n",
       "    }\n",
       "\n",
       "    window.IpyVizzu = IpyVizzu;\n",
       "    window.ipyvizzu = new window.IpyVizzu();\n",
       "}"
      ]
     },
     "metadata": {},
     "output_type": "display_data"
    },
    {
     "data": {
      "application/javascript": [
       "window.ipyvizzu.createChart(element, 'dc41f11', 'https://cdn.jsdelivr.net/npm/vizzu@~0.6.0/dist/vizzu.min.js', '640px', '360px');"
      ]
     },
     "metadata": {},
     "output_type": "display_data"
    },
    {
     "data": {
      "application/javascript": [
       "window.ipyvizzu.animate(element, 'dc41f11', 'actual', false, lib => { return {\"data\": {\"series\": [{\"name\": \"Count\", \"type\": \"measure\", \"values\": [1.0, 1.0, 1.0, 1.0, 1.0, 1.0, 1.0, 1.0, 1.0, 1.0, 1.0, 1.0, 1.0, 1.0, 1.0, 1.0, 1.0, 1.0, 1.0, 1.0, 1.0, 1.0, 1.0, 1.0, 1.0, 1.0, 1.0, 1.0, 1.0, 1.0, 1.0, 1.0, 1.0, 1.0, 1.0, 1.0, 1.0, 1.0, 1.0, 1.0, 1.0, 1.0, 1.0, 1.0, 1.0, 1.0, 1.0, 1.0, 1.0, 1.0, 1.0, 1.0, 1.0, 1.0, 1.0, 1.0, 1.0, 1.0, 1.0, 1.0, 1.0, 1.0, 1.0, 1.0, 1.0, 1.0, 1.0, 1.0, 1.0, 1.0, 1.0, 1.0, 1.0, 1.0, 1.0, 1.0, 1.0, 1.0, 1.0, 1.0, 1.0, 1.0, 1.0, 1.0, 1.0, 1.0, 1.0, 1.0, 1.0, 1.0, 1.0, 1.0, 1.0, 1.0, 1.0, 1.0, 1.0, 1.0, 1.0, 1.0, 1.0, 1.0, 1.0, 1.0, 1.0, 1.0, 1.0, 1.0, 1.0, 1.0, 1.0, 1.0, 1.0, 1.0, 1.0, 1.0, 1.0, 1.0, 1.0, 1.0, 1.0, 1.0, 1.0, 1.0, 1.0, 1.0, 1.0, 1.0, 1.0, 1.0, 1.0, 1.0, 1.0, 1.0, 1.0, 1.0, 1.0, 1.0, 1.0, 1.0, 1.0, 1.0, 1.0, 1.0, 1.0, 1.0, 1.0, 1.0, 1.0, 1.0, 1.0, 1.0, 1.0, 1.0, 1.0, 1.0, 1.0, 1.0, 1.0, 1.0, 1.0, 1.0, 1.0, 1.0, 1.0, 1.0, 1.0, 1.0, 1.0, 1.0, 1.0, 1.0, 1.0, 1.0, 1.0, 1.0, 1.0, 1.0, 1.0, 1.0, 1.0, 1.0, 1.0, 1.0, 1.0, 1.0, 1.0, 1.0, 1.0, 1.0, 1.0, 1.0, 1.0, 1.0, 1.0, 1.0, 1.0, 1.0, 1.0, 1.0, 1.0, 1.0, 1.0, 1.0, 1.0, 1.0, 1.0, 1.0, 1.0, 1.0, 1.0, 1.0, 1.0, 1.0, 1.0, 1.0, 1.0, 1.0, 1.0, 1.0, 1.0, 1.0, 1.0, 1.0, 1.0, 1.0, 1.0, 1.0, 1.0, 1.0, 1.0, 1.0, 1.0, 1.0, 1.0, 1.0, 1.0, 1.0, 1.0, 1.0, 1.0, 1.0, 1.0, 1.0, 1.0, 1.0, 1.0, 1.0, 1.0, 1.0, 1.0, 1.0, 1.0, 1.0, 1.0, 1.0, 1.0, 1.0, 1.0, 1.0, 1.0, 1.0, 1.0, 1.0, 1.0, 1.0, 1.0, 1.0, 1.0, 1.0, 1.0, 1.0, 1.0, 1.0, 1.0, 1.0, 1.0, 1.0, 1.0, 1.0, 1.0, 1.0, 1.0, 1.0, 1.0, 1.0, 1.0, 1.0, 1.0, 1.0, 1.0, 1.0, 1.0, 1.0, 1.0, 1.0, 1.0, 1.0, 1.0, 1.0, 1.0, 1.0, 1.0, 1.0, 1.0, 1.0, 1.0, 1.0, 1.0, 1.0, 1.0, 1.0, 1.0, 1.0, 1.0, 1.0, 1.0, 1.0, 1.0, 1.0, 1.0, 1.0, 1.0, 1.0, 1.0, 1.0, 1.0, 1.0, 1.0, 1.0, 1.0, 1.0, 1.0, 1.0, 1.0, 1.0, 1.0, 1.0, 1.0, 1.0, 1.0, 1.0, 1.0, 1.0, 1.0, 1.0, 1.0, 1.0, 1.0, 1.0, 1.0, 1.0, 1.0, 1.0, 1.0, 1.0, 1.0, 1.0, 1.0, 1.0, 1.0, 1.0, 1.0, 1.0, 1.0, 1.0, 1.0, 1.0, 1.0, 1.0, 1.0, 1.0, 1.0, 1.0, 1.0, 1.0, 1.0, 1.0, 1.0, 1.0, 1.0, 1.0, 1.0, 1.0, 1.0, 1.0, 1.0, 1.0, 1.0, 1.0, 1.0, 1.0, 1.0, 1.0, 1.0, 1.0, 1.0, 1.0, 1.0, 1.0, 1.0, 1.0, 1.0, 1.0, 1.0, 1.0, 1.0, 1.0, 1.0, 1.0, 1.0, 1.0, 1.0, 1.0, 1.0, 1.0, 1.0, 1.0, 1.0, 1.0, 1.0, 1.0, 1.0, 1.0, 1.0, 1.0, 1.0, 1.0, 1.0, 1.0, 1.0, 1.0, 1.0, 1.0, 1.0, 1.0, 1.0, 1.0, 1.0, 1.0, 1.0, 1.0, 1.0, 1.0, 1.0, 1.0, 1.0, 1.0, 1.0, 1.0, 1.0, 1.0, 1.0, 1.0, 1.0, 1.0, 1.0, 1.0, 1.0, 1.0, 1.0, 1.0, 1.0, 1.0, 1.0, 1.0, 1.0, 1.0, 1.0, 1.0, 1.0, 1.0, 1.0, 1.0, 1.0, 1.0, 1.0, 1.0, 1.0, 1.0, 1.0, 1.0, 1.0, 1.0, 1.0, 1.0, 1.0, 1.0, 1.0, 1.0, 1.0, 1.0, 1.0, 1.0, 1.0, 1.0, 1.0, 1.0, 1.0, 1.0, 1.0, 1.0, 1.0, 1.0, 1.0, 1.0, 1.0, 1.0, 1.0, 1.0, 1.0, 1.0, 1.0, 1.0, 1.0, 1.0, 1.0, 1.0, 1.0, 1.0, 1.0, 1.0, 1.0, 1.0, 1.0, 1.0, 1.0, 1.0, 1.0, 1.0, 1.0, 1.0, 1.0, 1.0, 1.0, 1.0, 1.0, 1.0, 1.0, 1.0, 1.0, 1.0, 1.0, 1.0, 1.0, 1.0, 1.0, 1.0, 1.0, 1.0, 1.0, 1.0, 1.0, 1.0, 1.0, 1.0, 1.0, 1.0, 1.0, 1.0, 1.0, 1.0, 1.0, 1.0, 1.0, 1.0, 1.0, 1.0, 1.0, 1.0, 1.0, 1.0, 1.0, 1.0, 1.0, 1.0, 1.0, 1.0, 1.0, 1.0, 1.0, 1.0, 1.0, 1.0, 1.0, 1.0, 1.0, 1.0, 1.0, 1.0, 1.0, 1.0, 1.0, 1.0, 1.0, 1.0, 1.0, 1.0, 1.0, 1.0, 1.0, 1.0, 1.0, 1.0, 1.0, 1.0, 1.0, 1.0, 1.0, 1.0, 1.0, 1.0, 1.0, 1.0, 1.0, 1.0, 1.0, 1.0, 1.0, 1.0, 1.0, 1.0, 1.0, 1.0, 1.0, 1.0, 1.0, 1.0, 1.0, 1.0, 1.0, 1.0, 1.0, 1.0, 1.0, 1.0, 1.0, 1.0, 1.0, 1.0, 1.0, 1.0, 1.0, 1.0, 1.0, 1.0, 1.0, 1.0, 1.0, 1.0, 1.0, 1.0, 1.0, 1.0, 1.0, 1.0, 1.0, 1.0, 1.0, 1.0, 1.0, 1.0, 1.0, 1.0, 1.0, 1.0, 1.0, 1.0, 1.0, 1.0, 1.0, 1.0, 1.0, 1.0, 1.0, 1.0, 1.0, 1.0, 1.0, 1.0, 1.0, 1.0, 1.0, 1.0, 1.0, 1.0, 1.0, 1.0, 1.0, 1.0, 1.0, 1.0, 1.0, 1.0, 1.0, 1.0, 1.0, 1.0, 1.0, 1.0, 1.0, 1.0, 1.0, 1.0, 1.0, 1.0, 1.0, 1.0, 1.0, 1.0, 1.0, 1.0, 1.0, 1.0, 1.0, 1.0, 1.0, 1.0, 1.0, 1.0, 1.0, 1.0, 1.0, 1.0, 1.0, 1.0, 1.0, 1.0, 1.0, 1.0, 1.0, 1.0, 1.0, 1.0, 1.0, 1.0, 1.0, 1.0, 1.0, 1.0, 1.0, 1.0, 1.0, 1.0, 1.0, 1.0, 1.0, 1.0, 1.0, 1.0, 1.0, 1.0, 1.0, 1.0, 1.0, 1.0, 1.0, 1.0, 1.0, 1.0, 1.0, 1.0, 1.0, 1.0, 1.0, 1.0, 1.0, 1.0, 1.0, 1.0, 1.0, 1.0, 1.0, 1.0, 1.0, 1.0, 1.0, 1.0, 1.0, 1.0, 1.0, 1.0, 1.0, 1.0, 1.0, 1.0, 1.0, 1.0, 1.0, 1.0, 1.0, 1.0, 1.0, 1.0, 1.0, 1.0, 1.0, 1.0, 1.0, 1.0, 1.0, 1.0, 1.0, 1.0, 1.0, 1.0, 1.0, 1.0, 1.0, 1.0, 1.0, 1.0, 1.0, 1.0, 1.0, 1.0, 1.0, 1.0, 1.0, 1.0, 1.0, 1.0, 1.0, 1.0, 1.0, 1.0, 1.0, 1.0, 1.0, 1.0, 1.0, 1.0, 1.0, 1.0, 1.0, 1.0, 1.0, 1.0, 1.0, 1.0, 1.0, 1.0, 1.0, 1.0, 1.0, 1.0, 1.0, 1.0, 1.0, 1.0, 1.0, 1.0, 1.0, 1.0, 1.0, 1.0, 1.0, 1.0, 1.0, 1.0, 1.0, 1.0, 1.0, 1.0, 1.0, 1.0, 1.0, 1.0, 1.0, 1.0, 1.0, 1.0, 1.0, 1.0, 1.0, 1.0, 1.0, 1.0, 1.0, 1.0, 1.0, 1.0, 1.0, 1.0, 1.0, 1.0, 1.0, 1.0, 1.0, 1.0, 1.0]}, {\"name\": \"PassengerId\", \"type\": \"measure\", \"values\": [1.0, 2.0, 3.0, 4.0, 5.0, 6.0, 7.0, 8.0, 9.0, 10.0, 11.0, 12.0, 13.0, 14.0, 15.0, 16.0, 17.0, 18.0, 19.0, 20.0, 21.0, 22.0, 23.0, 24.0, 25.0, 26.0, 27.0, 28.0, 29.0, 30.0, 31.0, 32.0, 33.0, 34.0, 35.0, 36.0, 37.0, 38.0, 39.0, 40.0, 41.0, 42.0, 43.0, 44.0, 45.0, 46.0, 47.0, 48.0, 49.0, 50.0, 51.0, 52.0, 53.0, 54.0, 55.0, 56.0, 57.0, 58.0, 59.0, 60.0, 61.0, 62.0, 63.0, 64.0, 65.0, 66.0, 67.0, 68.0, 69.0, 70.0, 71.0, 72.0, 73.0, 74.0, 75.0, 76.0, 77.0, 78.0, 79.0, 80.0, 81.0, 82.0, 83.0, 84.0, 85.0, 86.0, 87.0, 88.0, 89.0, 90.0, 91.0, 92.0, 93.0, 94.0, 95.0, 96.0, 97.0, 98.0, 99.0, 100.0, 101.0, 102.0, 103.0, 104.0, 105.0, 106.0, 107.0, 108.0, 109.0, 110.0, 111.0, 112.0, 113.0, 114.0, 115.0, 116.0, 117.0, 118.0, 119.0, 120.0, 121.0, 122.0, 123.0, 124.0, 125.0, 126.0, 127.0, 128.0, 129.0, 130.0, 131.0, 132.0, 133.0, 134.0, 135.0, 136.0, 137.0, 138.0, 139.0, 140.0, 141.0, 142.0, 143.0, 144.0, 145.0, 146.0, 147.0, 148.0, 149.0, 150.0, 151.0, 152.0, 153.0, 154.0, 155.0, 156.0, 157.0, 158.0, 159.0, 160.0, 161.0, 162.0, 163.0, 164.0, 165.0, 166.0, 167.0, 168.0, 169.0, 170.0, 171.0, 172.0, 173.0, 174.0, 175.0, 176.0, 177.0, 178.0, 179.0, 180.0, 181.0, 182.0, 183.0, 184.0, 185.0, 186.0, 187.0, 188.0, 189.0, 190.0, 191.0, 192.0, 193.0, 194.0, 195.0, 196.0, 197.0, 198.0, 199.0, 200.0, 201.0, 202.0, 203.0, 204.0, 205.0, 206.0, 207.0, 208.0, 209.0, 210.0, 211.0, 212.0, 213.0, 214.0, 215.0, 216.0, 217.0, 218.0, 219.0, 220.0, 221.0, 222.0, 223.0, 224.0, 225.0, 226.0, 227.0, 228.0, 229.0, 230.0, 231.0, 232.0, 233.0, 234.0, 235.0, 236.0, 237.0, 238.0, 239.0, 240.0, 241.0, 242.0, 243.0, 244.0, 245.0, 246.0, 247.0, 248.0, 249.0, 250.0, 251.0, 252.0, 253.0, 254.0, 255.0, 256.0, 257.0, 258.0, 259.0, 260.0, 261.0, 262.0, 263.0, 264.0, 265.0, 266.0, 267.0, 268.0, 269.0, 270.0, 271.0, 272.0, 273.0, 274.0, 275.0, 276.0, 277.0, 278.0, 279.0, 280.0, 281.0, 282.0, 283.0, 284.0, 285.0, 286.0, 287.0, 288.0, 289.0, 290.0, 291.0, 292.0, 293.0, 294.0, 295.0, 296.0, 297.0, 298.0, 299.0, 300.0, 301.0, 302.0, 303.0, 304.0, 305.0, 306.0, 307.0, 308.0, 309.0, 310.0, 311.0, 312.0, 313.0, 314.0, 315.0, 316.0, 317.0, 318.0, 319.0, 320.0, 321.0, 322.0, 323.0, 324.0, 325.0, 326.0, 327.0, 328.0, 329.0, 330.0, 331.0, 332.0, 333.0, 334.0, 335.0, 336.0, 337.0, 338.0, 339.0, 340.0, 341.0, 342.0, 343.0, 344.0, 345.0, 346.0, 347.0, 348.0, 349.0, 350.0, 351.0, 352.0, 353.0, 354.0, 355.0, 356.0, 357.0, 358.0, 359.0, 360.0, 361.0, 362.0, 363.0, 364.0, 365.0, 366.0, 367.0, 368.0, 369.0, 370.0, 371.0, 372.0, 373.0, 374.0, 375.0, 376.0, 377.0, 378.0, 379.0, 380.0, 381.0, 382.0, 383.0, 384.0, 385.0, 386.0, 387.0, 388.0, 389.0, 390.0, 391.0, 392.0, 393.0, 394.0, 395.0, 396.0, 397.0, 398.0, 399.0, 400.0, 401.0, 402.0, 403.0, 404.0, 405.0, 406.0, 407.0, 408.0, 409.0, 410.0, 411.0, 412.0, 413.0, 414.0, 415.0, 416.0, 417.0, 418.0, 419.0, 420.0, 421.0, 422.0, 423.0, 424.0, 425.0, 426.0, 427.0, 428.0, 429.0, 430.0, 431.0, 432.0, 433.0, 434.0, 435.0, 436.0, 437.0, 438.0, 439.0, 440.0, 441.0, 442.0, 443.0, 444.0, 445.0, 446.0, 447.0, 448.0, 449.0, 450.0, 451.0, 452.0, 453.0, 454.0, 455.0, 456.0, 457.0, 458.0, 459.0, 460.0, 461.0, 462.0, 463.0, 464.0, 465.0, 466.0, 467.0, 468.0, 469.0, 470.0, 471.0, 472.0, 473.0, 474.0, 475.0, 476.0, 477.0, 478.0, 479.0, 480.0, 481.0, 482.0, 483.0, 484.0, 485.0, 486.0, 487.0, 488.0, 489.0, 490.0, 491.0, 492.0, 493.0, 494.0, 495.0, 496.0, 497.0, 498.0, 499.0, 500.0, 501.0, 502.0, 503.0, 504.0, 505.0, 506.0, 507.0, 508.0, 509.0, 510.0, 511.0, 512.0, 513.0, 514.0, 515.0, 516.0, 517.0, 518.0, 519.0, 520.0, 521.0, 522.0, 523.0, 524.0, 525.0, 526.0, 527.0, 528.0, 529.0, 530.0, 531.0, 532.0, 533.0, 534.0, 535.0, 536.0, 537.0, 538.0, 539.0, 540.0, 541.0, 542.0, 543.0, 544.0, 545.0, 546.0, 547.0, 548.0, 549.0, 550.0, 551.0, 552.0, 553.0, 554.0, 555.0, 556.0, 557.0, 558.0, 559.0, 560.0, 561.0, 562.0, 563.0, 564.0, 565.0, 566.0, 567.0, 568.0, 569.0, 570.0, 571.0, 572.0, 573.0, 574.0, 575.0, 576.0, 577.0, 578.0, 579.0, 580.0, 581.0, 582.0, 583.0, 584.0, 585.0, 586.0, 587.0, 588.0, 589.0, 590.0, 591.0, 592.0, 593.0, 594.0, 595.0, 596.0, 597.0, 598.0, 599.0, 600.0, 601.0, 602.0, 603.0, 604.0, 605.0, 606.0, 607.0, 608.0, 609.0, 610.0, 611.0, 612.0, 613.0, 614.0, 615.0, 616.0, 617.0, 618.0, 619.0, 620.0, 621.0, 622.0, 623.0, 624.0, 625.0, 626.0, 627.0, 628.0, 629.0, 630.0, 631.0, 632.0, 633.0, 634.0, 635.0, 636.0, 637.0, 638.0, 639.0, 640.0, 641.0, 642.0, 643.0, 644.0, 645.0, 646.0, 647.0, 648.0, 649.0, 650.0, 651.0, 652.0, 653.0, 654.0, 655.0, 656.0, 657.0, 658.0, 659.0, 660.0, 661.0, 662.0, 663.0, 664.0, 665.0, 666.0, 667.0, 668.0, 669.0, 670.0, 671.0, 672.0, 673.0, 674.0, 675.0, 676.0, 677.0, 678.0, 679.0, 680.0, 681.0, 682.0, 683.0, 684.0, 685.0, 686.0, 687.0, 688.0, 689.0, 690.0, 691.0, 692.0, 693.0, 694.0, 695.0, 696.0, 697.0, 698.0, 699.0, 700.0, 701.0, 702.0, 703.0, 704.0, 705.0, 706.0, 707.0, 708.0, 709.0, 710.0, 711.0, 712.0, 713.0, 714.0, 715.0, 716.0, 717.0, 718.0, 719.0, 720.0, 721.0, 722.0, 723.0, 724.0, 725.0, 726.0, 727.0, 728.0, 729.0, 730.0, 731.0, 732.0, 733.0, 734.0, 735.0, 736.0, 737.0, 738.0, 739.0, 740.0, 741.0, 742.0, 743.0, 744.0, 745.0, 746.0, 747.0, 748.0, 749.0, 750.0, 751.0, 752.0, 753.0, 754.0, 755.0, 756.0, 757.0, 758.0, 759.0, 760.0, 761.0, 762.0, 763.0, 764.0, 765.0, 766.0, 767.0, 768.0, 769.0, 770.0, 771.0, 772.0, 773.0, 774.0, 775.0, 776.0, 777.0, 778.0, 779.0, 780.0, 781.0, 782.0, 783.0, 784.0, 785.0, 786.0, 787.0, 788.0, 789.0, 790.0, 791.0, 792.0, 793.0, 794.0, 795.0, 796.0, 797.0, 798.0, 799.0, 800.0, 801.0, 802.0, 803.0, 804.0, 805.0, 806.0, 807.0, 808.0, 809.0, 810.0, 811.0, 812.0, 813.0, 814.0, 815.0, 816.0, 817.0, 818.0, 819.0, 820.0, 821.0, 822.0, 823.0, 824.0, 825.0, 826.0, 827.0, 828.0, 829.0, 830.0, 831.0, 832.0, 833.0, 834.0, 835.0, 836.0, 837.0, 838.0, 839.0, 840.0, 841.0, 842.0, 843.0, 844.0, 845.0, 846.0, 847.0, 848.0, 849.0, 850.0, 851.0, 852.0, 853.0, 854.0, 855.0, 856.0, 857.0, 858.0, 859.0, 860.0, 861.0, 862.0, 863.0, 864.0, 865.0, 866.0, 867.0, 868.0, 869.0, 870.0, 871.0, 872.0, 873.0, 874.0, 875.0, 876.0, 877.0, 878.0, 879.0, 880.0, 881.0, 882.0, 883.0, 884.0, 885.0, 886.0, 887.0, 888.0, 889.0, 890.0, 891.0]}, {\"name\": \"Survived\", \"type\": \"dimension\", \"values\": [\"Died\", \"Survived\", \"Survived\", \"Survived\", \"Died\", \"Died\", \"Died\", \"Died\", \"Survived\", \"Survived\", \"Survived\", \"Survived\", \"Died\", \"Died\", \"Died\", \"Survived\", \"Died\", \"Survived\", \"Died\", \"Survived\", \"Died\", \"Survived\", \"Survived\", \"Survived\", \"Died\", \"Survived\", \"Died\", \"Died\", \"Survived\", \"Died\", \"Died\", \"Survived\", \"Survived\", \"Died\", \"Died\", \"Died\", \"Survived\", \"Died\", \"Died\", \"Survived\", \"Died\", \"Died\", \"Died\", \"Survived\", \"Survived\", \"Died\", \"Died\", \"Survived\", \"Died\", \"Died\", \"Died\", \"Died\", \"Survived\", \"Survived\", \"Died\", \"Survived\", \"Survived\", \"Died\", \"Survived\", \"Died\", \"Died\", \"Survived\", \"Died\", \"Died\", \"Died\", \"Survived\", \"Survived\", \"Died\", \"Survived\", \"Died\", \"Died\", \"Died\", \"Died\", \"Died\", \"Survived\", \"Died\", \"Died\", \"Died\", \"Survived\", \"Survived\", \"Died\", \"Survived\", \"Survived\", \"Died\", \"Survived\", \"Survived\", \"Died\", \"Died\", \"Survived\", \"Died\", \"Died\", \"Died\", \"Died\", \"Died\", \"Died\", \"Died\", \"Died\", \"Survived\", \"Survived\", \"Died\", \"Died\", \"Died\", \"Died\", \"Died\", \"Died\", \"Died\", \"Survived\", \"Survived\", \"Died\", \"Survived\", \"Died\", \"Died\", \"Died\", \"Died\", \"Died\", \"Died\", \"Died\", \"Died\", \"Died\", \"Died\", \"Died\", \"Died\", \"Died\", \"Survived\", \"Died\", \"Survived\", \"Died\", \"Survived\", \"Survived\", \"Died\", \"Died\", \"Died\", \"Died\", \"Survived\", \"Died\", \"Died\", \"Survived\", \"Died\", \"Died\", \"Died\", \"Died\", \"Survived\", \"Survived\", \"Died\", \"Died\", \"Died\", \"Survived\", \"Died\", \"Died\", \"Died\", \"Died\", \"Survived\", \"Died\", \"Died\", \"Died\", \"Died\", \"Survived\", \"Died\", \"Died\", \"Died\", \"Died\", \"Survived\", \"Died\", \"Died\", \"Died\", \"Survived\", \"Survived\", \"Died\", \"Died\", \"Died\", \"Died\", \"Died\", \"Survived\", \"Died\", \"Died\", \"Died\", \"Died\", \"Died\", \"Died\", \"Died\", \"Died\", \"Died\", \"Died\", \"Survived\", \"Survived\", \"Died\", \"Survived\", \"Survived\", \"Died\", \"Died\", \"Survived\", \"Died\", \"Survived\", \"Survived\", \"Survived\", \"Survived\", \"Died\", \"Died\", \"Survived\", \"Died\", \"Died\", \"Died\", \"Died\", \"Died\", \"Survived\", \"Died\", \"Died\", \"Survived\", \"Survived\", \"Survived\", \"Died\", \"Survived\", \"Died\", \"Died\", \"Died\", \"Survived\", \"Survived\", \"Died\", \"Survived\", \"Died\", \"Survived\", \"Died\", \"Died\", \"Died\", \"Survived\", \"Died\", \"Survived\", \"Died\", \"Died\", \"Died\", \"Survived\", \"Died\", \"Died\", \"Survived\", \"Died\", \"Died\", \"Died\", \"Survived\", \"Died\", \"Died\", \"Died\", \"Survived\", \"Died\", \"Died\", \"Died\", \"Died\", \"Died\", \"Survived\", \"Survived\", \"Died\", \"Died\", \"Died\", \"Died\", \"Died\", \"Died\", \"Survived\", \"Survived\", \"Survived\", \"Survived\", \"Survived\", \"Died\", \"Survived\", \"Died\", \"Died\", \"Died\", \"Died\", \"Died\", \"Survived\", \"Survived\", \"Survived\", \"Died\", \"Survived\", \"Survived\", \"Died\", \"Survived\", \"Survived\", \"Died\", \"Died\", \"Died\", \"Survived\", \"Died\", \"Died\", \"Died\", \"Survived\", \"Died\", \"Died\", \"Survived\", \"Died\", \"Survived\", \"Survived\", \"Survived\", \"Survived\", \"Died\", \"Died\", \"Died\", \"Died\", \"Died\", \"Died\", \"Survived\", \"Survived\", \"Survived\", \"Survived\", \"Died\", \"Survived\", \"Died\", \"Survived\", \"Survived\", \"Survived\", \"Died\", \"Survived\", \"Survived\", \"Survived\", \"Died\", \"Died\", \"Died\", \"Survived\", \"Survived\", \"Died\", \"Survived\", \"Survived\", \"Died\", \"Died\", \"Survived\", \"Survived\", \"Died\", \"Survived\", \"Died\", \"Survived\", \"Survived\", \"Survived\", \"Survived\", \"Died\", \"Died\", \"Died\", \"Survived\", \"Died\", \"Died\", \"Survived\", \"Survived\", \"Died\", \"Survived\", \"Survived\", \"Died\", \"Died\", \"Died\", \"Survived\", \"Survived\", \"Survived\", \"Survived\", \"Died\", \"Died\", \"Died\", \"Died\", \"Died\", \"Died\", \"Died\", \"Survived\", \"Died\", \"Survived\", \"Survived\", \"Died\", \"Died\", \"Died\", \"Died\", \"Died\", \"Died\", \"Survived\", \"Survived\", \"Survived\", \"Survived\", \"Survived\", \"Died\", \"Died\", \"Died\", \"Died\", \"Survived\", \"Survived\", \"Died\", \"Died\", \"Died\", \"Survived\", \"Survived\", \"Died\", \"Survived\", \"Died\", \"Died\", \"Died\", \"Survived\", \"Died\", \"Survived\", \"Survived\", \"Survived\", \"Died\", \"Survived\", \"Survived\", \"Died\", \"Died\", \"Died\", \"Died\", \"Survived\", \"Survived\", \"Died\", \"Died\", \"Died\", \"Died\", \"Died\", \"Died\", \"Survived\", \"Died\", \"Died\", \"Died\", \"Died\", \"Survived\", \"Died\", \"Survived\", \"Died\", \"Survived\", \"Survived\", \"Died\", \"Died\", \"Died\", \"Died\", \"Died\", \"Died\", \"Died\", \"Died\", \"Survived\", \"Survived\", \"Died\", \"Survived\", \"Survived\", \"Survived\", \"Survived\", \"Died\", \"Died\", \"Survived\", \"Died\", \"Survived\", \"Died\", \"Died\", \"Survived\", \"Died\", \"Died\", \"Survived\", \"Survived\", \"Survived\", \"Survived\", \"Survived\", \"Survived\", \"Survived\", \"Died\", \"Died\", \"Died\", \"Survived\", \"Died\", \"Survived\", \"Died\", \"Survived\", \"Survived\", \"Died\", \"Survived\", \"Died\", \"Died\", \"Died\", \"Died\", \"Died\", \"Died\", \"Died\", \"Died\", \"Survived\", \"Died\", \"Died\", \"Survived\", \"Survived\", \"Died\", \"Died\", \"Died\", \"Died\", \"Died\", \"Survived\", \"Died\", \"Died\", \"Died\", \"Survived\", \"Survived\", \"Died\", \"Survived\", \"Died\", \"Died\", \"Survived\", \"Died\", \"Died\", \"Died\", \"Died\", \"Died\", \"Died\", \"Survived\", \"Died\", \"Died\", \"Died\", \"Died\", \"Died\", \"Died\", \"Died\", \"Survived\", \"Died\", \"Survived\", \"Survived\", \"Died\", \"Survived\", \"Survived\", \"Died\", \"Survived\", \"Survived\", \"Died\", \"Died\", \"Survived\", \"Died\", \"Survived\", \"Died\", \"Survived\", \"Died\", \"Died\", \"Survived\", \"Died\", \"Died\", \"Survived\", \"Died\", \"Died\", \"Died\", \"Survived\", \"Died\", \"Died\", \"Survived\", \"Died\", \"Survived\", \"Died\", \"Survived\", \"Died\", \"Survived\", \"Survived\", \"Died\", \"Died\", \"Survived\", \"Died\", \"Died\", \"Survived\", \"Survived\", \"Died\", \"Survived\", \"Survived\", \"Died\", \"Died\", \"Survived\", \"Survived\", \"Died\", \"Survived\", \"Died\", \"Survived\", \"Survived\", \"Died\", \"Died\", \"Died\", \"Died\", \"Died\", \"Died\", \"Died\", \"Died\", \"Died\", \"Survived\", \"Survived\", \"Survived\", \"Survived\", \"Survived\", \"Died\", \"Died\", \"Survived\", \"Survived\", \"Died\", \"Survived\", \"Survived\", \"Survived\", \"Died\", \"Died\", \"Died\", \"Survived\", \"Died\", \"Survived\", \"Died\", \"Died\", \"Died\", \"Survived\", \"Died\", \"Died\", \"Died\", \"Died\", \"Survived\", \"Died\", \"Died\", \"Survived\", \"Survived\", \"Died\", \"Died\", \"Died\", \"Survived\", \"Died\", \"Died\", \"Survived\", \"Survived\", \"Survived\", \"Died\", \"Died\", \"Survived\", \"Died\", \"Died\", \"Survived\", \"Died\", \"Died\", \"Survived\", \"Died\", \"Died\", \"Survived\", \"Survived\", \"Died\", \"Died\", \"Died\", \"Died\", \"Survived\", \"Died\", \"Died\", \"Survived\", \"Died\", \"Survived\", \"Died\", \"Died\", \"Survived\", \"Died\", \"Died\", \"Died\", \"Died\", \"Died\", \"Survived\", \"Died\", \"Survived\", \"Survived\", \"Survived\", \"Died\", \"Survived\", \"Died\", \"Survived\", \"Died\", \"Survived\", \"Died\", \"Survived\", \"Died\", \"Died\", \"Died\", \"Died\", \"Died\", \"Died\", \"Survived\", \"Died\", \"Died\", \"Died\", \"Survived\", \"Died\", \"Died\", \"Died\", \"Died\", \"Survived\", \"Survived\", \"Died\", \"Died\", \"Survived\", \"Died\", \"Died\", \"Died\", \"Survived\", \"Died\", \"Survived\", \"Died\", \"Survived\", \"Died\", \"Died\", \"Died\", \"Died\", \"Died\", \"Died\", \"Died\", \"Survived\", \"Survived\", \"Survived\", \"Survived\", \"Died\", \"Died\", \"Died\", \"Died\", \"Survived\", \"Died\", \"Died\", \"Survived\", \"Survived\", \"Died\", \"Died\", \"Died\", \"Died\", \"Survived\", \"Survived\", \"Survived\", \"Survived\", \"Survived\", \"Died\", \"Survived\", \"Died\", \"Died\", \"Died\", \"Survived\", \"Survived\", \"Died\", \"Died\", \"Survived\", \"Died\", \"Died\", \"Died\", \"Survived\", \"Died\", \"Survived\", \"Survived\", \"Died\", \"Died\", \"Survived\", \"Died\", \"Died\", \"Died\", \"Died\", \"Died\", \"Died\", \"Survived\", \"Died\", \"Died\", \"Survived\", \"Died\", \"Survived\", \"Died\", \"Survived\", \"Died\", \"Died\", \"Survived\", \"Died\", \"Died\", \"Survived\", \"Survived\", \"Died\", \"Died\", \"Survived\", \"Survived\", \"Died\", \"Died\", \"Died\", \"Survived\", \"Died\", \"Died\", \"Survived\", \"Survived\", \"Died\", \"Survived\", \"Died\", \"Died\", \"Died\", \"Died\", \"Died\", \"Died\", \"Died\", \"Died\", \"Survived\", \"Died\", \"Died\", \"Survived\", \"Died\", \"Survived\", \"Survived\", \"Survived\", \"Died\", \"Died\", \"Died\", \"Died\", \"Survived\", \"Died\", \"Survived\", \"Died\", \"Died\", \"Died\", \"Died\", \"Died\", \"Died\", \"Died\", \"Survived\", \"Survived\", \"Died\", \"Died\", \"Died\", \"Survived\", \"Survived\", \"Survived\", \"Survived\", \"Died\", \"Died\", \"Died\", \"Died\", \"Survived\", \"Died\", \"Died\", \"Died\", \"Died\", \"Died\", \"Died\", \"Died\", \"Died\", \"Died\", \"Died\", \"Survived\", \"Survived\", \"Died\", \"Survived\", \"Died\", \"Died\", \"Died\", \"Survived\", \"Survived\", \"Survived\", \"Survived\", \"Survived\", \"Died\", \"Died\", \"Died\", \"Survived\", \"Died\", \"Died\", \"Survived\", \"Survived\", \"Died\", \"Died\", \"Survived\", \"Died\", \"Died\", \"Died\", \"Died\", \"Died\", \"Died\", \"Survived\", \"Died\", \"Died\", \"Died\", \"Survived\", \"Died\", \"Survived\", \"Survived\", \"Survived\", \"Survived\", \"Died\", \"Died\", \"Died\", \"Survived\", \"Died\", \"Died\", \"Survived\", \"Survived\", \"Died\", \"Died\", \"Survived\", \"Died\", \"Survived\", \"Died\", \"Died\", \"Survived\", \"Survived\", \"Died\", \"Died\", \"Died\", \"Survived\", \"Survived\", \"Died\", \"Died\", \"Died\", \"Died\", \"Died\", \"Died\", \"Survived\", \"Died\", \"Survived\", \"Died\"]}, {\"name\": \"Pclass\", \"type\": \"measure\", \"values\": [3.0, 1.0, 3.0, 1.0, 3.0, 3.0, 1.0, 3.0, 3.0, 2.0, 3.0, 1.0, 3.0, 3.0, 3.0, 2.0, 3.0, 2.0, 3.0, 3.0, 2.0, 2.0, 3.0, 1.0, 3.0, 3.0, 3.0, 1.0, 3.0, 3.0, 1.0, 1.0, 3.0, 2.0, 1.0, 1.0, 3.0, 3.0, 3.0, 3.0, 3.0, 2.0, 3.0, 2.0, 3.0, 3.0, 3.0, 3.0, 3.0, 3.0, 3.0, 3.0, 1.0, 2.0, 1.0, 1.0, 2.0, 3.0, 2.0, 3.0, 3.0, 1.0, 1.0, 3.0, 1.0, 3.0, 2.0, 3.0, 3.0, 3.0, 2.0, 3.0, 2.0, 3.0, 3.0, 3.0, 3.0, 3.0, 2.0, 3.0, 3.0, 3.0, 3.0, 1.0, 2.0, 3.0, 3.0, 3.0, 1.0, 3.0, 3.0, 3.0, 1.0, 3.0, 3.0, 3.0, 1.0, 1.0, 2.0, 2.0, 3.0, 3.0, 1.0, 3.0, 3.0, 3.0, 3.0, 3.0, 3.0, 3.0, 1.0, 3.0, 3.0, 3.0, 3.0, 3.0, 3.0, 2.0, 1.0, 3.0, 2.0, 3.0, 2.0, 2.0, 1.0, 3.0, 3.0, 3.0, 3.0, 3.0, 3.0, 3.0, 3.0, 2.0, 2.0, 2.0, 1.0, 1.0, 3.0, 1.0, 3.0, 3.0, 3.0, 3.0, 2.0, 2.0, 3.0, 3.0, 2.0, 2.0, 2.0, 1.0, 3.0, 3.0, 3.0, 1.0, 3.0, 3.0, 3.0, 3.0, 3.0, 2.0, 3.0, 3.0, 3.0, 3.0, 1.0, 3.0, 1.0, 3.0, 1.0, 3.0, 3.0, 3.0, 1.0, 3.0, 3.0, 1.0, 2.0, 3.0, 3.0, 2.0, 3.0, 2.0, 3.0, 1.0, 3.0, 1.0, 3.0, 3.0, 2.0, 2.0, 3.0, 2.0, 1.0, 1.0, 3.0, 3.0, 3.0, 2.0, 3.0, 3.0, 3.0, 3.0, 3.0, 3.0, 3.0, 3.0, 3.0, 1.0, 3.0, 2.0, 3.0, 2.0, 3.0, 1.0, 3.0, 2.0, 1.0, 2.0, 3.0, 2.0, 3.0, 3.0, 1.0, 3.0, 2.0, 3.0, 2.0, 3.0, 1.0, 3.0, 2.0, 3.0, 2.0, 3.0, 2.0, 2.0, 2.0, 2.0, 3.0, 3.0, 2.0, 3.0, 3.0, 1.0, 3.0, 2.0, 1.0, 2.0, 3.0, 3.0, 1.0, 3.0, 3.0, 3.0, 1.0, 1.0, 1.0, 2.0, 3.0, 3.0, 1.0, 1.0, 3.0, 2.0, 3.0, 3.0, 1.0, 1.0, 1.0, 3.0, 2.0, 1.0, 3.0, 1.0, 3.0, 2.0, 3.0, 3.0, 3.0, 3.0, 3.0, 3.0, 1.0, 3.0, 3.0, 3.0, 2.0, 3.0, 1.0, 1.0, 2.0, 3.0, 3.0, 1.0, 3.0, 1.0, 1.0, 1.0, 3.0, 3.0, 3.0, 2.0, 3.0, 1.0, 1.0, 1.0, 2.0, 1.0, 1.0, 1.0, 2.0, 3.0, 2.0, 3.0, 2.0, 2.0, 1.0, 1.0, 3.0, 3.0, 2.0, 2.0, 3.0, 1.0, 3.0, 2.0, 3.0, 1.0, 3.0, 1.0, 1.0, 3.0, 1.0, 3.0, 1.0, 1.0, 3.0, 1.0, 2.0, 1.0, 2.0, 2.0, 2.0, 2.0, 2.0, 3.0, 3.0, 3.0, 3.0, 1.0, 3.0, 3.0, 3.0, 3.0, 1.0, 2.0, 3.0, 3.0, 3.0, 2.0, 3.0, 3.0, 3.0, 3.0, 1.0, 3.0, 3.0, 1.0, 1.0, 3.0, 3.0, 1.0, 3.0, 1.0, 3.0, 1.0, 3.0, 3.0, 1.0, 3.0, 3.0, 1.0, 3.0, 2.0, 3.0, 2.0, 3.0, 2.0, 1.0, 3.0, 3.0, 1.0, 3.0, 3.0, 3.0, 2.0, 2.0, 2.0, 3.0, 3.0, 3.0, 3.0, 3.0, 2.0, 3.0, 2.0, 3.0, 3.0, 3.0, 3.0, 1.0, 2.0, 3.0, 3.0, 2.0, 2.0, 2.0, 3.0, 3.0, 3.0, 3.0, 3.0, 3.0, 3.0, 2.0, 2.0, 3.0, 3.0, 1.0, 3.0, 2.0, 3.0, 1.0, 1.0, 3.0, 2.0, 1.0, 2.0, 2.0, 3.0, 3.0, 2.0, 3.0, 1.0, 2.0, 1.0, 3.0, 1.0, 2.0, 3.0, 1.0, 1.0, 3.0, 3.0, 1.0, 1.0, 2.0, 3.0, 1.0, 3.0, 1.0, 2.0, 3.0, 3.0, 2.0, 1.0, 3.0, 3.0, 3.0, 3.0, 2.0, 2.0, 3.0, 1.0, 2.0, 3.0, 3.0, 3.0, 3.0, 2.0, 3.0, 3.0, 1.0, 3.0, 1.0, 1.0, 3.0, 3.0, 3.0, 3.0, 1.0, 1.0, 3.0, 3.0, 1.0, 3.0, 1.0, 3.0, 3.0, 3.0, 3.0, 3.0, 1.0, 1.0, 2.0, 1.0, 3.0, 3.0, 3.0, 3.0, 1.0, 1.0, 3.0, 1.0, 2.0, 3.0, 2.0, 3.0, 1.0, 3.0, 3.0, 1.0, 3.0, 3.0, 2.0, 1.0, 3.0, 2.0, 2.0, 3.0, 3.0, 3.0, 3.0, 2.0, 1.0, 1.0, 3.0, 1.0, 1.0, 3.0, 3.0, 2.0, 1.0, 1.0, 2.0, 2.0, 3.0, 2.0, 1.0, 2.0, 3.0, 3.0, 3.0, 1.0, 1.0, 1.0, 1.0, 3.0, 3.0, 3.0, 2.0, 3.0, 3.0, 3.0, 3.0, 3.0, 3.0, 3.0, 2.0, 1.0, 1.0, 3.0, 3.0, 3.0, 2.0, 1.0, 3.0, 3.0, 2.0, 1.0, 2.0, 1.0, 3.0, 1.0, 2.0, 1.0, 3.0, 3.0, 3.0, 1.0, 3.0, 3.0, 2.0, 3.0, 2.0, 3.0, 3.0, 1.0, 2.0, 3.0, 1.0, 3.0, 1.0, 3.0, 3.0, 1.0, 2.0, 1.0, 3.0, 3.0, 3.0, 3.0, 3.0, 2.0, 3.0, 3.0, 2.0, 2.0, 3.0, 1.0, 3.0, 3.0, 3.0, 1.0, 2.0, 1.0, 3.0, 3.0, 1.0, 3.0, 1.0, 1.0, 3.0, 2.0, 3.0, 2.0, 3.0, 3.0, 3.0, 1.0, 3.0, 3.0, 3.0, 1.0, 3.0, 1.0, 3.0, 3.0, 3.0, 2.0, 3.0, 3.0, 3.0, 2.0, 3.0, 3.0, 2.0, 1.0, 1.0, 3.0, 1.0, 3.0, 3.0, 2.0, 2.0, 3.0, 3.0, 1.0, 2.0, 1.0, 2.0, 2.0, 2.0, 3.0, 3.0, 3.0, 3.0, 1.0, 3.0, 1.0, 3.0, 3.0, 2.0, 2.0, 3.0, 3.0, 3.0, 1.0, 1.0, 3.0, 3.0, 3.0, 1.0, 2.0, 3.0, 3.0, 1.0, 3.0, 1.0, 1.0, 3.0, 3.0, 3.0, 2.0, 2.0, 1.0, 1.0, 3.0, 1.0, 1.0, 1.0, 3.0, 2.0, 3.0, 1.0, 2.0, 3.0, 3.0, 2.0, 3.0, 2.0, 2.0, 1.0, 3.0, 2.0, 3.0, 2.0, 3.0, 1.0, 3.0, 2.0, 2.0, 2.0, 3.0, 3.0, 1.0, 3.0, 3.0, 1.0, 1.0, 1.0, 3.0, 3.0, 1.0, 3.0, 2.0, 1.0, 3.0, 2.0, 3.0, 3.0, 3.0, 2.0, 2.0, 3.0, 2.0, 3.0, 1.0, 3.0, 3.0, 3.0, 1.0, 3.0, 1.0, 1.0, 3.0, 3.0, 3.0, 3.0, 3.0, 2.0, 3.0, 2.0, 3.0, 3.0, 3.0, 3.0, 1.0, 3.0, 1.0, 1.0, 3.0, 3.0, 3.0, 3.0, 3.0, 3.0, 1.0, 3.0, 2.0, 3.0, 1.0, 3.0, 2.0, 1.0, 3.0, 3.0, 3.0, 2.0, 2.0, 1.0, 3.0, 3.0, 3.0, 1.0, 3.0, 2.0, 1.0, 3.0, 3.0, 2.0, 3.0, 3.0, 1.0, 3.0, 2.0, 3.0, 3.0, 1.0, 3.0, 1.0, 3.0, 3.0, 3.0, 3.0, 2.0, 3.0, 1.0, 3.0, 2.0, 3.0, 3.0, 3.0, 1.0, 3.0, 3.0, 3.0, 1.0, 3.0, 2.0, 1.0, 3.0, 3.0, 3.0, 3.0, 3.0, 2.0, 1.0, 3.0, 3.0, 3.0, 1.0, 2.0, 3.0, 1.0, 1.0, 3.0, 3.0, 3.0, 2.0, 1.0, 3.0, 2.0, 2.0, 2.0, 1.0, 3.0, 3.0, 3.0, 1.0, 1.0, 3.0, 2.0, 3.0, 3.0, 3.0, 3.0, 1.0, 2.0, 3.0, 3.0, 2.0, 3.0, 3.0, 2.0, 1.0, 3.0, 1.0, 3.0]}, {\"name\": \"Name\", \"type\": \"dimension\", \"values\": [\"Braund, Mr. Owen Harris\", \"Cumings, Mrs. John Bradley (Florence Briggs Thayer)\", \"Heikkinen, Miss. Laina\", \"Futrelle, Mrs. Jacques Heath (Lily May Peel)\", \"Allen, Mr. William Henry\", \"Moran, Mr. James\", \"McCarthy, Mr. Timothy J\", \"Palsson, Master. Gosta Leonard\", \"Johnson, Mrs. Oscar W (Elisabeth Vilhelmina Berg)\", \"Nasser, Mrs. Nicholas (Adele Achem)\", \"Sandstrom, Miss. Marguerite Rut\", \"Bonnell, Miss. Elizabeth\", \"Saundercock, Mr. William Henry\", \"Andersson, Mr. Anders Johan\", \"Vestrom, Miss. Hulda Amanda Adolfina\", \"Hewlett, Mrs. (Mary D Kingcome) \", \"Rice, Master. Eugene\", \"Williams, Mr. Charles Eugene\", \"Vander Planke, Mrs. Julius (Emelia Maria Vandemoortele)\", \"Masselmani, Mrs. Fatima\", \"Fynney, Mr. Joseph J\", \"Beesley, Mr. Lawrence\", \"McGowan, Miss. Anna \\\"Annie\\\"\", \"Sloper, Mr. William Thompson\", \"Palsson, Miss. Torborg Danira\", \"Asplund, Mrs. Carl Oscar (Selma Augusta Emilia Johansson)\", \"Emir, Mr. Farred Chehab\", \"Fortune, Mr. Charles Alexander\", \"O'Dwyer, Miss. Ellen \\\"Nellie\\\"\", \"Todoroff, Mr. Lalio\", \"Uruchurtu, Don. Manuel E\", \"Spencer, Mrs. William Augustus (Marie Eugenie)\", \"Glynn, Miss. Mary Agatha\", \"Wheadon, Mr. Edward H\", \"Meyer, Mr. Edgar Joseph\", \"Holverson, Mr. Alexander Oskar\", \"Mamee, Mr. Hanna\", \"Cann, Mr. Ernest Charles\", \"Vander Planke, Miss. Augusta Maria\", \"Nicola-Yarred, Miss. Jamila\", \"Ahlin, Mrs. Johan (Johanna Persdotter Larsson)\", \"Turpin, Mrs. William John Robert (Dorothy Ann Wonnacott)\", \"Kraeff, Mr. Theodor\", \"Laroche, Miss. Simonne Marie Anne Andree\", \"Devaney, Miss. Margaret Delia\", \"Rogers, Mr. William John\", \"Lennon, Mr. Denis\", \"O'Driscoll, Miss. Bridget\", \"Samaan, Mr. Youssef\", \"Arnold-Franchi, Mrs. Josef (Josefine Franchi)\", \"Panula, Master. Juha Niilo\", \"Nosworthy, Mr. Richard Cater\", \"Harper, Mrs. Henry Sleeper (Myna Haxtun)\", \"Faunthorpe, Mrs. Lizzie (Elizabeth Anne Wilkinson)\", \"Ostby, Mr. Engelhart Cornelius\", \"Woolner, Mr. Hugh\", \"Rugg, Miss. Emily\", \"Novel, Mr. Mansouer\", \"West, Miss. Constance Mirium\", \"Goodwin, Master. William Frederick\", \"Sirayanian, Mr. Orsen\", \"Icard, Miss. Amelie\", \"Harris, Mr. Henry Birkhardt\", \"Skoog, Master. Harald\", \"Stewart, Mr. Albert A\", \"Moubarek, Master. Gerios\", \"Nye, Mrs. (Elizabeth Ramell)\", \"Crease, Mr. Ernest James\", \"Andersson, Miss. Erna Alexandra\", \"Kink, Mr. Vincenz\", \"Jenkin, Mr. Stephen Curnow\", \"Goodwin, Miss. Lillian Amy\", \"Hood, Mr. Ambrose Jr\", \"Chronopoulos, Mr. Apostolos\", \"Bing, Mr. Lee\", \"Moen, Mr. Sigurd Hansen\", \"Staneff, Mr. Ivan\", \"Moutal, Mr. Rahamin Haim\", \"Caldwell, Master. Alden Gates\", \"Dowdell, Miss. Elizabeth\", \"Waelens, Mr. Achille\", \"Sheerlinck, Mr. Jan Baptist\", \"McDermott, Miss. Brigdet Delia\", \"Carrau, Mr. Francisco M\", \"Ilett, Miss. Bertha\", \"Backstrom, Mrs. Karl Alfred (Maria Mathilda Gustafsson)\", \"Ford, Mr. William Neal\", \"Slocovski, Mr. Selman Francis\", \"Fortune, Miss. Mabel Helen\", \"Celotti, Mr. Francesco\", \"Christmann, Mr. Emil\", \"Andreasson, Mr. Paul Edvin\", \"Chaffee, Mr. Herbert Fuller\", \"Dean, Mr. Bertram Frank\", \"Coxon, Mr. Daniel\", \"Shorney, Mr. Charles Joseph\", \"Goldschmidt, Mr. George B\", \"Greenfield, Mr. William Bertram\", \"Doling, Mrs. John T (Ada Julia Bone)\", \"Kantor, Mr. Sinai\", \"Petranec, Miss. Matilda\", \"Petroff, Mr. Pastcho (\\\"Pentcho\\\")\", \"White, Mr. Richard Frasar\", \"Johansson, Mr. Gustaf Joel\", \"Gustafsson, Mr. Anders Vilhelm\", \"Mionoff, Mr. Stoytcho\", \"Salkjelsvik, Miss. Anna Kristine\", \"Moss, Mr. Albert Johan\", \"Rekic, Mr. Tido\", \"Moran, Miss. Bertha\", \"Porter, Mr. Walter Chamberlain\", \"Zabour, Miss. Hileni\", \"Barton, Mr. David John\", \"Jussila, Miss. Katriina\", \"Attalah, Miss. Malake\", \"Pekoniemi, Mr. Edvard\", \"Connors, Mr. Patrick\", \"Turpin, Mr. William John Robert\", \"Baxter, Mr. Quigg Edmond\", \"Andersson, Miss. Ellis Anna Maria\", \"Hickman, Mr. Stanley George\", \"Moore, Mr. Leonard Charles\", \"Nasser, Mr. Nicholas\", \"Webber, Miss. Susan\", \"White, Mr. Percival Wayland\", \"Nicola-Yarred, Master. Elias\", \"McMahon, Mr. Martin\", \"Madsen, Mr. Fridtjof Arne\", \"Peter, Miss. Anna\", \"Ekstrom, Mr. Johan\", \"Drazenoic, Mr. Jozef\", \"Coelho, Mr. Domingos Fernandeo\", \"Robins, Mrs. Alexander A (Grace Charity Laury)\", \"Weisz, Mrs. Leopold (Mathilde Francoise Pede)\", \"Sobey, Mr. Samuel James Hayden\", \"Richard, Mr. Emile\", \"Newsom, Miss. Helen Monypeny\", \"Futrelle, Mr. Jacques Heath\", \"Osen, Mr. Olaf Elon\", \"Giglio, Mr. Victor\", \"Boulos, Mrs. Joseph (Sultana)\", \"Nysten, Miss. Anna Sofia\", \"Hakkarainen, Mrs. Pekka Pietari (Elin Matilda Dolck)\", \"Burke, Mr. Jeremiah\", \"Andrew, Mr. Edgardo Samuel\", \"Nicholls, Mr. Joseph Charles\", \"Andersson, Mr. August Edvard (\\\"Wennerstrom\\\")\", \"Ford, Miss. Robina Maggie \\\"Ruby\\\"\", \"Navratil, Mr. Michel (\\\"Louis M Hoffman\\\")\", \"Byles, Rev. Thomas Roussel Davids\", \"Bateman, Rev. Robert James\", \"Pears, Mrs. Thomas (Edith Wearne)\", \"Meo, Mr. Alfonzo\", \"van Billiard, Mr. Austin Blyler\", \"Olsen, Mr. Ole Martin\", \"Williams, Mr. Charles Duane\", \"Gilnagh, Miss. Katherine \\\"Katie\\\"\", \"Corn, Mr. Harry\", \"Smiljanic, Mr. Mile\", \"Sage, Master. Thomas Henry\", \"Cribb, Mr. John Hatfield\", \"Watt, Mrs. James (Elizabeth \\\"Bessie\\\" Inglis Milne)\", \"Bengtsson, Mr. John Viktor\", \"Calic, Mr. Jovo\", \"Panula, Master. Eino Viljami\", \"Goldsmith, Master. Frank John William \\\"Frankie\\\"\", \"Chibnall, Mrs. (Edith Martha Bowerman)\", \"Skoog, Mrs. William (Anna Bernhardina Karlsson)\", \"Baumann, Mr. John D\", \"Ling, Mr. Lee\", \"Van der hoef, Mr. Wyckoff\", \"Rice, Master. Arthur\", \"Johnson, Miss. Eleanor Ileen\", \"Sivola, Mr. Antti Wilhelm\", \"Smith, Mr. James Clinch\", \"Klasen, Mr. Klas Albin\", \"Lefebre, Master. Henry Forbes\", \"Isham, Miss. Ann Elizabeth\", \"Hale, Mr. Reginald\", \"Leonard, Mr. Lionel\", \"Sage, Miss. Constance Gladys\", \"Pernot, Mr. Rene\", \"Asplund, Master. Clarence Gustaf Hugo\", \"Becker, Master. Richard F\", \"Kink-Heilmann, Miss. Luise Gretchen\", \"Rood, Mr. Hugh Roscoe\", \"O'Brien, Mrs. Thomas (Johanna \\\"Hannah\\\" Godfrey)\", \"Romaine, Mr. Charles Hallace (\\\"Mr C Rolmane\\\")\", \"Bourke, Mr. John\", \"Turcin, Mr. Stjepan\", \"Pinsky, Mrs. (Rosa)\", \"Carbines, Mr. William\", \"Andersen-Jensen, Miss. Carla Christine Nielsine\", \"Navratil, Master. Michel M\", \"Brown, Mrs. James Joseph (Margaret Tobin)\", \"Lurette, Miss. Elise\", \"Mernagh, Mr. Robert\", \"Olsen, Mr. Karl Siegwart Andreas\", \"Madigan, Miss. Margaret \\\"Maggie\\\"\", \"Yrois, Miss. Henriette (\\\"Mrs Harbeck\\\")\", \"Vande Walle, Mr. Nestor Cyriel\", \"Sage, Mr. Frederick\", \"Johanson, Mr. Jakob Alfred\", \"Youseff, Mr. Gerious\", \"Cohen, Mr. Gurshon \\\"Gus\\\"\", \"Strom, Miss. Telma Matilda\", \"Backstrom, Mr. Karl Alfred\", \"Albimona, Mr. Nassef Cassem\", \"Carr, Miss. Helen \\\"Ellen\\\"\", \"Blank, Mr. Henry\", \"Ali, Mr. Ahmed\", \"Cameron, Miss. Clear Annie\", \"Perkin, Mr. John Henry\", \"Givard, Mr. Hans Kristensen\", \"Kiernan, Mr. Philip\", \"Newell, Miss. Madeleine\", \"Honkanen, Miss. Eliina\", \"Jacobsohn, Mr. Sidney Samuel\", \"Bazzani, Miss. Albina\", \"Harris, Mr. Walter\", \"Sunderland, Mr. Victor Francis\", \"Bracken, Mr. James H\", \"Green, Mr. George Henry\", \"Nenkoff, Mr. Christo\", \"Hoyt, Mr. Frederick Maxfield\", \"Berglund, Mr. Karl Ivar Sven\", \"Mellors, Mr. William John\", \"Lovell, Mr. John Hall (\\\"Henry\\\")\", \"Fahlstrom, Mr. Arne Jonas\", \"Lefebre, Miss. Mathilde\", \"Harris, Mrs. Henry Birkhardt (Irene Wallach)\", \"Larsson, Mr. Bengt Edvin\", \"Sjostedt, Mr. Ernst Adolf\", \"Asplund, Miss. Lillian Gertrud\", \"Leyson, Mr. Robert William Norman\", \"Harknett, Miss. Alice Phoebe\", \"Hold, Mr. Stephen\", \"Collyer, Miss. Marjorie \\\"Lottie\\\"\", \"Pengelly, Mr. Frederick William\", \"Hunt, Mr. George Henry\", \"Zabour, Miss. Thamine\", \"Murphy, Miss. Katherine \\\"Kate\\\"\", \"Coleridge, Mr. Reginald Charles\", \"Maenpaa, Mr. Matti Alexanteri\", \"Attalah, Mr. Sleiman\", \"Minahan, Dr. William Edward\", \"Lindahl, Miss. Agda Thorilda Viktoria\", \"Hamalainen, Mrs. William (Anna)\", \"Beckwith, Mr. Richard Leonard\", \"Carter, Rev. Ernest Courtenay\", \"Reed, Mr. James George\", \"Strom, Mrs. Wilhelm (Elna Matilda Persson)\", \"Stead, Mr. William Thomas\", \"Lobb, Mr. William Arthur\", \"Rosblom, Mrs. Viktor (Helena Wilhelmina)\", \"Touma, Mrs. Darwis (Hanne Youssef Razi)\", \"Thorne, Mrs. Gertrude Maybelle\", \"Cherry, Miss. Gladys\", \"Ward, Miss. Anna\", \"Parrish, Mrs. (Lutie Davis)\", \"Smith, Mr. Thomas\", \"Asplund, Master. Edvin Rojj Felix\", \"Taussig, Mr. Emil\", \"Harrison, Mr. William\", \"Henry, Miss. Delia\", \"Reeves, Mr. David\", \"Panula, Mr. Ernesti Arvid\", \"Persson, Mr. Ernst Ulrik\", \"Graham, Mrs. William Thompson (Edith Junkins)\", \"Bissette, Miss. Amelia\", \"Cairns, Mr. Alexander\", \"Tornquist, Mr. William Henry\", \"Mellinger, Mrs. (Elizabeth Anne Maidment)\", \"Natsch, Mr. Charles H\", \"Healy, Miss. Hanora \\\"Nora\\\"\", \"Andrews, Miss. Kornelia Theodosia\", \"Lindblom, Miss. Augusta Charlotta\", \"Parkes, Mr. Francis \\\"Frank\\\"\", \"Rice, Master. Eric\", \"Abbott, Mrs. Stanton (Rosa Hunt)\", \"Duane, Mr. Frank\", \"Olsson, Mr. Nils Johan Goransson\", \"de Pelsmaeker, Mr. Alfons\", \"Dorking, Mr. Edward Arthur\", \"Smith, Mr. Richard William\", \"Stankovic, Mr. Ivan\", \"de Mulder, Mr. Theodore\", \"Naidenoff, Mr. Penko\", \"Hosono, Mr. Masabumi\", \"Connolly, Miss. Kate\", \"Barber, Miss. Ellen \\\"Nellie\\\"\", \"Bishop, Mrs. Dickinson H (Helen Walton)\", \"Levy, Mr. Rene Jacques\", \"Haas, Miss. Aloisia\", \"Mineff, Mr. Ivan\", \"Lewy, Mr. Ervin G\", \"Hanna, Mr. Mansour\", \"Allison, Miss. Helen Loraine\", \"Saalfeld, Mr. Adolphe\", \"Baxter, Mrs. James (Helene DeLaudeniere Chaput)\", \"Kelly, Miss. Anna Katherine \\\"Annie Kate\\\"\", \"McCoy, Mr. Bernard\", \"Johnson, Mr. William Cahoone Jr\", \"Keane, Miss. Nora A\", \"Williams, Mr. Howard Hugh \\\"Harry\\\"\", \"Allison, Master. Hudson Trevor\", \"Fleming, Miss. Margaret\", \"Penasco y Castellana, Mrs. Victor de Satode (Maria Josefa Perez de Soto y Vallejo)\", \"Abelson, Mr. Samuel\", \"Francatelli, Miss. Laura Mabel\", \"Hays, Miss. Margaret Bechstein\", \"Ryerson, Miss. Emily Borie\", \"Lahtinen, Mrs. William (Anna Sylfven)\", \"Hendekovic, Mr. Ignjac\", \"Hart, Mr. Benjamin\", \"Nilsson, Miss. Helmina Josefina\", \"Kantor, Mrs. Sinai (Miriam Sternin)\", \"Moraweck, Dr. Ernest\", \"Wick, Miss. Mary Natalie\", \"Spedden, Mrs. Frederic Oakley (Margaretta Corning Stone)\", \"Dennis, Mr. Samuel\", \"Danoff, Mr. Yoto\", \"Slayter, Miss. Hilda Mary\", \"Caldwell, Mrs. Albert Francis (Sylvia Mae Harbaugh)\", \"Sage, Mr. George John Jr\", \"Young, Miss. Marie Grice\", \"Nysveen, Mr. Johan Hansen\", \"Ball, Mrs. (Ada E Hall)\", \"Goldsmith, Mrs. Frank John (Emily Alice Brown)\", \"Hippach, Miss. Jean Gertrude\", \"McCoy, Miss. Agnes\", \"Partner, Mr. Austen\", \"Graham, Mr. George Edward\", \"Vander Planke, Mr. Leo Edmondus\", \"Frauenthal, Mrs. Henry William (Clara Heinsheimer)\", \"Denkoff, Mr. Mitto\", \"Pears, Mr. Thomas Clinton\", \"Burns, Miss. Elizabeth Margaret\", \"Dahl, Mr. Karl Edwart\", \"Blackwell, Mr. Stephen Weart\", \"Navratil, Master. Edmond Roger\", \"Fortune, Miss. Alice Elizabeth\", \"Collander, Mr. Erik Gustaf\", \"Sedgwick, Mr. Charles Frederick Waddington\", \"Fox, Mr. Stanley Hubert\", \"Brown, Miss. Amelia \\\"Mildred\\\"\", \"Smith, Miss. Marion Elsie\", \"Davison, Mrs. Thomas Henry (Mary E Finck)\", \"Coutts, Master. William Loch \\\"William\\\"\", \"Dimic, Mr. Jovan\", \"Odahl, Mr. Nils Martin\", \"Williams-Lambert, Mr. Fletcher Fellows\", \"Elias, Mr. Tannous\", \"Arnold-Franchi, Mr. Josef\", \"Yousif, Mr. Wazli\", \"Vanden Steen, Mr. Leo Peter\", \"Bowerman, Miss. Elsie Edith\", \"Funk, Miss. Annie Clemmer\", \"McGovern, Miss. Mary\", \"Mockler, Miss. Helen Mary \\\"Ellie\\\"\", \"Skoog, Mr. Wilhelm\", \"del Carlo, Mr. Sebastiano\", \"Barbara, Mrs. (Catherine David)\", \"Asim, Mr. Adola\", \"O'Brien, Mr. Thomas\", \"Adahl, Mr. Mauritz Nils Martin\", \"Warren, Mrs. Frank Manley (Anna Sophia Atkinson)\", \"Moussa, Mrs. (Mantoura Boulos)\", \"Jermyn, Miss. Annie\", \"Aubart, Mme. Leontine Pauline\", \"Harder, Mr. George Achilles\", \"Wiklund, Mr. Jakob Alfred\", \"Beavan, Mr. William Thomas\", \"Ringhini, Mr. Sante\", \"Palsson, Miss. Stina Viola\", \"Meyer, Mrs. Edgar Joseph (Leila Saks)\", \"Landergren, Miss. Aurora Adelia\", \"Widener, Mr. Harry Elkins\", \"Betros, Mr. Tannous\", \"Gustafsson, Mr. Karl Gideon\", \"Bidois, Miss. Rosalie\", \"Nakid, Miss. Maria (\\\"Mary\\\")\", \"Tikkanen, Mr. Juho\", \"Holverson, Mrs. Alexander Oskar (Mary Aline Towner)\", \"Plotcharsky, Mr. Vasil\", \"Davies, Mr. Charles Henry\", \"Goodwin, Master. Sidney Leonard\", \"Buss, Miss. Kate\", \"Sadlier, Mr. Matthew\", \"Lehmann, Miss. Bertha\", \"Carter, Mr. William Ernest\", \"Jansson, Mr. Carl Olof\", \"Gustafsson, Mr. Johan Birger\", \"Newell, Miss. Marjorie\", \"Sandstrom, Mrs. Hjalmar (Agnes Charlotta Bengtsson)\", \"Johansson, Mr. Erik\", \"Olsson, Miss. Elina\", \"McKane, Mr. Peter David\", \"Pain, Dr. Alfred\", \"Trout, Mrs. William H (Jessie L)\", \"Niskanen, Mr. Juha\", \"Adams, Mr. John\", \"Jussila, Miss. Mari Aina\", \"Hakkarainen, Mr. Pekka Pietari\", \"Oreskovic, Miss. Marija\", \"Gale, Mr. Shadrach\", \"Widegren, Mr. Carl/Charles Peter\", \"Richards, Master. William Rowe\", \"Birkeland, Mr. Hans Martin Monsen\", \"Lefebre, Miss. Ida\", \"Sdycoff, Mr. Todor\", \"Hart, Mr. Henry\", \"Minahan, Miss. Daisy E\", \"Cunningham, Mr. Alfred Fleming\", \"Sundman, Mr. Johan Julian\", \"Meek, Mrs. Thomas (Annie Louise Rowley)\", \"Drew, Mrs. James Vivian (Lulu Thorne Christian)\", \"Silven, Miss. Lyyli Karoliina\", \"Matthews, Mr. William John\", \"Van Impe, Miss. Catharina\", \"Gheorgheff, Mr. Stanio\", \"Charters, Mr. David\", \"Zimmerman, Mr. Leo\", \"Danbom, Mrs. Ernst Gilbert (Anna Sigrid Maria Brogren)\", \"Rosblom, Mr. Viktor Richard\", \"Wiseman, Mr. Phillippe\", \"Clarke, Mrs. Charles V (Ada Maria Winfield)\", \"Phillips, Miss. Kate Florence (\\\"Mrs Kate Louise Phillips Marshall\\\")\", \"Flynn, Mr. James\", \"Pickard, Mr. Berk (Berk Trembisky)\", \"Bjornstrom-Steffansson, Mr. Mauritz Hakan\", \"Thorneycroft, Mrs. Percival (Florence Kate White)\", \"Louch, Mrs. Charles Alexander (Alice Adelaide Slow)\", \"Kallio, Mr. Nikolai Erland\", \"Silvey, Mr. William Baird\", \"Carter, Miss. Lucile Polk\", \"Ford, Miss. Doolina Margaret \\\"Daisy\\\"\", \"Richards, Mrs. Sidney (Emily Hocking)\", \"Fortune, Mr. Mark\", \"Kvillner, Mr. Johan Henrik Johannesson\", \"Hart, Mrs. Benjamin (Esther Ada Bloomfield)\", \"Hampe, Mr. Leon\", \"Petterson, Mr. Johan Emil\", \"Reynaldo, Ms. Encarnacion\", \"Johannesen-Bratthammer, Mr. Bernt\", \"Dodge, Master. Washington\", \"Mellinger, Miss. Madeleine Violet\", \"Seward, Mr. Frederic Kimber\", \"Baclini, Miss. Marie Catherine\", \"Peuchen, Major. Arthur Godfrey\", \"West, Mr. Edwy Arthur\", \"Hagland, Mr. Ingvald Olai Olsen\", \"Foreman, Mr. Benjamin Laventall\", \"Goldenberg, Mr. Samuel L\", \"Peduzzi, Mr. Joseph\", \"Jalsevac, Mr. Ivan\", \"Millet, Mr. Francis Davis\", \"Kenyon, Mrs. Frederick R (Marion)\", \"Toomey, Miss. Ellen\", \"O'Connor, Mr. Maurice\", \"Anderson, Mr. Harry\", \"Morley, Mr. William\", \"Gee, Mr. Arthur H\", \"Milling, Mr. Jacob Christian\", \"Maisner, Mr. Simon\", \"Goncalves, Mr. Manuel Estanslas\", \"Campbell, Mr. William\", \"Smart, Mr. John Montgomery\", \"Scanlan, Mr. James\", \"Baclini, Miss. Helene Barbara\", \"Keefe, Mr. Arthur\", \"Cacic, Mr. Luka\", \"West, Mrs. Edwy Arthur (Ada Mary Worth)\", \"Jerwan, Mrs. Amin S (Marie Marthe Thuillard)\", \"Strandberg, Miss. Ida Sofia\", \"Clifford, Mr. George Quincy\", \"Renouf, Mr. Peter Henry\", \"Braund, Mr. Lewis Richard\", \"Karlsson, Mr. Nils August\", \"Hirvonen, Miss. Hildur E\", \"Goodwin, Master. Harold Victor\", \"Frost, Mr. Anthony Wood \\\"Archie\\\"\", \"Rouse, Mr. Richard Henry\", \"Turkula, Mrs. (Hedwig)\", \"Bishop, Mr. Dickinson H\", \"Lefebre, Miss. Jeannie\", \"Hoyt, Mrs. Frederick Maxfield (Jane Anne Forby)\", \"Kent, Mr. Edward Austin\", \"Somerton, Mr. Francis William\", \"Coutts, Master. Eden Leslie \\\"Neville\\\"\", \"Hagland, Mr. Konrad Mathias Reiersen\", \"Windelov, Mr. Einar\", \"Molson, Mr. Harry Markland\", \"Artagaveytia, Mr. Ramon\", \"Stanley, Mr. Edward Roland\", \"Yousseff, Mr. Gerious\", \"Eustis, Miss. Elizabeth Mussey\", \"Shellard, Mr. Frederick William\", \"Allison, Mrs. Hudson J C (Bessie Waldo Daniels)\", \"Svensson, Mr. Olof\", \"Calic, Mr. Petar\", \"Canavan, Miss. Mary\", \"O'Sullivan, Miss. Bridget Mary\", \"Laitinen, Miss. Kristina Sofia\", \"Maioni, Miss. Roberta\", \"Penasco y Castellana, Mr. Victor de Satode\", \"Quick, Mrs. Frederick Charles (Jane Richards)\", \"Bradley, Mr. George (\\\"George Arthur Brayton\\\")\", \"Olsen, Mr. Henry Margido\", \"Lang, Mr. Fang\", \"Daly, Mr. Eugene Patrick\", \"Webber, Mr. James\", \"McGough, Mr. James Robert\", \"Rothschild, Mrs. Martin (Elizabeth L. Barrett)\", \"Coleff, Mr. Satio\", \"Walker, Mr. William Anderson\", \"Lemore, Mrs. (Amelia Milley)\", \"Ryan, Mr. Patrick\", \"Angle, Mrs. William A (Florence \\\"Mary\\\" Agnes Hughes)\", \"Pavlovic, Mr. Stefo\", \"Perreault, Miss. Anne\", \"Vovk, Mr. Janko\", \"Lahoud, Mr. Sarkis\", \"Hippach, Mrs. Louis Albert (Ida Sophia Fischer)\", \"Kassem, Mr. Fared\", \"Farrell, Mr. James\", \"Ridsdale, Miss. Lucy\", \"Farthing, Mr. John\", \"Salonen, Mr. Johan Werner\", \"Hocking, Mr. Richard George\", \"Quick, Miss. Phyllis May\", \"Toufik, Mr. Nakli\", \"Elias, Mr. Joseph Jr\", \"Peter, Mrs. Catherine (Catherine Rizk)\", \"Cacic, Miss. Marija\", \"Hart, Miss. Eva Miriam\", \"Butt, Major. Archibald Willingham\", \"LeRoy, Miss. Bertha\", \"Risien, Mr. Samuel Beard\", \"Frolicher, Miss. Hedwig Margaritha\", \"Crosby, Miss. Harriet R\", \"Andersson, Miss. Ingeborg Constanzia\", \"Andersson, Miss. Sigrid Elisabeth\", \"Beane, Mr. Edward\", \"Douglas, Mr. Walter Donald\", \"Nicholson, Mr. Arthur Ernest\", \"Beane, Mrs. Edward (Ethel Clarke)\", \"Padro y Manent, Mr. Julian\", \"Goldsmith, Mr. Frank John\", \"Davies, Master. John Morgan Jr\", \"Thayer, Mr. John Borland Jr\", \"Sharp, Mr. Percival James R\", \"O'Brien, Mr. Timothy\", \"Leeni, Mr. Fahim (\\\"Philip Zenni\\\")\", \"Ohman, Miss. Velin\", \"Wright, Mr. George\", \"Duff Gordon, Lady. (Lucille Christiana Sutherland) (\\\"Mrs Morgan\\\")\", \"Robbins, Mr. Victor\", \"Taussig, Mrs. Emil (Tillie Mandelbaum)\", \"de Messemaeker, Mrs. Guillaume Joseph (Emma)\", \"Morrow, Mr. Thomas Rowan\", \"Sivic, Mr. Husein\", \"Norman, Mr. Robert Douglas\", \"Simmons, Mr. John\", \"Meanwell, Miss. (Marion Ogden)\", \"Davies, Mr. Alfred J\", \"Stoytcheff, Mr. Ilia\", \"Palsson, Mrs. Nils (Alma Cornelia Berglund)\", \"Doharr, Mr. Tannous\", \"Jonsson, Mr. Carl\", \"Harris, Mr. George\", \"Appleton, Mrs. Edward Dale (Charlotte Lamson)\", \"Flynn, Mr. John Irwin (\\\"Irving\\\")\", \"Kelly, Miss. Mary\", \"Rush, Mr. Alfred George John\", \"Patchett, Mr. George\", \"Garside, Miss. Ethel\", \"Silvey, Mrs. William Baird (Alice Munger)\", \"Caram, Mrs. Joseph (Maria Elias)\", \"Jussila, Mr. Eiriik\", \"Christy, Miss. Julie Rachel\", \"Thayer, Mrs. John Borland (Marian Longstreth Morris)\", \"Downton, Mr. William James\", \"Ross, Mr. John Hugo\", \"Paulner, Mr. Uscher\", \"Taussig, Miss. Ruth\", \"Jarvis, Mr. John Denzil\", \"Frolicher-Stehli, Mr. Maxmillian\", \"Gilinski, Mr. Eliezer\", \"Murdlin, Mr. Joseph\", \"Rintamaki, Mr. Matti\", \"Stephenson, Mrs. Walter Bertram (Martha Eustis)\", \"Elsbury, Mr. William James\", \"Bourke, Miss. Mary\", \"Chapman, Mr. John Henry\", \"Van Impe, Mr. Jean Baptiste\", \"Leitch, Miss. Jessie Wills\", \"Johnson, Mr. Alfred\", \"Boulos, Mr. Hanna\", \"Duff Gordon, Sir. Cosmo Edmund (\\\"Mr Morgan\\\")\", \"Jacobsohn, Mrs. Sidney Samuel (Amy Frances Christy)\", \"Slabenoff, Mr. Petco\", \"Harrington, Mr. Charles H\", \"Torber, Mr. Ernst William\", \"Homer, Mr. Harry (\\\"Mr E Haven\\\")\", \"Lindell, Mr. Edvard Bengtsson\", \"Karaic, Mr. Milan\", \"Daniel, Mr. Robert Williams\", \"Laroche, Mrs. Joseph (Juliette Marie Louise Lafargue)\", \"Shutes, Miss. Elizabeth W\", \"Andersson, Mrs. Anders Johan (Alfrida Konstantia Brogren)\", \"Jardin, Mr. Jose Neto\", \"Murphy, Miss. Margaret Jane\", \"Horgan, Mr. John\", \"Brocklebank, Mr. William Alfred\", \"Herman, Miss. Alice\", \"Danbom, Mr. Ernst Gilbert\", \"Lobb, Mrs. William Arthur (Cordelia K Stanlick)\", \"Becker, Miss. Marion Louise\", \"Gavey, Mr. Lawrence\", \"Yasbeck, Mr. Antoni\", \"Kimball, Mr. Edwin Nelson Jr\", \"Nakid, Mr. Sahid\", \"Hansen, Mr. Henry Damsgaard\", \"Bowen, Mr. David John \\\"Dai\\\"\", \"Sutton, Mr. Frederick\", \"Kirkland, Rev. Charles Leonard\", \"Longley, Miss. Gretchen Fiske\", \"Bostandyeff, Mr. Guentcho\", \"O'Connell, Mr. Patrick D\", \"Barkworth, Mr. Algernon Henry Wilson\", \"Lundahl, Mr. Johan Svensson\", \"Stahelin-Maeglin, Dr. Max\", \"Parr, Mr. William Henry Marsh\", \"Skoog, Miss. Mabel\", \"Davis, Miss. Mary\", \"Leinonen, Mr. Antti Gustaf\", \"Collyer, Mr. Harvey\", \"Panula, Mrs. Juha (Maria Emilia Ojala)\", \"Thorneycroft, Mr. Percival\", \"Jensen, Mr. Hans Peder\", \"Sagesser, Mlle. Emma\", \"Skoog, Miss. Margit Elizabeth\", \"Foo, Mr. Choong\", \"Baclini, Miss. Eugenie\", \"Harper, Mr. Henry Sleeper\", \"Cor, Mr. Liudevit\", \"Simonius-Blumer, Col. Oberst Alfons\", \"Willey, Mr. Edward\", \"Stanley, Miss. Amy Zillah Elsie\", \"Mitkoff, Mr. Mito\", \"Doling, Miss. Elsie\", \"Kalvik, Mr. Johannes Halvorsen\", \"O'Leary, Miss. Hanora \\\"Norah\\\"\", \"Hegarty, Miss. Hanora \\\"Nora\\\"\", \"Hickman, Mr. Leonard Mark\", \"Radeff, Mr. Alexander\", \"Bourke, Mrs. John (Catherine)\", \"Eitemiller, Mr. George Floyd\", \"Newell, Mr. Arthur Webster\", \"Frauenthal, Dr. Henry William\", \"Badt, Mr. Mohamed\", \"Colley, Mr. Edward Pomeroy\", \"Coleff, Mr. Peju\", \"Lindqvist, Mr. Eino William\", \"Hickman, Mr. Lewis\", \"Butler, Mr. Reginald Fenton\", \"Rommetvedt, Mr. Knud Paust\", \"Cook, Mr. Jacob\", \"Taylor, Mrs. Elmer Zebley (Juliet Cummins Wright)\", \"Brown, Mrs. Thomas William Solomon (Elizabeth Catherine Ford)\", \"Davidson, Mr. Thornton\", \"Mitchell, Mr. Henry Michael\", \"Wilhelms, Mr. Charles\", \"Watson, Mr. Ennis Hastings\", \"Edvardsson, Mr. Gustaf Hjalmar\", \"Sawyer, Mr. Frederick Charles\", \"Turja, Miss. Anna Sofia\", \"Goodwin, Mrs. Frederick (Augusta Tyler)\", \"Cardeza, Mr. Thomas Drake Martinez\", \"Peters, Miss. Katie\", \"Hassab, Mr. Hammad\", \"Olsvigen, Mr. Thor Anderson\", \"Goodwin, Mr. Charles Edward\", \"Brown, Mr. Thomas William Solomon\", \"Laroche, Mr. Joseph Philippe Lemercier\", \"Panula, Mr. Jaako Arnold\", \"Dakic, Mr. Branko\", \"Fischer, Mr. Eberhard Thelander\", \"Madill, Miss. Georgette Alexandra\", \"Dick, Mr. Albert Adrian\", \"Karun, Miss. Manca\", \"Lam, Mr. Ali\", \"Saad, Mr. Khalil\", \"Weir, Col. John\", \"Chapman, Mr. Charles Henry\", \"Kelly, Mr. James\", \"Mullens, Miss. Katherine \\\"Katie\\\"\", \"Thayer, Mr. John Borland\", \"Humblen, Mr. Adolf Mathias Nicolai Olsen\", \"Astor, Mrs. John Jacob (Madeleine Talmadge Force)\", \"Silverthorne, Mr. Spencer Victor\", \"Barbara, Miss. Saiide\", \"Gallagher, Mr. Martin\", \"Hansen, Mr. Henrik Juul\", \"Morley, Mr. Henry Samuel (\\\"Mr Henry Marshall\\\")\", \"Kelly, Mrs. Florence \\\"Fannie\\\"\", \"Calderhead, Mr. Edward Pennington\", \"Cleaver, Miss. Alice\", \"Moubarek, Master. Halim Gonios (\\\"William George\\\")\", \"Mayne, Mlle. Berthe Antonine (\\\"Mrs de Villiers\\\")\", \"Klaber, Mr. Herman\", \"Taylor, Mr. Elmer Zebley\", \"Larsson, Mr. August Viktor\", \"Greenberg, Mr. Samuel\", \"Soholt, Mr. Peter Andreas Lauritz Andersen\", \"Endres, Miss. Caroline Louise\", \"Troutt, Miss. Edwina Celia \\\"Winnie\\\"\", \"McEvoy, Mr. Michael\", \"Johnson, Mr. Malkolm Joackim\", \"Harper, Miss. Annie Jessie \\\"Nina\\\"\", \"Jensen, Mr. Svend Lauritz\", \"Gillespie, Mr. William Henry\", \"Hodges, Mr. Henry Price\", \"Chambers, Mr. Norman Campbell\", \"Oreskovic, Mr. Luka\", \"Renouf, Mrs. Peter Henry (Lillian Jefferys)\", \"Mannion, Miss. Margareth\", \"Bryhl, Mr. Kurt Arnold Gottfrid\", \"Ilmakangas, Miss. Pieta Sofia\", \"Allen, Miss. Elisabeth Walton\", \"Hassan, Mr. Houssein G N\", \"Knight, Mr. Robert J\", \"Berriman, Mr. William John\", \"Troupiansky, Mr. Moses Aaron\", \"Williams, Mr. Leslie\", \"Ford, Mrs. Edward (Margaret Ann Watson)\", \"Lesurer, Mr. Gustave J\", \"Ivanoff, Mr. Kanio\", \"Nankoff, Mr. Minko\", \"Hawksford, Mr. Walter James\", \"Cavendish, Mr. Tyrell William\", \"Ryerson, Miss. Susan Parker \\\"Suzette\\\"\", \"McNamee, Mr. Neal\", \"Stranden, Mr. Juho\", \"Crosby, Capt. Edward Gifford\", \"Abbott, Mr. Rossmore Edward\", \"Sinkkonen, Miss. Anna\", \"Marvin, Mr. Daniel Warner\", \"Connaghton, Mr. Michael\", \"Wells, Miss. Joan\", \"Moor, Master. Meier\", \"Vande Velde, Mr. Johannes Joseph\", \"Jonkoff, Mr. Lalio\", \"Herman, Mrs. Samuel (Jane Laver)\", \"Hamalainen, Master. Viljo\", \"Carlsson, Mr. August Sigfrid\", \"Bailey, Mr. Percy Andrew\", \"Theobald, Mr. Thomas Leonard\", \"Rothes, the Countess. of (Lucy Noel Martha Dyer-Edwards)\", \"Garfirth, Mr. John\", \"Nirva, Mr. Iisakki Antino Aijo\", \"Barah, Mr. Hanna Assi\", \"Carter, Mrs. William Ernest (Lucile Polk)\", \"Eklund, Mr. Hans Linus\", \"Hogeboom, Mrs. John C (Anna Andrews)\", \"Brewe, Dr. Arthur Jackson\", \"Mangan, Miss. Mary\", \"Moran, Mr. Daniel J\", \"Gronnestad, Mr. Daniel Danielsen\", \"Lievens, Mr. Rene Aime\", \"Jensen, Mr. Niels Peder\", \"Mack, Mrs. (Mary)\", \"Elias, Mr. Dibo\", \"Hocking, Mrs. Elizabeth (Eliza Needs)\", \"Myhrman, Mr. Pehr Fabian Oliver Malkolm\", \"Tobin, Mr. Roger\", \"Emanuel, Miss. Virginia Ethel\", \"Kilgannon, Mr. Thomas J\", \"Robert, Mrs. Edward Scott (Elisabeth Walton McMillan)\", \"Ayoub, Miss. Banoura\", \"Dick, Mrs. Albert Adrian (Vera Gillespie)\", \"Long, Mr. Milton Clyde\", \"Johnston, Mr. Andrew G\", \"Ali, Mr. William\", \"Harmer, Mr. Abraham (David Lishin)\", \"Sjoblom, Miss. Anna Sofia\", \"Rice, Master. George Hugh\", \"Dean, Master. Bertram Vere\", \"Guggenheim, Mr. Benjamin\", \"Keane, Mr. Andrew \\\"Andy\\\"\", \"Gaskell, Mr. Alfred\", \"Sage, Miss. Stella Anna\", \"Hoyt, Mr. William Fisher\", \"Dantcheff, Mr. Ristiu\", \"Otter, Mr. Richard\", \"Leader, Dr. Alice (Farnham)\", \"Osman, Mrs. Mara\", \"Ibrahim Shawah, Mr. Yousseff\", \"Van Impe, Mrs. Jean Baptiste (Rosalie Paula Govaert)\", \"Ponesell, Mr. Martin\", \"Collyer, Mrs. Harvey (Charlotte Annie Tate)\", \"Carter, Master. William Thornton II\", \"Thomas, Master. Assad Alexander\", \"Hedman, Mr. Oskar Arvid\", \"Johansson, Mr. Karl Johan\", \"Andrews, Mr. Thomas Jr\", \"Pettersson, Miss. Ellen Natalia\", \"Meyer, Mr. August\", \"Chambers, Mrs. Norman Campbell (Bertha Griggs)\", \"Alexander, Mr. William\", \"Lester, Mr. James\", \"Slemen, Mr. Richard James\", \"Andersson, Miss. Ebba Iris Alfrida\", \"Tomlin, Mr. Ernest Portage\", \"Fry, Mr. Richard\", \"Heininen, Miss. Wendla Maria\", \"Mallet, Mr. Albert\", \"Holm, Mr. John Fredrik Alexander\", \"Skoog, Master. Karl Thorsten\", \"Hays, Mrs. Charles Melville (Clara Jennings Gregg)\", \"Lulic, Mr. Nikola\", \"Reuchlin, Jonkheer. John George\", \"Moor, Mrs. (Beila)\", \"Panula, Master. Urho Abraham\", \"Flynn, Mr. John\", \"Lam, Mr. Len\", \"Mallet, Master. Andre\", \"McCormack, Mr. Thomas Joseph\", \"Stone, Mrs. George Nelson (Martha Evelyn)\", \"Yasbeck, Mrs. Antoni (Selini Alexander)\", \"Richards, Master. George Sibley\", \"Saad, Mr. Amin\", \"Augustsson, Mr. Albert\", \"Allum, Mr. Owen George\", \"Compton, Miss. Sara Rebecca\", \"Pasic, Mr. Jakob\", \"Sirota, Mr. Maurice\", \"Chip, Mr. Chang\", \"Marechal, Mr. Pierre\", \"Alhomaki, Mr. Ilmari Rudolf\", \"Mudd, Mr. Thomas Charles\", \"Serepeca, Miss. Augusta\", \"Lemberopolous, Mr. Peter L\", \"Culumovic, Mr. Jeso\", \"Abbing, Mr. Anthony\", \"Sage, Mr. Douglas Bullen\", \"Markoff, Mr. Marin\", \"Harper, Rev. John\", \"Goldenberg, Mrs. Samuel L (Edwiga Grabowska)\", \"Andersson, Master. Sigvard Harald Elias\", \"Svensson, Mr. Johan\", \"Boulos, Miss. Nourelain\", \"Lines, Miss. Mary Conover\", \"Carter, Mrs. Ernest Courtenay (Lilian Hughes)\", \"Aks, Mrs. Sam (Leah Rosen)\", \"Wick, Mrs. George Dennick (Mary Hitchcock)\", \"Daly, Mr. Peter Denis \", \"Baclini, Mrs. Solomon (Latifa Qurban)\", \"Razi, Mr. Raihed\", \"Hansen, Mr. Claus Peter\", \"Giles, Mr. Frederick Edward\", \"Swift, Mrs. Frederick Joel (Margaret Welles Barron)\", \"Sage, Miss. Dorothy Edith \\\"Dolly\\\"\", \"Gill, Mr. John William\", \"Bystrom, Mrs. (Karolina)\", \"Duran y More, Miss. Asuncion\", \"Roebling, Mr. Washington Augustus II\", \"van Melkebeke, Mr. Philemon\", \"Johnson, Master. Harold Theodor\", \"Balkic, Mr. Cerin\", \"Beckwith, Mrs. Richard Leonard (Sallie Monypeny)\", \"Carlsson, Mr. Frans Olof\", \"Vander Cruyssen, Mr. Victor\", \"Abelson, Mrs. Samuel (Hannah Wizosky)\", \"Najib, Miss. Adele Kiamie \\\"Jane\\\"\", \"Gustafsson, Mr. Alfred Ossian\", \"Petroff, Mr. Nedelio\", \"Laleff, Mr. Kristo\", \"Potter, Mrs. Thomas Jr (Lily Alexenia Wilson)\", \"Shelley, Mrs. William (Imanita Parrish Hall)\", \"Markun, Mr. Johann\", \"Dahlberg, Miss. Gerda Ulrika\", \"Banfield, Mr. Frederick James\", \"Sutehall, Mr. Henry Jr\", \"Rice, Mrs. William (Margaret Norton)\", \"Montvila, Rev. Juozas\", \"Graham, Miss. Margaret Edith\", \"Johnston, Miss. Catherine Helen \\\"Carrie\\\"\", \"Behr, Mr. Karl Howell\", \"Dooley, Mr. Patrick\"]}, {\"name\": \"Sex\", \"type\": \"dimension\", \"values\": [\"male\", \"female\", \"female\", \"female\", \"male\", \"male\", \"male\", \"male\", \"female\", \"female\", \"female\", \"female\", \"male\", \"male\", \"female\", \"female\", \"male\", \"male\", \"female\", \"female\", \"male\", \"male\", \"female\", \"male\", \"female\", \"female\", \"male\", \"male\", \"female\", \"male\", \"male\", \"female\", \"female\", \"male\", \"male\", \"male\", \"male\", \"male\", \"female\", \"female\", \"female\", \"female\", \"male\", \"female\", \"female\", \"male\", \"male\", \"female\", \"male\", \"female\", \"male\", \"male\", \"female\", \"female\", \"male\", \"male\", \"female\", \"male\", \"female\", \"male\", \"male\", \"female\", \"male\", \"male\", \"male\", \"male\", \"female\", \"male\", \"female\", \"male\", \"male\", \"female\", \"male\", \"male\", \"male\", \"male\", \"male\", \"male\", \"male\", \"female\", \"male\", \"male\", \"female\", \"male\", \"female\", \"female\", \"male\", \"male\", \"female\", \"male\", \"male\", \"male\", \"male\", \"male\", \"male\", \"male\", \"male\", \"male\", \"female\", \"male\", \"female\", \"male\", \"male\", \"male\", \"male\", \"male\", \"female\", \"male\", \"male\", \"female\", \"male\", \"female\", \"male\", \"female\", \"female\", \"male\", \"male\", \"male\", \"male\", \"female\", \"male\", \"male\", \"male\", \"female\", \"male\", \"male\", \"male\", \"male\", \"female\", \"male\", \"male\", \"male\", \"female\", \"female\", \"male\", \"male\", \"female\", \"male\", \"male\", \"male\", \"female\", \"female\", \"female\", \"male\", \"male\", \"male\", \"male\", \"female\", \"male\", \"male\", \"male\", \"female\", \"male\", \"male\", \"male\", \"male\", \"female\", \"male\", \"male\", \"male\", \"male\", \"female\", \"male\", \"male\", \"male\", \"male\", \"female\", \"female\", \"male\", \"male\", \"male\", \"male\", \"female\", \"male\", \"male\", \"male\", \"male\", \"female\", \"male\", \"male\", \"female\", \"male\", \"male\", \"male\", \"female\", \"male\", \"female\", \"male\", \"male\", \"male\", \"female\", \"male\", \"female\", \"male\", \"female\", \"female\", \"male\", \"male\", \"female\", \"female\", \"male\", \"male\", \"male\", \"male\", \"male\", \"female\", \"male\", \"male\", \"female\", \"male\", \"male\", \"female\", \"male\", \"male\", \"male\", \"female\", \"female\", \"male\", \"female\", \"male\", \"male\", \"male\", \"male\", \"male\", \"male\", \"male\", \"male\", \"male\", \"male\", \"female\", \"female\", \"male\", \"male\", \"female\", \"male\", \"female\", \"male\", \"female\", \"male\", \"male\", \"female\", \"female\", \"male\", \"male\", \"male\", \"male\", \"female\", \"female\", \"male\", \"male\", \"male\", \"female\", \"male\", \"male\", \"female\", \"female\", \"female\", \"female\", \"female\", \"female\", \"male\", \"male\", \"male\", \"male\", \"female\", \"male\", \"male\", \"male\", \"female\", \"female\", \"male\", \"male\", \"female\", \"male\", \"female\", \"female\", \"female\", \"male\", \"male\", \"female\", \"male\", \"male\", \"male\", \"male\", \"male\", \"male\", \"male\", \"male\", \"male\", \"female\", \"female\", \"female\", \"male\", \"female\", \"male\", \"male\", \"male\", \"female\", \"male\", \"female\", \"female\", \"male\", \"male\", \"female\", \"male\", \"male\", \"female\", \"female\", \"male\", \"female\", \"female\", \"female\", \"female\", \"male\", \"male\", \"female\", \"female\", \"male\", \"female\", \"female\", \"male\", \"male\", \"female\", \"female\", \"male\", \"female\", \"male\", \"female\", \"female\", \"female\", \"female\", \"male\", \"male\", \"male\", \"female\", \"male\", \"male\", \"female\", \"male\", \"male\", \"male\", \"female\", \"male\", \"male\", \"male\", \"female\", \"female\", \"female\", \"male\", \"male\", \"male\", \"male\", \"male\", \"male\", \"male\", \"male\", \"female\", \"female\", \"female\", \"female\", \"male\", \"male\", \"female\", \"male\", \"male\", \"male\", \"female\", \"female\", \"female\", \"female\", \"male\", \"male\", \"male\", \"male\", \"female\", \"female\", \"female\", \"male\", \"male\", \"male\", \"female\", \"female\", \"male\", \"female\", \"male\", \"male\", \"male\", \"female\", \"male\", \"female\", \"male\", \"male\", \"male\", \"female\", \"female\", \"male\", \"female\", \"male\", \"male\", \"female\", \"male\", \"male\", \"female\", \"male\", \"female\", \"male\", \"male\", \"male\", \"male\", \"female\", \"male\", \"male\", \"female\", \"male\", \"male\", \"female\", \"female\", \"female\", \"male\", \"female\", \"male\", \"male\", \"male\", \"female\", \"male\", \"male\", \"female\", \"female\", \"male\", \"male\", \"male\", \"female\", \"female\", \"male\", \"male\", \"female\", \"female\", \"female\", \"male\", \"male\", \"female\", \"male\", \"male\", \"female\", \"male\", \"male\", \"female\", \"male\", \"female\", \"male\", \"male\", \"male\", \"male\", \"male\", \"male\", \"male\", \"male\", \"female\", \"female\", \"male\", \"male\", \"male\", \"male\", \"male\", \"male\", \"male\", \"male\", \"male\", \"male\", \"female\", \"male\", \"male\", \"female\", \"female\", \"female\", \"male\", \"male\", \"male\", \"male\", \"female\", \"male\", \"male\", \"male\", \"female\", \"male\", \"female\", \"female\", \"male\", \"male\", \"male\", \"male\", \"male\", \"male\", \"male\", \"male\", \"male\", \"female\", \"male\", \"female\", \"male\", \"male\", \"female\", \"female\", \"female\", \"female\", \"male\", \"female\", \"male\", \"male\", \"male\", \"male\", \"male\", \"male\", \"female\", \"male\", \"male\", \"female\", \"male\", \"female\", \"male\", \"female\", \"male\", \"male\", \"female\", \"male\", \"male\", \"female\", \"male\", \"male\", \"male\", \"female\", \"male\", \"male\", \"female\", \"female\", \"female\", \"male\", \"female\", \"male\", \"female\", \"female\", \"female\", \"female\", \"male\", \"male\", \"male\", \"female\", \"male\", \"male\", \"male\", \"male\", \"male\", \"male\", \"male\", \"female\", \"male\", \"female\", \"male\", \"female\", \"female\", \"male\", \"male\", \"male\", \"male\", \"female\", \"male\", \"male\", \"female\", \"male\", \"male\", \"male\", \"female\", \"male\", \"female\", \"male\", \"male\", \"female\", \"female\", \"female\", \"male\", \"female\", \"female\", \"male\", \"male\", \"male\", \"female\", \"male\", \"male\", \"male\", \"male\", \"male\", \"female\", \"male\", \"female\", \"male\", \"male\", \"female\", \"male\", \"male\", \"male\", \"female\", \"male\", \"male\", \"male\", \"male\", \"male\", \"male\", \"male\", \"female\", \"female\", \"female\", \"male\", \"female\", \"male\", \"male\", \"female\", \"male\", \"female\", \"female\", \"male\", \"male\", \"male\", \"male\", \"male\", \"male\", \"male\", \"male\", \"female\", \"male\", \"male\", \"male\", \"male\", \"male\", \"male\", \"female\", \"female\", \"male\", \"male\", \"female\", \"male\", \"male\", \"female\", \"female\", \"male\", \"female\", \"male\", \"male\", \"male\", \"male\", \"female\", \"male\", \"female\", \"male\", \"female\", \"female\", \"male\", \"male\", \"female\", \"male\", \"male\", \"male\", \"male\", \"male\", \"male\", \"male\", \"male\", \"male\", \"male\", \"male\", \"female\", \"female\", \"male\", \"male\", \"male\", \"male\", \"male\", \"male\", \"female\", \"female\", \"male\", \"female\", \"male\", \"male\", \"male\", \"male\", \"male\", \"male\", \"male\", \"male\", \"female\", \"male\", \"female\", \"male\", \"male\", \"male\", \"male\", \"male\", \"female\", \"male\", \"male\", \"female\", \"male\", \"female\", \"male\", \"male\", \"male\", \"female\", \"male\", \"female\", \"male\", \"female\", \"male\", \"male\", \"male\", \"male\", \"male\", \"female\", \"female\", \"male\", \"male\", \"female\", \"male\", \"male\", \"male\", \"male\", \"male\", \"female\", \"female\", \"male\", \"female\", \"female\", \"male\", \"male\", \"male\", \"male\", \"male\", \"female\", \"male\", \"male\", \"male\", \"male\", \"male\", \"female\", \"male\", \"male\", \"male\", \"male\", \"female\", \"male\", \"male\", \"female\", \"male\", \"male\", \"male\", \"female\", \"male\", \"male\", \"male\", \"male\", \"female\", \"male\", \"male\", \"male\", \"female\", \"male\", \"female\", \"male\", \"female\", \"male\", \"male\", \"male\", \"male\", \"female\", \"male\", \"female\", \"male\", \"male\", \"female\", \"male\", \"female\", \"female\", \"female\", \"male\", \"male\", \"male\", \"male\", \"female\", \"male\", \"male\", \"male\", \"male\", \"male\", \"female\", \"male\", \"male\", \"male\", \"female\", \"female\", \"male\", \"female\", \"male\", \"female\", \"male\", \"male\", \"male\", \"male\", \"male\", \"female\", \"male\", \"female\", \"male\", \"male\", \"male\", \"female\", \"male\", \"male\", \"female\", \"male\", \"male\", \"male\", \"female\", \"male\", \"male\", \"female\", \"male\", \"male\", \"male\", \"male\", \"male\", \"female\", \"female\", \"male\", \"male\", \"male\", \"male\", \"female\", \"male\", \"male\", \"male\", \"male\", \"male\", \"male\", \"female\", \"male\", \"male\", \"male\", \"male\", \"male\", \"male\", \"female\", \"male\", \"male\", \"female\", \"female\", \"female\", \"female\", \"female\", \"male\", \"female\", \"male\", \"male\", \"male\", \"female\", \"female\", \"male\", \"female\", \"female\", \"male\", \"male\", \"male\", \"male\", \"female\", \"male\", \"male\", \"female\", \"female\", \"male\", \"male\", \"male\", \"female\", \"female\", \"male\", \"female\", \"male\", \"male\", \"female\", \"male\", \"female\", \"female\", \"male\", \"male\"]}, {\"name\": \"Age\", \"type\": \"measure\", \"values\": [22.0, 38.0, 26.0, 35.0, 35.0, 0.0, 54.0, 2.0, 27.0, 14.0, 4.0, 58.0, 20.0, 39.0, 14.0, 55.0, 2.0, 0.0, 31.0, 0.0, 35.0, 34.0, 15.0, 28.0, 8.0, 38.0, 0.0, 19.0, 0.0, 0.0, 40.0, 0.0, 0.0, 66.0, 28.0, 42.0, 0.0, 21.0, 18.0, 14.0, 40.0, 27.0, 0.0, 3.0, 19.0, 0.0, 0.0, 0.0, 0.0, 18.0, 7.0, 21.0, 49.0, 29.0, 65.0, 0.0, 21.0, 28.5, 5.0, 11.0, 22.0, 38.0, 45.0, 4.0, 0.0, 0.0, 29.0, 19.0, 17.0, 26.0, 32.0, 16.0, 21.0, 26.0, 32.0, 25.0, 0.0, 0.0, 0.83, 30.0, 22.0, 29.0, 0.0, 28.0, 17.0, 33.0, 16.0, 0.0, 23.0, 24.0, 29.0, 20.0, 46.0, 26.0, 59.0, 0.0, 71.0, 23.0, 34.0, 34.0, 28.0, 0.0, 21.0, 33.0, 37.0, 28.0, 21.0, 0.0, 38.0, 0.0, 47.0, 14.5, 22.0, 20.0, 17.0, 21.0, 70.5, 29.0, 24.0, 2.0, 21.0, 0.0, 32.5, 32.5, 54.0, 12.0, 0.0, 24.0, 0.0, 45.0, 33.0, 20.0, 47.0, 29.0, 25.0, 23.0, 19.0, 37.0, 16.0, 24.0, 0.0, 22.0, 24.0, 19.0, 18.0, 19.0, 27.0, 9.0, 36.5, 42.0, 51.0, 22.0, 55.5, 40.5, 0.0, 51.0, 16.0, 30.0, 0.0, 0.0, 44.0, 40.0, 26.0, 17.0, 1.0, 9.0, 0.0, 45.0, 0.0, 28.0, 61.0, 4.0, 1.0, 21.0, 56.0, 18.0, 0.0, 50.0, 30.0, 36.0, 0.0, 0.0, 9.0, 1.0, 4.0, 0.0, 0.0, 45.0, 40.0, 36.0, 32.0, 19.0, 19.0, 3.0, 44.0, 58.0, 0.0, 42.0, 0.0, 24.0, 28.0, 0.0, 34.0, 45.5, 18.0, 2.0, 32.0, 26.0, 16.0, 40.0, 24.0, 35.0, 22.0, 30.0, 0.0, 31.0, 27.0, 42.0, 32.0, 30.0, 16.0, 27.0, 51.0, 0.0, 38.0, 22.0, 19.0, 20.5, 18.0, 0.0, 35.0, 29.0, 59.0, 5.0, 24.0, 0.0, 44.0, 8.0, 19.0, 33.0, 0.0, 0.0, 29.0, 22.0, 30.0, 44.0, 25.0, 24.0, 37.0, 54.0, 0.0, 29.0, 62.0, 30.0, 41.0, 29.0, 0.0, 30.0, 35.0, 50.0, 0.0, 3.0, 52.0, 40.0, 0.0, 36.0, 16.0, 25.0, 58.0, 35.0, 0.0, 25.0, 41.0, 37.0, 0.0, 63.0, 45.0, 0.0, 7.0, 35.0, 65.0, 28.0, 16.0, 19.0, 0.0, 33.0, 30.0, 22.0, 42.0, 22.0, 26.0, 19.0, 36.0, 24.0, 24.0, 0.0, 23.5, 2.0, 0.0, 50.0, 0.0, 0.0, 19.0, 0.0, 0.0, 0.92, 0.0, 17.0, 30.0, 30.0, 24.0, 18.0, 26.0, 28.0, 43.0, 26.0, 24.0, 54.0, 31.0, 40.0, 22.0, 27.0, 30.0, 22.0, 0.0, 36.0, 61.0, 36.0, 31.0, 16.0, 0.0, 45.5, 38.0, 16.0, 0.0, 0.0, 29.0, 41.0, 45.0, 45.0, 2.0, 24.0, 28.0, 25.0, 36.0, 24.0, 40.0, 0.0, 3.0, 42.0, 23.0, 0.0, 15.0, 25.0, 0.0, 28.0, 22.0, 38.0, 0.0, 0.0, 40.0, 29.0, 45.0, 35.0, 0.0, 30.0, 60.0, 0.0, 0.0, 24.0, 25.0, 18.0, 19.0, 22.0, 3.0, 0.0, 22.0, 27.0, 20.0, 19.0, 42.0, 1.0, 32.0, 35.0, 0.0, 18.0, 1.0, 36.0, 0.0, 17.0, 36.0, 21.0, 28.0, 23.0, 24.0, 22.0, 31.0, 46.0, 23.0, 28.0, 39.0, 26.0, 21.0, 28.0, 20.0, 34.0, 51.0, 3.0, 21.0, 0.0, 0.0, 0.0, 33.0, 0.0, 44.0, 0.0, 34.0, 18.0, 30.0, 10.0, 0.0, 21.0, 29.0, 28.0, 18.0, 0.0, 28.0, 19.0, 0.0, 32.0, 28.0, 0.0, 42.0, 17.0, 50.0, 14.0, 21.0, 24.0, 64.0, 31.0, 45.0, 20.0, 25.0, 28.0, 0.0, 4.0, 13.0, 34.0, 5.0, 52.0, 36.0, 0.0, 30.0, 49.0, 0.0, 29.0, 65.0, 0.0, 50.0, 0.0, 48.0, 34.0, 47.0, 48.0, 0.0, 38.0, 0.0, 56.0, 0.0, 0.75, 0.0, 38.0, 33.0, 23.0, 22.0, 0.0, 34.0, 29.0, 22.0, 2.0, 9.0, 0.0, 50.0, 63.0, 25.0, 0.0, 35.0, 58.0, 30.0, 9.0, 0.0, 21.0, 55.0, 71.0, 21.0, 0.0, 54.0, 0.0, 25.0, 24.0, 17.0, 21.0, 0.0, 37.0, 16.0, 18.0, 33.0, 0.0, 28.0, 26.0, 29.0, 0.0, 36.0, 54.0, 24.0, 47.0, 34.0, 0.0, 36.0, 32.0, 30.0, 22.0, 0.0, 44.0, 0.0, 40.5, 50.0, 0.0, 39.0, 23.0, 2.0, 0.0, 17.0, 0.0, 30.0, 7.0, 45.0, 30.0, 0.0, 22.0, 36.0, 9.0, 11.0, 32.0, 50.0, 64.0, 19.0, 0.0, 33.0, 8.0, 17.0, 27.0, 0.0, 22.0, 22.0, 62.0, 48.0, 0.0, 39.0, 36.0, 0.0, 40.0, 28.0, 0.0, 0.0, 24.0, 19.0, 29.0, 0.0, 32.0, 62.0, 53.0, 36.0, 0.0, 16.0, 19.0, 34.0, 39.0, 0.0, 32.0, 25.0, 39.0, 54.0, 36.0, 0.0, 18.0, 47.0, 60.0, 22.0, 0.0, 35.0, 52.0, 47.0, 0.0, 37.0, 36.0, 0.0, 49.0, 0.0, 49.0, 24.0, 0.0, 0.0, 44.0, 35.0, 36.0, 30.0, 27.0, 22.0, 40.0, 39.0, 0.0, 0.0, 0.0, 35.0, 24.0, 34.0, 26.0, 4.0, 26.0, 27.0, 42.0, 20.0, 21.0, 21.0, 61.0, 57.0, 21.0, 26.0, 0.0, 80.0, 51.0, 32.0, 0.0, 9.0, 28.0, 32.0, 31.0, 41.0, 0.0, 20.0, 24.0, 2.0, 0.0, 0.75, 48.0, 19.0, 56.0, 0.0, 23.0, 0.0, 18.0, 21.0, 0.0, 18.0, 24.0, 0.0, 32.0, 23.0, 58.0, 50.0, 40.0, 47.0, 36.0, 20.0, 32.0, 25.0, 0.0, 43.0, 0.0, 40.0, 31.0, 70.0, 31.0, 0.0, 18.0, 24.5, 18.0, 43.0, 36.0, 0.0, 27.0, 20.0, 14.0, 60.0, 25.0, 14.0, 19.0, 18.0, 15.0, 31.0, 4.0, 0.0, 25.0, 60.0, 52.0, 44.0, 0.0, 49.0, 42.0, 18.0, 35.0, 18.0, 25.0, 26.0, 39.0, 45.0, 42.0, 22.0, 0.0, 24.0, 0.0, 48.0, 29.0, 52.0, 19.0, 38.0, 27.0, 0.0, 33.0, 6.0, 17.0, 34.0, 50.0, 27.0, 20.0, 30.0, 0.0, 25.0, 25.0, 29.0, 11.0, 0.0, 23.0, 23.0, 28.5, 48.0, 35.0, 0.0, 0.0, 0.0, 36.0, 21.0, 24.0, 31.0, 70.0, 16.0, 30.0, 19.0, 31.0, 4.0, 6.0, 33.0, 23.0, 48.0, 0.67, 28.0, 18.0, 34.0, 33.0, 0.0, 41.0, 20.0, 36.0, 16.0, 51.0, 0.0, 30.5, 0.0, 32.0, 24.0, 48.0, 57.0, 0.0, 54.0, 18.0, 0.0, 5.0, 0.0, 43.0, 13.0, 17.0, 29.0, 0.0, 25.0, 25.0, 18.0, 8.0, 1.0, 46.0, 0.0, 16.0, 0.0, 0.0, 25.0, 39.0, 49.0, 31.0, 30.0, 30.0, 34.0, 31.0, 11.0, 0.42, 27.0, 31.0, 39.0, 18.0, 39.0, 33.0, 26.0, 39.0, 35.0, 6.0, 30.5, 0.0, 23.0, 31.0, 43.0, 10.0, 52.0, 27.0, 38.0, 27.0, 2.0, 0.0, 0.0, 1.0, 0.0, 62.0, 15.0, 0.83, 0.0, 23.0, 18.0, 39.0, 21.0, 0.0, 32.0, 0.0, 20.0, 16.0, 30.0, 34.5, 17.0, 42.0, 0.0, 35.0, 28.0, 0.0, 4.0, 74.0, 9.0, 16.0, 44.0, 18.0, 45.0, 51.0, 24.0, 0.0, 41.0, 21.0, 48.0, 0.0, 24.0, 42.0, 27.0, 31.0, 0.0, 4.0, 26.0, 47.0, 33.0, 47.0, 28.0, 15.0, 20.0, 19.0, 0.0, 56.0, 25.0, 33.0, 22.0, 28.0, 25.0, 39.0, 27.0, 19.0, 0.0, 26.0, 32.0]}, {\"name\": \"SibSp\", \"type\": \"measure\", \"values\": [1.0, 1.0, 0.0, 1.0, 0.0, 0.0, 0.0, 3.0, 0.0, 1.0, 1.0, 0.0, 0.0, 1.0, 0.0, 0.0, 4.0, 0.0, 1.0, 0.0, 0.0, 0.0, 0.0, 0.0, 3.0, 1.0, 0.0, 3.0, 0.0, 0.0, 0.0, 1.0, 0.0, 0.0, 1.0, 1.0, 0.0, 0.0, 2.0, 1.0, 1.0, 1.0, 0.0, 1.0, 0.0, 0.0, 1.0, 0.0, 2.0, 1.0, 4.0, 0.0, 1.0, 1.0, 0.0, 0.0, 0.0, 0.0, 1.0, 5.0, 0.0, 0.0, 1.0, 3.0, 0.0, 1.0, 0.0, 0.0, 4.0, 2.0, 0.0, 5.0, 0.0, 1.0, 0.0, 0.0, 0.0, 0.0, 0.0, 0.0, 0.0, 0.0, 0.0, 0.0, 0.0, 3.0, 1.0, 0.0, 3.0, 0.0, 0.0, 0.0, 1.0, 1.0, 0.0, 0.0, 0.0, 0.0, 0.0, 1.0, 0.0, 0.0, 0.0, 0.0, 2.0, 0.0, 0.0, 0.0, 0.0, 1.0, 0.0, 1.0, 0.0, 1.0, 0.0, 0.0, 0.0, 1.0, 0.0, 4.0, 2.0, 0.0, 1.0, 0.0, 0.0, 1.0, 0.0, 0.0, 1.0, 0.0, 0.0, 0.0, 1.0, 1.0, 0.0, 0.0, 0.0, 1.0, 0.0, 0.0, 0.0, 0.0, 1.0, 0.0, 0.0, 1.0, 0.0, 2.0, 0.0, 0.0, 0.0, 1.0, 0.0, 0.0, 0.0, 0.0, 0.0, 0.0, 0.0, 8.0, 0.0, 0.0, 0.0, 0.0, 4.0, 0.0, 0.0, 1.0, 0.0, 0.0, 0.0, 4.0, 1.0, 0.0, 0.0, 1.0, 3.0, 0.0, 0.0, 0.0, 8.0, 0.0, 4.0, 2.0, 0.0, 0.0, 1.0, 0.0, 1.0, 0.0, 0.0, 0.0, 1.0, 1.0, 0.0, 0.0, 0.0, 0.0, 0.0, 0.0, 0.0, 8.0, 0.0, 0.0, 0.0, 0.0, 1.0, 0.0, 0.0, 0.0, 0.0, 0.0, 0.0, 0.0, 1.0, 1.0, 0.0, 1.0, 0.0, 0.0, 0.0, 0.0, 0.0, 0.0, 1.0, 0.0, 0.0, 0.0, 0.0, 3.0, 1.0, 0.0, 0.0, 4.0, 0.0, 0.0, 1.0, 0.0, 0.0, 0.0, 1.0, 1.0, 0.0, 0.0, 0.0, 2.0, 0.0, 0.0, 1.0, 1.0, 0.0, 1.0, 0.0, 1.0, 0.0, 0.0, 0.0, 0.0, 0.0, 0.0, 0.0, 4.0, 1.0, 0.0, 0.0, 0.0, 4.0, 1.0, 0.0, 0.0, 0.0, 0.0, 0.0, 0.0, 0.0, 1.0, 0.0, 0.0, 4.0, 1.0, 0.0, 0.0, 0.0, 0.0, 0.0, 0.0, 0.0, 0.0, 0.0, 0.0, 0.0, 1.0, 0.0, 0.0, 0.0, 0.0, 0.0, 1.0, 0.0, 0.0, 0.0, 2.0, 0.0, 0.0, 0.0, 1.0, 0.0, 1.0, 1.0, 0.0, 0.0, 2.0, 1.0, 0.0, 1.0, 0.0, 1.0, 0.0, 0.0, 1.0, 0.0, 0.0, 0.0, 1.0, 8.0, 0.0, 0.0, 0.0, 1.0, 0.0, 2.0, 0.0, 0.0, 2.0, 1.0, 0.0, 1.0, 0.0, 0.0, 0.0, 1.0, 3.0, 0.0, 0.0, 0.0, 0.0, 0.0, 1.0, 1.0, 0.0, 0.0, 0.0, 1.0, 1.0, 0.0, 0.0, 0.0, 0.0, 0.0, 0.0, 1.0, 1.0, 0.0, 0.0, 1.0, 0.0, 1.0, 0.0, 0.0, 0.0, 1.0, 1.0, 0.0, 0.0, 3.0, 1.0, 0.0, 0.0, 0.0, 0.0, 0.0, 0.0, 0.0, 1.0, 0.0, 0.0, 5.0, 0.0, 0.0, 0.0, 1.0, 0.0, 2.0, 1.0, 0.0, 0.0, 0.0, 0.0, 0.0, 0.0, 0.0, 0.0, 1.0, 1.0, 0.0, 1.0, 0.0, 1.0, 0.0, 3.0, 0.0, 0.0, 1.0, 0.0, 0.0, 0.0, 1.0, 0.0, 0.0, 0.0, 0.0, 0.0, 0.0, 1.0, 1.0, 0.0, 1.0, 0.0, 0.0, 0.0, 0.0, 1.0, 1.0, 0.0, 1.0, 1.0, 2.0, 2.0, 1.0, 0.0, 1.0, 0.0, 1.0, 0.0, 0.0, 0.0, 0.0, 0.0, 2.0, 0.0, 1.0, 1.0, 0.0, 1.0, 0.0, 0.0, 0.0, 1.0, 0.0, 0.0, 0.0, 0.0, 0.0, 0.0, 0.0, 0.0, 0.0, 0.0, 0.0, 2.0, 0.0, 0.0, 1.0, 0.0, 0.0, 0.0, 1.0, 1.0, 0.0, 0.0, 5.0, 0.0, 0.0, 0.0, 1.0, 3.0, 1.0, 0.0, 0.0, 1.0, 1.0, 0.0, 0.0, 0.0, 0.0, 0.0, 1.0, 0.0, 1.0, 0.0, 0.0, 0.0, 0.0, 0.0, 0.0, 1.0, 0.0, 0.0, 0.0, 0.0, 0.0, 0.0, 0.0, 1.0, 0.0, 0.0, 0.0, 0.0, 1.0, 0.0, 0.0, 0.0, 0.0, 0.0, 0.0, 0.0, 0.0, 0.0, 0.0, 2.0, 1.0, 0.0, 1.0, 0.0, 0.0, 0.0, 0.0, 0.0, 0.0, 0.0, 0.0, 4.0, 4.0, 1.0, 1.0, 0.0, 1.0, 0.0, 1.0, 1.0, 0.0, 0.0, 0.0, 0.0, 0.0, 0.0, 1.0, 0.0, 1.0, 1.0, 0.0, 0.0, 0.0, 0.0, 0.0, 2.0, 0.0, 0.0, 0.0, 0.0, 0.0, 2.0, 0.0, 0.0, 0.0, 0.0, 0.0, 1.0, 1.0, 0.0, 1.0, 1.0, 0.0, 0.0, 0.0, 0.0, 0.0, 1.0, 0.0, 0.0, 0.0, 1.0, 0.0, 0.0, 1.0, 1.0, 0.0, 0.0, 0.0, 1.0, 2.0, 0.0, 0.0, 0.0, 0.0, 1.0, 0.0, 0.0, 1.0, 0.0, 1.0, 0.0, 1.0, 0.0, 0.0, 1.0, 1.0, 1.0, 2.0, 0.0, 1.0, 1.0, 1.0, 0.0, 0.0, 0.0, 0.0, 0.0, 0.0, 0.0, 0.0, 0.0, 0.0, 0.0, 3.0, 0.0, 0.0, 1.0, 0.0, 1.0, 0.0, 0.0, 3.0, 0.0, 2.0, 1.0, 0.0, 0.0, 0.0, 0.0, 0.0, 0.0, 0.0, 0.0, 0.0, 2.0, 0.0, 1.0, 0.0, 0.0, 2.0, 0.0, 0.0, 0.0, 1.0, 2.0, 0.0, 0.0, 0.0, 1.0, 1.0, 1.0, 0.0, 0.0, 0.0, 0.0, 0.0, 0.0, 1.0, 0.0, 0.0, 0.0, 0.0, 5.0, 1.0, 1.0, 4.0, 0.0, 0.0, 0.0, 1.0, 0.0, 0.0, 0.0, 0.0, 0.0, 0.0, 0.0, 1.0, 0.0, 1.0, 0.0, 0.0, 0.0, 1.0, 0.0, 0.0, 0.0, 0.0, 1.0, 0.0, 0.0, 1.0, 0.0, 0.0, 0.0, 0.0, 0.0, 0.0, 0.0, 0.0, 1.0, 0.0, 0.0, 1.0, 0.0, 3.0, 0.0, 1.0, 1.0, 0.0, 0.0, 0.0, 0.0, 0.0, 0.0, 1.0, 0.0, 0.0, 0.0, 0.0, 1.0, 2.0, 1.0, 0.0, 1.0, 1.0, 0.0, 1.0, 0.0, 1.0, 0.0, 0.0, 0.0, 1.0, 1.0, 0.0, 0.0, 0.0, 0.0, 0.0, 0.0, 0.0, 1.0, 0.0, 1.0, 0.0, 0.0, 1.0, 0.0, 0.0, 0.0, 0.0, 0.0, 1.0, 0.0, 0.0, 0.0, 0.0, 0.0, 0.0, 1.0, 0.0, 1.0, 0.0, 0.0, 0.0, 4.0, 1.0, 0.0, 0.0, 0.0, 8.0, 0.0, 0.0, 0.0, 0.0, 0.0, 0.0, 1.0, 0.0, 1.0, 1.0, 0.0, 0.0, 0.0, 0.0, 0.0, 0.0, 1.0, 0.0, 0.0, 0.0, 4.0, 0.0, 0.0, 0.0, 1.0, 0.0, 3.0, 1.0, 0.0, 0.0, 0.0, 4.0, 0.0, 0.0, 0.0, 0.0, 0.0, 1.0, 1.0, 0.0, 0.0, 0.0, 1.0, 0.0, 0.0, 0.0, 0.0, 0.0, 0.0, 0.0, 0.0, 0.0, 0.0, 8.0, 0.0, 0.0, 1.0, 4.0, 0.0, 1.0, 0.0, 1.0, 0.0, 1.0, 0.0, 0.0, 0.0, 2.0, 1.0, 0.0, 8.0, 0.0, 0.0, 1.0, 0.0, 0.0, 1.0, 0.0, 1.0, 0.0, 0.0, 1.0, 0.0, 0.0, 0.0, 0.0, 0.0, 0.0, 0.0, 0.0, 0.0, 0.0, 0.0, 0.0, 0.0, 1.0, 0.0, 0.0]}, {\"name\": \"Parch\", \"type\": \"measure\", \"values\": [0.0, 0.0, 0.0, 0.0, 0.0, 0.0, 0.0, 1.0, 2.0, 0.0, 1.0, 0.0, 0.0, 5.0, 0.0, 0.0, 1.0, 0.0, 0.0, 0.0, 0.0, 0.0, 0.0, 0.0, 1.0, 5.0, 0.0, 2.0, 0.0, 0.0, 0.0, 0.0, 0.0, 0.0, 0.0, 0.0, 0.0, 0.0, 0.0, 0.0, 0.0, 0.0, 0.0, 2.0, 0.0, 0.0, 0.0, 0.0, 0.0, 0.0, 1.0, 0.0, 0.0, 0.0, 1.0, 0.0, 0.0, 0.0, 2.0, 2.0, 0.0, 0.0, 0.0, 2.0, 0.0, 1.0, 0.0, 0.0, 2.0, 0.0, 0.0, 2.0, 0.0, 0.0, 0.0, 0.0, 0.0, 0.0, 2.0, 0.0, 0.0, 0.0, 0.0, 0.0, 0.0, 0.0, 3.0, 0.0, 2.0, 0.0, 0.0, 0.0, 0.0, 2.0, 0.0, 0.0, 0.0, 1.0, 1.0, 0.0, 0.0, 0.0, 1.0, 0.0, 0.0, 0.0, 0.0, 0.0, 0.0, 0.0, 0.0, 0.0, 0.0, 0.0, 0.0, 0.0, 0.0, 0.0, 1.0, 2.0, 0.0, 0.0, 0.0, 0.0, 1.0, 0.0, 0.0, 0.0, 1.0, 0.0, 0.0, 0.0, 0.0, 0.0, 0.0, 0.0, 2.0, 0.0, 0.0, 0.0, 2.0, 0.0, 0.0, 0.0, 0.0, 1.0, 0.0, 2.0, 2.0, 0.0, 0.0, 0.0, 0.0, 2.0, 0.0, 1.0, 0.0, 0.0, 0.0, 2.0, 1.0, 0.0, 0.0, 0.0, 1.0, 2.0, 1.0, 4.0, 0.0, 0.0, 0.0, 1.0, 1.0, 0.0, 0.0, 1.0, 1.0, 0.0, 0.0, 0.0, 2.0, 0.0, 2.0, 1.0, 2.0, 0.0, 0.0, 0.0, 1.0, 0.0, 0.0, 0.0, 0.0, 1.0, 0.0, 0.0, 0.0, 1.0, 0.0, 0.0, 0.0, 2.0, 0.0, 0.0, 0.0, 1.0, 0.0, 0.0, 0.0, 0.0, 0.0, 0.0, 0.0, 0.0, 0.0, 0.0, 0.0, 0.0, 0.0, 0.0, 0.0, 0.0, 0.0, 0.0, 0.0, 0.0, 0.0, 0.0, 0.0, 1.0, 0.0, 0.0, 0.0, 2.0, 0.0, 0.0, 0.0, 2.0, 0.0, 0.0, 0.0, 0.0, 0.0, 0.0, 0.0, 0.0, 0.0, 2.0, 1.0, 0.0, 0.0, 1.0, 0.0, 0.0, 2.0, 2.0, 0.0, 0.0, 0.0, 1.0, 0.0, 2.0, 1.0, 0.0, 0.0, 0.0, 1.0, 0.0, 1.0, 0.0, 0.0, 0.0, 1.0, 1.0, 0.0, 0.0, 0.0, 0.0, 1.0, 1.0, 0.0, 0.0, 0.0, 0.0, 0.0, 0.0, 0.0, 0.0, 0.0, 0.0, 0.0, 0.0, 0.0, 0.0, 0.0, 0.0, 0.0, 2.0, 0.0, 1.0, 0.0, 0.0, 0.0, 0.0, 0.0, 2.0, 0.0, 0.0, 0.0, 0.0, 0.0, 2.0, 1.0, 0.0, 1.0, 0.0, 0.0, 0.0, 2.0, 1.0, 0.0, 0.0, 0.0, 1.0, 2.0, 0.0, 0.0, 0.0, 1.0, 1.0, 0.0, 0.0, 1.0, 0.0, 0.0, 0.0, 0.0, 0.0, 0.0, 0.0, 1.0, 2.0, 0.0, 0.0, 0.0, 0.0, 0.0, 0.0, 1.0, 0.0, 0.0, 0.0, 1.0, 0.0, 0.0, 0.0, 1.0, 0.0, 0.0, 0.0, 4.0, 0.0, 1.0, 0.0, 0.0, 0.0, 0.0, 0.0, 0.0, 0.0, 0.0, 0.0, 0.0, 0.0, 1.0, 0.0, 0.0, 2.0, 0.0, 0.0, 0.0, 2.0, 0.0, 0.0, 0.0, 0.0, 2.0, 0.0, 0.0, 0.0, 2.0, 0.0, 0.0, 0.0, 2.0, 0.0, 0.0, 0.0, 0.0, 0.0, 0.0, 0.0, 0.0, 0.0, 0.0, 0.0, 0.0, 1.0, 0.0, 1.0, 0.0, 0.0, 0.0, 0.0, 0.0, 0.0, 1.0, 2.0, 0.0, 2.0, 0.0, 0.0, 0.0, 1.0, 1.0, 0.0, 0.0, 0.0, 0.0, 0.0, 0.0, 0.0, 0.0, 0.0, 0.0, 2.0, 2.0, 3.0, 4.0, 0.0, 1.0, 0.0, 0.0, 0.0, 0.0, 2.0, 1.0, 0.0, 1.0, 0.0, 2.0, 0.0, 0.0, 0.0, 0.0, 0.0, 0.0, 0.0, 0.0, 0.0, 0.0, 0.0, 0.0, 0.0, 0.0, 0.0, 0.0, 0.0, 0.0, 1.0, 0.0, 0.0, 2.0, 0.0, 0.0, 0.0, 0.0, 0.0, 0.0, 1.0, 2.0, 0.0, 0.0, 0.0, 0.0, 1.0, 0.0, 0.0, 0.0, 1.0, 0.0, 0.0, 0.0, 0.0, 0.0, 0.0, 0.0, 0.0, 2.0, 0.0, 0.0, 0.0, 0.0, 0.0, 0.0, 0.0, 2.0, 0.0, 0.0, 0.0, 0.0, 0.0, 0.0, 0.0, 0.0, 0.0, 0.0, 0.0, 0.0, 0.0, 0.0, 0.0, 0.0, 1.0, 0.0, 0.0, 0.0, 0.0, 0.0, 1.0, 1.0, 0.0, 1.0, 2.0, 0.0, 2.0, 0.0, 0.0, 0.0, 2.0, 2.0, 2.0, 2.0, 0.0, 0.0, 0.0, 0.0, 0.0, 1.0, 1.0, 2.0, 0.0, 0.0, 0.0, 0.0, 0.0, 0.0, 0.0, 1.0, 0.0, 0.0, 0.0, 0.0, 0.0, 0.0, 0.0, 0.0, 4.0, 0.0, 0.0, 0.0, 0.0, 0.0, 0.0, 0.0, 0.0, 0.0, 0.0, 0.0, 0.0, 1.0, 1.0, 0.0, 0.0, 0.0, 2.0, 0.0, 1.0, 0.0, 0.0, 0.0, 0.0, 0.0, 2.0, 0.0, 1.0, 0.0, 0.0, 0.0, 0.0, 1.0, 0.0, 0.0, 0.0, 0.0, 0.0, 0.0, 0.0, 2.0, 0.0, 5.0, 0.0, 0.0, 0.0, 0.0, 2.0, 1.0, 0.0, 1.0, 0.0, 0.0, 0.0, 1.0, 0.0, 0.0, 0.0, 0.0, 0.0, 0.0, 0.0, 0.0, 0.0, 0.0, 0.0, 2.0, 0.0, 0.0, 1.0, 5.0, 0.0, 0.0, 0.0, 2.0, 0.0, 1.0, 0.0, 0.0, 0.0, 0.0, 0.0, 0.0, 1.0, 0.0, 0.0, 0.0, 0.0, 0.0, 1.0, 0.0, 2.0, 0.0, 0.0, 0.0, 0.0, 0.0, 0.0, 0.0, 0.0, 0.0, 0.0, 1.0, 0.0, 0.0, 0.0, 0.0, 0.0, 0.0, 0.0, 6.0, 1.0, 0.0, 0.0, 0.0, 2.0, 1.0, 2.0, 1.0, 0.0, 0.0, 1.0, 0.0, 1.0, 0.0, 0.0, 0.0, 0.0, 0.0, 0.0, 1.0, 0.0, 0.0, 0.0, 1.0, 0.0, 0.0, 0.0, 0.0, 0.0, 0.0, 1.0, 0.0, 0.0, 0.0, 0.0, 0.0, 0.0, 0.0, 0.0, 0.0, 0.0, 1.0, 0.0, 0.0, 0.0, 0.0, 0.0, 0.0, 0.0, 0.0, 0.0, 0.0, 0.0, 0.0, 0.0, 0.0, 0.0, 3.0, 0.0, 0.0, 0.0, 0.0, 0.0, 2.0, 0.0, 0.0, 1.0, 1.0, 0.0, 0.0, 0.0, 1.0, 1.0, 0.0, 0.0, 2.0, 1.0, 0.0, 0.0, 0.0, 0.0, 0.0, 0.0, 0.0, 2.0, 0.0, 0.0, 0.0, 0.0, 0.0, 0.0, 0.0, 0.0, 0.0, 0.0, 3.0, 0.0, 0.0, 0.0, 0.0, 1.0, 0.0, 0.0, 0.0, 2.0, 0.0, 0.0, 0.0, 1.0, 2.0, 0.0, 0.0, 0.0, 2.0, 0.0, 0.0, 0.0, 0.0, 0.0, 0.0, 1.0, 0.0, 1.0, 2.0, 1.0, 0.0, 0.0, 0.0, 0.0, 0.0, 0.0, 0.0, 0.0, 0.0, 2.0, 0.0, 0.0, 0.0, 1.0, 0.0, 2.0, 1.0, 0.0, 0.0, 1.0, 1.0, 0.0, 0.0, 2.0, 0.0, 0.0, 0.0, 1.0, 0.0, 0.0, 0.0, 1.0, 0.0, 0.0, 0.0, 0.0, 0.0, 0.0, 0.0, 0.0, 0.0, 0.0, 2.0, 0.0, 1.0, 0.0, 2.0, 0.0, 1.0, 1.0, 0.0, 1.0, 1.0, 0.0, 3.0, 0.0, 0.0, 0.0, 0.0, 2.0, 0.0, 0.0, 0.0, 0.0, 0.0, 1.0, 0.0, 1.0, 0.0, 0.0, 0.0, 0.0, 0.0, 0.0, 0.0, 1.0, 1.0, 0.0, 0.0, 0.0, 0.0, 5.0, 0.0, 0.0, 2.0, 0.0, 0.0]}, {\"name\": \"Ticket\", \"type\": \"dimension\", \"values\": [\"A/5 21171\", \"PC 17599\", \"STON/O2. 3101282\", \"113803\", \"373450\", \"330877\", \"17463\", \"349909\", \"347742\", \"237736\", \"PP 9549\", \"113783\", \"A/5. 2151\", \"347082\", \"350406\", \"248706\", \"382652\", \"244373\", \"345763\", \"2649\", \"239865\", \"248698\", \"330923\", \"113788\", \"349909\", \"347077\", \"2631\", \"19950\", \"330959\", \"349216\", \"PC 17601\", \"PC 17569\", \"335677\", \"C.A. 24579\", \"PC 17604\", \"113789\", \"2677\", \"A./5. 2152\", \"345764\", \"2651\", \"7546\", \"11668\", \"349253\", \"SC/Paris 2123\", \"330958\", \"S.C./A.4. 23567\", \"370371\", \"14311\", \"2662\", \"349237\", \"3101295\", \"A/4. 39886\", \"PC 17572\", \"2926\", \"113509\", \"19947\", \"C.A. 31026\", \"2697\", \"C.A. 34651\", \"CA 2144\", \"2669\", \"113572\", \"36973\", \"347088\", \"PC 17605\", \"2661\", \"C.A. 29395\", \"S.P. 3464\", \"3101281\", \"315151\", \"C.A. 33111\", \"CA 2144\", \"S.O.C. 14879\", \"2680\", \"1601\", \"348123\", \"349208\", \"374746\", \"248738\", \"364516\", \"345767\", \"345779\", \"330932\", \"113059\", \"SO/C 14885\", \"3101278\", \"W./C. 6608\", \"SOTON/OQ 392086\", \"19950\", \"343275\", \"343276\", \"347466\", \"W.E.P. 5734\", \"C.A. 2315\", \"364500\", \"374910\", \"PC 17754\", \"PC 17759\", \"231919\", \"244367\", \"349245\", \"349215\", \"35281\", \"7540\", \"3101276\", \"349207\", \"343120\", \"312991\", \"349249\", \"371110\", \"110465\", \"2665\", \"324669\", \"4136\", \"2627\", \"STON/O 2. 3101294\", \"370369\", \"11668\", \"PC 17558\", \"347082\", \"S.O.C. 14879\", \"A4. 54510\", \"237736\", \"27267\", \"35281\", \"2651\", \"370372\", \"C 17369\", \"2668\", \"347061\", \"349241\", \"SOTON/O.Q. 3101307\", \"A/5. 3337\", \"228414\", \"C.A. 29178\", \"SC/PARIS 2133\", \"11752\", \"113803\", \"7534\", \"PC 17593\", \"2678\", \"347081\", \"STON/O2. 3101279\", \"365222\", \"231945\", \"C.A. 33112\", \"350043\", \"W./C. 6608\", \"230080\", \"244310\", \"S.O.P. 1166\", \"113776\", \"A.5. 11206\", \"A/5. 851\", \"Fa 265302\", \"PC 17597\", \"35851\", \"SOTON/OQ 392090\", \"315037\", \"CA. 2343\", \"371362\", \"C.A. 33595\", \"347068\", \"315093\", \"3101295\", \"363291\", \"113505\", \"347088\", \"PC 17318\", \"1601\", \"111240\", \"382652\", \"347742\", \"STON/O 2. 3101280\", \"17764\", \"350404\", \"4133\", \"PC 17595\", \"250653\", \"LINE\", \"CA. 2343\", \"SC/PARIS 2131\", \"347077\", \"230136\", \"315153\", \"113767\", \"370365\", \"111428\", \"364849\", \"349247\", \"234604\", \"28424\", \"350046\", \"230080\", \"PC 17610\", \"PC 17569\", \"368703\", \"4579\", \"370370\", \"248747\", \"345770\", \"CA. 2343\", \"3101264\", \"2628\", \"A/5 3540\", \"347054\", \"3101278\", \"2699\", \"367231\", \"112277\", \"SOTON/O.Q. 3101311\", \"F.C.C. 13528\", \"A/5 21174\", \"250646\", \"367229\", \"35273\", \"STON/O2. 3101283\", \"243847\", \"11813\", \"W/C 14208\", \"SOTON/OQ 392089\", \"220367\", \"21440\", \"349234\", \"19943\", \"PP 4348\", \"SW/PP 751\", \"A/5 21173\", \"236171\", \"4133\", \"36973\", \"347067\", \"237442\", \"347077\", \"C.A. 29566\", \"W./C. 6609\", \"26707\", \"C.A. 31921\", \"28665\", \"SCO/W 1585\", \"2665\", \"367230\", \"W./C. 14263\", \"STON/O 2. 3101275\", \"2694\", \"19928\", \"347071\", \"250649\", \"11751\", \"244252\", \"362316\", \"347054\", \"113514\", \"A/5. 3336\", \"370129\", \"2650\", \"PC 17585\", \"110152\", \"PC 17755\", \"230433\", \"384461\", \"347077\", \"110413\", \"112059\", \"382649\", \"C.A. 17248\", \"3101295\", \"347083\", \"PC 17582\", \"PC 17760\", \"113798\", \"LINE\", \"250644\", \"PC 17596\", \"370375\", \"13502\", \"347073\", \"239853\", \"382652\", \"C.A. 2673\", \"336439\", \"347464\", \"345778\", \"A/5. 10482\", \"113056\", \"349239\", \"345774\", \"349206\", \"237798\", \"370373\", \"19877\", \"11967\", \"SC/Paris 2163\", \"349236\", \"349233\", \"PC 17612\", \"2693\", \"113781\", \"19988\", \"PC 17558\", \"9234\", \"367226\", \"LINE\", \"226593\", \"A/5 2466\", \"113781\", \"17421\", \"PC 17758\", \"P/PP 3381\", \"PC 17485\", \"11767\", \"PC 17608\", \"250651\", \"349243\", \"F.C.C. 13529\", \"347470\", \"244367\", \"29011\", \"36928\", \"16966\", \"A/5 21172\", \"349219\", \"234818\", \"248738\", \"CA. 2343\", \"PC 17760\", \"345364\", \"28551\", \"363291\", \"111361\", \"367226\", \"113043\", \"PC 17582\", \"345764\", \"PC 17611\", \"349225\", \"113776\", \"16966\", \"7598\", \"113784\", \"230080\", \"19950\", \"248740\", \"244361\", \"229236\", \"248733\", \"31418\", \"386525\", \"C.A. 37671\", \"315088\", \"7267\", \"113510\", \"2695\", \"349237\", \"2647\", \"345783\", \"113505\", \"237671\", \"330931\", \"330980\", \"347088\", \"SC/PARIS 2167\", \"2691\", \"SOTON/O.Q. 3101310\", \"370365\", \"C 7076\", \"110813\", \"2626\", \"14313\", \"PC 17477\", \"11765\", \"3101267\", \"323951\", \"PC 17760\", \"349909\", \"PC 17604\", \"C 7077\", \"113503\", \"2648\", \"347069\", \"PC 17757\", \"2653\", \"STON/O 2. 3101293\", \"113789\", \"349227\", \"S.O.C. 14879\", \"CA 2144\", \"27849\", \"367655\", \"SC 1748\", \"113760\", \"350034\", \"3101277\", \"35273\", \"PP 9549\", \"350052\", \"350407\", \"28403\", \"244278\", \"240929\", \"STON/O 2. 3101289\", \"341826\", \"4137\", \"STON/O2. 3101279\", \"315096\", \"28664\", \"347064\", \"29106\", \"312992\", \"4133\", \"349222\", \"394140\", \"19928\", \"239853\", \"STON/O 2. 3101269\", \"343095\", \"28220\", \"250652\", \"28228\", \"345773\", \"349254\", \"A/5. 13032\", \"315082\", \"347080\", \"370129\", \"A/4. 34244\", \"2003\", \"250655\", \"364851\", \"SOTON/O.Q. 392078\", \"110564\", \"376564\", \"SC/AH 3085\", \"STON/O 2. 3101274\", \"13507\", \"113760\", \"W./C. 6608\", \"29106\", \"19950\", \"C.A. 18723\", \"F.C.C. 13529\", \"345769\", \"347076\", \"230434\", \"65306\", \"33638\", \"250644\", \"113794\", \"2666\", \"113786\", \"C.A. 34651\", \"65303\", \"113051\", \"17453\", \"A/5 2817\", \"349240\", \"13509\", \"17464\", \"F.C.C. 13531\", \"371060\", \"19952\", \"364506\", \"111320\", \"234360\", \"A/S 2816\", \"SOTON/O.Q. 3101306\", \"239853\", \"113792\", \"36209\", \"2666\", \"323592\", \"315089\", \"C.A. 34651\", \"SC/AH Basle 541\", \"7553\", \"110465\", \"31027\", \"3460\", \"350060\", \"3101298\", \"CA 2144\", \"239854\", \"A/5 3594\", \"4134\", \"11967\", \"4133\", \"19943\", \"11771\", \"A.5. 18509\", \"C.A. 37671\", \"65304\", \"SOTON/OQ 3101317\", \"113787\", \"PC 17609\", \"A/4 45380\", \"2627\", \"36947\", \"C.A. 6212\", \"113781\", \"350035\", \"315086\", \"364846\", \"330909\", \"4135\", \"110152\", \"PC 17758\", \"26360\", \"111427\", \"C 4001\", \"1601\", \"382651\", \"SOTON/OQ 3101316\", \"PC 17473\", \"PC 17603\", \"349209\", \"36967\", \"C.A. 34260\", \"371110\", \"226875\", \"349242\", \"12749\", \"349252\", \"2624\", \"111361\", \"2700\", \"367232\", \"W./C. 14258\", \"PC 17483\", \"3101296\", \"29104\", \"26360\", \"2641\", \"2690\", \"2668\", \"315084\", \"F.C.C. 13529\", \"113050\", \"PC 17761\", \"364498\", \"13568\", \"WE/P 5735\", \"347082\", \"347082\", \"2908\", \"PC 17761\", \"693\", \"2908\", \"SC/PARIS 2146\", \"363291\", \"C.A. 33112\", \"17421\", \"244358\", \"330979\", \"2620\", \"347085\", \"113807\", \"11755\", \"PC 17757\", \"110413\", \"345572\", \"372622\", \"349251\", \"218629\", \"SOTON/OQ 392082\", \"SOTON/O.Q. 392087\", \"A/4 48871\", \"349205\", \"349909\", \"2686\", \"350417\", \"S.W./PP 752\", \"11769\", \"PC 17474\", \"14312\", \"A/4. 20589\", \"358585\", \"243880\", \"13507\", \"2689\", \"STON/O 2. 3101286\", \"237789\", \"17421\", \"28403\", \"13049\", \"3411\", \"110413\", \"237565\", \"13567\", \"14973\", \"A./5. 3235\", \"STON/O 2. 3101273\", \"36947\", \"A/5 3902\", \"364848\", \"SC/AH 29037\", \"345773\", \"248727\", \"LINE\", \"2664\", \"PC 17485\", \"243847\", \"349214\", \"113796\", \"364511\", \"111426\", \"349910\", \"349246\", \"113804\", \"SC/Paris 2123\", \"PC 17582\", \"347082\", \"SOTON/O.Q. 3101305\", \"367230\", \"370377\", \"364512\", \"220845\", \"347080\", \"A/5. 3336\", \"230136\", \"31028\", \"2659\", \"11753\", \"2653\", \"350029\", \"54636\", \"36963\", \"219533\", \"13502\", \"349224\", \"334912\", \"27042\", \"347743\", \"13214\", \"112052\", \"347088\", \"237668\", \"STON/O 2. 3101292\", \"C.A. 31921\", \"3101295\", \"376564\", \"350050\", \"PC 17477\", \"347088\", \"1601\", \"2666\", \"PC 17572\", \"349231\", \"13213\", \"S.O./P.P. 751\", \"CA. 2314\", \"349221\", \"231919\", \"8475\", \"330919\", \"365226\", \"S.O.C. 14879\", \"349223\", \"364849\", \"29751\", \"35273\", \"PC 17611\", \"2623\", \"5727\", \"349210\", \"STON/O 2. 3101285\", \"S.O.C. 14879\", \"234686\", \"312993\", \"A/5 3536\", \"19996\", \"29750\", \"F.C. 12750\", \"C.A. 24580\", \"244270\", \"239856\", \"349912\", \"342826\", \"4138\", \"CA 2144\", \"PC 17755\", \"330935\", \"PC 17572\", \"6563\", \"CA 2144\", \"29750\", \"SC/Paris 2123\", \"3101295\", \"349228\", \"350036\", \"24160\", \"17474\", \"349256\", \"1601\", \"2672\", \"113800\", \"248731\", \"363592\", \"35852\", \"17421\", \"348121\", \"PC 17757\", \"PC 17475\", \"2691\", \"36864\", \"350025\", \"250655\", \"223596\", \"PC 17476\", \"113781\", \"2661\", \"PC 17482\", \"113028\", \"19996\", \"7545\", \"250647\", \"348124\", \"PC 17757\", \"34218\", \"36568\", \"347062\", \"248727\", \"350048\", \"12233\", \"250643\", \"113806\", \"315094\", \"31027\", \"36866\", \"236853\", \"STON/O2. 3101271\", \"24160\", \"2699\", \"239855\", \"28425\", \"233639\", \"54636\", \"W./C. 6608\", \"PC 17755\", \"349201\", \"349218\", \"16988\", \"19877\", \"PC 17608\", \"376566\", \"STON/O 2. 3101288\", \"WE/P 5735\", \"C.A. 2673\", \"250648\", \"113773\", \"335097\", \"29103\", \"392096\", \"345780\", \"349204\", \"220845\", \"250649\", \"350042\", \"29108\", \"363294\", \"110152\", \"358585\", \"SOTON/O2 3101272\", \"2663\", \"113760\", \"347074\", \"13502\", \"112379\", \"364850\", \"371110\", \"8471\", \"345781\", \"350047\", \"S.O./P.P. 3\", \"2674\", \"29105\", \"347078\", \"383121\", \"364516\", \"36865\", \"24160\", \"2687\", \"17474\", \"113501\", \"W./C. 6607\", \"SOTON/O.Q. 3101312\", \"374887\", \"3101265\", \"382652\", \"C.A. 2315\", \"PC 17593\", \"12460\", \"239865\", \"CA. 2343\", \"PC 17600\", \"349203\", \"28213\", \"17465\", \"349244\", \"2685\", \"345773\", \"250647\", \"C.A. 31921\", \"113760\", \"2625\", \"347089\", \"347063\", \"112050\", \"347087\", \"248723\", \"113806\", \"3474\", \"A/4 48871\", \"28206\", \"347082\", \"364499\", \"112058\", \"STON/O2. 3101290\", \"S.C./PARIS 2079\", \"C 7075\", \"347088\", \"12749\", \"315098\", \"19972\", \"392096\", \"3101295\", \"368323\", \"1601\", \"S.C./PARIS 2079\", \"367228\", \"113572\", \"2659\", \"29106\", \"2671\", \"347468\", \"2223\", \"PC 17756\", \"315097\", \"392092\", \"1601\", \"11774\", \"SOTON/O2 3101287\", \"S.O./P.P. 3\", \"113798\", \"2683\", \"315090\", \"C.A. 5547\", \"CA. 2343\", \"349213\", \"248727\", \"17453\", \"347082\", \"347060\", \"2678\", \"PC 17592\", \"244252\", \"392091\", \"36928\", \"113055\", \"2666\", \"2629\", \"350026\", \"28134\", \"17466\", \"CA. 2343\", \"233866\", \"236852\", \"SC/PARIS 2149\", \"PC 17590\", \"345777\", \"347742\", \"349248\", \"11751\", \"695\", \"345765\", \"P/PP 3381\", \"2667\", \"7534\", \"349212\", \"349217\", \"11767\", \"230433\", \"349257\", \"7552\", \"C.A./SOTON 34068\", \"SOTON/OQ 392076\", \"382652\", \"211536\", \"112053\", \"W./C. 6607\", \"111369\", \"370376\"]}, {\"name\": \"Fare\", \"type\": \"measure\", \"values\": [7.25, 71.2833, 7.925, 53.1, 8.05, 8.4583, 51.8625, 21.075, 11.1333, 30.0708, 16.7, 26.55, 8.05, 31.275, 7.8542, 16.0, 29.125, 13.0, 18.0, 7.225, 26.0, 13.0, 8.0292, 35.5, 21.075, 31.3875, 7.225, 263.0, 7.8792, 7.8958, 27.7208, 146.5208, 7.75, 10.5, 82.1708, 52.0, 7.2292, 8.05, 18.0, 11.2417, 9.475, 21.0, 7.8958, 41.5792, 7.8792, 8.05, 15.5, 7.75, 21.6792, 17.8, 39.6875, 7.8, 76.7292, 26.0, 61.9792, 35.5, 10.5, 7.2292, 27.75, 46.9, 7.2292, 80.0, 83.475, 27.9, 27.7208, 15.2458, 10.5, 8.1583, 7.925, 8.6625, 10.5, 46.9, 73.5, 14.4542, 56.4958, 7.65, 7.8958, 8.05, 29.0, 12.475, 9.0, 9.5, 7.7875, 47.1, 10.5, 15.85, 34.375, 8.05, 263.0, 8.05, 8.05, 7.8542, 61.175, 20.575, 7.25, 8.05, 34.6542, 63.3583, 23.0, 26.0, 7.8958, 7.8958, 77.2875, 8.6542, 7.925, 7.8958, 7.65, 7.775, 7.8958, 24.15, 52.0, 14.4542, 8.05, 9.825, 14.4583, 7.925, 7.75, 21.0, 247.5208, 31.275, 73.5, 8.05, 30.0708, 13.0, 77.2875, 11.2417, 7.75, 7.1417, 22.3583, 6.975, 7.8958, 7.05, 14.5, 26.0, 13.0, 15.0458, 26.2833, 53.1, 9.2167, 79.2, 15.2458, 7.75, 15.85, 6.75, 11.5, 36.75, 7.7958, 34.375, 26.0, 13.0, 12.525, 66.6, 8.05, 14.5, 7.3125, 61.3792, 7.7333, 8.05, 8.6625, 69.55, 16.1, 15.75, 7.775, 8.6625, 39.6875, 20.525, 55.0, 27.9, 25.925, 56.4958, 33.5, 29.125, 11.1333, 7.925, 30.6958, 7.8542, 25.4667, 28.7125, 13.0, 0.0, 69.55, 15.05, 31.3875, 39.0, 22.025, 50.0, 15.5, 26.55, 15.5, 7.8958, 13.0, 13.0, 7.8542, 26.0, 27.7208, 146.5208, 7.75, 8.4042, 7.75, 13.0, 9.5, 69.55, 6.4958, 7.225, 8.05, 10.4625, 15.85, 18.7875, 7.75, 31.0, 7.05, 21.0, 7.25, 13.0, 7.75, 113.275, 7.925, 27.0, 76.2917, 10.5, 8.05, 13.0, 8.05, 7.8958, 90.0, 9.35, 10.5, 7.25, 13.0, 25.4667, 83.475, 7.775, 13.5, 31.3875, 10.5, 7.55, 26.0, 26.25, 10.5, 12.275, 14.4542, 15.5, 10.5, 7.125, 7.225, 90.0, 7.775, 14.5, 52.5542, 26.0, 7.25, 10.4625, 26.55, 16.1, 20.2125, 15.2458, 79.2, 86.5, 512.3292, 26.0, 7.75, 31.3875, 79.65, 0.0, 7.75, 10.5, 39.6875, 7.775, 153.4625, 135.6333, 31.0, 0.0, 19.5, 29.7, 7.75, 77.9583, 7.75, 0.0, 29.125, 20.25, 7.75, 7.8542, 9.5, 8.05, 26.0, 8.6625, 9.5, 7.8958, 13.0, 7.75, 78.85, 91.0792, 12.875, 8.85, 7.8958, 27.7208, 7.2292, 151.55, 30.5, 247.5208, 7.75, 23.25, 0.0, 12.35, 8.05, 151.55, 110.8833, 108.9, 24.0, 56.9292, 83.1583, 262.375, 26.0, 7.8958, 26.25, 7.8542, 26.0, 14.0, 164.8667, 134.5, 7.25, 7.8958, 12.35, 29.0, 69.55, 135.6333, 6.2375, 13.0, 20.525, 57.9792, 23.25, 28.5, 153.4625, 18.0, 133.65, 7.8958, 66.6, 134.5, 8.05, 35.5, 26.0, 263.0, 13.0, 13.0, 13.0, 13.0, 13.0, 16.1, 15.9, 8.6625, 9.225, 35.0, 7.2292, 17.8, 7.225, 9.5, 55.0, 13.0, 7.8792, 7.8792, 27.9, 27.7208, 14.4542, 7.05, 15.5, 7.25, 75.25, 7.2292, 7.75, 69.3, 55.4417, 6.4958, 8.05, 135.6333, 21.075, 82.1708, 7.25, 211.5, 4.0125, 7.775, 227.525, 15.7417, 7.925, 52.0, 7.8958, 73.5, 46.9, 13.0, 7.7292, 12.0, 120.0, 7.7958, 7.925, 113.275, 16.7, 7.7958, 7.8542, 26.0, 10.5, 12.65, 7.925, 8.05, 9.825, 15.85, 8.6625, 21.0, 7.75, 18.75, 7.775, 25.4667, 7.8958, 6.8583, 90.0, 0.0, 7.925, 8.05, 32.5, 13.0, 13.0, 24.15, 7.8958, 7.7333, 7.875, 14.4, 20.2125, 7.25, 26.0, 26.0, 7.75, 8.05, 26.55, 16.1, 26.0, 7.125, 55.9, 120.0, 34.375, 18.75, 263.0, 10.5, 26.25, 9.5, 7.775, 13.0, 8.1125, 81.8583, 19.5, 26.55, 19.2583, 30.5, 27.75, 19.9667, 27.75, 89.1042, 8.05, 7.8958, 26.55, 51.8625, 10.5, 7.75, 26.55, 8.05, 38.5, 13.0, 8.05, 7.05, 0.0, 26.55, 7.725, 19.2583, 7.25, 8.6625, 27.75, 13.7917, 9.8375, 52.0, 21.0, 7.0458, 7.5208, 12.2875, 46.9, 0.0, 8.05, 9.5875, 91.0792, 25.4667, 90.0, 29.7, 8.05, 15.9, 19.9667, 7.25, 30.5, 49.5042, 8.05, 14.4583, 78.2667, 15.1, 151.55, 7.7958, 8.6625, 7.75, 7.6292, 9.5875, 86.5, 108.9, 26.0, 26.55, 22.525, 56.4958, 7.75, 8.05, 26.2875, 59.4, 7.4958, 34.0208, 10.5, 24.15, 26.0, 7.8958, 93.5, 7.8958, 7.225, 57.9792, 7.2292, 7.75, 10.5, 221.7792, 7.925, 11.5, 26.0, 7.2292, 7.2292, 22.3583, 8.6625, 26.25, 26.55, 106.425, 14.5, 49.5, 71.0, 31.275, 31.275, 26.0, 106.425, 26.0, 26.0, 13.8625, 20.525, 36.75, 110.8833, 26.0, 7.8292, 7.225, 7.775, 26.55, 39.6, 227.525, 79.65, 17.4, 7.75, 7.8958, 13.5, 8.05, 8.05, 24.15, 7.8958, 21.075, 7.2292, 7.8542, 10.5, 51.4792, 26.3875, 7.75, 8.05, 14.5, 13.0, 55.9, 14.4583, 7.925, 30.0, 110.8833, 26.0, 40.125, 8.7125, 79.65, 15.0, 79.2, 8.05, 8.05, 7.125, 78.2667, 7.25, 7.75, 26.0, 24.15, 33.0, 0.0, 7.225, 56.9292, 27.0, 7.8958, 42.4, 8.05, 26.55, 15.55, 7.8958, 30.5, 41.5792, 153.4625, 31.275, 7.05, 15.5, 7.75, 8.05, 65.0, 14.4, 16.1, 39.0, 10.5, 14.4542, 52.5542, 15.7417, 7.8542, 16.1, 32.3208, 12.35, 77.9583, 7.8958, 7.7333, 30.0, 7.0542, 30.5, 0.0, 27.9, 13.0, 7.925, 26.25, 39.6875, 16.1, 7.8542, 69.3, 27.9, 56.4958, 19.2583, 76.7292, 7.8958, 35.5, 7.55, 7.55, 7.8958, 23.0, 8.4333, 7.8292, 6.75, 73.5, 7.8958, 15.5, 13.0, 113.275, 133.65, 7.225, 25.5875, 7.4958, 7.925, 73.5, 13.0, 7.775, 8.05, 52.0, 39.0, 52.0, 10.5, 13.0, 0.0, 7.775, 8.05, 9.8417, 46.9, 512.3292, 8.1375, 76.7292, 9.225, 46.9, 39.0, 41.5792, 39.6875, 10.1708, 7.7958, 211.3375, 57.0, 13.4167, 56.4958, 7.225, 26.55, 13.5, 8.05, 7.7333, 110.8833, 7.65, 227.525, 26.2875, 14.4542, 7.7417, 7.8542, 26.0, 13.5, 26.2875, 151.55, 15.2458, 49.5042, 26.55, 52.0, 9.4833, 13.0, 7.65, 227.525, 10.5, 15.5, 7.775, 33.0, 7.0542, 13.0, 13.0, 53.1, 8.6625, 21.0, 7.7375, 26.0, 7.925, 211.3375, 18.7875, 0.0, 13.0, 13.0, 16.1, 34.375, 512.3292, 7.8958, 7.8958, 30.0, 78.85, 262.375, 16.1, 7.925, 71.0, 20.25, 13.0, 53.1, 7.75, 23.0, 12.475, 9.5, 7.8958, 65.0, 14.5, 7.7958, 11.5, 8.05, 86.5, 14.5, 7.125, 7.2292, 120.0, 7.775, 77.9583, 39.6, 7.75, 24.15, 8.3625, 9.5, 7.8542, 10.5, 7.225, 23.0, 7.75, 7.75, 12.475, 7.7375, 211.3375, 7.2292, 57.0, 30.0, 23.45, 7.05, 7.25, 7.4958, 29.125, 20.575, 79.2, 7.75, 26.0, 69.55, 30.6958, 7.8958, 13.0, 25.9292, 8.6833, 7.2292, 24.15, 13.0, 26.25, 120.0, 8.5167, 6.975, 7.775, 0.0, 7.775, 13.0, 53.1, 7.8875, 24.15, 10.5, 31.275, 8.05, 0.0, 7.925, 37.0042, 6.45, 27.9, 93.5, 8.6625, 0.0, 12.475, 39.6875, 6.95, 56.4958, 37.0042, 7.75, 80.0, 14.4542, 18.75, 7.2292, 7.8542, 8.3, 83.1583, 8.6625, 8.05, 56.4958, 29.7, 7.925, 10.5, 31.0, 6.4375, 8.6625, 7.55, 69.55, 7.8958, 33.0, 89.1042, 31.275, 7.775, 15.2458, 39.4, 26.0, 9.35, 164.8667, 26.55, 19.2583, 7.2292, 14.1083, 11.5, 25.9292, 69.55, 13.0, 13.0, 13.8583, 50.4958, 9.5, 11.1333, 7.8958, 52.5542, 5.0, 9.0, 24.0, 7.225, 9.8458, 7.8958, 7.8958, 83.1583, 26.0, 7.8958, 10.5167, 10.5, 7.05, 29.125, 13.0, 30.0, 23.45, 30.0, 7.75]}, {\"name\": \"Cabin\", \"type\": \"dimension\", \"values\": [\"\", \"C85\", \"\", \"C123\", \"\", \"\", \"E46\", \"\", \"\", \"\", \"G6\", \"C103\", \"\", \"\", \"\", \"\", \"\", \"\", \"\", \"\", \"\", \"D56\", \"\", \"A6\", \"\", \"\", \"\", \"C23 C25 C27\", \"\", \"\", \"\", \"B78\", \"\", \"\", \"\", \"\", \"\", \"\", \"\", \"\", \"\", \"\", \"\", \"\", \"\", \"\", \"\", \"\", \"\", \"\", \"\", \"\", \"D33\", \"\", \"B30\", \"C52\", \"\", \"\", \"\", \"\", \"\", \"B28\", \"C83\", \"\", \"\", \"\", \"F33\", \"\", \"\", \"\", \"\", \"\", \"\", \"\", \"\", \"F G73\", \"\", \"\", \"\", \"\", \"\", \"\", \"\", \"\", \"\", \"\", \"\", \"\", \"C23 C25 C27\", \"\", \"\", \"\", \"E31\", \"\", \"\", \"\", \"A5\", \"D10 D12\", \"\", \"\", \"\", \"\", \"D26\", \"\", \"\", \"\", \"\", \"\", \"\", \"\", \"C110\", \"\", \"\", \"\", \"\", \"\", \"\", \"\", \"B58 B60\", \"\", \"\", \"\", \"\", \"E101\", \"D26\", \"\", \"\", \"\", \"F E69\", \"\", \"\", \"\", \"\", \"\", \"\", \"\", \"D47\", \"C123\", \"\", \"B86\", \"\", \"\", \"\", \"\", \"\", \"\", \"\", \"\", \"F2\", \"\", \"\", \"C2\", \"\", \"\", \"\", \"\", \"\", \"\", \"\", \"\", \"\", \"\", \"\", \"\", \"\", \"\", \"E33\", \"\", \"\", \"\", \"B19\", \"\", \"\", \"\", \"A7\", \"\", \"\", \"C49\", \"\", \"\", \"\", \"\", \"\", \"F4\", \"\", \"A32\", \"\", \"\", \"\", \"\", \"\", \"\", \"\", \"F2\", \"B4\", \"B80\", \"\", \"\", \"\", \"\", \"\", \"\", \"\", \"\", \"\", \"G6\", \"\", \"\", \"\", \"A31\", \"\", \"\", \"\", \"\", \"\", \"D36\", \"\", \"\", \"D15\", \"\", \"\", \"\", \"\", \"\", \"C93\", \"\", \"\", \"\", \"\", \"\", \"C83\", \"\", \"\", \"\", \"\", \"\", \"\", \"\", \"\", \"\", \"\", \"\", \"\", \"\", \"\", \"C78\", \"\", \"\", \"D35\", \"\", \"\", \"G6\", \"C87\", \"\", \"\", \"\", \"\", \"B77\", \"\", \"\", \"\", \"\", \"E67\", \"B94\", \"\", \"\", \"\", \"\", \"C125\", \"C99\", \"\", \"\", \"\", \"C118\", \"\", \"D7\", \"\", \"\", \"\", \"\", \"\", \"\", \"\", \"\", \"A19\", \"\", \"\", \"\", \"\", \"\", \"\", \"B49\", \"D\", \"\", \"\", \"\", \"\", \"C22 C26\", \"C106\", \"B58 B60\", \"\", \"\", \"\", \"E101\", \"\", \"C22 C26\", \"\", \"C65\", \"\", \"E36\", \"C54\", \"B57 B59 B63 B66\", \"\", \"\", \"\", \"\", \"\", \"\", \"C7\", \"E34\", \"\", \"\", \"\", \"\", \"\", \"C32\", \"\", \"D\", \"\", \"B18\", \"\", \"C124\", \"C91\", \"\", \"\", \"\", \"C2\", \"E40\", \"\", \"T\", \"F2\", \"C23 C25 C27\", \"\", \"\", \"\", \"F33\", \"\", \"\", \"\", \"\", \"\", \"C128\", \"\", \"\", \"\", \"\", \"E33\", \"\", \"\", \"\", \"\", \"\", \"\", \"\", \"\", \"\", \"D37\", \"\", \"\", \"B35\", \"E50\", \"\", \"\", \"\", \"\", \"\", \"\", \"C82\", \"\", \"\", \"\", \"\", \"\", \"\", \"\", \"\", \"\", \"\", \"\", \"\", \"B96 B98\", \"\", \"\", \"D36\", \"G6\", \"\", \"\", \"\", \"\", \"\", \"\", \"\", \"\", \"\", \"\", \"\", \"\", \"\", \"\", \"\", \"\", \"\", \"C78\", \"\", \"\", \"\", \"\", \"\", \"\", \"\", \"\", \"\", \"\", \"\", \"\", \"\", \"\", \"\", \"\", \"E10\", \"C52\", \"\", \"\", \"\", \"E44\", \"B96 B98\", \"\", \"\", \"C23 C25 C27\", \"\", \"\", \"\", \"\", \"\", \"\", \"A34\", \"\", \"\", \"\", \"C104\", \"\", \"\", \"C111\", \"C92\", \"\", \"\", \"E38\", \"D21\", \"\", \"\", \"E12\", \"\", \"E63\", \"\", \"\", \"\", \"\", \"\", \"\", \"\", \"\", \"\", \"\", \"D\", \"\", \"A14\", \"\", \"\", \"\", \"\", \"\", \"\", \"\", \"\", \"B49\", \"\", \"C93\", \"B37\", \"\", \"\", \"\", \"\", \"C30\", \"\", \"\", \"\", \"D20\", \"\", \"C22 C26\", \"\", \"\", \"\", \"\", \"\", \"B79\", \"C65\", \"\", \"\", \"\", \"\", \"\", \"\", \"E25\", \"\", \"\", \"D46\", \"F33\", \"\", \"\", \"\", \"B73\", \"\", \"\", \"B18\", \"\", \"\", \"\", \"C95\", \"\", \"\", \"\", \"\", \"\", \"\", \"\", \"\", \"B38\", \"\", \"\", \"B39\", \"B22\", \"\", \"\", \"\", \"C86\", \"\", \"\", \"\", \"\", \"\", \"C70\", \"\", \"\", \"\", \"\", \"\", \"A16\", \"\", \"E67\", \"\", \"\", \"\", \"\", \"\", \"\", \"\", \"\", \"\", \"\", \"\", \"\", \"C101\", \"E25\", \"\", \"\", \"\", \"\", \"E44\", \"\", \"\", \"\", \"C68\", \"\", \"A10\", \"\", \"E68\", \"\", \"B41\", \"\", \"\", \"\", \"D20\", \"\", \"\", \"\", \"\", \"\", \"\", \"\", \"A20\", \"\", \"\", \"\", \"\", \"\", \"\", \"\", \"\", \"\", \"C125\", \"\", \"\", \"\", \"\", \"\", \"\", \"\", \"\", \"F4\", \"\", \"\", \"D19\", \"\", \"\", \"\", \"D50\", \"\", \"D9\", \"\", \"\", \"A23\", \"\", \"B50\", \"\", \"\", \"\", \"\", \"\", \"\", \"\", \"\", \"B35\", \"\", \"\", \"\", \"D33\", \"\", \"A26\", \"\", \"\", \"\", \"\", \"\", \"\", \"\", \"\", \"\", \"\", \"\", \"D48\", \"\", \"\", \"E58\", \"\", \"\", \"\", \"\", \"\", \"\", \"C126\", \"\", \"B71\", \"\", \"\", \"\", \"\", \"\", \"\", \"\", \"B51 B53 B55\", \"\", \"D49\", \"\", \"\", \"\", \"\", \"\", \"\", \"\", \"B5\", \"B20\", \"\", \"\", \"\", \"\", \"\", \"\", \"\", \"C68\", \"F G63\", \"C62 C64\", \"E24\", \"\", \"\", \"\", \"\", \"\", \"E24\", \"\", \"\", \"C90\", \"C124\", \"C126\", \"\", \"\", \"F G73\", \"C45\", \"E101\", \"\", \"\", \"\", \"\", \"\", \"\", \"E8\", \"\", \"\", \"\", \"\", \"\", \"B5\", \"\", \"\", \"\", \"\", \"\", \"\", \"B101\", \"\", \"\", \"D45\", \"C46\", \"B57 B59 B63 B66\", \"\", \"\", \"B22\", \"\", \"\", \"D30\", \"\", \"\", \"E121\", \"\", \"\", \"\", \"\", \"\", \"\", \"\", \"B77\", \"\", \"\", \"\", \"B96 B98\", \"\", \"D11\", \"\", \"\", \"\", \"\", \"\", \"\", \"E77\", \"\", \"\", \"\", \"F38\", \"\", \"\", \"B3\", \"\", \"B20\", \"D6\", \"\", \"\", \"\", \"\", \"\", \"\", \"B82 B84\", \"\", \"\", \"\", \"\", \"\", \"\", \"D17\", \"\", \"\", \"\", \"\", \"\", \"B96 B98\", \"\", \"\", \"\", \"A36\", \"\", \"\", \"E8\", \"\", \"\", \"\", \"\", \"\", \"B102\", \"\", \"\", \"\", \"\", \"B69\", \"\", \"\", \"E121\", \"\", \"\", \"\", \"\", \"\", \"B28\", \"\", \"\", \"\", \"\", \"\", \"E49\", \"\", \"\", \"\", \"C47\", \"\", \"\", \"\", \"\", \"\", \"\", \"\", \"\", \"\", \"C92\", \"\", \"\", \"\", \"D28\", \"\", \"\", \"\", \"E17\", \"\", \"\", \"\", \"\", \"D17\", \"\", \"\", \"\", \"\", \"A24\", \"\", \"\", \"\", \"D35\", \"B51 B53 B55\", \"\", \"\", \"\", \"\", \"\", \"\", \"C50\", \"\", \"\", \"\", \"\", \"\", \"\", \"\", \"B42\", \"\", \"C148\", \"\"]}, {\"name\": \"Embarked\", \"type\": \"dimension\", \"values\": [\"S\", \"C\", \"S\", \"S\", \"S\", \"Q\", \"S\", \"S\", \"S\", \"C\", \"S\", \"S\", \"S\", \"S\", \"S\", \"S\", \"Q\", \"S\", \"S\", \"C\", \"S\", \"S\", \"Q\", \"S\", \"S\", \"S\", \"C\", \"S\", \"Q\", \"S\", \"C\", \"C\", \"Q\", \"S\", \"C\", \"S\", \"C\", \"S\", \"S\", \"C\", \"S\", \"S\", \"C\", \"C\", \"Q\", \"S\", \"Q\", \"Q\", \"C\", \"S\", \"S\", \"S\", \"C\", \"S\", \"C\", \"S\", \"S\", \"C\", \"S\", \"S\", \"C\", \"\", \"S\", \"S\", \"C\", \"C\", \"S\", \"S\", \"S\", \"S\", \"S\", \"S\", \"S\", \"C\", \"S\", \"S\", \"S\", \"S\", \"S\", \"S\", \"S\", \"S\", \"Q\", \"S\", \"S\", \"S\", \"S\", \"S\", \"S\", \"S\", \"S\", \"S\", \"S\", \"S\", \"S\", \"S\", \"C\", \"C\", \"S\", \"S\", \"S\", \"S\", \"S\", \"S\", \"S\", \"S\", \"S\", \"S\", \"S\", \"Q\", \"S\", \"C\", \"S\", \"S\", \"C\", \"S\", \"Q\", \"S\", \"C\", \"S\", \"S\", \"S\", \"C\", \"S\", \"S\", \"C\", \"Q\", \"S\", \"C\", \"S\", \"C\", \"S\", \"S\", \"S\", \"S\", \"C\", \"S\", \"S\", \"S\", \"C\", \"C\", \"S\", \"S\", \"Q\", \"S\", \"S\", \"S\", \"S\", \"S\", \"S\", \"S\", \"S\", \"S\", \"S\", \"S\", \"C\", \"Q\", \"S\", \"S\", \"S\", \"S\", \"S\", \"S\", \"S\", \"S\", \"S\", \"S\", \"S\", \"S\", \"S\", \"S\", \"Q\", \"S\", \"S\", \"C\", \"S\", \"S\", \"C\", \"S\", \"S\", \"S\", \"C\", \"S\", \"S\", \"S\", \"S\", \"Q\", \"S\", \"Q\", \"S\", \"S\", \"S\", \"S\", \"S\", \"C\", \"C\", \"Q\", \"S\", \"Q\", \"S\", \"S\", \"S\", \"S\", \"C\", \"S\", \"S\", \"S\", \"C\", \"Q\", \"C\", \"S\", \"S\", \"S\", \"S\", \"Q\", \"C\", \"S\", \"S\", \"C\", \"S\", \"S\", \"S\", \"S\", \"S\", \"S\", \"S\", \"S\", \"S\", \"S\", \"S\", \"S\", \"S\", \"S\", \"S\", \"S\", \"S\", \"S\", \"S\", \"S\", \"S\", \"C\", \"Q\", \"S\", \"S\", \"C\", \"Q\", \"S\", \"S\", \"S\", \"S\", \"S\", \"S\", \"S\", \"S\", \"S\", \"C\", \"C\", \"S\", \"C\", \"S\", \"Q\", \"S\", \"S\", \"S\", \"Q\", \"S\", \"S\", \"S\", \"S\", \"S\", \"S\", \"S\", \"S\", \"C\", \"Q\", \"S\", \"S\", \"S\", \"Q\", \"S\", \"Q\", \"S\", \"S\", \"S\", \"S\", \"C\", \"S\", \"S\", \"S\", \"Q\", \"S\", \"C\", \"C\", \"S\", \"S\", \"C\", \"C\", \"S\", \"S\", \"C\", \"Q\", \"Q\", \"S\", \"Q\", \"S\", \"S\", \"C\", \"C\", \"C\", \"C\", \"C\", \"C\", \"S\", \"S\", \"S\", \"S\", \"S\", \"S\", \"S\", \"C\", \"S\", \"S\", \"Q\", \"S\", \"S\", \"C\", \"S\", \"S\", \"S\", \"C\", \"Q\", \"S\", \"S\", \"S\", \"S\", \"S\", \"S\", \"C\", \"S\", \"S\", \"S\", \"S\", \"S\", \"S\", \"S\", \"S\", \"S\", \"S\", \"S\", \"S\", \"S\", \"S\", \"C\", \"S\", \"C\", \"S\", \"S\", \"S\", \"Q\", \"Q\", \"S\", \"C\", \"C\", \"S\", \"Q\", \"S\", \"C\", \"C\", \"Q\", \"C\", \"C\", \"S\", \"S\", \"C\", \"S\", \"C\", \"S\", \"C\", \"C\", \"S\", \"C\", \"C\", \"S\", \"S\", \"S\", \"S\", \"S\", \"S\", \"Q\", \"C\", \"S\", \"S\", \"S\", \"C\", \"S\", \"S\", \"S\", \"S\", \"S\", \"S\", \"S\", \"S\", \"S\", \"S\", \"S\", \"S\", \"S\", \"S\", \"S\", \"S\", \"S\", \"Q\", \"Q\", \"S\", \"S\", \"S\", \"S\", \"S\", \"S\", \"S\", \"C\", \"Q\", \"S\", \"S\", \"S\", \"S\", \"S\", \"S\", \"Q\", \"S\", \"S\", \"S\", \"S\", \"S\", \"S\", \"S\", \"S\", \"S\", \"S\", \"S\", \"S\", \"S\", \"S\", \"S\", \"S\", \"S\", \"S\", \"S\", \"C\", \"S\", \"S\", \"S\", \"C\", \"C\", \"S\", \"C\", \"S\", \"S\", \"S\", \"Q\", \"S\", \"S\", \"S\", \"S\", \"S\", \"S\", \"S\", \"S\", \"Q\", \"C\", \"S\", \"S\", \"S\", \"C\", \"S\", \"S\", \"S\", \"S\", \"S\", \"S\", \"S\", \"S\", \"S\", \"S\", \"C\", \"S\", \"S\", \"C\", \"S\", \"S\", \"S\", \"S\", \"S\", \"C\", \"S\", \"C\", \"C\", \"S\", \"S\", \"S\", \"S\", \"Q\", \"Q\", \"S\", \"S\", \"C\", \"S\", \"S\", \"S\", \"S\", \"Q\", \"S\", \"S\", \"C\", \"S\", \"S\", \"S\", \"Q\", \"S\", \"S\", \"S\", \"S\", \"C\", \"C\", \"C\", \"Q\", \"S\", \"S\", \"S\", \"S\", \"S\", \"C\", \"C\", \"C\", \"S\", \"S\", \"S\", \"C\", \"S\", \"C\", \"S\", \"S\", \"S\", \"S\", \"C\", \"S\", \"S\", \"C\", \"S\", \"S\", \"C\", \"S\", \"Q\", \"C\", \"S\", \"S\", \"C\", \"C\", \"S\", \"S\", \"Q\", \"S\", \"S\", \"S\", \"S\", \"S\", \"S\", \"S\", \"C\", \"S\", \"S\", \"S\", \"S\", \"Q\", \"S\", \"S\", \"S\", \"S\", \"C\", \"S\", \"S\", \"C\", \"S\", \"C\", \"C\", \"S\", \"S\", \"C\", \"S\", \"S\", \"S\", \"C\", \"S\", \"Q\", \"S\", \"S\", \"S\", \"S\", \"C\", \"C\", \"S\", \"S\", \"S\", \"S\", \"C\", \"S\", \"S\", \"S\", \"C\", \"S\", \"S\", \"S\", \"Q\", \"Q\", \"S\", \"S\", \"S\", \"S\", \"S\", \"S\", \"C\", \"S\", \"C\", \"S\", \"S\", \"S\", \"Q\", \"S\", \"S\", \"Q\", \"S\", \"S\", \"C\", \"S\", \"S\", \"S\", \"S\", \"S\", \"S\", \"S\", \"S\", \"C\", \"S\", \"S\", \"C\", \"C\", \"S\", \"C\", \"S\", \"S\", \"S\", \"S\", \"S\", \"Q\", \"Q\", \"S\", \"S\", \"Q\", \"S\", \"C\", \"S\", \"C\", \"S\", \"S\", \"S\", \"S\", \"S\", \"S\", \"S\", \"S\", \"S\", \"S\", \"S\", \"S\", \"S\", \"S\", \"S\", \"S\", \"S\", \"C\", \"Q\", \"C\", \"S\", \"S\", \"S\", \"C\", \"S\", \"S\", \"S\", \"S\", \"S\", \"C\", \"S\", \"C\", \"S\", \"S\", \"S\", \"Q\", \"C\", \"S\", \"C\", \"S\", \"C\", \"Q\", \"S\", \"S\", \"S\", \"S\", \"S\", \"C\", \"C\", \"S\", \"S\", \"S\", \"S\", \"S\", \"C\", \"S\", \"Q\", \"S\", \"S\", \"S\", \"S\", \"S\", \"S\", \"S\", \"S\", \"Q\", \"S\", \"S\", \"S\", \"C\", \"S\", \"S\", \"S\", \"S\", \"S\", \"C\", \"S\", \"S\", \"S\", \"S\", \"C\", \"S\", \"S\", \"S\", \"S\", \"S\", \"S\", \"Q\", \"S\", \"S\", \"S\", \"S\", \"S\", \"S\", \"S\", \"S\", \"S\", \"S\", \"S\", \"S\", \"C\", \"S\", \"S\", \"S\", \"C\", \"Q\", \"Q\", \"S\", \"S\", \"S\", \"S\", \"C\", \"S\", \"S\", \"Q\", \"S\", \"Q\", \"S\", \"C\", \"S\", \"S\", \"S\", \"S\", \"S\", \"S\", \"Q\", \"S\", \"C\", \"Q\", \"S\", \"S\", \"C\", \"S\", \"S\", \"S\", \"S\", \"C\", \"S\", \"S\", \"S\", \"S\", \"C\", \"S\", \"S\", \"S\", \"S\", \"S\", \"S\", \"S\", \"S\", \"S\", \"S\", \"S\", \"S\", \"S\", \"C\", \"S\", \"S\", \"S\", \"S\", \"S\", \"S\", \"S\", \"Q\", \"S\", \"C\", \"Q\", \"\", \"C\", \"S\", \"C\", \"S\", \"S\", \"C\", \"S\", \"S\", \"S\", \"C\", \"S\", \"S\", \"C\", \"C\", \"S\", \"S\", \"S\", \"C\", \"S\", \"C\", \"S\", \"S\", \"C\", \"S\", \"S\", \"S\", \"S\", \"S\", \"C\", \"C\", \"S\", \"S\", \"S\", \"S\", \"S\", \"S\", \"C\", \"S\", \"S\", \"S\", \"S\", \"S\", \"S\", \"S\", \"C\", \"C\", \"S\", \"S\", \"S\", \"C\", \"S\", \"S\", \"S\", \"S\", \"S\", \"Q\", \"S\", \"S\", \"S\", \"C\", \"Q\"]}]}} }, undefined);"
      ]
     },
     "metadata": {},
     "output_type": "display_data"
    },
    {
     "data": {
      "application/javascript": [
       "window.ipyvizzu.animate(element, 'dc41f11', 'actual', false, lib => { return {\"config\": {\"x\": \"Count\", \"y\": \"Sex\", \"label\": \"Count\", \"title\": \"Passengers of the Titanic\"}} }, undefined);"
      ]
     },
     "metadata": {},
     "output_type": "display_data"
    },
    {
     "data": {
      "application/javascript": [
       "window.ipyvizzu.animate(element, 'dc41f11', 'actual', false, lib => { return {\"config\": {\"x\": [\"Count\", \"Survived\"], \"label\": [\"Count\", \"Survived\"], \"color\": \"Survived\"}} }, undefined);"
      ]
     },
     "metadata": {},
     "output_type": "display_data"
    },
    {
     "data": {
      "application/javascript": [
       "window.ipyvizzu.animate(element, 'dc41f11', 'actual', false, lib => { return {\"config\": {\"x\": \"Count\", \"y\": [\"Sex\", \"Survived\"]}} }, undefined);"
      ]
     },
     "metadata": {},
     "output_type": "display_data"
    }
   ],
   "source": [
    "import pandas as pd\n",
    "from ipyvizzu import Chart, Data, Config\n",
    "\n",
    "data_frame = pd.read_csv(\n",
    "    \"https://raw.githubusercontent.com/vizzuhq/ipyvizzu/main/docs/examples/stories/titanic/titanic.csv\"\n",
    ")\n",
    "data = Data()\n",
    "data.add_data_frame(data_frame)\n",
    "\n",
    "chart = Chart(width=\"640px\", height=\"360px\")\n",
    "\n",
    "chart.animate(data)\n",
    "\n",
    "chart.animate(\n",
    "    Config(\n",
    "        {\n",
    "            \"x\": \"Count\",\n",
    "            \"y\": \"Sex\",\n",
    "            \"label\": \"Count\",\n",
    "            \"title\": \"Passengers of the Titanic\",\n",
    "        }\n",
    "    )\n",
    ")\n",
    "chart.animate(\n",
    "    Config(\n",
    "        {\n",
    "            \"x\": [\"Count\", \"Survived\"],\n",
    "            \"label\": [\"Count\", \"Survived\"],\n",
    "            \"color\": \"Survived\",\n",
    "        }\n",
    "    )\n",
    ")\n",
    "chart.animate(Config({\"x\": \"Count\", \"y\": [\"Sex\", \"Survived\"]}))"
   ]
  },
  {
   "cell_type": "code",
   "execution_count": null,
   "id": "3577ef53",
   "metadata": {},
   "outputs": [],
   "source": []
  }
 ],
 "metadata": {
  "kernelspec": {
   "display_name": "Python 3 (ipykernel)",
   "language": "python",
   "name": "python3"
  },
  "language_info": {
   "codemirror_mode": {
    "name": "ipython",
    "version": 3
   },
   "file_extension": ".py",
   "mimetype": "text/x-python",
   "name": "python",
   "nbconvert_exporter": "python",
   "pygments_lexer": "ipython3",
   "version": "3.7.13"
  }
 },
 "nbformat": 4,
 "nbformat_minor": 5
}

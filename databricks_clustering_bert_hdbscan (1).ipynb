{
 "cells": [
  {
   "cell_type": "markdown",
   "id": "0d31c145",
   "metadata": {},
   "source": [
    "# Clustering sentence embeddings to identify intents in short text\n",
    "Hyperparameter tuning of UMAP + HDBSCAN to determine the number of clusters in unlabeled text data\n",
    "TL;DR The unsupervised learning problem of clustering short-text messages can be turned into a constrained optimization problem to automatically tune UMAP + HDBSCAN hyperparameters. The chatintents package makes it easy to implement this tuning process."
   ]
  },
  {
   "cell_type": "raw",
   "id": "7cafe0fc",
   "metadata": {},
   "source": [
    "But what if you don’t yet have any labeled data and you don’t think any publicly-available labeled data is relevant (as is often the case)? On top of the challenge of having an unsupervised learning problem, the messages containing the intent are typically quite short (less than 15 words). I was recently tasked with this challenge, with one additional hurdle: we only had about 1,000 samples total"
   ]
  },
  {
   "cell_type": "markdown",
   "id": "e6b9cdd9",
   "metadata": {},
   "source": [
    "# GOAL\n",
    "Defining the goal\n",
    "Before we go further, let’s first define what we’re trying to do. Here I’m interested in answering the question:\n",
    "\n",
    "given an unlabeled set of dialogues between a user and some company representative, is there a way to obtain a helpful labeling of user intents in an automated way?"
   ]
  },
  {
   "cell_type": "code",
   "execution_count": 1,
   "id": "1d7ae7c5",
   "metadata": {},
   "outputs": [],
   "source": [
    "#pip install contractions\n",
    "#!pip install -U pip setuptools wheel\n",
    "#!pip install -U spacy\n",
    "#!python -m spacy download en_core_web_sm\n",
    "#!pip install bertopic\n",
    "#!pip install yellowbrick\n",
    "#!pip install distance\n",
    "#!pip install transformers\n",
    "#!pip install tensorflow"
   ]
  },
  {
   "cell_type": "code",
   "execution_count": 2,
   "id": "d89f2cd4",
   "metadata": {},
   "outputs": [
    {
     "name": "stdout",
     "output_type": "stream",
     "text": [
      "Requirement already satisfied: tensorflow>=2.0.0 in ./opt/anaconda3/lib/python3.9/site-packages (2.9.1)\n",
      "Requirement already satisfied: six>=1.12.0 in ./opt/anaconda3/lib/python3.9/site-packages (from tensorflow>=2.0.0) (1.16.0)\n",
      "Requirement already satisfied: wrapt>=1.11.0 in ./opt/anaconda3/lib/python3.9/site-packages (from tensorflow>=2.0.0) (1.12.1)\n",
      "Requirement already satisfied: tensorflow-io-gcs-filesystem>=0.23.1 in ./opt/anaconda3/lib/python3.9/site-packages (from tensorflow>=2.0.0) (0.26.0)\n",
      "Requirement already satisfied: opt-einsum>=2.3.2 in ./opt/anaconda3/lib/python3.9/site-packages (from tensorflow>=2.0.0) (3.3.0)\n",
      "Requirement already satisfied: tensorboard<2.10,>=2.9 in ./opt/anaconda3/lib/python3.9/site-packages (from tensorflow>=2.0.0) (2.9.0)\n",
      "Requirement already satisfied: tensorflow-estimator<2.10.0,>=2.9.0rc0 in ./opt/anaconda3/lib/python3.9/site-packages (from tensorflow>=2.0.0) (2.9.0)\n",
      "Requirement already satisfied: grpcio<2.0,>=1.24.3 in ./opt/anaconda3/lib/python3.9/site-packages (from tensorflow>=2.0.0) (1.42.0)\n",
      "Requirement already satisfied: setuptools in ./opt/anaconda3/lib/python3.9/site-packages (from tensorflow>=2.0.0) (62.3.3)\n",
      "Requirement already satisfied: termcolor>=1.1.0 in ./opt/anaconda3/lib/python3.9/site-packages (from tensorflow>=2.0.0) (1.1.0)\n",
      "Requirement already satisfied: absl-py>=1.0.0 in ./opt/anaconda3/lib/python3.9/site-packages (from tensorflow>=2.0.0) (1.1.0)\n",
      "Requirement already satisfied: keras-preprocessing>=1.1.1 in ./opt/anaconda3/lib/python3.9/site-packages (from tensorflow>=2.0.0) (1.1.2)\n",
      "Requirement already satisfied: gast<=0.4.0,>=0.2.1 in ./opt/anaconda3/lib/python3.9/site-packages (from tensorflow>=2.0.0) (0.4.0)\n",
      "Requirement already satisfied: typing-extensions>=3.6.6 in ./opt/anaconda3/lib/python3.9/site-packages (from tensorflow>=2.0.0) (4.1.1)\n",
      "Requirement already satisfied: google-pasta>=0.1.1 in ./opt/anaconda3/lib/python3.9/site-packages (from tensorflow>=2.0.0) (0.2.0)\n",
      "Requirement already satisfied: flatbuffers<2,>=1.12 in ./opt/anaconda3/lib/python3.9/site-packages (from tensorflow>=2.0.0) (1.12)\n",
      "Requirement already satisfied: protobuf<3.20,>=3.9.2 in ./opt/anaconda3/lib/python3.9/site-packages (from tensorflow>=2.0.0) (3.19.4)\n",
      "Requirement already satisfied: astunparse>=1.6.0 in ./opt/anaconda3/lib/python3.9/site-packages (from tensorflow>=2.0.0) (1.6.3)\n",
      "Requirement already satisfied: numpy>=1.20 in ./opt/anaconda3/lib/python3.9/site-packages (from tensorflow>=2.0.0) (1.21.5)\n",
      "Requirement already satisfied: h5py>=2.9.0 in ./opt/anaconda3/lib/python3.9/site-packages (from tensorflow>=2.0.0) (3.6.0)\n",
      "Requirement already satisfied: libclang>=13.0.0 in ./opt/anaconda3/lib/python3.9/site-packages (from tensorflow>=2.0.0) (14.0.1)\n",
      "Requirement already satisfied: packaging in ./opt/anaconda3/lib/python3.9/site-packages (from tensorflow>=2.0.0) (21.3)\n",
      "Requirement already satisfied: keras<2.10.0,>=2.9.0rc0 in ./opt/anaconda3/lib/python3.9/site-packages (from tensorflow>=2.0.0) (2.9.0)\n",
      "Requirement already satisfied: wheel<1.0,>=0.23.0 in ./opt/anaconda3/lib/python3.9/site-packages (from astunparse>=1.6.0->tensorflow>=2.0.0) (0.37.1)\n",
      "Requirement already satisfied: google-auth-oauthlib<0.5,>=0.4.1 in ./opt/anaconda3/lib/python3.9/site-packages (from tensorboard<2.10,>=2.9->tensorflow>=2.0.0) (0.4.6)\n",
      "Requirement already satisfied: markdown>=2.6.8 in ./opt/anaconda3/lib/python3.9/site-packages (from tensorboard<2.10,>=2.9->tensorflow>=2.0.0) (3.3.4)\n",
      "Requirement already satisfied: google-auth<3,>=1.6.3 in ./opt/anaconda3/lib/python3.9/site-packages (from tensorboard<2.10,>=2.9->tensorflow>=2.0.0) (1.33.0)\n",
      "Requirement already satisfied: tensorboard-data-server<0.7.0,>=0.6.0 in ./opt/anaconda3/lib/python3.9/site-packages (from tensorboard<2.10,>=2.9->tensorflow>=2.0.0) (0.6.1)\n",
      "Requirement already satisfied: werkzeug>=1.0.1 in ./opt/anaconda3/lib/python3.9/site-packages (from tensorboard<2.10,>=2.9->tensorflow>=2.0.0) (2.0.3)\n",
      "Requirement already satisfied: tensorboard-plugin-wit>=1.6.0 in ./opt/anaconda3/lib/python3.9/site-packages (from tensorboard<2.10,>=2.9->tensorflow>=2.0.0) (1.8.1)\n",
      "Requirement already satisfied: requests<3,>=2.21.0 in ./opt/anaconda3/lib/python3.9/site-packages (from tensorboard<2.10,>=2.9->tensorflow>=2.0.0) (2.27.1)\n",
      "Requirement already satisfied: pyparsing!=3.0.5,>=2.0.2 in ./opt/anaconda3/lib/python3.9/site-packages (from packaging->tensorflow>=2.0.0) (3.0.4)\n",
      "Requirement already satisfied: cachetools<5.0,>=2.0.0 in ./opt/anaconda3/lib/python3.9/site-packages (from google-auth<3,>=1.6.3->tensorboard<2.10,>=2.9->tensorflow>=2.0.0) (4.2.2)\n",
      "Requirement already satisfied: pyasn1-modules>=0.2.1 in ./opt/anaconda3/lib/python3.9/site-packages (from google-auth<3,>=1.6.3->tensorboard<2.10,>=2.9->tensorflow>=2.0.0) (0.2.8)\n",
      "Requirement already satisfied: rsa<5,>=3.1.4 in ./opt/anaconda3/lib/python3.9/site-packages (from google-auth<3,>=1.6.3->tensorboard<2.10,>=2.9->tensorflow>=2.0.0) (4.7.2)\n",
      "Requirement already satisfied: requests-oauthlib>=0.7.0 in ./opt/anaconda3/lib/python3.9/site-packages (from google-auth-oauthlib<0.5,>=0.4.1->tensorboard<2.10,>=2.9->tensorflow>=2.0.0) (1.3.1)\n",
      "Requirement already satisfied: certifi>=2017.4.17 in ./opt/anaconda3/lib/python3.9/site-packages (from requests<3,>=2.21.0->tensorboard<2.10,>=2.9->tensorflow>=2.0.0) (2022.5.18.1)\n",
      "Requirement already satisfied: urllib3<1.27,>=1.21.1 in ./opt/anaconda3/lib/python3.9/site-packages (from requests<3,>=2.21.0->tensorboard<2.10,>=2.9->tensorflow>=2.0.0) (1.26.9)\n",
      "Requirement already satisfied: charset-normalizer~=2.0.0 in ./opt/anaconda3/lib/python3.9/site-packages (from requests<3,>=2.21.0->tensorboard<2.10,>=2.9->tensorflow>=2.0.0) (2.0.4)\n",
      "Requirement already satisfied: idna<4,>=2.5 in ./opt/anaconda3/lib/python3.9/site-packages (from requests<3,>=2.21.0->tensorboard<2.10,>=2.9->tensorflow>=2.0.0) (3.3)\n",
      "Requirement already satisfied: pyasn1<0.5.0,>=0.4.6 in ./opt/anaconda3/lib/python3.9/site-packages (from pyasn1-modules>=0.2.1->google-auth<3,>=1.6.3->tensorboard<2.10,>=2.9->tensorflow>=2.0.0) (0.4.8)\n",
      "Requirement already satisfied: oauthlib>=3.0.0 in ./opt/anaconda3/lib/python3.9/site-packages (from requests-oauthlib>=0.7.0->google-auth-oauthlib<0.5,>=0.4.1->tensorboard<2.10,>=2.9->tensorflow>=2.0.0) (3.2.0)\n",
      "Requirement already satisfied: tensorflow-hub in ./opt/anaconda3/lib/python3.9/site-packages (0.12.0)\n",
      "Requirement already satisfied: numpy>=1.12.0 in ./opt/anaconda3/lib/python3.9/site-packages (from tensorflow-hub) (1.21.5)\n",
      "Requirement already satisfied: protobuf>=3.8.0 in ./opt/anaconda3/lib/python3.9/site-packages (from tensorflow-hub) (3.19.4)\n"
     ]
    }
   ],
   "source": [
    "!pip install \"tensorflow>=2.0.0\"\n",
    "!pip install --upgrade tensorflow-hub"
   ]
  },
  {
   "cell_type": "code",
   "execution_count": 3,
   "id": "d0b10af5",
   "metadata": {},
   "outputs": [
    {
     "name": "stderr",
     "output_type": "stream",
     "text": [
      "/Users/ankush.singal/opt/anaconda3/lib/python3.9/site-packages/seaborn/rcmod.py:82: DeprecationWarning: distutils Version classes are deprecated. Use packaging.version instead.\n",
      "  if LooseVersion(mpl.__version__) >= \"3.0\":\n",
      "/Users/ankush.singal/opt/anaconda3/lib/python3.9/site-packages/setuptools/_distutils/version.py:351: DeprecationWarning: distutils Version classes are deprecated. Use packaging.version instead.\n",
      "  other = LooseVersion(other)\n",
      "/Users/ankush.singal/opt/anaconda3/lib/python3.9/site-packages/gensim/matutils.py:24: DeprecationWarning: Please use `triu` from the `scipy.linalg` namespace, the `scipy.linalg.special_matrices` namespace is deprecated.\n",
      "  from scipy.linalg.special_matrices import triu\n",
      "/Users/ankush.singal/opt/anaconda3/lib/python3.9/site-packages/yellowbrick/style/colors.py:35: DeprecationWarning: distutils Version classes are deprecated. Use packaging.version instead.\n",
      "  mpl_ge_150 = LooseVersion(mpl.__version__) >= \"1.5.0\"\n",
      "/Users/ankush.singal/opt/anaconda3/lib/python3.9/site-packages/setuptools/_distutils/version.py:351: DeprecationWarning: distutils Version classes are deprecated. Use packaging.version instead.\n",
      "  other = LooseVersion(other)\n",
      "/Users/ankush.singal/opt/anaconda3/lib/python3.9/site-packages/yellowbrick/style/rcmod.py:31: DeprecationWarning: distutils Version classes are deprecated. Use packaging.version instead.\n",
      "  mpl_ge_150 = LooseVersion(mpl.__version__) >= \"1.5.0\"\n",
      "/Users/ankush.singal/opt/anaconda3/lib/python3.9/site-packages/setuptools/_distutils/version.py:351: DeprecationWarning: distutils Version classes are deprecated. Use packaging.version instead.\n",
      "  other = LooseVersion(other)\n",
      "/Users/ankush.singal/opt/anaconda3/lib/python3.9/site-packages/seaborn/rcmod.py:400: DeprecationWarning: distutils Version classes are deprecated. Use packaging.version instead.\n",
      "  if LooseVersion(mpl.__version__) >= \"3.0\":\n",
      "/Users/ankush.singal/opt/anaconda3/lib/python3.9/site-packages/setuptools/_distutils/version.py:351: DeprecationWarning: distutils Version classes are deprecated. Use packaging.version instead.\n",
      "  other = LooseVersion(other)\n",
      "[nltk_data] Downloading package wordnet to\n",
      "[nltk_data]     /Users/ankush.singal/nltk_data...\n",
      "[nltk_data]   Package wordnet is already up-to-date!\n",
      "[nltk_data] Downloading package stopwords to\n",
      "[nltk_data]     /Users/ankush.singal/nltk_data...\n",
      "[nltk_data]   Package stopwords is already up-to-date!\n",
      "[nltk_data] Downloading package punkt to\n",
      "[nltk_data]     /Users/ankush.singal/nltk_data...\n",
      "[nltk_data]   Package punkt is already up-to-date!\n",
      "[nltk_data] Downloading package omw-1.4 to\n",
      "[nltk_data]     /Users/ankush.singal/nltk_data...\n",
      "[nltk_data]   Package omw-1.4 is already up-to-date!\n",
      "/Users/ankush.singal/opt/anaconda3/lib/python3.9/site-packages/tensorflow_hub/__init__.py:74: DeprecationWarning: distutils Version classes are deprecated. Use packaging.version instead.\n",
      "  if (distutils.version.LooseVersion(tf.__version__) <\n",
      "/Users/ankush.singal/opt/anaconda3/lib/python3.9/site-packages/tensorflow_hub/__init__.py:75: DeprecationWarning: distutils Version classes are deprecated. Use packaging.version instead.\n",
      "  distutils.version.LooseVersion(required_tensorflow_version)):\n"
     ]
    }
   ],
   "source": [
    "import pandas as pd\n",
    "import numpy as np\n",
    "import unicodedata\n",
    "import re\n",
    "import contractions\n",
    "import string\n",
    "import distance\n",
    "\n",
    "#vis\n",
    "import pyLDAvis\n",
    "import pyLDAvis.gensim_models\n",
    "import matplotlib.pyplot as plt\n",
    "import seaborn as sns \n",
    "from tqdm import tnrange\n",
    "\n",
    "#Gensim\n",
    "import gensim\n",
    "import gensim.corpora as corpora\n",
    "from gensim.utils import simple_preprocess\n",
    "from gensim.models import CoherenceModel\n",
    "\n",
    "from sklearn.feature_extraction.text import TfidfVectorizer\n",
    "from sklearn.metrics.cluster import normalized_mutual_info_score\n",
    "\n",
    "from sklearn.cluster import KMeans\n",
    "from sklearn.decomposition import PCA\n",
    "from sklearn.cluster import KMeans\n",
    "from sklearn.metrics import silhouette_score\n",
    "from sklearn.cluster import AffinityPropagation\n",
    "\n",
    "from sklearn import preprocessing\n",
    "from yellowbrick.cluster import SilhouetteVisualizer\n",
    "from sklearn.metrics import adjusted_rand_score\n",
    "from sklearn.feature_extraction.text import CountVectorizer\n",
    "from sklearn.decomposition import LatentDirichletAllocation\n",
    "sns.set() \n",
    "\n",
    "#spacy\n",
    "import spacy\n",
    "import nltk\n",
    "nltk.download('wordnet')\n",
    "nltk.download('stopwords')\n",
    "nltk.download('punkt')\n",
    "nltk.download('omw-1.4')\n",
    "nlp = spacy.load(\"en_core_web_sm\")\n",
    "from nltk.corpus import stopwords \n",
    "from nltk.stem import WordNetLemmatizer \n",
    "# Init the Wordnet Lemmatizer\n",
    "lemmatizer = WordNetLemmatizer()\n",
    "import textwrap\n",
    "stops = set(stopwords.words('english'))\n",
    "\n",
    "#from bertopic import BERTopic\n",
    "import tensorflow as tf\n",
    "import tensorflow_hub as hub\n",
    "from sentence_transformers import SentenceTransformer"
   ]
  },
  {
   "cell_type": "code",
   "execution_count": 4,
   "id": "00469eba",
   "metadata": {},
   "outputs": [
    {
     "data": {
      "text/html": [
       "<div>\n",
       "<style scoped>\n",
       "    .dataframe tbody tr th:only-of-type {\n",
       "        vertical-align: middle;\n",
       "    }\n",
       "\n",
       "    .dataframe tbody tr th {\n",
       "        vertical-align: top;\n",
       "    }\n",
       "\n",
       "    .dataframe thead th {\n",
       "        text-align: right;\n",
       "    }\n",
       "</style>\n",
       "<table border=\"1\" class=\"dataframe\">\n",
       "  <thead>\n",
       "    <tr style=\"text-align: right;\">\n",
       "      <th></th>\n",
       "      <th>Case title</th>\n",
       "    </tr>\n",
       "  </thead>\n",
       "  <tbody>\n",
       "    <tr>\n",
       "      <th>0</th>\n",
       "      <td>genie</td>\n",
       "    </tr>\n",
       "    <tr>\n",
       "      <th>1</th>\n",
       "      <td>genie</td>\n",
       "    </tr>\n",
       "    <tr>\n",
       "      <th>2</th>\n",
       "      <td>jproperties library installation issue</td>\n",
       "    </tr>\n",
       "    <tr>\n",
       "      <th>3</th>\n",
       "      <td>Union with Null</td>\n",
       "    </tr>\n",
       "    <tr>\n",
       "      <th>4</th>\n",
       "      <td>Spark ReadStream fails to infer schema</td>\n",
       "    </tr>\n",
       "  </tbody>\n",
       "</table>\n",
       "</div>"
      ],
      "text/plain": [
       "                                Case title\n",
       "0                                    genie\n",
       "1                                    genie\n",
       "2  jproperties library installation issue \n",
       "3                          Union with Null\n",
       "4   Spark ReadStream fails to infer schema"
      ]
     },
     "execution_count": 4,
     "metadata": {},
     "output_type": "execute_result"
    }
   ],
   "source": [
    "df = pd.read_csv('Created_Cases - databricks.csv',usecols=[\"Case title\"])\n",
    "df.head()"
   ]
  },
  {
   "cell_type": "markdown",
   "id": "e014600d",
   "metadata": {},
   "source": [
    "# SAMPLING "
   ]
  },
  {
   "cell_type": "code",
   "execution_count": 5,
   "id": "4af44242",
   "metadata": {},
   "outputs": [],
   "source": [
    "data_sample = df.sample(1000, random_state=123)"
   ]
  },
  {
   "cell_type": "code",
   "execution_count": 6,
   "id": "a136e3f7",
   "metadata": {},
   "outputs": [
    {
     "data": {
      "text/html": [
       "<div>\n",
       "<style scoped>\n",
       "    .dataframe tbody tr th:only-of-type {\n",
       "        vertical-align: middle;\n",
       "    }\n",
       "\n",
       "    .dataframe tbody tr th {\n",
       "        vertical-align: top;\n",
       "    }\n",
       "\n",
       "    .dataframe thead th {\n",
       "        text-align: right;\n",
       "    }\n",
       "</style>\n",
       "<table border=\"1\" class=\"dataframe\">\n",
       "  <thead>\n",
       "    <tr style=\"text-align: right;\">\n",
       "      <th></th>\n",
       "      <th>Case title</th>\n",
       "    </tr>\n",
       "  </thead>\n",
       "  <tbody>\n",
       "    <tr>\n",
       "      <th>1129</th>\n",
       "      <td>2205130050001971 genie</td>\n",
       "    </tr>\n",
       "    <tr>\n",
       "      <th>7071</th>\n",
       "      <td>Have access to both DBFS in S3 and Glue Catalo...</td>\n",
       "    </tr>\n",
       "    <tr>\n",
       "      <th>7431</th>\n",
       "      <td>External Jars not uploading in databricks</td>\n",
       "    </tr>\n",
       "    <tr>\n",
       "      <th>6254</th>\n",
       "      <td>Streaming query Exception : exception thrown a...</td>\n",
       "    </tr>\n",
       "    <tr>\n",
       "      <th>2357</th>\n",
       "      <td>2204190030002027 - genie</td>\n",
       "    </tr>\n",
       "  </tbody>\n",
       "</table>\n",
       "</div>"
      ],
      "text/plain": [
       "                                             Case title\n",
       "1129                             2205130050001971 genie\n",
       "7071  Have access to both DBFS in S3 and Glue Catalo...\n",
       "7431          External Jars not uploading in databricks\n",
       "6254  Streaming query Exception : exception thrown a...\n",
       "2357                           2204190030002027 - genie"
      ]
     },
     "execution_count": 6,
     "metadata": {},
     "output_type": "execute_result"
    }
   ],
   "source": [
    "data_sample.head()\n"
   ]
  },
  {
   "cell_type": "code",
   "execution_count": 7,
   "id": "93eefa05",
   "metadata": {},
   "outputs": [],
   "source": [
    "all_intents = list(data_sample['Case title'])"
   ]
  },
  {
   "cell_type": "raw",
   "id": "a30e23be",
   "metadata": {},
   "source": [
    "A big challenge when trying to use LDA (and many other topic modeling algorithms) is deciding how many topics to actually use, which is a necessary model hyperparameter. Obviously, if that is what we’re hoping to get out of the analysis then this is a problem. Coherence is one way to assess the quality of the learned topics by measuring how similar the words are in each topic, and a higher coherence score is better. Gensim, a very popular library for topic modeling, makes it easy to calculate model coherence."
   ]
  },
  {
   "cell_type": "code",
   "execution_count": 8,
   "id": "0fadd03d",
   "metadata": {},
   "outputs": [
    {
     "name": "stderr",
     "output_type": "stream",
     "text": [
      "2022-07-15 20:38:22.871581: I tensorflow/core/platform/cpu_feature_guard.cc:193] This TensorFlow binary is optimized with oneAPI Deep Neural Network Library (oneDNN) to use the following CPU instructions in performance-critical operations:  AVX2 FMA\n",
      "To enable them in other operations, rebuild TensorFlow with the appropriate compiler flags.\n"
     ]
    },
    {
     "name": "stdout",
     "output_type": "stream",
     "text": [
      "embeddings_use\n",
      "embeddings_st1\n",
      "embeddings_st2\n",
      "embeddings_st3\n"
     ]
    }
   ],
   "source": [
    "# define the document embedding models to use for comparison\n",
    "module_url = \"https://tfhub.dev/google/universal-sentence-encoder/4\"\n",
    "model_use = hub.load(module_url)\n",
    "model_st1 = SentenceTransformer('all-mpnet-base-v2')\n",
    "model_st2 = SentenceTransformer('all-MiniLM-L6-v2')\n",
    "model_st3 = SentenceTransformer('paraphrase-mpnet-base-v2')\n",
    "\n",
    "\n",
    "\n",
    "def embed(model, model_type, sentences):\n",
    "  \n",
    "    if model_type == 'use':\n",
    "            embeddings = model(sentences)\n",
    "    elif model_type == 'sentence transformer':\n",
    "            embeddings = model.encode(sentences)\n",
    "    return embeddings\n",
    "\n",
    "# generate embeddings for each model\n",
    "embeddings_use = embed(model_use, 'use', all_intents)\n",
    "embeddings_st1 = embed(model_st1, 'sentence transformer', all_intents)\n",
    "embeddings_st2 = embed(model_st2, 'sentence transformer', all_intents)\n",
    "embeddings_st3 = embed(model_st3, 'sentence transformer', all_intents)\n",
    "\n",
    "embeddings = ['embeddings_use','embeddings_st1','embeddings_st2','embeddings_st3']\n",
    "for embedding in embeddings:\n",
    "    print(embedding)"
   ]
  },
  {
   "cell_type": "code",
   "execution_count": 9,
   "id": "e2b0df73",
   "metadata": {},
   "outputs": [
    {
     "data": {
      "text/plain": [
       "'embeddings_st3'"
      ]
     },
     "execution_count": 9,
     "metadata": {},
     "output_type": "execute_result"
    }
   ],
   "source": [
    "embedding"
   ]
  },
  {
   "cell_type": "markdown",
   "id": "eb2fabf4",
   "metadata": {},
   "source": [
    "# Dimensionality Reduction\n",
    "Uniform Manifold Approximation and Projection for Dimension Reduction (UMAP), introduced by McInnes et al in 2020, has quickly grown in popularity as a dimensionality reduction technique. UMAP is much faster and more scalable than t-SNE, while also preserving the global structure of the data much better. This makes it useful for both visualization and as a preprocessing dimensionality reduction step to use before clustering. We’ll use it here for both."
   ]
  },
  {
   "cell_type": "markdown",
   "id": "93a3ae14",
   "metadata": {},
   "source": [
    "# Selecting a clustering algorithm\n",
    "The Scikit-learn documentation has a helpful overview of the many different clustering algorithms it supports and when each performs best. For our current application, it is preferable to use an algorithm that does not require specifying the number of clusters upfront and can also tolerate noisy data. Density-based algorithms are a good option here as they do not require specifying the number of clusters and are indifferent to cluster shape. Hierarchical Density-Based Spatial Clustering of Applications with Noise (HDBSCAN) has become popular since it has fewer and more intuitive hyperparameters than DBSCAN and is robust to variable-density clusters. The HDBSCAN documentation provides a helpful comparison of different clustering algorithms. HDBSCAN worked best for the current problem, so we’ll focus on it for this post."
   ]
  },
  {
   "cell_type": "raw",
   "id": "cf9686cc",
   "metadata": {},
   "source": [
    "There are at least two packages (and likely many more) already available to chain UMAP and HDBSCAN together for the purposes of topic modeling: Top2Vec (github and paper) and BERTopic (github and article). However, the default hyperparameters used in both packages do not work well for problems like the current one with short text and a small corpus (most of the data ends up being classified as noise and only three clusters total are found). To make it easier to tailor to our current problem of intent extraction, we’ll instead directly use the UMAP and HDBSCAN packages for hyperparameter tuning.\n",
    "\n",
    "\n",
    "\n"
   ]
  },
  {
   "cell_type": "code",
   "execution_count": 10,
   "id": "14467600",
   "metadata": {},
   "outputs": [],
   "source": [
    "def generate_clusters(message_embeddings,\n",
    "                      n_neighbors,\n",
    "                      n_components, \n",
    "                      min_cluster_size,\n",
    "                      random_state = None):\n",
    "    \"\"\"\n",
    "    Generate HDBSCAN cluster object after reducing embedding dimensionality with UMAP\n",
    "    \"\"\"\n",
    "    \n",
    "    umap_embeddings = (umap.UMAP(n_neighbors=n_neighbors, \n",
    "                                n_components=n_components, \n",
    "                                metric='cosine', \n",
    "                                random_state=random_state)\n",
    "                            .fit_transform(message_embeddings))\n",
    "\n",
    "    clusters = hdbscan.HDBSCAN(min_cluster_size = min_cluster_size,\n",
    "                               metric='euclidean', \n",
    "                               cluster_selection_method='eom').fit(umap_embeddings)\n",
    "\n",
    "    return clusters\n"
   ]
  },
  {
   "cell_type": "code",
   "execution_count": null,
   "id": "e9467b3d",
   "metadata": {},
   "outputs": [],
   "source": []
  },
  {
   "cell_type": "markdown",
   "id": "e06384f6",
   "metadata": {},
   "source": [
    "# Defining the scoring function\n",
    "We now have a pipeline with three hyperparameters (n_neighbors, n_components, and min_cluster_size) that we want to tune. Next, we need to decide how to actually evaluate our clusters to select the best hyperparameters. Although commonly used with various clustering algorithms, Silhouette Score is not a good validation metric for density-based algorithms like DBSCAN and HDBSCAN since it assumes all points are assigned a group and can’t appropriately handle noise/outliers. Density Based Cluster Validation (DBCV) has been proposed and used by some for tuning HDBSCAN hyperparameters. While it likely works well for several applications, for this current problem it favored having a smaller number of clusters and leaving too many samples in the “noise” category.\n",
    "\n",
    "Instead, we’ll leverage the useful probabilities_ HDBSCAN attribute, which from the documentation is:\n",
    "\n",
    "The strength with which each sample is a member of its assigned cluster. Noise points have probability zero; points in clusters have values assigned proportional to the degree that they persist as part of the cluster.\n",
    "\n",
    "This article by Nikolay Oskolkov provides a very intuitive and logical solution of simply defining our cost function that we want to minimize as:\n",
    "\n",
    "Cost = percent of dataset with < 5% cluster label confidence"
   ]
  },
  {
   "cell_type": "code",
   "execution_count": 11,
   "id": "c1ac9ce3",
   "metadata": {},
   "outputs": [],
   "source": [
    "def score_clusters(clusters, prob_threshold = 0.05):\n",
    "    \"\"\"\n",
    "    Returns the label count and cost of a given cluster supplied from running hdbscan\n",
    "    \"\"\"\n",
    "    \n",
    "    cluster_labels = clusters.labels_\n",
    "    label_count = len(np.unique(cluster_labels))\n",
    "    total_num = len(clusters.labels_)\n",
    "    cost = (np.count_nonzero(clusters.probabilities_ < prob_threshold)/total_num)\n",
    "    \n",
    "    return label_count, cost"
   ]
  },
  {
   "cell_type": "code",
   "execution_count": 12,
   "id": "8c741b1a",
   "metadata": {},
   "outputs": [
    {
     "name": "stdout",
     "output_type": "stream",
     "text": [
      "huggingface/tokenizers: The current process just got forked, after parallelism has already been used. Disabling parallelism to avoid deadlocks...\n",
      "To disable this warning, you can either:\n",
      "\t- Avoid using `tokenizers` before the fork if possible\n",
      "\t- Explicitly set the environment variable TOKENIZERS_PARALLELISM=(true | false)\n",
      "Requirement already satisfied: tqdm in ./opt/anaconda3/lib/python3.9/site-packages (4.64.0)\n",
      "huggingface/tokenizers: The current process just got forked, after parallelism has already been used. Disabling parallelism to avoid deadlocks...\n",
      "To disable this warning, you can either:\n",
      "\t- Avoid using `tokenizers` before the fork if possible\n",
      "\t- Explicitly set the environment variable TOKENIZERS_PARALLELISM=(true | false)\n",
      "Requirement already satisfied: umap-learn in ./opt/anaconda3/lib/python3.9/site-packages (0.5.3)\n",
      "Requirement already satisfied: scipy>=1.0 in ./opt/anaconda3/lib/python3.9/site-packages (from umap-learn) (1.8.1)\n",
      "Requirement already satisfied: tqdm in ./opt/anaconda3/lib/python3.9/site-packages (from umap-learn) (4.64.0)\n",
      "Requirement already satisfied: numpy>=1.17 in ./opt/anaconda3/lib/python3.9/site-packages (from umap-learn) (1.21.5)\n",
      "Requirement already satisfied: numba>=0.49 in ./opt/anaconda3/lib/python3.9/site-packages (from umap-learn) (0.55.1)\n",
      "Requirement already satisfied: pynndescent>=0.5 in ./opt/anaconda3/lib/python3.9/site-packages (from umap-learn) (0.5.7)\n",
      "Requirement already satisfied: scikit-learn>=0.22 in ./opt/anaconda3/lib/python3.9/site-packages (from umap-learn) (1.0.2)\n",
      "Requirement already satisfied: setuptools in ./opt/anaconda3/lib/python3.9/site-packages (from numba>=0.49->umap-learn) (62.3.3)\n",
      "Requirement already satisfied: llvmlite<0.39,>=0.38.0rc1 in ./opt/anaconda3/lib/python3.9/site-packages (from numba>=0.49->umap-learn) (0.38.0)\n",
      "Requirement already satisfied: joblib>=0.11 in ./opt/anaconda3/lib/python3.9/site-packages (from pynndescent>=0.5->umap-learn) (1.1.0)\n",
      "Requirement already satisfied: threadpoolctl>=2.0.0 in ./opt/anaconda3/lib/python3.9/site-packages (from scikit-learn>=0.22->umap-learn) (2.2.0)\n",
      "huggingface/tokenizers: The current process just got forked, after parallelism has already been used. Disabling parallelism to avoid deadlocks...\n",
      "To disable this warning, you can either:\n",
      "\t- Avoid using `tokenizers` before the fork if possible\n",
      "\t- Explicitly set the environment variable TOKENIZERS_PARALLELISM=(true | false)\n",
      "Requirement already satisfied: hdbscan in ./opt/anaconda3/lib/python3.9/site-packages (0.8.28)\n",
      "Requirement already satisfied: cython>=0.27 in ./opt/anaconda3/lib/python3.9/site-packages (from hdbscan) (0.29.28)\n",
      "Requirement already satisfied: joblib>=1.0 in ./opt/anaconda3/lib/python3.9/site-packages (from hdbscan) (1.1.0)\n",
      "Requirement already satisfied: numpy>=1.20 in ./opt/anaconda3/lib/python3.9/site-packages (from hdbscan) (1.21.5)\n",
      "Requirement already satisfied: scipy>=1.0 in ./opt/anaconda3/lib/python3.9/site-packages (from hdbscan) (1.8.1)\n",
      "Requirement already satisfied: scikit-learn>=0.20 in ./opt/anaconda3/lib/python3.9/site-packages (from hdbscan) (1.0.2)\n",
      "Requirement already satisfied: threadpoolctl>=2.0.0 in ./opt/anaconda3/lib/python3.9/site-packages (from scikit-learn>=0.20->hdbscan) (2.2.0)\n"
     ]
    }
   ],
   "source": [
    "!pip install tqdm\n",
    "!pip install umap-learn\n",
    "!pip install hdbscan"
   ]
  },
  {
   "cell_type": "code",
   "execution_count": 13,
   "id": "1eab700b",
   "metadata": {},
   "outputs": [],
   "source": [
    "# importing modules\n",
    "import random\n",
    "from tqdm import trange\n",
    "from time import sleep\n",
    "import umap.umap_ as umap\n",
    "import hdbscan"
   ]
  },
  {
   "cell_type": "markdown",
   "id": "8fbcc5d2",
   "metadata": {},
   "source": [
    "# Random hyperparameter search\n",
    "With the current dataset size of only 1,000 samples, it still takes about 3 seconds to generate the clusters and score them for a given set of inputs. Attempting to do a full grid search of, for example, a 10 x 10 x 10 hyperparameter search space would take almost an hour. Larger dataset sizes would take even longer. I care about finding the right hyperparameters, but not that much. Performing a random search instead of a full grid search is a pretty effective alternative strategy:"
   ]
  },
  {
   "cell_type": "code",
   "execution_count": 14,
   "id": "32bb22bc",
   "metadata": {},
   "outputs": [],
   "source": [
    "def random_search(embeddings, space, num_evals):\n",
    "    \"\"\"\n",
    "    Randomly search hyperparameter space and limited number of times \n",
    "    and return a summary of the results\n",
    "    \"\"\"\n",
    "    \n",
    "    results = []\n",
    "    \n",
    "    for i in trange(num_evals):\n",
    "        n_neighbors = random.choice(space['n_neighbors'])\n",
    "        n_components = random.choice(space['n_components'])\n",
    "        min_cluster_size = random.choice(space['min_cluster_size'])\n",
    "        \n",
    "        clusters = generate_clusters(embeddings, \n",
    "                                     n_neighbors = n_neighbors, \n",
    "                                     n_components = n_components, \n",
    "                                     min_cluster_size = min_cluster_size, \n",
    "                                     random_state = 42)\n",
    "    \n",
    "        label_count, cost = score_clusters(clusters, prob_threshold = 0.05)\n",
    "                \n",
    "        results.append([i, n_neighbors, n_components, min_cluster_size, \n",
    "                        label_count, cost])\n",
    "    \n",
    "    result_df = pd.DataFrame(results, columns=['run_id', 'n_neighbors', 'n_components', \n",
    "                                               'min_cluster_size', 'label_count', 'cost'])\n",
    "    \n",
    "    return result_df.sort_values(by='cost')"
   ]
  },
  {
   "cell_type": "code",
   "execution_count": 15,
   "id": "bff1b183",
   "metadata": {},
   "outputs": [
    {
     "name": "stderr",
     "output_type": "stream",
     "text": [
      "100%|██████████| 100/100 [05:19<00:00,  3.20s/it]\n"
     ]
    }
   ],
   "source": [
    "space = {\n",
    "    \"n_neighbors\": range(12,16),\n",
    "    \"n_components\": range(3,7),\n",
    "    \"min_cluster_size\": range(12,16),\n",
    "    \"random_state\": 42\n",
    "}\n",
    "\n",
    "random_use = random_search(embeddings_use,space,100)"
   ]
  },
  {
   "cell_type": "code",
   "execution_count": 16,
   "id": "f53233a0",
   "metadata": {},
   "outputs": [
    {
     "data": {
      "text/html": [
       "<div>\n",
       "<style scoped>\n",
       "    .dataframe tbody tr th:only-of-type {\n",
       "        vertical-align: middle;\n",
       "    }\n",
       "\n",
       "    .dataframe tbody tr th {\n",
       "        vertical-align: top;\n",
       "    }\n",
       "\n",
       "    .dataframe thead th {\n",
       "        text-align: right;\n",
       "    }\n",
       "</style>\n",
       "<table border=\"1\" class=\"dataframe\">\n",
       "  <thead>\n",
       "    <tr style=\"text-align: right;\">\n",
       "      <th></th>\n",
       "      <th>run_id</th>\n",
       "      <th>n_neighbors</th>\n",
       "      <th>n_components</th>\n",
       "      <th>min_cluster_size</th>\n",
       "      <th>label_count</th>\n",
       "      <th>cost</th>\n",
       "    </tr>\n",
       "  </thead>\n",
       "  <tbody>\n",
       "    <tr>\n",
       "      <th>79</th>\n",
       "      <td>79</td>\n",
       "      <td>13</td>\n",
       "      <td>3</td>\n",
       "      <td>13</td>\n",
       "      <td>9</td>\n",
       "      <td>0.020</td>\n",
       "    </tr>\n",
       "    <tr>\n",
       "      <th>51</th>\n",
       "      <td>51</td>\n",
       "      <td>13</td>\n",
       "      <td>3</td>\n",
       "      <td>13</td>\n",
       "      <td>9</td>\n",
       "      <td>0.020</td>\n",
       "    </tr>\n",
       "    <tr>\n",
       "      <th>23</th>\n",
       "      <td>23</td>\n",
       "      <td>14</td>\n",
       "      <td>3</td>\n",
       "      <td>12</td>\n",
       "      <td>9</td>\n",
       "      <td>0.021</td>\n",
       "    </tr>\n",
       "    <tr>\n",
       "      <th>13</th>\n",
       "      <td>13</td>\n",
       "      <td>13</td>\n",
       "      <td>3</td>\n",
       "      <td>15</td>\n",
       "      <td>9</td>\n",
       "      <td>0.021</td>\n",
       "    </tr>\n",
       "    <tr>\n",
       "      <th>90</th>\n",
       "      <td>90</td>\n",
       "      <td>14</td>\n",
       "      <td>3</td>\n",
       "      <td>12</td>\n",
       "      <td>9</td>\n",
       "      <td>0.021</td>\n",
       "    </tr>\n",
       "    <tr>\n",
       "      <th>8</th>\n",
       "      <td>8</td>\n",
       "      <td>13</td>\n",
       "      <td>3</td>\n",
       "      <td>15</td>\n",
       "      <td>9</td>\n",
       "      <td>0.021</td>\n",
       "    </tr>\n",
       "    <tr>\n",
       "      <th>92</th>\n",
       "      <td>92</td>\n",
       "      <td>13</td>\n",
       "      <td>3</td>\n",
       "      <td>15</td>\n",
       "      <td>9</td>\n",
       "      <td>0.021</td>\n",
       "    </tr>\n",
       "    <tr>\n",
       "      <th>95</th>\n",
       "      <td>95</td>\n",
       "      <td>13</td>\n",
       "      <td>3</td>\n",
       "      <td>12</td>\n",
       "      <td>9</td>\n",
       "      <td>0.021</td>\n",
       "    </tr>\n",
       "    <tr>\n",
       "      <th>96</th>\n",
       "      <td>96</td>\n",
       "      <td>14</td>\n",
       "      <td>3</td>\n",
       "      <td>12</td>\n",
       "      <td>9</td>\n",
       "      <td>0.021</td>\n",
       "    </tr>\n",
       "    <tr>\n",
       "      <th>74</th>\n",
       "      <td>74</td>\n",
       "      <td>14</td>\n",
       "      <td>4</td>\n",
       "      <td>12</td>\n",
       "      <td>10</td>\n",
       "      <td>0.027</td>\n",
       "    </tr>\n",
       "    <tr>\n",
       "      <th>84</th>\n",
       "      <td>84</td>\n",
       "      <td>14</td>\n",
       "      <td>4</td>\n",
       "      <td>13</td>\n",
       "      <td>10</td>\n",
       "      <td>0.027</td>\n",
       "    </tr>\n",
       "    <tr>\n",
       "      <th>82</th>\n",
       "      <td>82</td>\n",
       "      <td>14</td>\n",
       "      <td>4</td>\n",
       "      <td>15</td>\n",
       "      <td>10</td>\n",
       "      <td>0.028</td>\n",
       "    </tr>\n",
       "    <tr>\n",
       "      <th>9</th>\n",
       "      <td>9</td>\n",
       "      <td>15</td>\n",
       "      <td>6</td>\n",
       "      <td>12</td>\n",
       "      <td>10</td>\n",
       "      <td>0.028</td>\n",
       "    </tr>\n",
       "    <tr>\n",
       "      <th>35</th>\n",
       "      <td>35</td>\n",
       "      <td>15</td>\n",
       "      <td>6</td>\n",
       "      <td>12</td>\n",
       "      <td>10</td>\n",
       "      <td>0.028</td>\n",
       "    </tr>\n",
       "    <tr>\n",
       "      <th>55</th>\n",
       "      <td>55</td>\n",
       "      <td>15</td>\n",
       "      <td>6</td>\n",
       "      <td>12</td>\n",
       "      <td>10</td>\n",
       "      <td>0.028</td>\n",
       "    </tr>\n",
       "    <tr>\n",
       "      <th>27</th>\n",
       "      <td>27</td>\n",
       "      <td>14</td>\n",
       "      <td>4</td>\n",
       "      <td>15</td>\n",
       "      <td>10</td>\n",
       "      <td>0.028</td>\n",
       "    </tr>\n",
       "    <tr>\n",
       "      <th>52</th>\n",
       "      <td>52</td>\n",
       "      <td>15</td>\n",
       "      <td>3</td>\n",
       "      <td>12</td>\n",
       "      <td>10</td>\n",
       "      <td>0.030</td>\n",
       "    </tr>\n",
       "    <tr>\n",
       "      <th>60</th>\n",
       "      <td>60</td>\n",
       "      <td>15</td>\n",
       "      <td>4</td>\n",
       "      <td>12</td>\n",
       "      <td>10</td>\n",
       "      <td>0.031</td>\n",
       "    </tr>\n",
       "    <tr>\n",
       "      <th>54</th>\n",
       "      <td>54</td>\n",
       "      <td>15</td>\n",
       "      <td>4</td>\n",
       "      <td>12</td>\n",
       "      <td>10</td>\n",
       "      <td>0.031</td>\n",
       "    </tr>\n",
       "    <tr>\n",
       "      <th>89</th>\n",
       "      <td>89</td>\n",
       "      <td>15</td>\n",
       "      <td>3</td>\n",
       "      <td>14</td>\n",
       "      <td>10</td>\n",
       "      <td>0.032</td>\n",
       "    </tr>\n",
       "    <tr>\n",
       "      <th>63</th>\n",
       "      <td>63</td>\n",
       "      <td>15</td>\n",
       "      <td>6</td>\n",
       "      <td>13</td>\n",
       "      <td>10</td>\n",
       "      <td>0.033</td>\n",
       "    </tr>\n",
       "    <tr>\n",
       "      <th>71</th>\n",
       "      <td>71</td>\n",
       "      <td>15</td>\n",
       "      <td>6</td>\n",
       "      <td>13</td>\n",
       "      <td>10</td>\n",
       "      <td>0.033</td>\n",
       "    </tr>\n",
       "    <tr>\n",
       "      <th>68</th>\n",
       "      <td>68</td>\n",
       "      <td>14</td>\n",
       "      <td>6</td>\n",
       "      <td>12</td>\n",
       "      <td>10</td>\n",
       "      <td>0.035</td>\n",
       "    </tr>\n",
       "    <tr>\n",
       "      <th>65</th>\n",
       "      <td>65</td>\n",
       "      <td>14</td>\n",
       "      <td>6</td>\n",
       "      <td>13</td>\n",
       "      <td>10</td>\n",
       "      <td>0.035</td>\n",
       "    </tr>\n",
       "    <tr>\n",
       "      <th>43</th>\n",
       "      <td>43</td>\n",
       "      <td>14</td>\n",
       "      <td>6</td>\n",
       "      <td>12</td>\n",
       "      <td>10</td>\n",
       "      <td>0.035</td>\n",
       "    </tr>\n",
       "  </tbody>\n",
       "</table>\n",
       "</div>"
      ],
      "text/plain": [
       "    run_id  n_neighbors  n_components  min_cluster_size  label_count   cost\n",
       "79      79           13             3                13            9  0.020\n",
       "51      51           13             3                13            9  0.020\n",
       "23      23           14             3                12            9  0.021\n",
       "13      13           13             3                15            9  0.021\n",
       "90      90           14             3                12            9  0.021\n",
       "8        8           13             3                15            9  0.021\n",
       "92      92           13             3                15            9  0.021\n",
       "95      95           13             3                12            9  0.021\n",
       "96      96           14             3                12            9  0.021\n",
       "74      74           14             4                12           10  0.027\n",
       "84      84           14             4                13           10  0.027\n",
       "82      82           14             4                15           10  0.028\n",
       "9        9           15             6                12           10  0.028\n",
       "35      35           15             6                12           10  0.028\n",
       "55      55           15             6                12           10  0.028\n",
       "27      27           14             4                15           10  0.028\n",
       "52      52           15             3                12           10  0.030\n",
       "60      60           15             4                12           10  0.031\n",
       "54      54           15             4                12           10  0.031\n",
       "89      89           15             3                14           10  0.032\n",
       "63      63           15             6                13           10  0.033\n",
       "71      71           15             6                13           10  0.033\n",
       "68      68           14             6                12           10  0.035\n",
       "65      65           14             6                13           10  0.035\n",
       "43      43           14             6                12           10  0.035"
      ]
     },
     "execution_count": 16,
     "metadata": {},
     "output_type": "execute_result"
    }
   ],
   "source": [
    "random_use.head(25)"
   ]
  },
  {
   "cell_type": "raw",
   "id": "29fb5f63",
   "metadata": {},
   "source": [
    "We see that the runs with the lowest cost also have less than 10 clusters total. The first entry with a number of clusters between 30 and 100 has 59 clusters and a cost of 0.140 (i.e. about 14% of the data was labeled as outliers or low confidence)."
   ]
  },
  {
   "cell_type": "markdown",
   "id": "6c1b6a48",
   "metadata": {},
   "source": [
    "# Bayesian Hyperopt\n",
    "ach have their pros and cons. Grid search is slow but effective at searching the whole search space, while random search is fast, but could miss important points in the search space. Luckily, a third option exists: Bayesian optimization. In this post, we will focus on one implementation of Bayesian optimization, a Python module called hyperopt.\n",
    "\n",
    "Bayesian optimization allow the data scientist to find the best parameters for all models, and therefore compare the best models. This results in better model selection, because you are comparing the best k nearest neighbors to the best decision tree. Only in this way can you do model selection with high confidence, assured that the actual best model is selected and used.\n",
    "\n",
    "The optimization constraints are included within the objective function by adding a penalty term if the number of clusters falls outside of the desired range:"
   ]
  },
  {
   "cell_type": "code",
   "execution_count": 17,
   "id": "2ac3bb7e",
   "metadata": {},
   "outputs": [
    {
     "name": "stdout",
     "output_type": "stream",
     "text": [
      "huggingface/tokenizers: The current process just got forked, after parallelism has already been used. Disabling parallelism to avoid deadlocks...\n",
      "To disable this warning, you can either:\n",
      "\t- Avoid using `tokenizers` before the fork if possible\n",
      "\t- Explicitly set the environment variable TOKENIZERS_PARALLELISM=(true | false)\n",
      "Requirement already satisfied: hyperopt in ./opt/anaconda3/lib/python3.9/site-packages (0.2.7)\n",
      "Requirement already satisfied: tqdm in ./opt/anaconda3/lib/python3.9/site-packages (from hyperopt) (4.64.0)\n",
      "Requirement already satisfied: six in ./opt/anaconda3/lib/python3.9/site-packages (from hyperopt) (1.16.0)\n",
      "Requirement already satisfied: scipy in ./opt/anaconda3/lib/python3.9/site-packages (from hyperopt) (1.8.1)\n",
      "Requirement already satisfied: py4j in ./opt/anaconda3/lib/python3.9/site-packages (from hyperopt) (0.10.9.5)\n",
      "Requirement already satisfied: future in ./opt/anaconda3/lib/python3.9/site-packages (from hyperopt) (0.18.2)\n",
      "Requirement already satisfied: numpy in ./opt/anaconda3/lib/python3.9/site-packages (from hyperopt) (1.21.5)\n",
      "Requirement already satisfied: cloudpickle in ./opt/anaconda3/lib/python3.9/site-packages (from hyperopt) (2.0.0)\n",
      "Requirement already satisfied: networkx>=2.2 in ./opt/anaconda3/lib/python3.9/site-packages (from hyperopt) (2.8.3)\n"
     ]
    }
   ],
   "source": [
    "!pip install hyperopt"
   ]
  },
  {
   "cell_type": "code",
   "execution_count": 18,
   "id": "250e98b4",
   "metadata": {},
   "outputs": [],
   "source": [
    "from hyperopt import fmin, tpe, hp,Trials,partial,STATUS_OK,space_eval\n",
    "from functools import partial"
   ]
  },
  {
   "cell_type": "code",
   "execution_count": 19,
   "id": "c4c24f0d",
   "metadata": {},
   "outputs": [],
   "source": [
    "def objective(params, embeddings, label_lower, label_upper):\n",
    "    \"\"\"\n",
    "    Objective function for hyperopt to minimize, which incorporates constraints\n",
    "    on the number of clusters we want to identify\n",
    "    \"\"\"\n",
    "    \n",
    "    clusters = generate_clusters(embeddings, \n",
    "                                 n_neighbors = params['n_neighbors'], \n",
    "                                 n_components = params['n_components'], \n",
    "                                 min_cluster_size = params['min_cluster_size'],\n",
    "                                 random_state = params['random_state'])\n",
    "    \n",
    "    label_count, cost = score_clusters(clusters, prob_threshold = 0.05)\n",
    "    \n",
    "    #15% penalty on the cost function if outside the desired range of groups\n",
    "    if (label_count < label_lower) | (label_count > label_upper):\n",
    "        penalty = 0.15 \n",
    "    else:\n",
    "        penalty = 0\n",
    "    \n",
    "    loss = cost + penalty\n",
    "    \n",
    "    return {'loss': loss, 'label_count': label_count, 'status': STATUS_OK}"
   ]
  },
  {
   "cell_type": "raw",
   "id": "248c1ec2",
   "metadata": {},
   "source": [
    "Then minimize the objective function over the hyperparameter search space using the Tree-structured Parzen Estimator (TPE) algorithm:"
   ]
  },
  {
   "cell_type": "code",
   "execution_count": 20,
   "id": "16cc94c8",
   "metadata": {},
   "outputs": [],
   "source": [
    "def bayesian_search(embeddings, space, label_lower, label_upper, max_evals=100):\n",
    "    \"\"\"\n",
    "    Perform bayseian search on hyperopt hyperparameter space to minimize objective function\n",
    "    \"\"\"\n",
    "    \n",
    "    trials = Trials()\n",
    "    fmin_objective = partial(objective, embeddings=embeddings, label_lower=label_lower, label_upper=label_upper)\n",
    "    best = fmin(fmin_objective, \n",
    "                space = space, \n",
    "                algo=tpe.suggest,\n",
    "                max_evals=max_evals, \n",
    "                trials=trials)\n",
    "\n",
    "    best_params = space_eval(space, best)\n",
    "    print ('best:')\n",
    "    print (best_params)\n",
    "    print (f\"label count: {trials.best_trial['result']['label_count']}\")\n",
    "    \n",
    "    best_clusters = generate_clusters(embeddings, \n",
    "                                      n_neighbors = best_params['n_neighbors'], \n",
    "                                      n_components = best_params['n_components'], \n",
    "                                      min_cluster_size = best_params['min_cluster_size'],\n",
    "                                      random_state = best_params['random_state'])\n",
    "    \n",
    "    return best_params, best_clusters, trials"
   ]
  },
  {
   "cell_type": "code",
   "execution_count": 21,
   "id": "071bf2fe",
   "metadata": {},
   "outputs": [],
   "source": [
    "hspace = {\n",
    "    \"n_neighbors\": hp.choice('n_neighbors',range(3,16)),\n",
    "    \"n_components\": hp.choice('n_components',range(3,16)),\n",
    "    \"min_cluster_size\": hp.choice('min_cluster_size',range(2,16)),\n",
    "    \"random_state\": 42\n",
    "}\n",
    "\n",
    "label_lower = 30\n",
    "label_upper = 100\n",
    "max_evals=100                                  \n",
    "                                  \n",
    "                                  \n",
    "                                  \n",
    "                                  "
   ]
  },
  {
   "cell_type": "code",
   "execution_count": 22,
   "id": "12cb1ed1",
   "metadata": {},
   "outputs": [
    {
     "name": "stdout",
     "output_type": "stream",
     "text": [
      "100%|██████████| 100/100 [04:50<00:00,  2.91s/trial, best loss: 0.062]\n",
      "best:\n",
      "{'min_cluster_size': 3, 'n_components': 5, 'n_neighbors': 3, 'random_state': 42}\n",
      "label count: 88\n"
     ]
    }
   ],
   "source": [
    "best_params_use,best_clusters_use,trial_use = bayesian_search(embeddings_use,space=hspace,label_lower=label_lower,label_upper = 100,max_evals=100 )"
   ]
  },
  {
   "cell_type": "code",
   "execution_count": 23,
   "id": "88e5a499",
   "metadata": {},
   "outputs": [
    {
     "data": {
      "text/plain": [
       "{'state': 2,\n",
       " 'tid': 68,\n",
       " 'spec': None,\n",
       " 'result': {'loss': 0.062, 'label_count': 88, 'status': 'ok'},\n",
       " 'misc': {'tid': 68,\n",
       "  'cmd': ('domain_attachment', 'FMinIter_Domain'),\n",
       "  'workdir': None,\n",
       "  'idxs': {'min_cluster_size': [68],\n",
       "   'n_components': [68],\n",
       "   'n_neighbors': [68]},\n",
       "  'vals': {'min_cluster_size': [1], 'n_components': [2], 'n_neighbors': [0]}},\n",
       " 'exp_key': None,\n",
       " 'owner': None,\n",
       " 'version': 0,\n",
       " 'book_time': datetime.datetime(2022, 7, 15, 15, 19, 7, 983000),\n",
       " 'refresh_time': datetime.datetime(2022, 7, 15, 15, 19, 10, 233000)}"
      ]
     },
     "execution_count": 23,
     "metadata": {},
     "output_type": "execute_result"
    }
   ],
   "source": [
    "trial_use.best_trial"
   ]
  },
  {
   "cell_type": "code",
   "execution_count": 24,
   "id": "29fed9a8",
   "metadata": {},
   "outputs": [
    {
     "name": "stdout",
     "output_type": "stream",
     "text": [
      "100%|██████████| 100/100 [05:06<00:00,  3.07s/trial, best loss: 0.132]\n",
      "best:\n",
      "{'min_cluster_size': 4, 'n_components': 12, 'n_neighbors': 3, 'random_state': 42}\n",
      "label count: 74\n"
     ]
    }
   ],
   "source": [
    "best_params_st1,best_clusters_st1,best_trial_st1 = bayesian_search(embeddings_st1,space=hspace,label_lower=label_lower,label_upper = 100,max_evals=100 )"
   ]
  },
  {
   "cell_type": "code",
   "execution_count": 25,
   "id": "620aca0d",
   "metadata": {},
   "outputs": [
    {
     "name": "stdout",
     "output_type": "stream",
     "text": [
      "100%|██████████| 100/100 [04:35<00:00,  2.75s/trial, best loss: 0.112]\n",
      "best:\n",
      "{'min_cluster_size': 3, 'n_components': 12, 'n_neighbors': 3, 'random_state': 42}\n",
      "label count: 100\n"
     ]
    }
   ],
   "source": [
    "best_params_st2,best_clusters_st2,best_trial_st2 = bayesian_search(embeddings_st2,space=hspace,label_lower=label_lower,label_upper = 100,max_evals=100 )"
   ]
  },
  {
   "cell_type": "code",
   "execution_count": 26,
   "id": "a8f0795d",
   "metadata": {},
   "outputs": [
    {
     "name": "stdout",
     "output_type": "stream",
     "text": [
      "100%|██████████| 100/100 [05:07<00:00,  3.08s/trial, best loss: 0.088]             \n",
      "best:\n",
      "{'min_cluster_size': 3, 'n_components': 9, 'n_neighbors': 3, 'random_state': 42}\n",
      "label count: 93\n"
     ]
    }
   ],
   "source": [
    "best_params_st3,best_clusters_st3,best_trial_st3 = bayesian_search(embeddings_st3,space=hspace,label_lower=label_lower,label_upper = 100,max_evals=100 )"
   ]
  },
  {
   "cell_type": "code",
   "execution_count": 27,
   "id": "a522bed5",
   "metadata": {},
   "outputs": [],
   "source": [
    "from functools import partial"
   ]
  },
  {
   "cell_type": "code",
   "execution_count": 28,
   "id": "4efa58b9",
   "metadata": {},
   "outputs": [],
   "source": [
    "def combine_results(df_ground, cluster_dict):\n",
    "    \"\"\"\n",
    "    Returns dataframe of all documents and each model's assigned cluster\n",
    "\n",
    "    Arguments:\n",
    "        df_ground: dataframe of original documents with associated ground truth\n",
    "                   labels\n",
    "        cluster_dict: dict, keys as column name for specific model and value as\n",
    "                      best clusters HDBSCAN object\n",
    "\n",
    "    Returns:\n",
    "        df_combined: dataframe of all documents with labels from\n",
    "                     best clusters for each model\n",
    "\n",
    "    \"\"\"\n",
    "\n",
    "    df_combined = df_ground.copy()\n",
    "    \n",
    "    for key, value in cluster_dict.items():\n",
    "        df_combined[key] = value.labels_\n",
    "    \n",
    "    return df_combined"
   ]
  },
  {
   "cell_type": "code",
   "execution_count": 29,
   "id": "3c314a10",
   "metadata": {},
   "outputs": [],
   "source": [
    "def summarize_results(results_dict, results_df):\n",
    "    \"\"\"\n",
    "    Returns a table summarizing each model's performance compared to ground\n",
    "    truth labels and the model's hyperparametes\n",
    "\n",
    "    Arguments:\n",
    "        results_dict: dict, key is the model name and value is a list of: \n",
    "                      model column name in combine_results output, best_params and best_clusters \n",
    "                      for each model (e.g. ['label_use', best_params_use, trials_use])\n",
    "        results_df: dataframe output of combine_results function; dataframe of all documents \n",
    "                    with labels from best clusters for each model\n",
    "\n",
    "    Returns:\n",
    "        df_final: dataframe with each row including a model name, calculated ARI and NMI,\n",
    "                  loss, label count, and hyperparameters of best model\n",
    "\n",
    "    \"\"\"\n",
    "    \n",
    "    summary = []\n",
    "\n",
    "    for key, value in results_dict.items():\n",
    "        ground_label = results_df['Case title'].values\n",
    "        predicted_label = results_df[value[0]].values\n",
    "        \n",
    "        ari = np.round(adjusted_rand_score(ground_label, predicted_label), 3)\n",
    "        nmi = np.round(normalized_mutual_info_score(ground_label, predicted_label), 3)\n",
    "        loss = value[2].best_trial['result']['loss']\n",
    "        label_count = value[2].best_trial['result']['label_count']\n",
    "        n_neighbors = value[1]['n_neighbors']\n",
    "        n_components = value[1]['n_components']\n",
    "        min_cluster_size = value[1]['min_cluster_size']\n",
    "        random_state = value[1]['random_state']\n",
    "        \n",
    "        summary.append([key, ari, nmi, loss, label_count, n_neighbors, n_components, \n",
    "                        min_cluster_size, random_state])\n",
    "\n",
    "    df_final = pd.DataFrame(summary, columns=['Model', 'ARI', 'NMI', 'loss', \n",
    "                                              'label_count', 'n_neighbors',\n",
    "                                              'n_components', 'min_cluster_size',\n",
    "                                              'random_state'])\n",
    "    \n",
    "    return df_final.sort_values(by='NMI', ascending=False)"
   ]
  },
  {
   "cell_type": "code",
   "execution_count": 30,
   "id": "2f67cca6",
   "metadata": {},
   "outputs": [],
   "source": [
    "def plot_clusters(embeddings, clusters, n_neighbors=15, min_dist=0.1):\n",
    "    \"\"\"\n",
    "    Reduce dimensionality of best clusters and plot in 2D\n",
    "\n",
    "    Arguments:\n",
    "        embeddings: embeddings to use\n",
    "        clusteres: HDBSCAN object of clusters\n",
    "        n_neighbors: float, UMAP hyperparameter n_neighbors\n",
    "        min_dist: float, UMAP hyperparameter min_dist for effective\n",
    "                  minimum distance between embedded points\n",
    "\n",
    "    \"\"\"\n",
    "    umap_data = umap.UMAP(n_neighbors=n_neighbors, \n",
    "                          n_components=2, \n",
    "                          min_dist = min_dist,  \n",
    "                          #metric='cosine',\n",
    "                          random_state=42).fit_transform(embeddings)\n",
    "\n",
    "    point_size = 100.0 / np.sqrt(embeddings.shape[0])\n",
    "    \n",
    "    result = pd.DataFrame(umap_data, columns=['x', 'y'])\n",
    "    result['labels'] = clusters.labels_\n",
    "\n",
    "    fig, ax = plt.subplots(figsize=(14, 8))\n",
    "    outliers = result[result.labels == -1]\n",
    "    clustered = result[result.labels != -1]\n",
    "    plt.scatter(outliers.x, outliers.y, color = 'lightgrey', s=point_size)\n",
    "    plt.scatter(clustered.x, clustered.y, c=clustered.labels, s=point_size, cmap='jet')\n",
    "    plt.colorbar()\n",
    "    plt.show()"
   ]
  },
  {
   "cell_type": "code",
   "execution_count": null,
   "id": "30d0b559",
   "metadata": {},
   "outputs": [],
   "source": []
  },
  {
   "cell_type": "code",
   "execution_count": null,
   "id": "4c9a315a",
   "metadata": {},
   "outputs": [],
   "source": []
  },
  {
   "cell_type": "code",
   "execution_count": null,
   "id": "34867f2a",
   "metadata": {},
   "outputs": [],
   "source": []
  },
  {
   "cell_type": "markdown",
   "id": "731a1fe3",
   "metadata": {},
   "source": [
    "# Evaluate clusters\n",
    "Visually inspect clusters"
   ]
  },
  {
   "cell_type": "code",
   "execution_count": 31,
   "id": "7f838c8f",
   "metadata": {},
   "outputs": [
    {
     "name": "stderr",
     "output_type": "stream",
     "text": [
      "/var/folders/7q/zq0k80m94v5408fgfvkddv880000gp/T/ipykernel_15583/229250936.py:29: MatplotlibDeprecationWarning: Auto-removal of grids by pcolor() and pcolormesh() is deprecated since 3.5 and will be removed two minor releases later; please call grid(False) first.\n",
      "  plt.colorbar()\n"
     ]
    },
    {
     "data": {
      "image/png": "[encoded data removed]",
      "text/plain": [
       "<Figure size 1008x576 with 2 Axes>"
      ]
     },
     "metadata": {},
     "output_type": "display_data"
    }
   ],
   "source": [
    "plot_clusters(embeddings_use, best_clusters_use)"
   ]
  },
  {
   "cell_type": "code",
   "execution_count": 32,
   "id": "d8770196",
   "metadata": {},
   "outputs": [
    {
     "name": "stderr",
     "output_type": "stream",
     "text": [
      "/var/folders/7q/zq0k80m94v5408fgfvkddv880000gp/T/ipykernel_15583/229250936.py:29: MatplotlibDeprecationWarning: Auto-removal of grids by pcolor() and pcolormesh() is deprecated since 3.5 and will be removed two minor releases later; please call grid(False) first.\n",
      "  plt.colorbar()\n"
     ]
    },
    {
     "data": {
      "image/png": "[encoded data removed]",
      "text/plain": [
       "<Figure size 1008x576 with 2 Axes>"
      ]
     },
     "metadata": {},
     "output_type": "display_data"
    }
   ],
   "source": [
    "plot_clusters(embeddings_st1, best_clusters_st1)"
   ]
  },
  {
   "cell_type": "code",
   "execution_count": 33,
   "id": "820b0955",
   "metadata": {},
   "outputs": [
    {
     "name": "stderr",
     "output_type": "stream",
     "text": [
      "/var/folders/7q/zq0k80m94v5408fgfvkddv880000gp/T/ipykernel_15583/229250936.py:29: MatplotlibDeprecationWarning: Auto-removal of grids by pcolor() and pcolormesh() is deprecated since 3.5 and will be removed two minor releases later; please call grid(False) first.\n",
      "  plt.colorbar()\n"
     ]
    },
    {
     "data": {
      "image/png": "[encoded data removed]",
      "text/plain": [
       "<Figure size 1008x576 with 2 Axes>"
      ]
     },
     "metadata": {},
     "output_type": "display_data"
    }
   ],
   "source": [
    "plot_clusters(embeddings_st2, best_clusters_st2)"
   ]
  },
  {
   "cell_type": "code",
   "execution_count": 34,
   "id": "35e36234",
   "metadata": {},
   "outputs": [
    {
     "name": "stderr",
     "output_type": "stream",
     "text": [
      "/var/folders/7q/zq0k80m94v5408fgfvkddv880000gp/T/ipykernel_15583/229250936.py:29: MatplotlibDeprecationWarning: Auto-removal of grids by pcolor() and pcolormesh() is deprecated since 3.5 and will be removed two minor releases later; please call grid(False) first.\n",
      "  plt.colorbar()\n"
     ]
    },
    {
     "data": {
      "image/png": "[encoded data removed]",
      "text/plain": [
       "<Figure size 1008x576 with 2 Axes>"
      ]
     },
     "metadata": {},
     "output_type": "display_data"
    }
   ],
   "source": [
    "plot_clusters(embeddings_st3, best_clusters_st3)"
   ]
  },
  {
   "cell_type": "markdown",
   "id": "6188216e",
   "metadata": {},
   "source": [
    "# Compare clustering performance using ground truth labels"
   ]
  },
  {
   "cell_type": "code",
   "execution_count": 35,
   "id": "d14f1b3c",
   "metadata": {},
   "outputs": [
    {
     "data": {
      "text/html": [
       "<div>\n",
       "<style scoped>\n",
       "    .dataframe tbody tr th:only-of-type {\n",
       "        vertical-align: middle;\n",
       "    }\n",
       "\n",
       "    .dataframe tbody tr th {\n",
       "        vertical-align: top;\n",
       "    }\n",
       "\n",
       "    .dataframe thead th {\n",
       "        text-align: right;\n",
       "    }\n",
       "</style>\n",
       "<table border=\"1\" class=\"dataframe\">\n",
       "  <thead>\n",
       "    <tr style=\"text-align: right;\">\n",
       "      <th></th>\n",
       "      <th>Case title</th>\n",
       "      <th>label_use</th>\n",
       "      <th>label_st1</th>\n",
       "      <th>label_st2</th>\n",
       "      <th>label_st3</th>\n",
       "    </tr>\n",
       "  </thead>\n",
       "  <tbody>\n",
       "    <tr>\n",
       "      <th>1129</th>\n",
       "      <td>2205130050001971 genie</td>\n",
       "      <td>16</td>\n",
       "      <td>9</td>\n",
       "      <td>16</td>\n",
       "      <td>14</td>\n",
       "    </tr>\n",
       "    <tr>\n",
       "      <th>7071</th>\n",
       "      <td>Have access to both DBFS in S3 and Glue Catalo...</td>\n",
       "      <td>32</td>\n",
       "      <td>17</td>\n",
       "      <td>31</td>\n",
       "      <td>42</td>\n",
       "    </tr>\n",
       "    <tr>\n",
       "      <th>7431</th>\n",
       "      <td>External Jars not uploading in databricks</td>\n",
       "      <td>48</td>\n",
       "      <td>36</td>\n",
       "      <td>94</td>\n",
       "      <td>-1</td>\n",
       "    </tr>\n",
       "    <tr>\n",
       "      <th>6254</th>\n",
       "      <td>Streaming query Exception : exception thrown a...</td>\n",
       "      <td>14</td>\n",
       "      <td>31</td>\n",
       "      <td>18</td>\n",
       "      <td>53</td>\n",
       "    </tr>\n",
       "    <tr>\n",
       "      <th>2357</th>\n",
       "      <td>2204190030002027 - genie</td>\n",
       "      <td>1</td>\n",
       "      <td>5</td>\n",
       "      <td>16</td>\n",
       "      <td>15</td>\n",
       "    </tr>\n",
       "  </tbody>\n",
       "</table>\n",
       "</div>"
      ],
      "text/plain": [
       "                                             Case title  label_use  label_st1  \\\n",
       "1129                             2205130050001971 genie         16          9   \n",
       "7071  Have access to both DBFS in S3 and Glue Catalo...         32         17   \n",
       "7431          External Jars not uploading in databricks         48         36   \n",
       "6254  Streaming query Exception : exception thrown a...         14         31   \n",
       "2357                           2204190030002027 - genie          1          5   \n",
       "\n",
       "      label_st2  label_st3  \n",
       "1129         16         14  \n",
       "7071         31         42  \n",
       "7431         94         -1  \n",
       "6254         18         53  \n",
       "2357         16         15  "
      ]
     },
     "execution_count": 35,
     "metadata": {},
     "output_type": "execute_result"
    }
   ],
   "source": [
    "cluster_dict = {'label_use': best_clusters_use,\n",
    "                'label_st1': best_clusters_st1, \n",
    "                'label_st2': best_clusters_st2,\n",
    "                'label_st3': best_clusters_st3}\n",
    "\n",
    "results_df = combine_results(data_sample[['Case title']], cluster_dict)\n",
    "    \n",
    "results_df.head()"
   ]
  },
  {
   "cell_type": "code",
   "execution_count": 36,
   "id": "54e0041d",
   "metadata": {},
   "outputs": [
    {
     "data": {
      "text/html": [
       "<div>\n",
       "<style scoped>\n",
       "    .dataframe tbody tr th:only-of-type {\n",
       "        vertical-align: middle;\n",
       "    }\n",
       "\n",
       "    .dataframe tbody tr th {\n",
       "        vertical-align: top;\n",
       "    }\n",
       "\n",
       "    .dataframe thead th {\n",
       "        text-align: right;\n",
       "    }\n",
       "</style>\n",
       "<table border=\"1\" class=\"dataframe\">\n",
       "  <thead>\n",
       "    <tr style=\"text-align: right;\">\n",
       "      <th></th>\n",
       "      <th>Model</th>\n",
       "      <th>ARI</th>\n",
       "      <th>NMI</th>\n",
       "      <th>loss</th>\n",
       "      <th>label_count</th>\n",
       "      <th>n_neighbors</th>\n",
       "      <th>n_components</th>\n",
       "      <th>min_cluster_size</th>\n",
       "      <th>random_state</th>\n",
       "    </tr>\n",
       "  </thead>\n",
       "  <tbody>\n",
       "    <tr>\n",
       "      <th>0</th>\n",
       "      <td>USE</td>\n",
       "      <td>0.242</td>\n",
       "      <td>0.784</td>\n",
       "      <td>0.062</td>\n",
       "      <td>88</td>\n",
       "      <td>3</td>\n",
       "      <td>5</td>\n",
       "      <td>3</td>\n",
       "      <td>42</td>\n",
       "    </tr>\n",
       "    <tr>\n",
       "      <th>3</th>\n",
       "      <td>all-distilroberta-v1</td>\n",
       "      <td>0.140</td>\n",
       "      <td>0.778</td>\n",
       "      <td>0.088</td>\n",
       "      <td>93</td>\n",
       "      <td>3</td>\n",
       "      <td>9</td>\n",
       "      <td>3</td>\n",
       "      <td>42</td>\n",
       "    </tr>\n",
       "    <tr>\n",
       "      <th>2</th>\n",
       "      <td>all-MiniLM-L6-v2</td>\n",
       "      <td>0.119</td>\n",
       "      <td>0.776</td>\n",
       "      <td>0.112</td>\n",
       "      <td>100</td>\n",
       "      <td>3</td>\n",
       "      <td>12</td>\n",
       "      <td>3</td>\n",
       "      <td>42</td>\n",
       "    </tr>\n",
       "    <tr>\n",
       "      <th>1</th>\n",
       "      <td>all-mpnet-base-v2</td>\n",
       "      <td>0.156</td>\n",
       "      <td>0.744</td>\n",
       "      <td>0.132</td>\n",
       "      <td>74</td>\n",
       "      <td>3</td>\n",
       "      <td>12</td>\n",
       "      <td>4</td>\n",
       "      <td>42</td>\n",
       "    </tr>\n",
       "  </tbody>\n",
       "</table>\n",
       "</div>"
      ],
      "text/plain": [
       "                  Model    ARI    NMI   loss  label_count  n_neighbors  \\\n",
       "0                   USE  0.242  0.784  0.062           88            3   \n",
       "3  all-distilroberta-v1  0.140  0.778  0.088           93            3   \n",
       "2      all-MiniLM-L6-v2  0.119  0.776  0.112          100            3   \n",
       "1     all-mpnet-base-v2  0.156  0.744  0.132           74            3   \n",
       "\n",
       "   n_components  min_cluster_size  random_state  \n",
       "0             5                 3            42  \n",
       "3             9                 3            42  \n",
       "2            12                 3            42  \n",
       "1            12                 4            42  "
      ]
     },
     "execution_count": 36,
     "metadata": {},
     "output_type": "execute_result"
    }
   ],
   "source": [
    "model_dict = {'USE': ['label_use', best_params_use, trial_use],\n",
    "              'all-mpnet-base-v2': ['label_st1', best_params_st1, best_trial_st1],\n",
    "              'all-MiniLM-L6-v2': ['label_st2', best_params_st2, best_trial_st2],\n",
    "              'all-distilroberta-v1': ['label_st3', best_params_st3, best_trial_st3]\n",
    "               }\n",
    "\n",
    "summarize_results(model_dict, results_df)"
   ]
  },
  {
   "cell_type": "markdown",
   "id": "f82ecaa0",
   "metadata": {},
   "source": [
    "# Save cluster results"
   ]
  },
  {
   "cell_type": "code",
   "execution_count": 37,
   "id": "bd8caec8",
   "metadata": {},
   "outputs": [],
   "source": [
    "results_df.to_csv('sample_clustered.csv')"
   ]
  },
  {
   "cell_type": "markdown",
   "id": "2f20791e",
   "metadata": {},
   "source": [
    "# Applying to the full dataset \n",
    "Demonstrate the same approach as above on the full  dataset. Several of the steps end up taking a bit longer to run on a dataset this size."
   ]
  },
  {
   "cell_type": "code",
   "execution_count": 38,
   "id": "72e621ef",
   "metadata": {},
   "outputs": [
    {
     "data": {
      "text/html": [
       "<div>\n",
       "<style scoped>\n",
       "    .dataframe tbody tr th:only-of-type {\n",
       "        vertical-align: middle;\n",
       "    }\n",
       "\n",
       "    .dataframe tbody tr th {\n",
       "        vertical-align: top;\n",
       "    }\n",
       "\n",
       "    .dataframe thead th {\n",
       "        text-align: right;\n",
       "    }\n",
       "</style>\n",
       "<table border=\"1\" class=\"dataframe\">\n",
       "  <thead>\n",
       "    <tr style=\"text-align: right;\">\n",
       "      <th></th>\n",
       "      <th>Case title</th>\n",
       "    </tr>\n",
       "  </thead>\n",
       "  <tbody>\n",
       "    <tr>\n",
       "      <th>0</th>\n",
       "      <td>genie</td>\n",
       "    </tr>\n",
       "    <tr>\n",
       "      <th>1</th>\n",
       "      <td>genie</td>\n",
       "    </tr>\n",
       "    <tr>\n",
       "      <th>2</th>\n",
       "      <td>jproperties library installation issue</td>\n",
       "    </tr>\n",
       "    <tr>\n",
       "      <th>3</th>\n",
       "      <td>Union with Null</td>\n",
       "    </tr>\n",
       "    <tr>\n",
       "      <th>4</th>\n",
       "      <td>Spark ReadStream fails to infer schema</td>\n",
       "    </tr>\n",
       "  </tbody>\n",
       "</table>\n",
       "</div>"
      ],
      "text/plain": [
       "                                Case title\n",
       "0                                    genie\n",
       "1                                    genie\n",
       "2  jproperties library installation issue \n",
       "3                          Union with Null\n",
       "4   Spark ReadStream fails to infer schema"
      ]
     },
     "execution_count": 38,
     "metadata": {},
     "output_type": "execute_result"
    }
   ],
   "source": [
    "df.head()"
   ]
  },
  {
   "cell_type": "code",
   "execution_count": 39,
   "id": "b01b9684",
   "metadata": {},
   "outputs": [
    {
     "data": {
      "text/plain": [
       "7609"
      ]
     },
     "execution_count": 39,
     "metadata": {},
     "output_type": "execute_result"
    }
   ],
   "source": [
    "all_intents_full = list(df['Case title'])\n",
    "len(all_intents_full)"
   ]
  },
  {
   "cell_type": "code",
   "execution_count": 40,
   "id": "ebe5b6ca",
   "metadata": {},
   "outputs": [],
   "source": [
    "embeddings_use_10k= embed(model_use, 'use', all_intents_full)\n",
    "embeddings_st1_10k = embed(model_st1, 'sentence transformer', all_intents_full)\n",
    "embeddings_st2_10k = embed(model_st2, 'sentence transformer', all_intents_full)\n",
    "embeddings_st3_10k = embed(model_st3, 'sentence transformer', all_intents_full)"
   ]
  },
  {
   "cell_type": "code",
   "execution_count": 41,
   "id": "6e0a1fc6",
   "metadata": {},
   "outputs": [],
   "source": [
    "hspace = {\n",
    "    \"n_neighbors\": hp.choice('n_neighbors', range(3,16)),\n",
    "    \"n_components\": hp.choice('n_components', range(3,16)),\n",
    "    \"min_cluster_size\": hp.choice('min_cluster_size', range(2,16)),\n",
    "    \"random_state\": 42\n",
    "}\n",
    "\n",
    "label_lower = 30\n",
    "label_upper = 100\n",
    "max_evals = 100"
   ]
  },
  {
   "cell_type": "code",
   "execution_count": 42,
   "id": "c3d4da28",
   "metadata": {},
   "outputs": [
    {
     "name": "stdout",
     "output_type": "stream",
     "text": [
      "100%|██████████| 100/100 [23:27<00:00, 14.07s/trial, best loss: 0.1971349717439874]\n",
      "best:\n",
      "{'min_cluster_size': 15, 'n_components': 11, 'n_neighbors': 8, 'random_state': 42}\n",
      "label count: 77\n"
     ]
    }
   ],
   "source": [
    "best_params_use, best_clusters_use, trials_use = bayesian_search(embeddings_use_10k, \n",
    "                                                                 space=hspace, \n",
    "                                                                 label_lower=label_lower, \n",
    "                                                                 label_upper=label_upper, \n",
    "                                                                 max_evals=max_evals)"
   ]
  },
  {
   "cell_type": "markdown",
   "id": "8459a4f5",
   "metadata": {},
   "source": [
    "The fact that the cost function is still so high for the best model is a helpful indication that we need to modify the ranges used for the hyperparameters.\n",
    "\n"
   ]
  },
  {
   "cell_type": "code",
   "execution_count": 43,
   "id": "4ea5abf1",
   "metadata": {},
   "outputs": [],
   "source": [
    "hspace = {\n",
    "    \"n_neighbors\": hp.choice('n_neighbors', range(3,16)),\n",
    "    \"n_components\": hp.choice('n_components', range(10,20)),\n",
    "    \"min_cluster_size\": hp.choice('min_cluster_size', range(16,36)),\n",
    "    \"random_state\": 42\n",
    "}\n",
    "\n",
    "label_lower = 30\n",
    "label_upper = 100\n",
    "max_evals = 100"
   ]
  },
  {
   "cell_type": "code",
   "execution_count": 44,
   "id": "f984f454",
   "metadata": {},
   "outputs": [
    {
     "name": "stdout",
     "output_type": "stream",
     "text": [
      "100%|██████████| 100/100 [26:23<00:00, 15.84s/trial, best loss: 0.16756472598238928]\n",
      "best:\n",
      "{'min_cluster_size': 27, 'n_components': 15, 'n_neighbors': 5, 'random_state': 42}\n",
      "label count: 45\n"
     ]
    }
   ],
   "source": [
    "best_params_use, best_clusters_use, trials_use = bayesian_search(embeddings_use_10k, \n",
    "                                                                 space=hspace, \n",
    "                                                                 label_lower=label_lower, \n",
    "                                                                 label_upper=label_upper, \n",
    "                                                                 max_evals=max_evals)"
   ]
  },
  {
   "cell_type": "code",
   "execution_count": 45,
   "id": "07d4cd52",
   "metadata": {},
   "outputs": [
    {
     "name": "stdout",
     "output_type": "stream",
     "text": [
      "100%|██████████| 100/100 [26:52<00:00, 16.12s/trial, best loss: 0.15744513076619793]\n",
      "best:\n",
      "{'min_cluster_size': 24, 'n_components': 18, 'n_neighbors': 3, 'random_state': 42}\n",
      "label count: 66\n"
     ]
    }
   ],
   "source": [
    "best_params_st1, best_clusters_st1, trials_st1 = bayesian_search(embeddings_st1_10k, \n",
    "                                                                 space=hspace, \n",
    "                                                                 label_lower=label_lower, \n",
    "                                                                 label_upper=label_upper, \n",
    "                                                                 max_evals=max_evals)"
   ]
  },
  {
   "cell_type": "code",
   "execution_count": 46,
   "id": "b277e38c",
   "metadata": {},
   "outputs": [
    {
     "name": "stdout",
     "output_type": "stream",
     "text": [
      " 46%|████▌     | 46/100 [12:09<15:04, 16.75s/trial, best loss: 0.1720791168353266] "
     ]
    },
    {
     "name": "stderr",
     "output_type": "stream",
     "text": [
      "/Users/ankush.singal/opt/anaconda3/lib/python3.9/site-packages/umap/spectral.py:260: UserWarning: WARNING: spectral initialisation failed! The eigenvector solver\n",
      "failed. This is likely due to too small an eigengap. Consider\n",
      "adding some noise or jitter to your data.\n",
      "\n",
      "Falling back to random initialisation!\n",
      "  warn(\n",
      "\n"
     ]
    },
    {
     "name": "stdout",
     "output_type": "stream",
     "text": [
      "100%|██████████| 100/100 [25:23<00:00, 15.24s/trial, best loss: 0.16677618609541334]\n",
      "best:\n",
      "{'min_cluster_size': 30, 'n_components': 14, 'n_neighbors': 5, 'random_state': 42}\n",
      "label count: 44\n"
     ]
    }
   ],
   "source": [
    "best_params_st2, best_clusters_st2, trials_st2 = bayesian_search(embeddings_st2_10k, \n",
    "                                                                 space=hspace, \n",
    "                                                                 label_lower=label_lower, \n",
    "                                                                 label_upper=label_upper, \n",
    "                                                                 max_evals=max_evals)"
   ]
  },
  {
   "cell_type": "code",
   "execution_count": 47,
   "id": "b0873437",
   "metadata": {},
   "outputs": [
    {
     "name": "stdout",
     "output_type": "stream",
     "text": [
      "100%|██████████| 100/100 [30:54<00:00, 18.54s/trial, best loss: 0.15762255224076752]\n",
      "best:\n",
      "{'min_cluster_size': 23, 'n_components': 18, 'n_neighbors': 11, 'random_state': 42}\n",
      "label count: 24\n"
     ]
    }
   ],
   "source": [
    "best_params_st3, best_clusters_st3, trials_st3 = bayesian_search(embeddings_st3_10k, \n",
    "                                                                 space=hspace, \n",
    "                                                                 label_lower=label_lower, \n",
    "                                                                 label_upper=label_upper, \n",
    "                                                                 max_evals=max_evals)"
   ]
  },
  {
   "cell_type": "code",
   "execution_count": 48,
   "id": "00fa83d5",
   "metadata": {},
   "outputs": [
    {
     "data": {
      "text/html": [
       "<div>\n",
       "<style scoped>\n",
       "    .dataframe tbody tr th:only-of-type {\n",
       "        vertical-align: middle;\n",
       "    }\n",
       "\n",
       "    .dataframe tbody tr th {\n",
       "        vertical-align: top;\n",
       "    }\n",
       "\n",
       "    .dataframe thead th {\n",
       "        text-align: right;\n",
       "    }\n",
       "</style>\n",
       "<table border=\"1\" class=\"dataframe\">\n",
       "  <thead>\n",
       "    <tr style=\"text-align: right;\">\n",
       "      <th></th>\n",
       "      <th>Model</th>\n",
       "      <th>ARI</th>\n",
       "      <th>NMI</th>\n",
       "      <th>loss</th>\n",
       "      <th>label_count</th>\n",
       "      <th>n_neighbors</th>\n",
       "      <th>n_components</th>\n",
       "      <th>min_cluster_size</th>\n",
       "      <th>random_state</th>\n",
       "    </tr>\n",
       "  </thead>\n",
       "  <tbody>\n",
       "    <tr>\n",
       "      <th>1</th>\n",
       "      <td>all-mpnet-base-v2</td>\n",
       "      <td>0.022</td>\n",
       "      <td>0.581</td>\n",
       "      <td>0.157445</td>\n",
       "      <td>66</td>\n",
       "      <td>3</td>\n",
       "      <td>18</td>\n",
       "      <td>24</td>\n",
       "      <td>42</td>\n",
       "    </tr>\n",
       "    <tr>\n",
       "      <th>2</th>\n",
       "      <td>all-MiniLM-L6-v2</td>\n",
       "      <td>0.073</td>\n",
       "      <td>0.563</td>\n",
       "      <td>0.166776</td>\n",
       "      <td>44</td>\n",
       "      <td>5</td>\n",
       "      <td>14</td>\n",
       "      <td>30</td>\n",
       "      <td>42</td>\n",
       "    </tr>\n",
       "    <tr>\n",
       "      <th>0</th>\n",
       "      <td>USE</td>\n",
       "      <td>0.058</td>\n",
       "      <td>0.541</td>\n",
       "      <td>0.167565</td>\n",
       "      <td>45</td>\n",
       "      <td>5</td>\n",
       "      <td>15</td>\n",
       "      <td>27</td>\n",
       "      <td>42</td>\n",
       "    </tr>\n",
       "    <tr>\n",
       "      <th>3</th>\n",
       "      <td>all-distilroberta-v1</td>\n",
       "      <td>0.005</td>\n",
       "      <td>0.279</td>\n",
       "      <td>0.157623</td>\n",
       "      <td>24</td>\n",
       "      <td>11</td>\n",
       "      <td>18</td>\n",
       "      <td>23</td>\n",
       "      <td>42</td>\n",
       "    </tr>\n",
       "  </tbody>\n",
       "</table>\n",
       "</div>"
      ],
      "text/plain": [
       "                  Model    ARI    NMI      loss  label_count  n_neighbors  \\\n",
       "1     all-mpnet-base-v2  0.022  0.581  0.157445           66            3   \n",
       "2      all-MiniLM-L6-v2  0.073  0.563  0.166776           44            5   \n",
       "0                   USE  0.058  0.541  0.167565           45            5   \n",
       "3  all-distilroberta-v1  0.005  0.279  0.157623           24           11   \n",
       "\n",
       "   n_components  min_cluster_size  random_state  \n",
       "1            18                24            42  \n",
       "2            14                30            42  \n",
       "0            15                27            42  \n",
       "3            18                23            42  "
      ]
     },
     "execution_count": 48,
     "metadata": {},
     "output_type": "execute_result"
    }
   ],
   "source": [
    "cluster_dict = {'label_use': best_clusters_use,\n",
    "                'label_st1': best_clusters_st1, \n",
    "                'label_st2': best_clusters_st2,\n",
    "                'label_st3': best_clusters_st3}\n",
    "\n",
    "results_df = combine_results(df[['Case title']], cluster_dict)\n",
    "    \n",
    "model_dict = {'USE': ['label_use', best_params_use, trials_use],\n",
    "              'all-mpnet-base-v2': ['label_st1', best_params_st1, trials_st1],\n",
    "              'all-MiniLM-L6-v2': ['label_st2', best_params_st2, trials_st2],\n",
    "              'all-distilroberta-v1': ['label_st3', best_params_st3, trials_st3]\n",
    "               }\n",
    "\n",
    "summarize_results(model_dict, results_df)"
   ]
  },
  {
   "cell_type": "code",
   "execution_count": null,
   "id": "2fa25a25",
   "metadata": {},
   "outputs": [],
   "source": []
  }
 ],
 "metadata": {
  "kernelspec": {
   "display_name": "Python 3 (ipykernel)",
   "language": "python",
   "name": "python3"
  },
  "language_info": {
   "codemirror_mode": {
    "name": "ipython",
    "version": 3
   },
   "file_extension": ".py",
   "mimetype": "text/x-python",
   "name": "python",
   "nbconvert_exporter": "python",
   "pygments_lexer": "ipython3",
   "version": "3.7.13"
  }
 },
 "nbformat": 4,
 "nbformat_minor": 5
}

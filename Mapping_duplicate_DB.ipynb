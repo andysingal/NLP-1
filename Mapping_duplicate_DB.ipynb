{
 "cells": [
  {
   "cell_type": "code",
   "execution_count": 1,
   "id": "82da2a12",
   "metadata": {},
   "outputs": [],
   "source": [
    "#!pip install wordcloud"
   ]
  },
  {
   "cell_type": "code",
   "execution_count": 2,
   "id": "cecd4c9a",
   "metadata": {},
   "outputs": [
    {
     "name": "stderr",
     "output_type": "stream",
     "text": [
      "/Users/ankush.singal/opt/anaconda3/lib/python3.9/site-packages/seaborn/rcmod.py:82: DeprecationWarning: distutils Version classes are deprecated. Use packaging.version instead.\n",
      "  if LooseVersion(mpl.__version__) >= \"3.0\":\n",
      "/Users/ankush.singal/opt/anaconda3/lib/python3.9/site-packages/setuptools/_distutils/version.py:351: DeprecationWarning: distutils Version classes are deprecated. Use packaging.version instead.\n",
      "  other = LooseVersion(other)\n",
      "/Users/ankush.singal/opt/anaconda3/lib/python3.9/site-packages/gensim/matutils.py:22: DeprecationWarning: Please use `triu` from the `scipy.linalg` namespace, the `scipy.linalg.special_matrices` namespace is deprecated.\n",
      "  from scipy.linalg.special_matrices import triu\n",
      "/Users/ankush.singal/opt/anaconda3/lib/python3.9/site-packages/seaborn/rcmod.py:400: DeprecationWarning: distutils Version classes are deprecated. Use packaging.version instead.\n",
      "  if LooseVersion(mpl.__version__) >= \"3.0\":\n",
      "/Users/ankush.singal/opt/anaconda3/lib/python3.9/site-packages/setuptools/_distutils/version.py:351: DeprecationWarning: distutils Version classes are deprecated. Use packaging.version instead.\n",
      "  other = LooseVersion(other)\n",
      "[nltk_data] Downloading package stopwords to\n",
      "[nltk_data]     /Users/ankush.singal/nltk_data...\n",
      "[nltk_data]   Package stopwords is already up-to-date!\n",
      "[nltk_data] Downloading package punkt to\n",
      "[nltk_data]     /Users/ankush.singal/nltk_data...\n",
      "[nltk_data]   Package punkt is already up-to-date!\n",
      "[nltk_data] Downloading package wordnet to\n",
      "[nltk_data]     /Users/ankush.singal/nltk_data...\n",
      "[nltk_data]   Package wordnet is already up-to-date!\n"
     ]
    }
   ],
   "source": [
    "import pandas as pd\n",
    "import unicodedata\n",
    "import re\n",
    "import contractions\n",
    "import string\n",
    "\n",
    "#vis\n",
    "import pyLDAvis\n",
    "import pyLDAvis.gensim_models\n",
    "import matplotlib.pyplot as plt\n",
    "import seaborn as sns \n",
    "import datetime\n",
    "\n",
    "#Gensim\n",
    "import gensim\n",
    "import gensim.corpora as corpora\n",
    "from gensim.utils import simple_preprocess\n",
    "from gensim.models import CoherenceModel\n",
    "\n",
    "from sklearn.feature_extraction.text import TfidfVectorizer\n",
    "from sklearn.cluster import KMeans\n",
    "from sklearn.decomposition import PCA\n",
    "from sklearn.cluster import KMeans\n",
    "from sklearn.metrics import adjusted_rand_score\n",
    "from sklearn.feature_extraction.text import CountVectorizer\n",
    "from sklearn.decomposition import LatentDirichletAllocation\n",
    "\n",
    "from sklearn.preprocessing import normalize\n",
    "from sklearn.metrics import pairwise_distances\n",
    "from nltk.tokenize import word_tokenize\n",
    "from nltk.stem.porter import PorterStemmer\n",
    "from nltk.corpus import stopwords\n",
    "from bs4 import BeautifulSoup\n",
    "from scipy.stats import multivariate_normal as mvn\n",
    "import nltk\n",
    "import os\n",
    "import random\n",
    "sns.set() \n",
    "\n",
    "#spacy\n",
    "import spacy\n",
    "import nltk\n",
    "nltk.download('stopwords')\n",
    "nltk.download('punkt')\n",
    "nlp = spacy.load(\"en_core_web_sm\")\n",
    "nltk.download('wordnet')\n",
    "from nltk.corpus import stopwords \n",
    "import textwrap\n",
    "stops = stopwords.words('english')\n",
    "stops += ['use', 'using', 'used', 'part']\n",
    "from wordcloud import WordCloud\n",
    "\n"
   ]
  },
  {
   "cell_type": "code",
   "execution_count": 3,
   "id": "f06c9a13",
   "metadata": {},
   "outputs": [
    {
     "data": {
      "text/html": [
       "<div>\n",
       "<style scoped>\n",
       "    .dataframe tbody tr th:only-of-type {\n",
       "        vertical-align: middle;\n",
       "    }\n",
       "\n",
       "    .dataframe tbody tr th {\n",
       "        vertical-align: top;\n",
       "    }\n",
       "\n",
       "    .dataframe thead th {\n",
       "        text-align: right;\n",
       "    }\n",
       "</style>\n",
       "<table border=\"1\" class=\"dataframe\">\n",
       "  <thead>\n",
       "    <tr style=\"text-align: right;\">\n",
       "      <th></th>\n",
       "      <th>Case_title</th>\n",
       "      <th>Session_Id</th>\n",
       "      <th>Email_Id</th>\n",
       "      <th>Date_Time</th>\n",
       "    </tr>\n",
       "  </thead>\n",
       "  <tbody>\n",
       "    <tr>\n",
       "      <th>0</th>\n",
       "      <td>genie</td>\n",
       "      <td>1654038670643245</td>\n",
       "      <td>NaN</td>\n",
       "      <td>2022-05-31T23:58:12.000Z</td>\n",
       "    </tr>\n",
       "    <tr>\n",
       "      <th>1</th>\n",
       "      <td>genie</td>\n",
       "      <td>1654040144291671</td>\n",
       "      <td>NaN</td>\n",
       "      <td>2022-05-31T23:38:03.000Z</td>\n",
       "    </tr>\n",
       "    <tr>\n",
       "      <th>2</th>\n",
       "      <td>jproperties library installation issue</td>\n",
       "      <td>1654038759243102</td>\n",
       "      <td>NaN</td>\n",
       "      <td>2022-05-31T23:30:57.000Z</td>\n",
       "    </tr>\n",
       "    <tr>\n",
       "      <th>3</th>\n",
       "      <td>Union with Null</td>\n",
       "      <td>1654032363233406</td>\n",
       "      <td>NaN</td>\n",
       "      <td>2022-05-31T21:31:24.000Z</td>\n",
       "    </tr>\n",
       "    <tr>\n",
       "      <th>4</th>\n",
       "      <td>Spark ReadStream fails to infer schema</td>\n",
       "      <td>1654030825979675</td>\n",
       "      <td>NaN</td>\n",
       "      <td>2022-05-31T21:27:16.000Z</td>\n",
       "    </tr>\n",
       "  </tbody>\n",
       "</table>\n",
       "</div>"
      ],
      "text/plain": [
       "                                Case_title        Session_Id Email_Id  \\\n",
       "0                                    genie  1654038670643245      NaN   \n",
       "1                                    genie  1654040144291671      NaN   \n",
       "2  jproperties library installation issue   1654038759243102      NaN   \n",
       "3                          Union with Null  1654032363233406      NaN   \n",
       "4   Spark ReadStream fails to infer schema  1654030825979675      NaN   \n",
       "\n",
       "                  Date_Time  \n",
       "0  2022-05-31T23:58:12.000Z  \n",
       "1  2022-05-31T23:38:03.000Z  \n",
       "2  2022-05-31T23:30:57.000Z  \n",
       "3  2022-05-31T21:31:24.000Z  \n",
       "4  2022-05-31T21:27:16.000Z  "
      ]
     },
     "execution_count": 3,
     "metadata": {},
     "output_type": "execute_result"
    }
   ],
   "source": [
    "def load_data():   #load the data \n",
    "    df_all = pd.read_csv('Created_Cases - databricks.csv')\n",
    "    # Take a subset\n",
    "    return df_all.loc[:, [\"Case title\",\"Session Id\",\"Email Id\",\"Date Time\"]]\n",
    "data = load_data()\n",
    "data.rename(\n",
    "    columns=({ 'Case title': 'Case_title', 'Session Id': 'Session_Id','Date Time':'Date_Time','Email Id':'Email_Id'}), \n",
    "    inplace=True\n",
    ")\n",
    "data.head()"
   ]
  },
  {
   "cell_type": "markdown",
   "id": "31323cc9",
   "metadata": {},
   "source": [
    "# Use the Email module to extract raw text"
   ]
  },
  {
   "cell_type": "code",
   "execution_count": 4,
   "id": "830c4773",
   "metadata": {},
   "outputs": [
    {
     "data": {
      "text/html": [
       "<div>\n",
       "<style scoped>\n",
       "    .dataframe tbody tr th:only-of-type {\n",
       "        vertical-align: middle;\n",
       "    }\n",
       "\n",
       "    .dataframe tbody tr th {\n",
       "        vertical-align: top;\n",
       "    }\n",
       "\n",
       "    .dataframe thead th {\n",
       "        text-align: right;\n",
       "    }\n",
       "</style>\n",
       "<table border=\"1\" class=\"dataframe\">\n",
       "  <thead>\n",
       "    <tr style=\"text-align: right;\">\n",
       "      <th></th>\n",
       "      <th>Case_title</th>\n",
       "      <th>Session_Id</th>\n",
       "      <th>Email_Id</th>\n",
       "      <th>Date_Time</th>\n",
       "      <th>User</th>\n",
       "    </tr>\n",
       "  </thead>\n",
       "  <tbody>\n",
       "    <tr>\n",
       "      <th>0</th>\n",
       "      <td>genie</td>\n",
       "      <td>1654038670643245</td>\n",
       "      <td>NaN</td>\n",
       "      <td>2022-05-31T23:58:12.000Z</td>\n",
       "      <td>NaN</td>\n",
       "    </tr>\n",
       "    <tr>\n",
       "      <th>1</th>\n",
       "      <td>genie</td>\n",
       "      <td>1654040144291671</td>\n",
       "      <td>NaN</td>\n",
       "      <td>2022-05-31T23:38:03.000Z</td>\n",
       "      <td>NaN</td>\n",
       "    </tr>\n",
       "    <tr>\n",
       "      <th>2</th>\n",
       "      <td>jproperties library installation issue</td>\n",
       "      <td>1654038759243102</td>\n",
       "      <td>NaN</td>\n",
       "      <td>2022-05-31T23:30:57.000Z</td>\n",
       "      <td>NaN</td>\n",
       "    </tr>\n",
       "    <tr>\n",
       "      <th>3</th>\n",
       "      <td>Union with Null</td>\n",
       "      <td>1654032363233406</td>\n",
       "      <td>NaN</td>\n",
       "      <td>2022-05-31T21:31:24.000Z</td>\n",
       "      <td>NaN</td>\n",
       "    </tr>\n",
       "    <tr>\n",
       "      <th>4</th>\n",
       "      <td>Spark ReadStream fails to infer schema</td>\n",
       "      <td>1654030825979675</td>\n",
       "      <td>NaN</td>\n",
       "      <td>2022-05-31T21:27:16.000Z</td>\n",
       "      <td>NaN</td>\n",
       "    </tr>\n",
       "  </tbody>\n",
       "</table>\n",
       "</div>"
      ],
      "text/plain": [
       "                                Case_title        Session_Id Email_Id  \\\n",
       "0                                    genie  1654038670643245      NaN   \n",
       "1                                    genie  1654040144291671      NaN   \n",
       "2  jproperties library installation issue   1654038759243102      NaN   \n",
       "3                          Union with Null  1654032363233406      NaN   \n",
       "4   Spark ReadStream fails to infer schema  1654030825979675      NaN   \n",
       "\n",
       "                  Date_Time User  \n",
       "0  2022-05-31T23:58:12.000Z  NaN  \n",
       "1  2022-05-31T23:38:03.000Z  NaN  \n",
       "2  2022-05-31T23:30:57.000Z  NaN  \n",
       "3  2022-05-31T21:31:24.000Z  NaN  \n",
       "4  2022-05-31T21:27:16.000Z  NaN  "
      ]
     },
     "execution_count": 4,
     "metadata": {},
     "output_type": "execute_result"
    }
   ],
   "source": [
    "data['User'] = data['Email_Id'].str.split(\"@\").str[0]    #Extract user name from the emails \n",
    "data.head()"
   ]
  },
  {
   "cell_type": "code",
   "execution_count": 5,
   "id": "c920e54c",
   "metadata": {},
   "outputs": [],
   "source": [
    "odd_date = '2022-05-31T23:58:12.000Z'"
   ]
  },
  {
   "cell_type": "code",
   "execution_count": 6,
   "id": "c4d9c486",
   "metadata": {},
   "outputs": [],
   "source": [
    "data['Date_Time'] = data['Date_Time'].apply(lambda x:datetime.datetime.strptime(str(x),'%Y-%m-%dT%H:%M:%S.000Z' ))"
   ]
  },
  {
   "cell_type": "code",
   "execution_count": 7,
   "id": "22fef534",
   "metadata": {},
   "outputs": [
    {
     "data": {
      "text/html": [
       "<div>\n",
       "<style scoped>\n",
       "    .dataframe tbody tr th:only-of-type {\n",
       "        vertical-align: middle;\n",
       "    }\n",
       "\n",
       "    .dataframe tbody tr th {\n",
       "        vertical-align: top;\n",
       "    }\n",
       "\n",
       "    .dataframe thead th {\n",
       "        text-align: right;\n",
       "    }\n",
       "</style>\n",
       "<table border=\"1\" class=\"dataframe\">\n",
       "  <thead>\n",
       "    <tr style=\"text-align: right;\">\n",
       "      <th></th>\n",
       "      <th>Case_title</th>\n",
       "      <th>Session_Id</th>\n",
       "      <th>Email_Id</th>\n",
       "      <th>Date_Time</th>\n",
       "      <th>User</th>\n",
       "    </tr>\n",
       "  </thead>\n",
       "  <tbody>\n",
       "    <tr>\n",
       "      <th>0</th>\n",
       "      <td>genie</td>\n",
       "      <td>1654038670643245</td>\n",
       "      <td>NaN</td>\n",
       "      <td>2022-05-31 23:58:12</td>\n",
       "      <td>NaN</td>\n",
       "    </tr>\n",
       "    <tr>\n",
       "      <th>1</th>\n",
       "      <td>genie</td>\n",
       "      <td>1654040144291671</td>\n",
       "      <td>NaN</td>\n",
       "      <td>2022-05-31 23:38:03</td>\n",
       "      <td>NaN</td>\n",
       "    </tr>\n",
       "    <tr>\n",
       "      <th>2</th>\n",
       "      <td>jproperties library installation issue</td>\n",
       "      <td>1654038759243102</td>\n",
       "      <td>NaN</td>\n",
       "      <td>2022-05-31 23:30:57</td>\n",
       "      <td>NaN</td>\n",
       "    </tr>\n",
       "    <tr>\n",
       "      <th>3</th>\n",
       "      <td>Union with Null</td>\n",
       "      <td>1654032363233406</td>\n",
       "      <td>NaN</td>\n",
       "      <td>2022-05-31 21:31:24</td>\n",
       "      <td>NaN</td>\n",
       "    </tr>\n",
       "    <tr>\n",
       "      <th>4</th>\n",
       "      <td>Spark ReadStream fails to infer schema</td>\n",
       "      <td>1654030825979675</td>\n",
       "      <td>NaN</td>\n",
       "      <td>2022-05-31 21:27:16</td>\n",
       "      <td>NaN</td>\n",
       "    </tr>\n",
       "  </tbody>\n",
       "</table>\n",
       "</div>"
      ],
      "text/plain": [
       "                                Case_title        Session_Id Email_Id  \\\n",
       "0                                    genie  1654038670643245      NaN   \n",
       "1                                    genie  1654040144291671      NaN   \n",
       "2  jproperties library installation issue   1654038759243102      NaN   \n",
       "3                          Union with Null  1654032363233406      NaN   \n",
       "4   Spark ReadStream fails to infer schema  1654030825979675      NaN   \n",
       "\n",
       "            Date_Time User  \n",
       "0 2022-05-31 23:58:12  NaN  \n",
       "1 2022-05-31 23:38:03  NaN  \n",
       "2 2022-05-31 23:30:57  NaN  \n",
       "3 2022-05-31 21:31:24  NaN  \n",
       "4 2022-05-31 21:27:16  NaN  "
      ]
     },
     "execution_count": 7,
     "metadata": {},
     "output_type": "execute_result"
    }
   ],
   "source": [
    "data.head()"
   ]
  },
  {
   "cell_type": "code",
   "execution_count": 8,
   "id": "f54b7253",
   "metadata": {},
   "outputs": [],
   "source": [
    "df = data.copy()"
   ]
  },
  {
   "cell_type": "code",
   "execution_count": 9,
   "id": "48c88075",
   "metadata": {},
   "outputs": [
    {
     "data": {
      "text/plain": [
       "Case_title            object\n",
       "Session_Id             int64\n",
       "Email_Id              object\n",
       "Date_Time     datetime64[ns]\n",
       "User                  object\n",
       "dtype: object"
      ]
     },
     "execution_count": 9,
     "metadata": {},
     "output_type": "execute_result"
    }
   ],
   "source": [
    "df['Date_Time'] = pd.to_datetime(df['Date_Time'], infer_datetime_format=True)\n",
    "df.head()\n",
    "df.dtypes"
   ]
  },
  {
   "cell_type": "code",
   "execution_count": 10,
   "id": "d737b613",
   "metadata": {},
   "outputs": [],
   "source": [
    "df['Date'] = df['Date_Time'].dt.normalize()"
   ]
  },
  {
   "cell_type": "code",
   "execution_count": 11,
   "id": "47c1c7c8",
   "metadata": {},
   "outputs": [
    {
     "data": {
      "text/html": [
       "<div>\n",
       "<style scoped>\n",
       "    .dataframe tbody tr th:only-of-type {\n",
       "        vertical-align: middle;\n",
       "    }\n",
       "\n",
       "    .dataframe tbody tr th {\n",
       "        vertical-align: top;\n",
       "    }\n",
       "\n",
       "    .dataframe thead th {\n",
       "        text-align: right;\n",
       "    }\n",
       "</style>\n",
       "<table border=\"1\" class=\"dataframe\">\n",
       "  <thead>\n",
       "    <tr style=\"text-align: right;\">\n",
       "      <th></th>\n",
       "      <th>Case_title</th>\n",
       "      <th>Session_Id</th>\n",
       "      <th>Email_Id</th>\n",
       "      <th>Date_Time</th>\n",
       "      <th>User</th>\n",
       "      <th>Date</th>\n",
       "    </tr>\n",
       "  </thead>\n",
       "  <tbody>\n",
       "    <tr>\n",
       "      <th>0</th>\n",
       "      <td>genie</td>\n",
       "      <td>1654038670643245</td>\n",
       "      <td>NaN</td>\n",
       "      <td>2022-05-31 23:58:12</td>\n",
       "      <td>NaN</td>\n",
       "      <td>2022-05-31</td>\n",
       "    </tr>\n",
       "    <tr>\n",
       "      <th>1</th>\n",
       "      <td>genie</td>\n",
       "      <td>1654040144291671</td>\n",
       "      <td>NaN</td>\n",
       "      <td>2022-05-31 23:38:03</td>\n",
       "      <td>NaN</td>\n",
       "      <td>2022-05-31</td>\n",
       "    </tr>\n",
       "    <tr>\n",
       "      <th>2</th>\n",
       "      <td>jproperties library installation issue</td>\n",
       "      <td>1654038759243102</td>\n",
       "      <td>NaN</td>\n",
       "      <td>2022-05-31 23:30:57</td>\n",
       "      <td>NaN</td>\n",
       "      <td>2022-05-31</td>\n",
       "    </tr>\n",
       "    <tr>\n",
       "      <th>3</th>\n",
       "      <td>Union with Null</td>\n",
       "      <td>1654032363233406</td>\n",
       "      <td>NaN</td>\n",
       "      <td>2022-05-31 21:31:24</td>\n",
       "      <td>NaN</td>\n",
       "      <td>2022-05-31</td>\n",
       "    </tr>\n",
       "    <tr>\n",
       "      <th>4</th>\n",
       "      <td>Spark ReadStream fails to infer schema</td>\n",
       "      <td>1654030825979675</td>\n",
       "      <td>NaN</td>\n",
       "      <td>2022-05-31 21:27:16</td>\n",
       "      <td>NaN</td>\n",
       "      <td>2022-05-31</td>\n",
       "    </tr>\n",
       "  </tbody>\n",
       "</table>\n",
       "</div>"
      ],
      "text/plain": [
       "                                Case_title        Session_Id Email_Id  \\\n",
       "0                                    genie  1654038670643245      NaN   \n",
       "1                                    genie  1654040144291671      NaN   \n",
       "2  jproperties library installation issue   1654038759243102      NaN   \n",
       "3                          Union with Null  1654032363233406      NaN   \n",
       "4   Spark ReadStream fails to infer schema  1654030825979675      NaN   \n",
       "\n",
       "            Date_Time User       Date  \n",
       "0 2022-05-31 23:58:12  NaN 2022-05-31  \n",
       "1 2022-05-31 23:38:03  NaN 2022-05-31  \n",
       "2 2022-05-31 23:30:57  NaN 2022-05-31  \n",
       "3 2022-05-31 21:31:24  NaN 2022-05-31  \n",
       "4 2022-05-31 21:27:16  NaN 2022-05-31  "
      ]
     },
     "execution_count": 11,
     "metadata": {},
     "output_type": "execute_result"
    }
   ],
   "source": [
    "df.head()"
   ]
  },
  {
   "cell_type": "code",
   "execution_count": 12,
   "id": "85202ca9",
   "metadata": {},
   "outputs": [],
   "source": [
    "df['MonthNum'] = df['Date_Time'].dt.month\n",
    "df['DayOfMonth'] = df['Date_Time'].dt.day\n",
    "df['Year'] = df['Date_Time'].dt.year\n",
    "df['Day'] = df['Date_Time'].dt.dayofweek\n"
   ]
  },
  {
   "cell_type": "code",
   "execution_count": 13,
   "id": "f18e7ebe",
   "metadata": {},
   "outputs": [
    {
     "data": {
      "text/html": [
       "<div>\n",
       "<style scoped>\n",
       "    .dataframe tbody tr th:only-of-type {\n",
       "        vertical-align: middle;\n",
       "    }\n",
       "\n",
       "    .dataframe tbody tr th {\n",
       "        vertical-align: top;\n",
       "    }\n",
       "\n",
       "    .dataframe thead th {\n",
       "        text-align: right;\n",
       "    }\n",
       "</style>\n",
       "<table border=\"1\" class=\"dataframe\">\n",
       "  <thead>\n",
       "    <tr style=\"text-align: right;\">\n",
       "      <th></th>\n",
       "      <th>Case_title</th>\n",
       "      <th>Session_Id</th>\n",
       "      <th>Email_Id</th>\n",
       "      <th>Date_Time</th>\n",
       "      <th>User</th>\n",
       "      <th>Date</th>\n",
       "      <th>MonthNum</th>\n",
       "      <th>DayOfMonth</th>\n",
       "      <th>Year</th>\n",
       "      <th>Day</th>\n",
       "    </tr>\n",
       "  </thead>\n",
       "  <tbody>\n",
       "    <tr>\n",
       "      <th>0</th>\n",
       "      <td>genie</td>\n",
       "      <td>1654038670643245</td>\n",
       "      <td>NaN</td>\n",
       "      <td>2022-05-31 23:58:12</td>\n",
       "      <td>NaN</td>\n",
       "      <td>2022-05-31</td>\n",
       "      <td>5</td>\n",
       "      <td>31</td>\n",
       "      <td>2022</td>\n",
       "      <td>1</td>\n",
       "    </tr>\n",
       "    <tr>\n",
       "      <th>1</th>\n",
       "      <td>genie</td>\n",
       "      <td>1654040144291671</td>\n",
       "      <td>NaN</td>\n",
       "      <td>2022-05-31 23:38:03</td>\n",
       "      <td>NaN</td>\n",
       "      <td>2022-05-31</td>\n",
       "      <td>5</td>\n",
       "      <td>31</td>\n",
       "      <td>2022</td>\n",
       "      <td>1</td>\n",
       "    </tr>\n",
       "    <tr>\n",
       "      <th>2</th>\n",
       "      <td>jproperties library installation issue</td>\n",
       "      <td>1654038759243102</td>\n",
       "      <td>NaN</td>\n",
       "      <td>2022-05-31 23:30:57</td>\n",
       "      <td>NaN</td>\n",
       "      <td>2022-05-31</td>\n",
       "      <td>5</td>\n",
       "      <td>31</td>\n",
       "      <td>2022</td>\n",
       "      <td>1</td>\n",
       "    </tr>\n",
       "    <tr>\n",
       "      <th>3</th>\n",
       "      <td>Union with Null</td>\n",
       "      <td>1654032363233406</td>\n",
       "      <td>NaN</td>\n",
       "      <td>2022-05-31 21:31:24</td>\n",
       "      <td>NaN</td>\n",
       "      <td>2022-05-31</td>\n",
       "      <td>5</td>\n",
       "      <td>31</td>\n",
       "      <td>2022</td>\n",
       "      <td>1</td>\n",
       "    </tr>\n",
       "    <tr>\n",
       "      <th>4</th>\n",
       "      <td>Spark ReadStream fails to infer schema</td>\n",
       "      <td>1654030825979675</td>\n",
       "      <td>NaN</td>\n",
       "      <td>2022-05-31 21:27:16</td>\n",
       "      <td>NaN</td>\n",
       "      <td>2022-05-31</td>\n",
       "      <td>5</td>\n",
       "      <td>31</td>\n",
       "      <td>2022</td>\n",
       "      <td>1</td>\n",
       "    </tr>\n",
       "  </tbody>\n",
       "</table>\n",
       "</div>"
      ],
      "text/plain": [
       "                                Case_title        Session_Id Email_Id  \\\n",
       "0                                    genie  1654038670643245      NaN   \n",
       "1                                    genie  1654040144291671      NaN   \n",
       "2  jproperties library installation issue   1654038759243102      NaN   \n",
       "3                          Union with Null  1654032363233406      NaN   \n",
       "4   Spark ReadStream fails to infer schema  1654030825979675      NaN   \n",
       "\n",
       "            Date_Time User       Date  MonthNum  DayOfMonth  Year  Day  \n",
       "0 2022-05-31 23:58:12  NaN 2022-05-31         5          31  2022    1  \n",
       "1 2022-05-31 23:38:03  NaN 2022-05-31         5          31  2022    1  \n",
       "2 2022-05-31 23:30:57  NaN 2022-05-31         5          31  2022    1  \n",
       "3 2022-05-31 21:31:24  NaN 2022-05-31         5          31  2022    1  \n",
       "4 2022-05-31 21:27:16  NaN 2022-05-31         5          31  2022    1  "
      ]
     },
     "execution_count": 13,
     "metadata": {},
     "output_type": "execute_result"
    }
   ],
   "source": [
    "df.head()"
   ]
  },
  {
   "cell_type": "code",
   "execution_count": 14,
   "id": "1dca152f",
   "metadata": {},
   "outputs": [
    {
     "data": {
      "text/plain": [
       "False    6074\n",
       "True     1535\n",
       "Name: User, dtype: int64"
      ]
     },
     "execution_count": 14,
     "metadata": {},
     "output_type": "execute_result"
    }
   ],
   "source": [
    "df['User'].isnull().value_counts()"
   ]
  },
  {
   "cell_type": "code",
   "execution_count": 15,
   "id": "d816a6e6",
   "metadata": {},
   "outputs": [
    {
     "data": {
      "image/png": "[encoded data removed]",
      "text/plain": [
       "<Figure size 720x432 with 1 Axes>"
      ]
     },
     "metadata": {},
     "output_type": "display_data"
    }
   ],
   "source": [
    "plt.figure(figsize = (10,6))\n",
    "figure2 = df.groupby('MonthNum')['Case_title'].count().plot()"
   ]
  },
  {
   "cell_type": "markdown",
   "id": "a65a4ad6",
   "metadata": {},
   "source": [
    "# Users and number of emails they sent by year"
   ]
  },
  {
   "cell_type": "code",
   "execution_count": 16,
   "id": "f95ba56b",
   "metadata": {},
   "outputs": [
    {
     "data": {
      "text/plain": [
       "User                                     MonthNum\n",
       "2d847468.nipponpaintcom.onmicrosoft.com  4            1\n",
       "aarjoh                                   3            1\n",
       "aashokkumar1                             3            1\n",
       "abhard04                                 3           13\n",
       "                                         4            7\n",
       "                                                     ..\n",
       "zhiyunluo                                4           31\n",
       "                                         5           20\n",
       "zi.gao                                   5            1\n",
       "zkorelic                                 4            1\n",
       "zlevow                                   3            1\n",
       "Name: Case_title, Length: 1770, dtype: int64"
      ]
     },
     "execution_count": 16,
     "metadata": {},
     "output_type": "execute_result"
    }
   ],
   "source": [
    "df.groupby(['User', 'MonthNum'])['Case_title'].count()"
   ]
  },
  {
   "cell_type": "markdown",
   "id": "ad7c9218",
   "metadata": {},
   "source": [
    "# TOP 10 FREQUENT USERS"
   ]
  },
  {
   "cell_type": "code",
   "execution_count": 17,
   "id": "ab641c53",
   "metadata": {},
   "outputs": [
    {
     "data": {
      "image/png": "[encoded data removed]",
      "text/plain": [
       "<Figure size 1008x432 with 1 Axes>"
      ]
     },
     "metadata": {},
     "output_type": "display_data"
    }
   ],
   "source": [
    "def top_ten():   \n",
    "    top_10_frequent = df.groupby(['User','Session_Id'])['Case_title'].count().sort_values(ascending = False)[:30]\n",
    "    plt.figure(figsize = (14,6))\n",
    "    top_10_frequent.plot(kind = 'bar',color=['red', 'green', 'blue', 'cyan'],width = 0.8)\n",
    "top_ten()"
   ]
  },
  {
   "cell_type": "code",
   "execution_count": 18,
   "id": "2971c599",
   "metadata": {},
   "outputs": [
    {
     "data": {
      "text/html": [
       "<div>\n",
       "<style scoped>\n",
       "    .dataframe tbody tr th:only-of-type {\n",
       "        vertical-align: middle;\n",
       "    }\n",
       "\n",
       "    .dataframe tbody tr th {\n",
       "        vertical-align: top;\n",
       "    }\n",
       "\n",
       "    .dataframe thead th {\n",
       "        text-align: right;\n",
       "    }\n",
       "</style>\n",
       "<table border=\"1\" class=\"dataframe\">\n",
       "  <thead>\n",
       "    <tr style=\"text-align: right;\">\n",
       "      <th></th>\n",
       "      <th>Case_title</th>\n",
       "      <th>Session_Id</th>\n",
       "      <th>Email_Id</th>\n",
       "      <th>Date_Time</th>\n",
       "      <th>User</th>\n",
       "      <th>Date</th>\n",
       "      <th>MonthNum</th>\n",
       "      <th>DayOfMonth</th>\n",
       "      <th>Year</th>\n",
       "      <th>Day</th>\n",
       "    </tr>\n",
       "  </thead>\n",
       "  <tbody>\n",
       "    <tr>\n",
       "      <th>0</th>\n",
       "      <td>genie</td>\n",
       "      <td>1654038670643245</td>\n",
       "      <td>NaN</td>\n",
       "      <td>2022-05-31 23:58:12</td>\n",
       "      <td>NaN</td>\n",
       "      <td>2022-05-31</td>\n",
       "      <td>5</td>\n",
       "      <td>31</td>\n",
       "      <td>2022</td>\n",
       "      <td>1</td>\n",
       "    </tr>\n",
       "    <tr>\n",
       "      <th>1</th>\n",
       "      <td>genie</td>\n",
       "      <td>1654040144291671</td>\n",
       "      <td>NaN</td>\n",
       "      <td>2022-05-31 23:38:03</td>\n",
       "      <td>NaN</td>\n",
       "      <td>2022-05-31</td>\n",
       "      <td>5</td>\n",
       "      <td>31</td>\n",
       "      <td>2022</td>\n",
       "      <td>1</td>\n",
       "    </tr>\n",
       "    <tr>\n",
       "      <th>2</th>\n",
       "      <td>jproperties library installation issue</td>\n",
       "      <td>1654038759243102</td>\n",
       "      <td>NaN</td>\n",
       "      <td>2022-05-31 23:30:57</td>\n",
       "      <td>NaN</td>\n",
       "      <td>2022-05-31</td>\n",
       "      <td>5</td>\n",
       "      <td>31</td>\n",
       "      <td>2022</td>\n",
       "      <td>1</td>\n",
       "    </tr>\n",
       "    <tr>\n",
       "      <th>3</th>\n",
       "      <td>Union with Null</td>\n",
       "      <td>1654032363233406</td>\n",
       "      <td>NaN</td>\n",
       "      <td>2022-05-31 21:31:24</td>\n",
       "      <td>NaN</td>\n",
       "      <td>2022-05-31</td>\n",
       "      <td>5</td>\n",
       "      <td>31</td>\n",
       "      <td>2022</td>\n",
       "      <td>1</td>\n",
       "    </tr>\n",
       "    <tr>\n",
       "      <th>4</th>\n",
       "      <td>Spark ReadStream fails to infer schema</td>\n",
       "      <td>1654030825979675</td>\n",
       "      <td>NaN</td>\n",
       "      <td>2022-05-31 21:27:16</td>\n",
       "      <td>NaN</td>\n",
       "      <td>2022-05-31</td>\n",
       "      <td>5</td>\n",
       "      <td>31</td>\n",
       "      <td>2022</td>\n",
       "      <td>1</td>\n",
       "    </tr>\n",
       "  </tbody>\n",
       "</table>\n",
       "</div>"
      ],
      "text/plain": [
       "                                Case_title        Session_Id Email_Id  \\\n",
       "0                                    genie  1654038670643245      NaN   \n",
       "1                                    genie  1654040144291671      NaN   \n",
       "2  jproperties library installation issue   1654038759243102      NaN   \n",
       "3                          Union with Null  1654032363233406      NaN   \n",
       "4   Spark ReadStream fails to infer schema  1654030825979675      NaN   \n",
       "\n",
       "            Date_Time User       Date  MonthNum  DayOfMonth  Year  Day  \n",
       "0 2022-05-31 23:58:12  NaN 2022-05-31         5          31  2022    1  \n",
       "1 2022-05-31 23:38:03  NaN 2022-05-31         5          31  2022    1  \n",
       "2 2022-05-31 23:30:57  NaN 2022-05-31         5          31  2022    1  \n",
       "3 2022-05-31 21:31:24  NaN 2022-05-31         5          31  2022    1  \n",
       "4 2022-05-31 21:27:16  NaN 2022-05-31         5          31  2022    1  "
      ]
     },
     "execution_count": 18,
     "metadata": {},
     "output_type": "execute_result"
    }
   ],
   "source": [
    "df.head()"
   ]
  },
  {
   "cell_type": "code",
   "execution_count": 19,
   "id": "8ca603bb",
   "metadata": {},
   "outputs": [
    {
     "data": {
      "text/html": [
       "<div>\n",
       "<style scoped>\n",
       "    .dataframe tbody tr th:only-of-type {\n",
       "        vertical-align: middle;\n",
       "    }\n",
       "\n",
       "    .dataframe tbody tr th {\n",
       "        vertical-align: top;\n",
       "    }\n",
       "\n",
       "    .dataframe thead th {\n",
       "        text-align: right;\n",
       "    }\n",
       "</style>\n",
       "<table border=\"1\" class=\"dataframe\">\n",
       "  <thead>\n",
       "    <tr style=\"text-align: right;\">\n",
       "      <th></th>\n",
       "      <th>Case_title</th>\n",
       "      <th>Session_Id</th>\n",
       "      <th>MonthNum</th>\n",
       "    </tr>\n",
       "  </thead>\n",
       "  <tbody>\n",
       "    <tr>\n",
       "      <th>0</th>\n",
       "      <td>genie</td>\n",
       "      <td>1654038670643245</td>\n",
       "      <td>5</td>\n",
       "    </tr>\n",
       "    <tr>\n",
       "      <th>1</th>\n",
       "      <td>genie</td>\n",
       "      <td>1654040144291671</td>\n",
       "      <td>5</td>\n",
       "    </tr>\n",
       "    <tr>\n",
       "      <th>2</th>\n",
       "      <td>jproperties library installation issue</td>\n",
       "      <td>1654038759243102</td>\n",
       "      <td>5</td>\n",
       "    </tr>\n",
       "    <tr>\n",
       "      <th>3</th>\n",
       "      <td>Union with Null</td>\n",
       "      <td>1654032363233406</td>\n",
       "      <td>5</td>\n",
       "    </tr>\n",
       "    <tr>\n",
       "      <th>4</th>\n",
       "      <td>Spark ReadStream fails to infer schema</td>\n",
       "      <td>1654030825979675</td>\n",
       "      <td>5</td>\n",
       "    </tr>\n",
       "  </tbody>\n",
       "</table>\n",
       "</div>"
      ],
      "text/plain": [
       "                                Case_title        Session_Id  MonthNum\n",
       "0                                    genie  1654038670643245         5\n",
       "1                                    genie  1654040144291671         5\n",
       "2  jproperties library installation issue   1654038759243102         5\n",
       "3                          Union with Null  1654032363233406         5\n",
       "4   Spark ReadStream fails to infer schema  1654030825979675         5"
      ]
     },
     "execution_count": 19,
     "metadata": {},
     "output_type": "execute_result"
    }
   ],
   "source": [
    "df4 = df[['Case_title','Session_Id','MonthNum']]\n",
    "df4.head()"
   ]
  },
  {
   "cell_type": "code",
   "execution_count": null,
   "id": "6da1a21e",
   "metadata": {},
   "outputs": [],
   "source": []
  },
  {
   "cell_type": "markdown",
   "id": "cf57b4d8",
   "metadata": {},
   "source": [
    "# Duplicate Tickets for last 3 months "
   ]
  },
  {
   "cell_type": "code",
   "execution_count": 20,
   "id": "89596c8a",
   "metadata": {},
   "outputs": [
    {
     "data": {
      "text/plain": [
       "<AxesSubplot:title={'center':'Duplicate tickets'}, xlabel='MonthNum,None'>"
      ]
     },
     "execution_count": 20,
     "metadata": {},
     "output_type": "execute_result"
    },
    {
     "data": {
      "image/png": "[encoded data removed]",
      "text/plain": [
       "<Figure size 432x288 with 1 Axes>"
      ]
     },
     "metadata": {},
     "output_type": "display_data"
    }
   ],
   "source": [
    "df4[['Case_title']].duplicated().groupby(df4['MonthNum']).value_counts().plot(kind='bar',stacked=True, title = \"Duplicate tickets\",width=0.4)"
   ]
  },
  {
   "cell_type": "code",
   "execution_count": 21,
   "id": "4596c6a4",
   "metadata": {},
   "outputs": [
    {
     "data": {
      "text/plain": [
       "5605"
      ]
     },
     "execution_count": 21,
     "metadata": {},
     "output_type": "execute_result"
    }
   ],
   "source": [
    "ll = [x for x in df4['Case_title'] if (\"Genie\" not in x) and (\"genie\" not in x) ]\n",
    "len(ll)"
   ]
  },
  {
   "cell_type": "code",
   "execution_count": 22,
   "id": "c696b3bc",
   "metadata": {},
   "outputs": [
    {
     "data": {
      "text/plain": [
       "5605"
      ]
     },
     "execution_count": 22,
     "metadata": {},
     "output_type": "execute_result"
    }
   ],
   "source": [
    "d8 = pd.DataFrame(ll)\n",
    "d8.rename(columns = {0: \"title\"},inplace=True)\n",
    "len(d8)"
   ]
  },
  {
   "cell_type": "code",
   "execution_count": 23,
   "id": "a447d98b",
   "metadata": {},
   "outputs": [
    {
     "data": {
      "text/plain": [
       "5214"
      ]
     },
     "execution_count": 23,
     "metadata": {},
     "output_type": "execute_result"
    }
   ],
   "source": [
    "d8['title'].nunique()"
   ]
  },
  {
   "cell_type": "code",
   "execution_count": 24,
   "id": "b381d36f",
   "metadata": {},
   "outputs": [],
   "source": [
    "d8.to_csv('databricks2.csv')"
   ]
  },
  {
   "cell_type": "code",
   "execution_count": 25,
   "id": "16b41317",
   "metadata": {},
   "outputs": [],
   "source": [
    "text = d8['title'].to_string()"
   ]
  },
  {
   "cell_type": "code",
   "execution_count": 26,
   "id": "23fe341e",
   "metadata": {},
   "outputs": [
    {
     "data": {
      "text/plain": [
       "str"
      ]
     },
     "execution_count": 26,
     "metadata": {},
     "output_type": "execute_result"
    }
   ],
   "source": [
    "type(text)"
   ]
  },
  {
   "cell_type": "markdown",
   "id": "5736dcd3",
   "metadata": {},
   "source": [
    "# WORD CLOUD"
   ]
  },
  {
   "cell_type": "code",
   "execution_count": 27,
   "id": "5f1ba2f1",
   "metadata": {},
   "outputs": [],
   "source": [
    "word_cloud = WordCloud(collocations = False, background_color = 'white').generate(text)"
   ]
  },
  {
   "cell_type": "code",
   "execution_count": 28,
   "id": "cd097296",
   "metadata": {
    "scrolled": true
   },
   "outputs": [
    {
     "data": {
      "image/png": "[encoded data removed]",
      "text/plain": [
       "<Figure size 2880x2160 with 1 Axes>"
      ]
     },
     "metadata": {},
     "output_type": "display_data"
    }
   ],
   "source": [
    "def plot_cloud(wordcloud):\n",
    "    # Set figure size\n",
    "    plt.figure(figsize=(40, 30))\n",
    "    # Display image\n",
    "    plt.imshow(wordcloud) \n",
    "    # No axis details\n",
    "    plt.axis(\"off\");\n",
    "plot_cloud(word_cloud)    "
   ]
  },
  {
   "cell_type": "code",
   "execution_count": 29,
   "id": "b1a7b939",
   "metadata": {},
   "outputs": [
    {
     "data": {
      "text/plain": [
       "MonthNum       \n",
       "False     False    4137\n",
       "          True      849\n",
       "True      False    2189\n",
       "          True      434\n",
       "dtype: int64"
      ]
     },
     "execution_count": 29,
     "metadata": {},
     "output_type": "execute_result"
    }
   ],
   "source": [
    "(df4[['Case_title']].duplicated().groupby(df4['MonthNum'] ==3).value_counts())\n"
   ]
  },
  {
   "cell_type": "code",
   "execution_count": 30,
   "id": "a2fc518f",
   "metadata": {},
   "outputs": [
    {
     "data": {
      "text/plain": [
       "pandas.core.frame.DataFrame"
      ]
     },
     "execution_count": 30,
     "metadata": {},
     "output_type": "execute_result"
    }
   ],
   "source": [
    "pd.DataFrame"
   ]
  },
  {
   "cell_type": "code",
   "execution_count": 31,
   "id": "154ea361",
   "metadata": {},
   "outputs": [
    {
     "data": {
      "text/plain": [
       "MonthNum       \n",
       "3         False    2189\n",
       "          True      434\n",
       "4         False    2041\n",
       "          True      442\n",
       "5         False    2096\n",
       "          True      407\n",
       "dtype: int64"
      ]
     },
     "execution_count": 31,
     "metadata": {},
     "output_type": "execute_result"
    }
   ],
   "source": [
    "df4[['Case_title']].duplicated().groupby(df4['MonthNum']).value_counts()"
   ]
  },
  {
   "cell_type": "code",
   "execution_count": 32,
   "id": "533ee451",
   "metadata": {},
   "outputs": [
    {
     "data": {
      "text/plain": [
       "2145"
      ]
     },
     "execution_count": 32,
     "metadata": {},
     "output_type": "execute_result"
    }
   ],
   "source": [
    "mode = lambda x: x.mode() if len(x) > 2 else np.array(x)\n",
    "grouped_df = df4.loc[df.MonthNum ==5].groupby(df4['Session_Id']).agg({'Case_title':list})\n",
    "# Join all queries in a cases\n",
    "grouped_df['Case_title'] = grouped_df['Case_title'].apply(lambda x: ' '.join(x))\n",
    "# Create a list of grouped queries\n",
    "# for each title. \n",
    "queries = list(grouped_df['Case_title'])\n",
    "grouped_df[:10]\n",
    "len(grouped_df)"
   ]
  },
  {
   "cell_type": "markdown",
   "id": "206661e1",
   "metadata": {},
   "source": [
    "# TF-IDF tranformation for K-means algorithm"
   ]
  },
  {
   "cell_type": "code",
   "execution_count": 33,
   "id": "9352f226",
   "metadata": {},
   "outputs": [
    {
     "name": "stdout",
     "output_type": "stream",
     "text": [
      "CPU times: user 26.7 ms, sys: 2.98 ms, total: 29.7 ms\n",
      "Wall time: 34.7 ms\n",
      "(2145, 2895)\n"
     ]
    }
   ],
   "source": [
    "vec = TfidfVectorizer(stop_words='english')\n",
    "%time X = vec.fit_transform(queries)\n",
    "tf_idf_norm = normalize(X)\n",
    "tf_idf_array = tf_idf_norm.toarray()\n",
    "#pd.DataFrame(tf_idf_array, columns=tf_idf_vectorizor.get_feature_names()).head()\n",
    " \n",
    "pd.DataFrame(\n",
    "    tf_idf_array,\n",
    "    #columns=tf_idf_vectorizor.get_feature_names()\n",
    ").head()\n",
    "print(X.shape)"
   ]
  },
  {
   "cell_type": "code",
   "execution_count": 34,
   "id": "0a4e82f0",
   "metadata": {},
   "outputs": [
    {
     "name": "stderr",
     "output_type": "stream",
     "text": [
      "/Users/ankush.singal/opt/anaconda3/lib/python3.9/site-packages/sklearn/utils/deprecation.py:87: FutureWarning: Function get_feature_names is deprecated; get_feature_names is deprecated in 1.0 and will be removed in 1.2. Please use get_feature_names_out instead.\n",
      "  warnings.warn(msg, category=FutureWarning)\n"
     ]
    },
    {
     "data": {
      "text/plain": [
       "['00122446',\n",
       " '00128160',\n",
       " '00133177',\n",
       " '00138037',\n",
       " '00138590',\n",
       " '00138914',\n",
       " '00138978',\n",
       " '00139396',\n",
       " '00140194',\n",
       " '00140430']"
      ]
     },
     "execution_count": 34,
     "metadata": {},
     "output_type": "execute_result"
    }
   ],
   "source": [
    "terms = vec.get_feature_names()\n",
    "terms[:10]"
   ]
  },
  {
   "cell_type": "markdown",
   "id": "de188856",
   "metadata": {},
   "source": [
    "# K-means clustering\n",
    "Using the tf-idf matrix, you can run a slew of clustering algorithms to better understand the hidden structure within the synopses. K-means initializes with a pre-determined number of clusters (here 5). Each observation is assigned to a cluster (cluster assignment) so as to minimize the within cluster sum of squares. Next, the mean of the clustered observations is calculated and used as the new cluster centroid. Then, observations are reassigned to clusters and centroids recalculated in an iterative process until the algorithm reaches convergence."
   ]
  },
  {
   "cell_type": "code",
   "execution_count": 35,
   "id": "c66015a2",
   "metadata": {},
   "outputs": [],
   "source": [
    "from sklearn.metrics.pairwise import cosine_similarity\n",
    "dist = 1 - cosine_similarity(X)"
   ]
  },
  {
   "cell_type": "code",
   "execution_count": 36,
   "id": "6460ced3",
   "metadata": {},
   "outputs": [
    {
     "name": "stdout",
     "output_type": "stream",
     "text": [
      "CPU times: user 14.8 s, sys: 658 ms, total: 15.4 s\n",
      "Wall time: 2.6 s\n"
     ]
    }
   ],
   "source": [
    "from sklearn.cluster import KMeans\n",
    "\n",
    "num_clusters = 140\n",
    "\n",
    "km = KMeans(n_clusters=num_clusters)\n",
    "\n",
    "%time km.fit(X)\n",
    "\n",
    "clusters = km.labels_.tolist()"
   ]
  },
  {
   "cell_type": "code",
   "execution_count": 37,
   "id": "99b62d0e",
   "metadata": {},
   "outputs": [],
   "source": [
    "import joblib\n",
    "\n",
    "#joblib.dump(km,  'doc_cluster.pkl')\n",
    "clusters = km.labels_.tolist()"
   ]
  },
  {
   "cell_type": "code",
   "execution_count": 38,
   "id": "cc03f8d9",
   "metadata": {},
   "outputs": [],
   "source": [
    "ranks = []\n",
    "\n",
    "for i in range(0,len(grouped_df['Case_title'])):\n",
    "    ranks.append(i)"
   ]
  },
  {
   "cell_type": "code",
   "execution_count": 39,
   "id": "9cb25d30",
   "metadata": {},
   "outputs": [
    {
     "data": {
      "text/plain": [
       "[0, 1, 2, 3, 4, 5, 6, 7, 8, 9]"
      ]
     },
     "execution_count": 39,
     "metadata": {},
     "output_type": "execute_result"
    }
   ],
   "source": [
    "ranks[:10]\n"
   ]
  },
  {
   "cell_type": "code",
   "execution_count": null,
   "id": "f4162355",
   "metadata": {},
   "outputs": [],
   "source": []
  },
  {
   "cell_type": "code",
   "execution_count": 40,
   "id": "3c1a7b23",
   "metadata": {},
   "outputs": [
    {
     "data": {
      "text/html": [
       "<div>\n",
       "<style scoped>\n",
       "    .dataframe tbody tr th:only-of-type {\n",
       "        vertical-align: middle;\n",
       "    }\n",
       "\n",
       "    .dataframe tbody tr th {\n",
       "        vertical-align: top;\n",
       "    }\n",
       "\n",
       "    .dataframe thead th {\n",
       "        text-align: right;\n",
       "    }\n",
       "</style>\n",
       "<table border=\"1\" class=\"dataframe\">\n",
       "  <thead>\n",
       "    <tr style=\"text-align: right;\">\n",
       "      <th></th>\n",
       "      <th>title</th>\n",
       "      <th>rank</th>\n",
       "      <th>cluster</th>\n",
       "    </tr>\n",
       "  </thead>\n",
       "  <tbody>\n",
       "    <tr>\n",
       "      <th>3</th>\n",
       "      <td>Genie</td>\n",
       "      <td>0</td>\n",
       "      <td>3</td>\n",
       "    </tr>\n",
       "    <tr>\n",
       "      <th>0</th>\n",
       "      <td>Gnie</td>\n",
       "      <td>1</td>\n",
       "      <td>0</td>\n",
       "    </tr>\n",
       "    <tr>\n",
       "      <th>0</th>\n",
       "      <td>2204290030000540</td>\n",
       "      <td>2</td>\n",
       "      <td>0</td>\n",
       "    </tr>\n",
       "    <tr>\n",
       "      <th>124</th>\n",
       "      <td>ARR - Sev A - Databricks notebook is stuck</td>\n",
       "      <td>3</td>\n",
       "      <td>124</td>\n",
       "    </tr>\n",
       "    <tr>\n",
       "      <th>18</th>\n",
       "      <td>genie access</td>\n",
       "      <td>4</td>\n",
       "      <td>18</td>\n",
       "    </tr>\n",
       "    <tr>\n",
       "      <th>...</th>\n",
       "      <td>...</td>\n",
       "      <td>...</td>\n",
       "      <td>...</td>\n",
       "    </tr>\n",
       "    <tr>\n",
       "      <th>2</th>\n",
       "      <td>Genie access Request</td>\n",
       "      <td>2140</td>\n",
       "      <td>2</td>\n",
       "    </tr>\n",
       "    <tr>\n",
       "      <th>0</th>\n",
       "      <td>Union with Null</td>\n",
       "      <td>2141</td>\n",
       "      <td>0</td>\n",
       "    </tr>\n",
       "    <tr>\n",
       "      <th>3</th>\n",
       "      <td>genie</td>\n",
       "      <td>2142</td>\n",
       "      <td>3</td>\n",
       "    </tr>\n",
       "    <tr>\n",
       "      <th>65</th>\n",
       "      <td>jproperties library installation issue</td>\n",
       "      <td>2143</td>\n",
       "      <td>65</td>\n",
       "    </tr>\n",
       "    <tr>\n",
       "      <th>3</th>\n",
       "      <td>genie</td>\n",
       "      <td>2144</td>\n",
       "      <td>3</td>\n",
       "    </tr>\n",
       "  </tbody>\n",
       "</table>\n",
       "<p>2145 rows × 3 columns</p>\n",
       "</div>"
      ],
      "text/plain": [
       "                                           title  rank  cluster\n",
       "3                                          Genie     0        3\n",
       "0                                           Gnie     1        0\n",
       "0                               2204290030000540     2        0\n",
       "124  ARR - Sev A - Databricks notebook is stuck      3      124\n",
       "18                                  genie access     4       18\n",
       "..                                           ...   ...      ...\n",
       "2                           Genie access Request  2140        2\n",
       "0                                Union with Null  2141        0\n",
       "3                                          genie  2142        3\n",
       "65       jproperties library installation issue   2143       65\n",
       "3                                          genie  2144        3\n",
       "\n",
       "[2145 rows x 3 columns]"
      ]
     },
     "execution_count": 40,
     "metadata": {},
     "output_type": "execute_result"
    }
   ],
   "source": [
    "import pandas as pd\n",
    "\n",
    "films = { 'title': queries, 'rank':ranks, 'cluster': clusters}\n",
    "\n",
    "frame = pd.DataFrame(films, index = [clusters] , columns = ['title','rank', 'cluster'])\n",
    "frame"
   ]
  },
  {
   "cell_type": "code",
   "execution_count": 41,
   "id": "f8bfe116",
   "metadata": {},
   "outputs": [
    {
     "data": {
      "text/plain": [
       "cluster\n",
       "0      1057.687500\n",
       "1      1061.437500\n",
       "2      1249.245283\n",
       "3      1026.340580\n",
       "4      1199.000000\n",
       "          ...     \n",
       "135    1085.900000\n",
       "136    1046.470588\n",
       "137     445.500000\n",
       "138    1021.100000\n",
       "139     910.800000\n",
       "Name: rank, Length: 140, dtype: float64"
      ]
     },
     "execution_count": 41,
     "metadata": {},
     "output_type": "execute_result"
    }
   ],
   "source": [
    "grouped = frame['rank'].groupby(frame['cluster'])\n",
    "\n",
    "grouped.mean()"
   ]
  },
  {
   "cell_type": "code",
   "execution_count": null,
   "id": "721fdd59",
   "metadata": {},
   "outputs": [],
   "source": []
  },
  {
   "cell_type": "code",
   "execution_count": null,
   "id": "ef667dee",
   "metadata": {},
   "outputs": [],
   "source": []
  },
  {
   "cell_type": "code",
   "execution_count": 42,
   "id": "c9694683",
   "metadata": {},
   "outputs": [
    {
     "name": "stdout",
     "output_type": "stream",
     "text": [
      "Top terms per cluster:\n",
      "\n",
      "Cluster 0 words:\n",
      "\n",
      "Cluster 0 titles: Gnie, 2204290030000540, 0457genie, 2205020030000110, 2204280040001718, infer or extract columns from file path while using auto loader, Spark Job not progressing., 2205020030000861, abhilash-dp90, Clarification on Databricks Managed Service Encryption & Access, too much delay between two micro batches, 2205020040005060, Training Access for LTK Employees, SQLEndpoint creating nodes more than active,  Cannot control job creation access., 2204210060006686, 2204250040007007, 2203170040008511, 1083652405284390 - 42c0910c-ba8d-4218-96f2-e8bbcfdb8dc0 - 2205030040005851, 7451881325335682 - 55bde1f0-8591-432c-a37f-5c1bdff8c2f8 - 2204280040000761, 2205040030000361 , 2205040030000575 , Questions on the SCIM, Recommended way to deploy interactive dashboards, Regex for spark version in cluster policy doesn't work as expected, _apply tables are appearing in target  metadata database; Error encounter in DLT pipeline while drop and recreate , cant see clone folder option, [ARR] [Sev C] SR-2204110030000414 RCA  continue to 00141951  cannot evaluate expression current_timestamp() , 2205050030000380, 2205030040007110, 8254154577522778 - 6c05363f-2a16-4591-8cf7-5da1b8247e46 - 2205050040007471, Caused by: org.rocksdb.RocksDBException: block checksum mismatch , 2205050030000380, 2205060030000527 , 2202110030000509, [ARR] [Sev B] SR-2204180030001121  query is running since 6 hours, Increase input rate for DLT, 2204010030001987, 2205050030001596_Need assistance to recover MICROSOFT.DATABRICKS/WORKSPACES/DBWORKSPACES deleted at 4/29, 2205060040003376, ARR | S500 | 2205070050000069 | the rate limit increase request which is 100 nodes per minute, 2777928729223047 - d4199cb9-58c6-44c0-901f-9824ed868a0c - 2205070040001063, CSS-ARR-SR#2204250050001410-Maximum execution context or notebook attachment limit reached, Unable to register a scaler model built on my training data | ARR SR# 2205060030001100, 2204270040000071, Genie: Coles|| 2205090030000973 || Sev A, 2204270030000882 2204270030000882, 2205090030001499 , 2205090030001714, ARR | exception when doing a vacuum| 2204290050000799, 2205090040003848001, No Public Internet access on cluster nodes, 5259743963611861 - 33083e0c-20e5-40c8-a77d-557528d9e387 - 2205100010002951, 2754134964726624 - 81b4ec93-f52f-4194-9ad9-57e636bcd0b6 - 2205100040007765 3337075389283370 - 6b64b59f-432d-401e-b552-d855f1e1d2e0 - 2204060040002674, 2205100030002026, genie- Processos de cluster interativo travaram durante a execução (processo zumbi), 2205110060000665 , Estimating required number of memory, Genie Access | We are not able to query _dh_ja_pos_2.pos_day_fct in the AMA KPI databricks, Autoloader can not ingest *.snappy.parquet files, 2754134964726624 - 81b4ec93-f52f-4194-9ad9-57e636bcd0b6 - 2205110040011261, [ARR] [Sev B] SR-2204130040012512 related #00141930 regarding information of bonecp bug and HikariCP connection pool, gsr for 8745407738329245,  [ARR] [Sev B] SR-2205110030001940 Notebook is reverted back previous version automatically, Job stucks in middle, SSLHandshakeException: No subject alternative DNS name matching smbistlrs1.privatelink.dfs.core.windows.net found, 3337075389283370 - 6b64b59f-432d-401e-b552-d855f1e1d2e0 - 2204060040002674 AT&T - 2205060040004996 - global-int script failed - RCA, [ARR] [Sev B] SR-2205120030001522 Disable notebook schedule option, ARR Sev.A 2205120030001265, genie Advise on the steps to deploy a model stored in databricks registery in ACI, 2205130030000496 genie ARR| FWD Group Management Holdings Limited | ML job failed |SR:2205130030000496 , 2205120010003369 , Redirect URIs, AutoML fails with RetryError: HTTPSConnectionPool(host='nvirginia.cloud.databricks.com', port=443), DBSQL is disabled, truncate option doesnt work with db2, 2205160040000559 , 2205130050000361 , 2204260040007251003, Unexpected Job Failures in Production iam profile isn’t being attached properly to cluster, Inconsistent type returned by describe and show table extended for BigInt columns, [GenieRequest] dataflow-aee5c8fe-74a1-492e-87d4-557aa09e75ec, 2205160010002619  2204210060006686, [Genie Request] dataflow-aee5c8fe-74a1-492e-87d4-557aa09e75ec, アカウントコンソールのSAML2.0を利用したSSO設定の実現性について, Job_Aborted_Error, Exception: could not open socket: ['tried to connect to ('127.0.0.1', 46229), but an error occured: [Errno 111] Connection refused'], ARR | AT&T | getting this error 'org.apache.hadoop.fs.UnsupportedFileSystemException: No FileSystem for scheme , Databricks job failue OAUTH, 2205180030000254 , VPCカスタム設定におけるクロスアカウントIAMロールに付与するポリシーについての質問, Networking rules, firewalls on the private and public sub-net, Kafka Consumer Script Returns NULL Values, Spark job stalls, Job not accepting resources, invalid timezone, [ARR] [Sev B] SR-2204210040011593-Getting this error This operation is not permitted because the blob has snapshots, can not connetc to DW database from DB, 958145594491036 - 10280a44-7716-4c2a-8238-1b1796d4fde3 - 2205190040004859, secret scope has INVALID_STATE: Databricks could not access keyvault:, Usage Logs not available, HTML Injection Finding, Deserializing JSON to a class produces strange stdout outputs., Understanding the impact of a health advisory, 2205110030001121, [ARR] [Sev B] SR-2205110030001940 continue to #00146312 Notebook is reverted back previous version automatically, 2205130040002413 2205130040002413, 2205100050002215, GC driver - OOM error, same code with same data volume worked fine previously Genie Access request, 2205200030000589, 5244115429641560 - 77c41218-a808-4734-a49d-b82f9244bc93 - 2205200040005272, Security  Compliance , 5491164172891362 - b8d79299-dbc4-42b6-b557-01b3a7cf0605 - 2205200040003030, 2205220030000028 , databrick環境構築にあたり、dbfsは必須機能となるか, IAMポリシーに紐づけるs3バケットへのアクション権限について, 2205090040004711, databricks対応ブラウザのバージョンについて, 2205190030002256 , Daily workflow suddently requiring more resources, [ARR] [Sev B] SR-2205190030001473-streaming is not working for passthrough enabled containers and db's, SQL joins gives wrong result, failed integrity checks, 2205090040004711 2205160030000400, 2205100050002215  2205200030001371, Followup of SF ticket 00145109 Databricks job fails after running 150-180 hours, Join takes seemingly forever and eventually aborts, Security vulnerabilities, 958145594491036 - 10280a44-7716-4c2a-8238-1b1796d4fde3 - 2205190040004859, scheduled job did not get cluster assigned., 外部テーブル作成時に必要なIAMポリシーについて, UnityCatalogマネージドテーブルアクセス用IAMポリシーに付与する権限について, 2205230030001614, SQL joins gives wrong result, CRITICAL Findings - CVE-2022-22824 - expat, Problema de conectividade DATABRICKS via firewall- Saved, Databricks Operational Outage, Databricks DBU consumption, 2205250030002550  2205250040009039  2205250040009237 , AuditLog設定時のs3:DeleteObjectは必須権限となるか。, Azure databricks notebook execution duration is extremely long (40+ minutes), and it exceeds the 10 minute trigger window, 2205180040008873 | Job URL, DBFS_DOWN, 2205230040003508Genie, guidance about security vulnerability scanning, 2650234915343663 - c450f3d1-583c-495f-b5d3-0b38b99e70c0 - 2205270040006933, 2205280040000232, 8917076304931352 - 09c14ab4-bb01-40d1-9eaa-c49fefd07fb1 - 2205280040000550, 7763010224164137 - b8080fe8-25bc-47b2-85e7-fd02dd3aee1e - 2205280040000814, recover deleted azure databricksm, Contact Details for Contingency Plan  Documentation, CSS-ARR-2205300030000871-Need to get the cluster log details for the given databricks workspace 2205300030000871-Need Genie Access CSS-ARR-2205270010000557-pairwise partial correlation in ML model is taking more than expected time 2205270030001488-Need Genie Access, 監査ログの構成に利用するS3バケットの設定について UnityCatalogマネージドテーブルに利用するS3の設定について, Genie: 2205270050001268 || ABN AMRO || cluster performing very slowly then as usual, Logs delivery just before application shutdown, クロスアクセスアカウントIAMロールに付与するポリシーに関する質問, 2205310030000871, Databricks environment highly unstable, 2205180050001873genie, Union with Null,\n",
      "\n",
      "Cluster 1 words:\n",
      "\n",
      "Cluster 1 titles:  production workspace folders are missing in buckets when comparing to POC workspace, changing default timestamp for hive tables and databricks workspace to CET changing default timestamp for hive tables and databricks workspace to CET Databricks CLI does not accept PAT to authenticate, Rename workspace , Can not access https URL from databricks workspace (privatelink), changing default timestamp for hive tables and databricks workspace to CET, Workspace Job Limit, Follow up of (00143088) Unable to access AzureDatabricks workspace Unable to access AzureDatabricks workspace, ARR | Genie | workspace settings require DBR 8.4+ to access Files in Repos from clusters | #2205050040003382, workspace access request, HC Cluster is running slowly, 2205090030001270_Need Genie Acces CSS-ARR-2205050030001596001-Restore Databricks Workspace  2205060030001941_Need Genie Access, Issue on every endpoints on engie-digital-smartom-data-pprod-ca-central-1 workspace, issue with updating network of a workspace , Suspen Notification of Workspace, Delete orphan workspace, Unable to Spin a new workspace using Terraform, Modifying Subnet of Databricks Workspace, Workspace notebook executions are inconsistent, Error importing Azure DevOps Repositories to Databricks workspace, Issue while creating DB workspace, Subscription is not registered for ADB private workspace, Workspace creation in GCP is going on infinite loop , Workspace unavailable, genie- workspace_does_not_exist_error when launching Databricks Workspace, Genie: MolinaHealthCare ||  2205230040008078 Genie: 2205230040008078 || workspace , workspace_does_not_exist_error when launching Databricks Workspace, Recover databricks workspace Recover databricks workspace  Recover databricks workspace, Workspace Down, [ARR][Latency issue in Databricks workspace], unable to connect to AS400 datasource (worked on Single Tenant workspace), ARR | 2205260040001988 | Workspace folders were deleted in production,  Unable to access AzureDatabricks workspace Unable to access AzureDatabricks workspace Unable to access AzureDatabricks workspace, 2205260030000884 | ARR | Error sending to Log Analytics from Databricks workspace,\n",
      "\n",
      "Cluster 2 words:\n",
      "\n",
      "Cluster 2 titles: Genie Access Request, Genie Access request, Genie Access Request, Genie Access Request, Geni Access Request, Genie access request Genie access request, Genie Access Request, Genie access request, Genie access request, Genie Access request, Genie Access Request, Genie access request, Genie Access Request, First Genie Access Request, Genie access request, Genie access request, Genie Access Request || (WS-1123585223302814), Genie Access Request, Genie Access Request, 2205160050001904 || Genie Access Request, Genie access request, Genie Access Request, Genie access request, Genie access request, Genie access request, [genie Access Request] [Genie Request] to 7733217811977339, Genie  Access Request, 2205170050002982 || Genie Access Request, Genie Access Request, 2205170050002982 || Genie Access Request, Genie access request, 2205200050001464 || Genie Access Request, Genie Access Request, Genie access request, Genie Access request, Genie Access Request, Genie Access Request, Error reading streaming state file of HDFSStateStoreProvider Genie access request HdfsBridge::recordReaderFillBuffer  Geni access request Genie access request Genie access request Genie access request, 2205250050001655 || Genie Access Request, 2205260040001988 || Genie Access Request, Genie Access Request, GENIE ACCESS REQUEST Genie Access Request Genie Access Request, Genie access request Genie access request, Genie Access request, Genie Access Request, 2205270050001268 || Genie Access Request, Genie access Request, Genie Access Request, Genie access request, Genie Access request 2204270060000414 Genie Access request 2204270060000414, Genie Access Request, Genie Access Request, Genie access Request,\n",
      "\n",
      "Cluster 3 words:\n",
      "\n",
      "Cluster 3 titles: Genie, genie , genie, genie, genie, genie, genie, genie, genie genie, genie, Genie, genie, Genie, genie, genie, genie , genie, genie genie, Genie, genie, genie, genie, Genie, genie, genie, Genie Genie, Genie , genie, genie, genie, genie, genie genie, Genie, genie, genie, genie, genie, genie, Genie Genie, genie, genie, genie, genie, genie, genie, Genie Genie, Genie , genie, genie, genie, genie, genie, genie, genie genie, genie, Genie Genie, Genie, Genie, Genie, genie, genie genie genie, Genie, genie, genie, genie, genie, Genie, genie, genie, genie, genie, genie, genie genie, genie, Genie, genie, genie, genie, Genie, genie, genie genie, genie genie, Genie, genie, Genie Genie, genie, genie, genie, genie, genie, genie, genie, Genie, genie, genie, Genie , Genie, genie, genie, genie, genie, genie, Genie, genie genie, genie, genie, genie, genie, Genie, genie, genie, genie, Genie, genie, genie, genie, genie, genie, genie, genie, genie, genie, genie genie, genie, genie, genie, genie, genie, genie, genie, genie genie genie, genie, genie, Genie, genie, genie, genie, genie,\n",
      "\n",
      "Cluster 4 words:\n",
      "\n",
      "Cluster 4 titles: Link data content to access history on Databricks SQL, genie 2205190030001487 genie 2205180050001892, ARR | 2205180050001892 | Unable to access to history of the specific delta table  ARR | 2205190030001487 | A user is unable to access to the SQL editor even with permission.,\n",
      "\n",
      "Cluster 5 words:\n",
      "\n",
      "Cluster 5 titles: ADF 2204260030001439001 2204260030001439002 , Restoring a recently-deleted cluster, genie 2205120030000229 , ARR | 2205120030000229 | Was there any change recently in Databricks in regard to installing libraries when running a job from ADF, FOLLOWUP | ARR | 2203020060001019 | NoModuleFound Error genie 2205120030000229, genie 2205120030000229,\n",
      "\n",
      "Cluster 6 words:\n",
      "\n",
      "Cluster 6 titles: JDBC Connectivity from Tableau, Problem with columns from autoloader reading, Establishing FSX Connectivity from Databricks, Azure Databricks Vnet Connectivity, Problem with instalation dnsmasq, AT&T escalation case - please check Problem description, Having problem creating or deleting views, Problem with Metastore in Account console, Add GHE connectivity to Prod Workspace, ARR | Mysql Lock problem | 2205200030001217 , Conuming avro messages from kafka makes problem.,  Connectivity problem using azure-event-hubs-spark, Azure Databricks Vnet Connectivity,  2205230040006464  Problem passing a timestamp argument, Conuming avro messages from kafka makes problem., Airflow Connectivity problem with databricks., Problem reading XML files,\n",
      "\n",
      "Cluster 7 words:\n",
      "\n",
      "Cluster 7 titles: Read from Snowflake - Job aborted due to stage failure, [ARR][Job Aborted due to Stage Failure] [2205050050000182][Unable to download adal library], CSS-ARR-2205100030000546-Job Aborted/Job Delay during scheduled run 2205100030000546_Need Genie Access, SparkException - Job Aborted due to stage failure, SparkException - Job Aborted due to stage failure  On running query the command get failed due to SparkException - Job Aborted due to stage failure. The issue is not continuously occurring sometime it occur on same query sometime it doesn't., Job aborted,  [Py4JJavaError ] org.apache.spark.SparkException: Job aborted, Spark Jobs stay in Stage 0 forever, Job aborted, [Genie][[Job Aborted due to Stage Failure], cannot retrieve driver log Job aborted due to stage failure, Spark job fails failing in the shuffle stage : FetchFailedException , Exception: Exception: org.apache.spark.SparkException: Job aborted. UI issue,\n",
      "\n",
      "Cluster 8 words:\n",
      "\n",
      "Cluster 8 titles: Clusters in all environments failing with, DBX temporarily unavailable in one of our environments, [ARR] [Sev C] SR2205090010003177-Issues with 9.1 and 10.4LTS runtime environments in production, multi tenant HIPAA environments, All E2 environments are down.,\n",
      "\n",
      "Cluster 9 words:\n",
      "\n",
      "Cluster 9 titles: Genie for 2204280050002289 , 2205020050000348 genie, 2205020050000680-genie acess, 2205020050000680-genie acess, Genie 2204290040004074 Genie - 2205020040002742, 2205020050000680-genie acess, genie for #2204250050000284, 2205020040006345: Genie, 2204290050001087 genie, genie for #2202210050001736, 2205030050000366 genie, 2204190030002027 - genie, Genie for 512531045191703, Genie 2204190040007561, Genie1 - 2205030040003055 Genie - 2205030040003055 , 2204220050001944 genie, Genie - 2205030040003686, genie req bit filter errror, genie 2205030040002817, Genie-2203300030000354 Genie-2204220060001229, 2205030010000748 genie, 2205030050001600 genie, 2205040030000641 genie, 2205040050000678-genie acess, genie for #2204190030002027, Genie for 2202080060002931, 2205040050001597 genie, Genie: Boeing || 2205040040007574 || control plane exception, GetRunbook faliure Genie: Morgan Stanley || 2205020040005214, genie 2204250060001035, Genie-2205050030000311, genie for #2205040050001376, genie for #2205040030001111, Genie-2205050030000248 Genie-2205050030000248, Genie: H&R Clock || 2203110040006344 || CosmosDB failed to authenticate the request. Genie: Geico || 2204250040005555 || Intermittent File Not Found Errors when accessing ADLS through dbfs mounts Genie: UHG || 2204280040007886 || SPARK_ERROR(SUCCESS), genie 2205050040007788 , Genie-2204110030001822, genie 2204080030001854, 2205050050001878 genie, genie for #2205020010000466, genie for #2204110030001092, 2111250050000480 - genie 987, Genie - 2205070050000066 , genie 2205060030001077, Genie-2205090030000202, genie 2204080030001854, 2205030050001600 - Genie, genie for #2203210030001488, Need Info from Cloud_Launch_Failure Errors Genie Access Request, Genie - 2205090030001856, 2205020050001403 genie, genie 2205080030000417, 2112100050001306 genie, Genie 2203240050000815 , Genie - 2205100040004746, Genie - 2205100010001009 , Genie - 2205020040005904, genie-Azure Quota Exceeded Exception, Bunch of ADF jobs \"Cancelled\" on single day Genie access request, Genie: H&R Block || 2203110040006344 || TestWorkspace, Genie Postgres, 2205110030000282 |IHS Markit|Genie, 2205110030000282 |IHS Markit|Genie, Genie for 2205110050000419 , Genie for 2204290050001087 , genie for #2205110050001559, genie for #2205110050001817, genie for #2205110050001559, 2205110050001843 - Genie, genie acess , Genie 2205110040011175, Genie for 2205120050000785  Genie for 2205120050000785 , genie for #2204200040005876, genie for #2205120050001043, Genie for 2205120050002131 , genie-Activating ip filtering blocks the launch of jobs and APIs genie-An error occurred while calling z:org.apache.spark.api.python.PythonRDD.collectAndServe, Genie: MGM Resort || 2205100010003010 || NPIP Genie: MGM Resort || 2205100010003010 || NPIP, Genie 2205130050000207  Genie 2205130050000121 , 2205130050000924 - Genie 2205130050000903 - Genie Driver is not responsive, Genie - 2205100010003212, Genie 2205130010002901, Genie-2202220030000239, 2205150030000168 | Genie, genie for #2205020010000466, Genie permission, Genie-2205130050001870 , genie 2205080030000417, Genie-2205130060001012, 2205160030001058 - Module not found when triggering jobs through ADF at least 2205160030001058 genie 2205130050001633 genie 2205130050001633 genie, 2205160050000958 - Genie, 2205160050000323 || Genie Access Request (WS-842936785513664), 2111250050000480 - final genie?, genie 2203310010000891  genie 2203310010000891, genie for #2205160050001223, 2205130050001870 genie, 2205030050001600 genie, genie for #2205160050001223, 2205160050001983-genie genie - 2205130050000790 , Genie - 2205160040004484 , genie 2205160030001890, Genie-2205170030000037, 2205170030000682 genie, Genie-2205170030000259, 2205130030000496 genie, genie for #2205160050001223, 2205160030001794 | Genie, genie for #2205170050001191, 2205170050001073 - Genie, Genie-2205090030000202, Genie - 2205170040004514, 2205120050000506 genie 2205120050000506 genie, Genie 2205020040002742, Genie:  2205170040008994, genie 2205090010003177, genie 2205160030001741, Genie-2205160030001560, Genie for 2205180010001040 , 2205180050001042 - Genie, genie for #2205180050001491, 2205180040004499 | Genie, Genie: Air-Canada || Collab, genie for #2205170040008648, Genie - 2202210040006429 , genie for #2205180050001027, 2205180050001873 genie, genie for #2203300050000291, 2205160040007371 -genie, genie for #2205110050001559, genie for #2205110050001559, Genie:  2205020040004681, Genie-2205190060000328, Genie - 2205160010003408, genie for #2203210030001488, 2205200030000894 genie, Genie 2205110040000799 , genie for #2205200050000126, Genie for 2205200040003007 , 2204220060000989-genie, Customer stopped being able to access run of an experiment genie, 2205200040003807 genie, Genie 2205190040007992, Genie 2204290040004074, 2205200040003030001 genie, 2205220040000230 | Genie, genie 2205180030001625, genie 2205210030000305, genie 2205170040006808, 2205230030000962 genie, 2205200050001026 - Genie, Genie 2205170040004514, 2202210050000545 | Genie, Genie-2205230030000991, Genie-2205240030000330, Genie 2205120050000556 , 2205130050001200 genie, 2205200030000894 genie, 2205200050001146 genie 2205240050000751 genie, Genie 2205230040008078 Genie - 2205170040004514 Genie 2205230040008078 Genie 2205230030001720, Genie for 2205230050001967002 , [Genie Request] dbrproductsupplyp101, 2205240050001764 genie, Genie-2205250030000144, 2205250060000952 genie, 2205170050002982 || Genie Access Request (WS-8003504863710084), Genie 2205250040007523, Genie-2205250040009377, genie 2205250010001325, Genie-2205260040000787, Genie-2205260060000312, 2205260030000947 GENIE, Genie for 2205260030001267 , 2205100040006478 genie, Genie - 2202210040006429, 2205270010000553 genie, 2204260040007251003 - 338436079551930 Genie Access, genie for #edqwe, genie for #2205250050000600, 2205240050001379 - Genie, genie for #2205270050000655, 2205290030000057 | Genie, Genie 2205240040005232, genie 2205270030001115, genie 2205210030000305 genie 2205210030000305, Genie-2205290030000057, DBInsight 2205270040003899  Genie 2205250060001505 , 2205270050000944 genie, 2205300050000181 genie 2 2205270050001241 genie 2205300050000181 genie, 2205270050001276 - Genie, e-mail notifications when jobs are skipped genie genie, Genie-2205130060001012, Genie - 2205300040004457, 2205250060000952 Genie EU 2205250060000952 Genie US, Genie-2205310030000459, genie for #Case2205300030001172, genie for #2205310050000310, 2205310050000427 genie 2205310050000341 genie, genie for #2205310050001170, Genie - 2205240040005232,\n",
      "\n",
      "Cluster 10 words:\n",
      "\n",
      "Cluster 10 titles: ARR | Genie | Cluster not terminated due to inactivity - 2205020040004681, ARR - Sev A - Cluster terminated.Reason:Azure Vm Extension Failure, extension on trial, GPU Cluster Terminated - GCP Resource Stockout, Cluster Terminated. Reason: Azure VM Extension failure, Cluster is in terminated state and not available to receive jobs, Cluster terminated.Reason:Azure Vm Extension Failure, genie- Cluster upsize completed but 10 containers could not be added.Reason:Azure Quota Exceeded Exception, Cluster terminated - Bootstrap Timeout- , 2205130030000118  Cluster is running but 1 containers could not be added.Reason:Cloud provider launch failure 2205130030000118, ARR| Genie | Unable to Launch clusters due to Azure VM Extension Failure - 2205170040004703, Prod & Dev DBKS Job Failures due to Azure VM Extension Outage for Bootstrap Script Execution, [ARR][Cluster terminated.Reason:Storage Download Failure], ARR | | Databricks cluster not being created / :Azure Vm Extension Failure | 2205180050001306, Prod & Dev DBKS Job Failures due to Azure VM Extension Outage for Bootstrap Script Execution, Cluster terminated.Reason:Self Bootstrap Failure, Cluster terminated.Reason:Self Bootstrap Failure Cluster terminated.Reason:Self Bootstrap Failure Databricks related queries, Cluster launch fails with Failure message Cloud Provider Failure Azure VM Extension stuck on transitioning state, Job-cluster is slower than interactive cluster Recovery related issue. Cluster terminated.Reason:Storage Download Failure,  RCA for Issue Faced on 05/23/2022 related to VM instance Quota Failure,\n",
      "\n",
      "Cluster 11 words:\n",
      "\n",
      "Cluster 11 titles: java.util.NoSuchElementException , Job failed intermittently with \"java.lang.ClassNotFoundException: com.crealytics.spark.excel.DefaultSource\", Java error message in the Job execution - spark jar task, Jar not available when Job starts, Unable to submit Databricks Jar job and pass the spark parameters, Object sqldb is not a member of package com.microsoft.azure. the latest JAR with dependencies is installed but still have the error pop up., FileNotFoundError in spark execution, Java App Fails to Establish TLS handshake, java.io.IOException: No space left on device,\n",
      "\n",
      "Cluster 12 words:\n",
      "\n",
      "Cluster 12 titles: Follow Up SF 00143076, Follow up of ticket (00138914), Follow up of 00141502, Follow up of Sf ticket 00143272, follow-up of SF # 00140194, Follow up of- 00140935, 5829038454671229 - 10280a44-7716-4c2a-8238-1b1796d4fde3 - 2205060040004996 follow-up for SF # 00143521, 2205090010000402-1 2205090010000402 Follow up 00143996, Genie for 2204120030001216  Follow Up 00142454, follow-up for SF # 00143824 ARR - follow-up to 00142942, Follow Up 00145019, genie this is a follow up ticket for 00146626, Genie:ARR: Jobs failure: 2205160010002619  ARR:Follow up SF 00133177: Can't connect to cx_Oracle.connect:SR2205130040004909 , Follow up of - 00143612, follow-up for 00144952, follow-up for 00142942 , 00145606, Follow up of - 00146348, follow-up for 00138037, follow-up of 00143245, Follow-up to 00146362 - concerns regarding cost increase due to increased DBFS usage, Follow up of 00142853,\n",
      "\n",
      "Cluster 13 words:\n",
      "\n",
      "Cluster 13 titles: All jobs in dx2 shard fail as Cancelled, using union along with function can sometimes fail, Log out databricks.webapp functionality for the shard.yaml file, Databricks Job Cancelled, Databrick notebook fail intermittently., ARR | 2205160050001904 | Cluster tasks were cancelled, Databricks Cluster creation time increased post fail over from west to east ,\n",
      "\n",
      "Cluster 14 words:\n",
      "\n",
      "Cluster 14 titles: ARR Customer Cummins - Not able to run Scala scripts on 10.4 LTS, Databricks job which previously succeeded now fails with 'duplicated PyPI package' error, ARR Customer Cummins: Issue -  trying to use import pandas_profiling (pandas-profiling · PyPI) but it is failing ,\n",
      "\n",
      "Cluster 15 words:\n",
      "\n",
      "Cluster 15 titles: Error connecting to Trino JDBC  I got stuck to an error in data bricks , the error is ' Command result size exceeds limit: Exceeded 20971520 bytes (current = 20972463)', View \"exceeds the maximum view resolution depth (100)\", Error connecting to Trino JDBC, I got stuck to an error in data bricks , the error is ' Command result size exceeds limit: Exceeded 20971520 bytes (current = 20972463)' I got stuck to an error in data bricks , the error is ' Command result size exceeds limit: Exceeded 20971520 bytes (current = 20972463)', I got stuck to an error in data bricks , the error is ' Command result size exceeds limit: Exceeded 20971520 bytes (current = 20972463)' Follow-up of SF ticket  00144370, Timestamp error while reading data, Hitting rate limit of 100 nodes per minute.,\n",
      "\n",
      "Cluster 16 words:\n",
      "\n",
      "Cluster 16 titles: Genie Access | ARR SR# 2202150030002462002, [ARR] [Sev C] SR-2204110030000414 genie access, Genie Access - SR 2204250050001910 Genie Access - SR 2204170030000336, Genie Access - SR 2205040030001061, [ARR] [Sev B] SR-2205050010002241 java.lang.OutOfMemoryError: GC overhead limit exceeded Genie Access - SR 2204040030002605 Genie Access - SR 2205050010002241, Genie Access | ARR SR# 2205050030001519, Genie Access - SR 1420256201526416, Genie Access | ARR SR#  2205060030001100, Genie Access - SR 2205110030001940 Genie Access - SR 2205110030001940, Genie Access - SR 2204250050001910, Genie Access - SR 2205130030001214, genie Access | ARR SR# 2205110030001742, Genie Access | ARR SR#  2205170030001300, Genie Access - SR 2205190030001704, Genie Access - SR 2204250050001910, Genie Access - SR  2205130030001214, Genie Access - SR 2205230030001094, Genie Access - SR 2205190010002627, Genie Access | ARR SR# 2205110030000395, Genie Access | ARR SR# 2205170030001630, Genie Access | ARR SR# 2205250030000379, Genie Access | ARR SR# 2205130030001130, Genie Access - SR 2205250040009267, Genie Access - SR 2205250040009267  [ARR] [Sev C] SR-2205250050001827 Quota request for Other Requests, Genie Access | ARR SR# 2205260040002506, Genie Access | ARR SR# 2205270050000380, Genie Access - SR 2205290030000234 Genie Access - SR 2205290030000234, Genie Access - SR 2204250050001910, Genie Access | ARR SR# 2205250030000379,\n",
      "\n",
      "Cluster 17 words:\n",
      "\n",
      "Cluster 17 titles: Resource /subscriptions/a7bdf2e3-b855-4dda-ac93-047ff722cbbd/resourceGroups/DATABRICKS-RG-ODSDATABRICKS-LTBCKEX5EBCQW/providers/Microsoft.Network/networkInterfaces/AC576E96C57F4F5E908521AFA4000EA3-PRIVATENIC not found, The instance of the SQL Server Database Engine cannot obtain a LOCK resource at this time, java.io.IOException: Resource temporarily unavailable, Adding service principals to group, Unable to mount container in databricks script but are able to mount same container in databricks resource in separate resource group, abc  Unable to mount container in databricks script but are able to mount same container in databricks resource in separate resource group , 2205160030000602 | ARR | unable to mount adls in databricks, 2205180030000703 how to find out the service principle/Azure Active Directory application used to mount a container, Deploy Databricks failed when use a resource group which include GB character in name, 2205240040005594 | container,\n",
      "\n",
      "Cluster 18 words:\n",
      "\n",
      "Cluster 18 titles: genie access, Genie Access for 2204270060000414, genie access, Genie Access, Multiple Library installation failure on prod cluster Genie access GENIE ACCESS Genie access , 2205050030000551_Need Genie Access, genie access, table access, 2205050040007762 - genie access, Genie Access, Genie Access, Genie Access, 2205120010001139_Need Genie Access, Genie Access, Genie Access, genie access, genie access, genie access, 2205100030002299 for Genie Access, 2205160030000288001_Need Genie Access 2203170040001201_Need Genie Access, Genie access, 2205160040006321_Need Genie Access, 2205170040002305-Need Genie Access, Genie Access, genie access, Genie Access | We are observing access issue to ADLS from databricks, 2203170040001201-Need Genie Access, genie access, 2205110030000902_Need Genie Access, SQL access, 2205190030000748_Need Genie Access 2205190030000748_Need Genie Access, Genie Access, genie access, 2205200030001660 - Genie Access, Genie Access, genie access, Genie Access  - 5539637243235386, 2205240030000617-Need Genie Access, genie access, genie access, Genie Access Genie Access Genie Access,  2204260040007251003 - Genie Access, 2205260010001471-Need Genie Access, 2205270010000557-Need Genie Access, Genie Access, 2205310050001250-Need Genie Access,\n",
      "\n",
      "Cluster 19 words:\n",
      "\n",
      "Cluster 19 titles: Commands run very , Notebook commands getting cancelled Dip and spike in incoming messages at 12AM UTC Dip and spike in incoming messages at 12AM UTC, Genie:ARR:SevC-Notebook commands not getting executed:2205120040006755, Genie:ARR:SevB - Notebook commands not getting executed - TrackingID#2205120040006755, Genie:ARR:SevB -Notebook commands not getting executed- 2205120040006755, Notebook commands not getting executed, showing as Uploding Command on UI, UI bug Genie-sevc-2205240040008340-unable to select the log file from the web services, Genie for library installation issue Commands getting cancelled, spark mssqlconnector failing, Unable to execute Notebook commands,\n",
      "\n",
      "Cluster 20 words:\n",
      "\n",
      "Cluster 20 titles: Delta Live Tables with Autoloader, Duplicates when writing from Delta Live Table function, Issues with Delta Live APPLY CHANGES INTO, Failed to open Delta Live Tables Pipeline page.UI related issue.(Continuation  of 00143631), Failed to open Delta Live Tables Pipeline page-Genie, Delta Live tables not provisioning reqources, ARR - Slowness in Delta tables , Failed to open Delta Live Tables Pipeline page-Genie, Need deeper understanding of Delta Live Tables, Delta Live Tables Cluster Init Scripts?, Pip in Delta Live Tables,\n",
      "\n",
      "Cluster 21 words:\n",
      "\n",
      "Cluster 21 titles: Production Databricks Cluster Fails to Re-start, Unable to start cluster, Not able to start any cluster due to timeout issue, Scheduled Job - Pass start date as parameter to notebook, Cannot create and start cluster in Azure Databricks, Quota request for Other Requests - Unable to start the cluster, Cannot start a cluster on acxiom-di-datahub-appdev-admin.cloud.databricks.com, cannot start job,  SQL endpoint cluster failing to start in PROD, Cluster Unable to start after april 13th 9PM-2205160040005458 , genie access request: unable to start azure databricks cluster genie access request: unable to start azure databricks cluster, Databricks cluster Start Up Failure, New Job Clusters Are Not Able To Start, ARR- ATT- Clusters with GPU won't start- 2205200040006767 , SQL endpoint failing to start, Unable to start clusters, 2205180050001916 - Missing Library after cluster start, ARR- ATT- Clusters with GPU won't start- 2205200040006767, cannot start cluster on northcentralus cannot start cluster on   northcentralus, ARR | 2205250060001495 |  PointsBet | Outage | Unable to start clusters ,\n",
      "\n",
      "Cluster 22 words:\n",
      "\n",
      "Cluster 22 titles: The training process is idle , <<need EMEA engineer>>  missing MLflow Model Run, Databbricks certification /training, Need your confirm that if we could check , 0220 Need to check why the model training for so long and there has a good run for this. {CSAT Impacting}Cannot Add Scope for Key Vault in the Databricks side, Genie-2205250030002103 Need to check why the model training for so long and why it's stuck shown from log4j logs,\n",
      "\n",
      "Cluster 23 words:\n",
      "\n",
      "Cluster 23 titles: ARR | notebook failure | 2204040050001708 ARR | JDBC error connecting to synapse | 2204190030002165 , genie-com.microsoft.sqlserver.jdbc.SQLServerException ... SSL Error: 'Unexpected rethrowing', [ARR] Connection from Databricks to synapse using jdbc intermittent issue-SSL Unexpected rethrowing, Connectivity Issue to Synapse - From Databricks using JDBC  genie access,\n",
      "\n",
      "Cluster 24 words:\n",
      "\n",
      "Cluster 24 titles: Databricks:  When clicking on completed jobs get HTTP ERROR 403, MALFORMED_REQUEST: Invalid vpc endpoint in the HTTP request body, Clicking run all results in error in notebook, TEMPORARILY_UNAVAILABLE: HTTP Response code: 504, http issues, Databricks:  When clicking on completed jobs get HTTP ERROR 403, Databricks:  When clicking on completed jobs get HTTP ERROR 403,\n",
      "\n",
      "Cluster 25 words:\n",
      "\n",
      "Cluster 25 titles: 2205110040001203, 2205110040001203, 2205110040001203, 2205160030000169 driver library installation failures 2205160030000169 2205110040001203 CONTAINER_LAUNCH_FAILURE(SERVICE_FAULT), 2205110040001203 ,\n",
      "\n",
      "Cluster 26 words:\n",
      "\n",
      "Cluster 26 titles: Databricks Upgrade v3.55, Databricks - Cluster Upgrade with gdal, AirCanada - workspace  Genie: AirCanada || 2205040030000256 || ADF failures with Aircanada, Auto upgrade Cluster, regular spark driver failures in job after upgrading 9.1LTS to 10.4LTS, Databricks - Cluster Upgrade with gdal, Spark down failures, Parsing RDD with read_csv behavior changed between 7.3LTS and 10.4LTS, genie Upgrade databricks to 10.4LTS hive metastore causing job failures, job failures even after reties, Follow up of (00146728)Databricks - Cluster Upgrade with gdal,\n",
      "\n",
      "Cluster 27 words:\n",
      "\n",
      "Cluster 27 titles: ARR | 2204280040006201 | reading data from snowflake connection , ARR Customer: Deloitte - Unable to Access Databricks Cluster , ARR Customer: UniParks - Databricks to storage/Synapse connection issue, Spark driver fails on write operation on Azure Synapse and failure in Azure Synapse connection to ADLS2 account, Connection pool shut down, connection to rds mysql server hosted by databricks reset/disconnected error in cluster log, ARR Customer Rogers INC: Unable to Deploy Clusters  ARR Customer Safeway: Databricks Workspace is intermittently inaccessible. This affects them logging into the workspace and attempting to start their notebooks. The Main screen loads, but selecting a query fails to bring up that query.  ARR Customer Safeway: Issue - Th customer has an issue where the Databricks Workspace is intermittently inaccessible. This affects them logging into the workspace and attempting to start their notebooks. The Main screen loads, but selecting a query fails , SQLRecoverableException: IO Error: Connection reset, ARR Customer Uniparks: Issue - Databricks to storage/Synapse connection issue ARR Customer Nestle: Issue -  Time out error - org.apache.spark.SparkException: Environment directory not found at /local_disk0/, Connection pool shut down, ARR Customer NBC Universal: Issue writing from Blob Storage to Azure Synapse DW, Job is failing due to Connection pool shut down, ARR - Customer getting error on GUI when viewing all purpose cluster genie access, ARR Customer Giliead Sciences: Issue - Module OS has no attribute PathLike ARR Customer Starbucks: Issue - Problems initiating Cluster Upsize , passwordless SFTP connection passwordless SFTP connection, ARR Customer Starbucks: Issue - Intermittent issues during auto scaling. ARR Customer Chicago Trading Company: Issue - Databricks Clusters are Inaccessible ARR Customer Chicago Trading Company: Issue - Unable to Access Clusters. ,  Connection failed to DataBricks, ARR Customer CVS: Issue - Unable to grant read/list permission to Databricks service principal to KeyVault, Key Not Found,\n",
      "\n",
      "Cluster 28 words:\n",
      "\n",
      "Cluster 28 titles: Synapse Pipelines Failing, 4310827714638474 - 934970a2-fedc-42dd-9240-1793428f4211 - 2205050040006329 7325620703232380 - 3377047f-02a8-4316-91eb-99afd67a0352 - 2205030040006573 ARR - AT&T - 2204290040002695 - Databricks job failing with sockettimeout error, 0070 - g - ARR - ATT - Streaming job failing on one of 4 pipelines,  Job has been failing with xlrd error, Job has been failing with xlrd error, Job is failing with regex expression error, Azure ADF pipelines are running longer than expected, Pipelines are failing with an error,\n",
      "\n",
      "Cluster 29 words:\n",
      "\n",
      "Cluster 29 titles: sending logs from databricks to AppInsights is not working, 2205050050000703 Cx cannot clone and move a folder in workspace using UI, Scala not working, UI is limited for DBFS, Account-level Groups UI Issues, Display visualizations not working with python notebooks, Autoscaling not working, json serde queries not working on 10.5 DBR , 2205110030000282 |IHS Markit| POI module not working, Driver logs on UI are not showing correct creation time, 5641 - g - ARR - MolinaHealthCare - Search function not working in Databricks SQL for filter on data sources., Databricks UI Loading times, Spark UI is not presented well, Hyperopt x.x.x.dbx on customized cluster Ganglia UI on customized clusters, AutoML ui, 2205180050000638 problems with UI, cannot load pages, Streaming Aggregation not working with Delta Source, Checkpointing not working for some queries, request to know the steps to create service account and service principal via databricks UI, Databricks SQL page with errors, not able to load saved queries nor the UI., Genie access request Delta partation is not working, vacuum not working, Ganglia stops working, UI access not working, spark.conf.set(\"spark.default.parallelism\",90) not working in Notebook, UI of the \"Tables\" tab is not refreshing when navigate the \"Data\" explorer, The Spark UI link not acccessible, 2205310030000660 | ARR | Decimal Data type scale being limited to 2 in SQL Endpoint UI,\n",
      "\n",
      "Cluster 30 words:\n",
      "\n",
      "Cluster 30 titles: Is there a download API for databricks billing?, Billing invoice, billing question, Billing in AWS, Azure Databricks Billing Query., Billing Details,\n",
      "\n",
      "Cluster 31 words:\n",
      "\n",
      "Cluster 31 titles: Unable to login from MacBook Pro, Manage Accounts, Workspace user login issues after AD username changes. , The user ryan.cox.-nd@disneystreaming.com is unable to login to Databricks via SSO, Unable to login to workspace, Not able Manage Account and Devops , Unable to login to Databricks workspace. , Not able to login from manage account, Not able to find clusters,repos and admin access also removed in hub account, Not able to manage cluster in premium tier with Owner permission.,\n",
      "\n",
      "Cluster 32 words:\n",
      "\n",
      "Cluster 32 titles: Facing \"PERMISSION_DENIED\" error while configuring audit log delivery, DBU Usage Log Issue, Need help validating audit logs - CSET tool audit is not working for west europe, Log files can be truncated, Job marked finished but output not written.  Still , How to avoid WARNING: skipped 44535 bytes of output in job output, About the specification to output the audit log to S3,\n",
      "\n",
      "Cluster 33 words:\n",
      "\n",
      "Cluster 33 titles: ARR | 2204220060001879 | , [ARR][Safeway][No Such Element], [ARR][Genie][AIA], [ARR][AirCanada], 2205040030001055 |  ARR | Adobe  2205040030000342 | ARR | Unilever 2205040030000342, Genie:ARR:SevB - access the API inside Azure Databricks but failure in name resolution error:SR-2205040030001343, ARR - 2205030030001177, Genie:ARR:SevB - Need to get Public IP of Azure Databricks Workspace:SR-2205060010002214, 6772 - ARR - Morgan Stanley - stderr stdout are not accessible on the executors., ARR | 2205110030001559 | genie, Genie:ARR:SevB - Connection DB cluster by JDBC/ODBC with AAD token, can we use same token for blob storage authentication:SR-2205120040004860 , Genie:ARR:SevB - com.databricks.NotebookExecutionException: TIMEDOUT:SR-2205110040009992, 2205130030000705 | ARR | Jobs_failing, Genie:ARR:SR2205130040004909 , 2205140050000228  2205020030000861 |  Gap | ARR 2205020030000861, Genie:ARR:SevB - Genie:ARR:SevB - 2205160040005458, ARR | 2205160030001890 | genie, 2205110030000348 |  Symantec Corporation | ARR, Genie:ARR:SevB -Ganglia UI Bad Request Size of a request header field exceeds server limit-2205170050001933, Genie:ARR:SevB -can't connect to cx_Oracle.connect-2205130040004909 , Genie:ARR:SevB -Unable to connect to databrciks from Power BI Desktop client-2205170040007237, Genie:ARR:SevB - , ARR | 2205230030000498 - Databricks_API_issue, ARR | username not being identified | 2205200010000014, ARR |  | 2205130040004443, Genie:ARR:SevB - Job failing to execute-2205240040005960, [ARR][Genie][Eventhub job],\n",
      "\n",
      "Cluster 34 words:\n",
      "\n",
      "Cluster 34 titles: genie unity catalog private preview feature, Unity Catalog Data Explorer stopped working, Unity Catalog Enablment on Azure Databricks, Unity Catalog integration with third-party tools, Unable to access Unity Catalog Data - Storage Credentials as workspace admin,  Enable Delta Share ,Photon and Unity Catalog, Issue with certian DBR versions connecting to Glue catalog, Enable Unity catalog, Enable Unity Catalog, Please help to enable the Unity Catalog for customer, Upsert failing against destination table in Unity catalog,\n",
      "\n",
      "Cluster 35 words:\n",
      "\n",
      "Cluster 35 titles: ARR | MLFlow project run failure, no logs available | 2203230050002013, Issues with model serve from mlflow, MLFlow Model Registry staging options 2205110030000113 , MLFlow, mlflow run on databricks-connect, MLFlow model version pending to be deployed forever, Best practices for deploying mlflow model to Azure Container Instance, unable access to experiment in mlflow, MLFlow Infinite Recursion Error when unselecting metrics, Databricks MLflow bug, Databricks MLFLow behaviour appears to have changed, MLflow protobuf Python version problem,\n",
      "\n",
      "Cluster 36 words:\n",
      "\n",
      "Cluster 36 titles: GAR for 660888044813307, gar for https://adb-3018353714729944.4.azuredatabricks.net/, gar for , Gar for ws 1958239611621368, gar for 2205160050001598 , gar for 1958239611621368, gar for , gar for 2205170050002951 , GAR for 6036272996126062, GAR for 2205230030000890 , gar-for-2205170050002951 , GAR for SR 2205200050001297 , GAR for 2205260030000949 , GAR for 2205270030001293 , gar request for 2205200050001297 , gar for 2205160050001134 ,\n",
      "\n",
      "Cluster 37 words:\n",
      "\n",
      "Cluster 37 titles: Access Azure Synapse from Azure Databricks with SQLDW spark connector Keep data table up to data, Disable 'Create AutoML Experiment' Feature, please help to confirm Job notification(alert) feature was deploy in Azure China, 2205050050001878  notebook to store parquet files executing already for 60 hours., Feature Store: training set load joining failure, we need assistance with databricks scim/sso implementation on azure, Swithcing E1 from ADFS to Azure AD SSO - Errors, Errors on Azure Databricks Feature store, security feature, Feature store doesn't allow nullable fields Feature Store API in Docker, Genie:ARR:SevB - Online Feature Store MySql Access Not Working From Databricks-2205190040007612, Azure Databricks autorun fails, Inquiry on Azure Databricks notice tracking id MTM3-BT8, Access Azure Synapse from Azure Databricks with SQLDW spark connector, some inconsistent stats in the few feature 'Data Profile', issue using the databricks feature store on an ephemeral run, TypeError when importing feature store, Disable delta feature,\n",
      "\n",
      "Cluster 38 words:\n",
      "\n",
      "Cluster 38 titles: _SUCCESS file is missing when writing .orc file, Exception while reading checkpoint file in _delta_log folder, Inconsistent File Loading Error, On some occasions the count file is having more numbers than the data file, Cannot put file in dbfs mount folder, On some occasions the count file is having more numbers than the data file,\n",
      "\n",
      "Cluster 39 words:\n",
      "\n",
      "Cluster 39 titles: Launch cluster failed on TEST environment , Clusters failing with internal Failures, Clusters not coming up: Unexpected launch failure, SSH access for E2 secure clusters,  Issue with Databricks Auto Loader--2205040040007021  OCR cluster taking too long to launch after initiating the cluster--2204220040005758   Multiple results being returned for same code--2204290040004791  Timeout Issues--2204220040007031  OCR cluster taking too long to launch after initiaing the cluster--2204220040005758 , ARR | GAP | Job cluster with specific pool launch fail with Array Index error. | SR: 2205030010000748  , URGENT - Cluster Failing To Launch, Detaching notebooks from clusters, Required libraries were not installed when clusters started, causing problems in running jobs on clusters,- Saved, Databricks SQL: Clusters are failing to launch, Required libraries were not installed when clusters started, causing problems in running jobs on clusters,, genie-Virtual machines failing to launch, Cluster fails to launch with an error, Unable to launch a large cluster, Cannot Launch Workspace , ARR- ATT- spark ignoreMissingFiles is not working with single node databricks clusters-2205120040001867  , Reverse CredentialsProvider setting Provide Nexus credentials to clusters, [ARR][ 2205250030002536][AholdDelhaize]we are unable to see clusters in Prod ADB03 workspace. Getting Backend service unavailable error., [ARR] cannot see the deletion of clusters in Log Analytics,\n",
      "\n",
      "Cluster 40 words:\n",
      "\n",
      "Cluster 40 titles: Accounts API Create Workspace call fails every time in new OEM Databricks account, Support access, Issue with FeatureStoreClient Python API when working with a string type Primary Key, Genie Access Request Install requirements.txt libs using Jobs 2.1 API, UDF-based External Function not support on SQL Endpoints, Unable to connect to Azure SQL DB- Saved  POST and GET API calls for the custom entity xomuog_well are experiencing long latency issues. The API calls are originating from Microsoft Azure Databricks.  The databricks jobs that used to run in 20 minutes is now taking 18 hours  Query using odbc is getting stuck, POST and GET API calls for the custom entity xomuog_well are experiencing long latency issues. The API calls are originating from Microsoft Azure Databricks.  The databricks jobs that used to run in 20 minutes is now taking 18 hours., Databricks SQL Error POST and GET API calls for the custom entity xomuog_well are experiencing long latency issues. The API calls are originating from Microsoft Azure Databricks.  The databricks jobs that used to run in 20 minutes is now taking 18 hours, Getting 504 timeout error when using API to get list of groups/users, Deprecating support for updating regions on Workspaces, The function does not support the DBFS FUSE mount., Genie Access | Kafka API, Job clusters REST API, Out of memory support  test,  Not able to call email API services from databricks notebook Not able to call email API services from databricks notebook SQL endpoint cluster failing to start in PROD, Databricks API support, SCIM API timeouts with Okta integration, Download SQL Analytics dashboard via API, 2205090030000751-Need Genie Access 2205090030000751002-Need Genie Access CSS-ARR-2205230030000434-databricks job api calls failing with StatusCode: 503  2205230030000434-Need Genie Access CSS-ARR-2205200050001067-Jobs are failing with error 'Caused by: com.databricks.NotebookExecutionException: FAILED', REST API connectivity Issues from ADB Notebook, Jobs API downtime ?, Disable Schedule of Dashboard via API, ARR s500 | 2205040030001107 | Jobs API issues, Exception equests.exceptions.HTTPError: 429 Client Error: Too Many Requests for url: https://centralus.azuredatabricks.net/api/2.0/jobs/list, runtime 6.4 support ending by June'22. What is the best way to upgrade with least amount of changes and regression testing? Extension?, Unable to access Jobs API 2.1 - 401 Access Denied, Databricks Attempts to Create Clusters in AZ's without support for requested nodes., Sev A ARR Adobe CSO - Critical Support Ticket - Jobs Failing with no Changes - Sev 1,\n",
      "\n",
      "Cluster 41 words:\n",
      "\n",
      "Cluster 41 titles: load data from infludb in delta : looking for examples/advices, Read JSON/CSV files  from a Bitbucket repository that is directly connected to Databricks., Read csv/zip files from Github, \"No such file or directory\" error when using databricks impor_dir cli, ARR | Genie | The 'R' package 'prophet' fails to load | 2205090040005472 , ARR | The 'R' package 'prophet' fails to load | 2205090040005472, Spark CSV reader is mis-interpreting date format, [ARR][2203310040005788 ][Pepsico]unable to reach Azure load balancer from databricks, Databricks is failing when we are writing more csv files., Failed to upload data into the databricks bucket using this databricks load generator , CSV file load issue using COPY INTO command, How to load excel(xlsx) file into dataframe?,  load excel(xlsx) file into dataframe?, Issues reading json column from csv, 2205180030000254  The execution of this command did not finish successfully, Command stucks when submitted,\n",
      "\n",
      "Cluster 42 words:\n",
      "\n",
      "Cluster 42 titles: Serving a Keras Model with Custom Loss, Issues Serving Pyspark Recommendations Models, Unable to connect from Databricks (dbw-smartfleet) to mongo instance running in int-hal-pe-prd subscription. Unable to run Synapse connector code, Job fails Not able to run code, genie, Enable monitor for model drift and data drift using MLFlow, MLFlow enable serving through code is not working, genie- SMTP server configuration to our customized App code, A piece of code in one of the notebooks has been behaving erratically,\n",
      "\n",
      "Cluster 43 words:\n",
      "\n",
      "Cluster 43 titles: Discrepancy in output of same SQL query when run in notebook against in DBSQL editor, Query Watchdog \"dry run\" mode, SQL query works in DBR 9.1 but fails in DBR 10.4, SQL query works in DBR 9.1 but fails in DBR 10.4, CREATE WIDGET fails with block comments in the same cell Creating SQL functions is broken in DBR 10.5, SQL Analytics unable to run query, Create Query in Databricks SQL is not working, SQL query runs fine on DBR 7.3 LTS but exact same query is broken on DBR 10.4 LTS, SSO Broken in all workespaces, SQL query ran for 25 hours and normally completes in few seconds. genie, Cannot edit broken query in Databricks SQL,\n",
      "\n",
      "Cluster 44 words:\n",
      "\n",
      "Cluster 44 titles: Does the version of databricks runtime must no less than the docker base version for it to run?, iPython version issue, Connecting from fivetran to databricks  throwing error Check version compatibility: Failed to read databricks cluster version. Error : {\"error_code\":\"403\",\"message\":\"Unauthorized access to Org: 3438608682691136\"}, Job failing after DBR version changed, Progress of Feature request  Spark version change issue,\n",
      "\n",
      "Cluster 45 words:\n",
      "\n",
      "Cluster 45 titles: Email Databricks Dashboard has Empty Content, Scheduled Dashboard not sending email after refreshing, OIDC for E2 - Missing email claim, testing case for email notification. Ignore. Assign it to Smijith if found unassigned testing case for email thread merg, Email Alerts to group email, problem with email invitation for new users, Cannot send email from Databricks, New user doesn't receive an invite email, Job email notification alert not sending to specific email address,\n",
      "\n",
      "Cluster 46 words:\n",
      "\n",
      "Cluster 46 titles: 2205020030000110  | Production jobs are failing with Argument not found error  |  AholdDelhaize.com, 2205040030000641 | Production jobs are aborted | Air Canada, many jobs on the Scheduled Jobs cluster failing at the very beginning with 'Canceled' messaged, Production ETL job failing due to Connection refused error, Jobs can't be scheduled on the 30th or 31st of the month, Jobs failing with \"Unexpected failure while waiting for the cluster\", Jobs not terminating, Jobs in Production and QA Databrciks are failing due to timeout error,  Jobs in Production and QA Databrciks are failing due to timeout error, Multiple Jobs Failing For GE Finance DataLake, All jobs are failing, Multiple production jobs are failing, Too Many Jobs , Jobs are failing around the same time,  When two jobs are reading from hive table, sometimes one of the jobs fails (randomly), Jobs of migration are stopped with out rason, RND - Production jobs failed with network connectivity issue, GE FDL: Production DBR jobs failing, Jobs failing with 'File already exists',\n",
      "\n",
      "Cluster 47 words:\n",
      "\n",
      "Cluster 47 titles: /etc path permission issue in DBFS for Unravel, 2205130050001971 genie, [ARR][2204260040005094 ][Geico]Unable to set log destiation to dbfs mnt, 2205130050001971 access to DBFS from SQL endpoint,\n",
      "\n",
      "Cluster 48 words:\n",
      "\n",
      "Cluster 48 titles: Pfizer - Databricks overwatch Cost metrics Information Security - AWS Account 414351767826, Connectivity issue with AWS MSK cluster from AWS Databricks, aws instances running non stop, Data plane traffic from databricks compute machine to s3 is going via NAT Gateway which is causing huge bill on Nat Gateway of AWS, How to Mount Bucket with Temporary AWS Credentials, Integration with AWS Glue and Redshft, AWS Credentials not Loading on 1st run once a Cluster is Started, Unable to connect to AWS Athena from AWS Databricks Workspace, Connection Latency to aws secret manager from Databricks, AWS S3 Autoloader returns all NULL values, Problem with private link deployment in AWS, Unexpected Unity Metastore in AWS Workspace, AWS cloudwatch metrics, Increased AWS data transfer regional costs on clusters, How to connect to aws quicksight from databricks, AWS Please reduce your request rate., Error on MetaStore when using uploaded JAR for DB connection with AWS PrivateLink,\n",
      "\n",
      "Cluster 49 words:\n",
      "\n",
      "Cluster 49 titles:  Unable to create empty delta tables in the ADLS stoarage,  Unable to create empty delta tables in the ADLS stoarage Unable to create empty delta tables in the ADLS stoarage Unable to create empty delta tables in the ADLS stoarage, org.apache.spark.SparkException: Unable to fetch tables of db edl_dev_pd_publish, unable to create Db and tables Job failed with cluster termination, Cluster unable to access Delta tables and S3, unable to create Db and tables, 2205100040000587 | Contributor role 2205060010001677 | Delete tables, Unable to create a workspace through the Admin Console UI, genie-This amount may not have enough CPU cores - cannot create Virtual machines for Standard_E80ids_v4., Clusters not coming up - cannot create elastic disk cluster,  not abale to create cluster through azure databricks, \"Unable to create session\" error, Unable to access ADLS containder from Azure Databricks cluster, Unable to find valid certification path to requested target, Unable to create Workspace - OAuth Error, 2205120030001569 | ARR | Unable to create cluster. Genie, CREATE OR REPLACE TEMPORARY FUNCTION fails, Unable to grant access to database, ARR | Production issue : Unable to read delta tables | GEP | 2205250030000679  2205190030002256  ARR | Shell | 2204220060001123 | Follow up ticket 00143284 | INIT scripts are not downloading the jar with dependencies | , Loading tables with billions of records, Genie: AirCanada || 2205260040008301 || Unable to write in DEV storage Genie: anheuser-busch.com || 2205260030002078 || DBR 10.4 - cannot create views, Missing tables,\n",
      "\n",
      "Cluster 50 words:\n",
      "\n",
      "Cluster 50 titles: Databricks: issue with Simba JDBC connector, ARR - AT&T - 2204280040000761 - Unknown instance type messages in the log ARR - AT&T - 2205030040006573 - Disk expansion with jobs, Trino Delta Connector, Prolonged execution time for PySpark SQL jobs in Azure databricks, Unable to connect ODBC Simba Spark Connector to Databricks SQL End Point, Databricks HC Cluster is running extremely slowly(Similar to 00145865), Databricks jobs getting failed due to AWS_INSUFFICIENT_INSTANCE_CAPACITY_FAILURE , 2205120030001514 | ARR | Is it possible and supported to create a job using service principal?, ARR 2205230050000756 - Databricks jobs stopped Genie for 2205230050000756 , Error when connecting PowerBI with Databricks Snowflake connector, ARR | 2205200050000441 | Databricks Security and Compliance, ARR - GAP - 2205200010002443 - Diagnostics logs are not available ARR - EY - 2205200040005272 - Databricks jobs failed, Confluent Databricks sink connector, Sev A - ARR - Facing issue Running jobs using databricks sql connector, ARR|AT&T| Running jobs using databricks sql connector-, Is there any connector available for writing  to dynamodb from databricks pyspark/scala spark ? , how to execute SQL file (Databricks detla tables quires ) using sql enpoint in commandline (CICD purpose)., Databricks jobs failed due to AccessDeniedException,\n",
      "\n",
      "Cluster 51 words:\n",
      "\n",
      "Cluster 51 titles: pyodbc has beem installed but there still got the error :ModuleNotFoundError: No module named 'pyodbc' 2205090060000315 -gennie Operation on deltatable is slow {Prob impacts} 2205090060000315 , Databricks Cluster reports ModuleNotFoundError: No module named 'pmdarima', genie-Internal server error on ADF to Databricks, ModuleNotFoundError: No module named 'sqlalchemy', DLT import custom python module, ModuleNotFoundError: No module named 'tabulate, Databricks SQL does not open SQLEditor - Internal Server Error, ARR- Pepsico- ModuleNotFoundError: No module named 'tabulate'- 2205130040007034, Databricks jobs failure with Internal Python error in the inspect module.,\n",
      "\n",
      "Cluster 52 words:\n",
      "\n",
      "Cluster 52 titles: cifs_utils / mounting windows network file share fails, Log delivery configuration using Terraform , Terraform utilize generated token, Can't specify configuration to SSE-KMS on a per-bucket basis, Unable to Drop Database because S3 bucket is no longer there, Root bucket versioning, terraform script for defining sql permissions, Terraform error for mounting a bucket, Invalid Bucket Error, bad configuration in terraform, NFS/EFS Volume Mounting, Root bucket error in log4j,\n",
      "\n",
      "Cluster 53 words:\n",
      "\n",
      "Cluster 53 titles: DESCRIBE HISTORY issues, S3 Access Issues since Monday , Vulnerability report shows a few issues Unable to use Grant SQL cmd., Cluster issues, GC Issues, Data persistency issues, issues with reading file in the resources directory, Databricks memory issues, Intermittent Load Issues - Databricks Portal, Advana Databricks PVC v3.68 Upgrade Issues, job execution issues, Notebook issues, Platform Issues Faced , 2205190050000006 Issues when connecting to SQL server from Databricks, Issues accessing clusters in azure databricks instance, Gapply Collect (executor issues) ,\n",
      "\n",
      "Cluster 54 words:\n",
      "\n",
      "Cluster 54 titles: CLOUD_PROVIDER_LAUNCH_FAILURE(CLOUD_FAILURE):, 2205180030001357 CLOUD_PROVIDER_LAUNCH_FAILURE(CLOUD_FAILURE), \"error: only cluster owner is able to change the secrets\" DATABASE_CONNECTION_FAILURE(CLOUD_FAILURE),\n",
      "\n",
      "Cluster 55 words:\n",
      "\n",
      "Cluster 55 titles: Access S3 bucket in different accounts, Need to create additional workspace on different AWS account., Issue while accessing certain s3 bucktes from Databricks, 2205100050002765 Different applications have the same app_id under metrics namespace, Accessing S3 Data in E2 as tables , Creating additional Workspace in different AWS account. , Issue Accessing file from different AWS Account!, Geniee portal is showing different rows to fill, Need to share Bronze S# bucket for multiple AWS account, ARR Customer Engie: Issue - Problems accessing Databricks Workspace, Issue while downloading and uploading a jar file, Ability to specify different VM instance types based by schedule,\n",
      "\n",
      "Cluster 56 words:\n",
      "\n",
      "Cluster 56 titles: genie for #2203180030001191, genie for #2203180030001191, genie for #2203180030001191, genie for #2203180030001191, genie for #2203180030001191,\n",
      "\n",
      "Cluster 57 words:\n",
      "\n",
      "Cluster 57 titles: Delete old Non-E2 account, Migrate Instance profile from Databricks E1 to E2 in same AWS account, Databricks E2 Privatelink Endpoints - Pending Acceptance, Query profile is empty, I cannot make edits to instance pools, Cluster creation failing with Instance Profile, Not able to connect with Oracle in E2 Shard while it is working in E1, unable to add instance profile in new workspace, Core databricks instance down,\n",
      "\n",
      "Cluster 58 words:\n",
      "\n",
      "Cluster 58 titles: Cluster starting with an deregistered instance profile, SQL Endpoints not Starting, Cluster bootstrap timeout, Increase pinned cluster limit to 300, 2204220010000657 | Cluster CRUD 2204220010000657 | Cluster startup, Cluster not starting up, 2205130030001572 | Cluster CRUD, Investigate table access in logs Analytics cluster driver became unresponsive to to GC Errors Engineering cluster required restart due to unresponsive notebooks, 2205170030001845 | Cluster CRUD, All purpose cluster - Hangs, 2205160030000400 ARR | 2205160030000400 | Clusters are not starting | SC , Databricks Cluster Slowed down , Python version/library issue - hundreds of jobs are failing starting today, Cluster Terminating, Reliable Cluster Configurations, permissions changed on cluster, Databricks Clusters are not starting, Cluster Terminating,\n",
      "\n",
      "Cluster 59 words:\n",
      "\n",
      "Cluster 59 titles: Facing issue with table metadata , Retrieve instance metadata IP address not working, Facing issue while connecting Databricks and Azure SQL DB using Service Principal as authentication mode as token got expired after 1 hr, Customer is facing a CLOUD_PROVIDER_LAUNCH_FAILURE authorization issue, Metadata Queries take hours in sql endpoints randomely, 10.5 Regression - Exception when exceptAll with an empty DataFrame File metadata column name collision Terraform databricks_spark_version returning aarch64 images when graviton off, Facing issue in deployment of external ML Models on Databricks Need Assistance with Terraform for AWS - Issue in managing VPC endpoints and multiple workspaces within the same VPC, need to be able to retrieve metadata statistics for all columns of the table very slow metadata query show tables, metadata.HiveException: at least one column must be specified for the table, Intermittent metadata connectivity issue, Facing import issue in job, Metadata perfomance issue,\n",
      "\n",
      "Cluster 60 words:\n",
      "\n",
      "Cluster 60 titles: Need updates feature request #DB-I-5027, Databricks AMI updates, ARR | 2205160040000885 - Resource pool management | Feature request, Private Link Feature Request,\n",
      "\n",
      "Cluster 61 words:\n",
      "\n",
      "Cluster 61 titles: Job crashed with py4j.Py4JNetworkException error, Job failed with unknown error, genie-Job failed after 5 hours with timeout Interactive cluster processes crash during execution (zombie process), Job failed after 5 hours with timeout, Job failed due to cluster unavailble, Error when running Job, Databricks Job failed with MySQL lock job-1 error, bootstrap timeout for job, Job appears to be not running for 25+ minutes of execution, Process failed with awaitResult error, ARR:Job failed on DBR10.4 LTS, java.io.FileNotFoundException: Operation failed: 'The specified path does not exist.', 404, HEAD:SR205200040003957 , [Genie] Failed job run, 2205240050000899 - Genie Failed to acquire MySQL lock job-5, Slowness in query execution. Facing error while running job The job failed with INIT script exception., ARR | 2205270030000850 - slowness in job, [Genie]  ERROR sparklyr: Gateway (65529) is shutting down from init() with exception ,java.net.BindException: Address already in use (Bind failed), ARR | AirCanada | We need explanation why init script or job dependent libraries are recommended for ModuleNotFound error, job failed to retry,\n",
      "\n",
      "Cluster 62 words:\n",
      "\n",
      "Cluster 62 titles: Job is running from long time, ARR | 2204280030000731 - Delta lake ingestion from spark structured streaming is taking more time, All-Purpose Cluster Is taking very long to Terminate, databricks job running slower than expected, Long running jobs workspace request, Getting access denied when running job in R studio, Spark Job taking long hours to complete processing, Job is running slower than usual and is failing with time out, Queries running for a long time after adding spark config, Long running time of pymc3 sampling, databricks is holding this process for a long time without marking to success, Spark job is taking more than expected time to run in new clusters AZ-2 and AZ-3, while working as expected in old cluster AZ-1., VACUUM delta table take a long time, File read from Container is taking very long time, Writing dataframe to delta table takes long time to complete| ARR SR# 2205110030001344, File read from Container is taking very long time, File read from Container is taking very long time -2 File read from Container is taking very long time, job cluster time out Regarding the recent change in Databricks,  Spark Structured Streaming Job Not Running, Job running long time than expected, AssumeRole time limit, 3432 - g - ARR - t-mobile - long-running jobs, [ARR] Very long runtime for the job, Databricks cluster is in pending state from long time, ARR- ATT - 2205190040007411 - job is running more than 18 hours, 2205200040003807 - SQL analytics query running for a long time. Can't be cancelled,  Spark Structured Streaming Job Not Running, Databricks Queries are Taking a long Time Stays Stuck at  'Uploading command' , Job processes hangs after a while at an unknown time and does not move forward. ,\n",
      "\n",
      "Cluster 63 words:\n",
      "\n",
      "Cluster 63 titles: Clusters terminates on startup and init script execution because of missing libssl.so, [ARR] [Sev C] SR-2204110030000414 conf file is not read from global init script, init script not getting installed while cluster creation using api, Pycrypto installation failed using init script, Debug cluster init script, Pycrypto installation failed using init script, Adding .jar using init script , Using S3 bucket in another account for init script, Jar file init script installation, init script failing while installing library, ARR | personalized logs at init script | 2205130010001143, [ARR]  calling the global init script of a Databricks cluster from automated azure devops pipeline issue, Access denied while creating a global init script,\n",
      "\n",
      "Cluster 64 words:\n",
      "\n",
      "Cluster 64 titles:  2205100050002029 - Genie, 2205100050002029 - genie 2205100050002029 - Genie,  2205100050002029 - Genie Outage May 25,\n",
      "\n",
      "Cluster 65 words:\n",
      "\n",
      "Cluster 65 titles: Library SQL access, ARR | issues with library importing | 2205020050000332 arr genie access 330372711545732 access, Databricks execution failed with error state: InternalError, error message: Library installation failed for library due to infra fault. , Failed to import custom library inside mlflow.run(), Intermittent issue with custom library, Databricks Library Installation Fails, Genie Access | ADF to ADB call failed and eror shows library not installed, Not able to install libsasl2-dev library. Library issue, library on DBFS failed to install genie, 2205200050001067_Need Genie Access CSS-ARR-2205170040002305-Unable to install library sets, Connection error during python library installation, ARR | 2205230040005172 | Library installation issue, ARR | library loading failed | 2205260010001471 , Databricks libraries installation failed due to network unreachable frequently Genie access request, unpinned clusters disappearing after library installation in E2 workspace, Intermittent Library Installation Issue Genie Access Request, jproperties library installation issue ,\n",
      "\n",
      "Cluster 66 words:\n",
      "\n",
      "Cluster 66 titles: ARR | Databricks job running slow | 2205030040003955 , Job were running slow and few nodes getting skipped Job were running slow and few nodes getting skipped, ARR | slow job | 2205160040004016 , Replicating data to Databrics slow when doing certain operations, Executing code in Databricks interactive cluster is very slow., CSS-ARR-SR#2205200030000589- Databricks jobs are slow, ARR 2205200040003030 - Jobs running slow Need to run DBInsight forjobs however it always fails, Root cause for slow jobs, CSS-ARR-S500-2205180030002005-summary” column has more than 10MB of size data when we query or display in databricks we are getting following issue, CSS-ARR-2205090030000751002-Databricks activity within a timeframe, CSS-ARR-2205240030000617-Databricks Spark Job - ExecutorLostFailure (executor 0 exited caused by one of the running tasks) Reason: Remote RPC client disassociated., Spark image processing very slow, ARR 2205180010001040 - Customer's workspace is slow, SQL Data slow loading, VNET injected workspace is slow,\n",
      "\n",
      "Cluster 67 words:\n",
      "\n",
      "Cluster 67 titles: Cluster lost at least one node. Reason: Communication lost, [ARR] [Sev B] SR-2205040030001061 DataframeReadError (Reason: worker lost), ARR | 2204280040001718 | Cluster node are getting lost | JNJ, Cluster lost at least one node. Reason: Communication lost, Central Model Registry Communication, worker is lost during jobs execution, Nodes Lost Communication,\n",
      "\n",
      "Cluster 68 words:\n",
      "\n",
      "Cluster 68 titles: 2205180030002269 | Job failure,\n",
      "\n",
      "Cluster 69 words:\n",
      "\n",
      "Cluster 69 titles: User accounts went missing - now are corrupt?, User is not able to query RedShift data, User or User Group Access Granted to All Scopes, All Jobs, and All Notebooks, User unable to validate git credentials, User unable to log in, User already exists in another account, genie for notebook error Need to see which user deleted a cluster, Cannot add user to Databricks, Problems with Databricks SQL User without access to help center, User access - Pentest security finding, Unknown user account in workspace,\n",
      "\n",
      "Cluster 70 words:\n",
      "\n",
      "Cluster 70 titles: ARR Customer CIBCPTE - Stored SQL Procedure Not working ARR American Airlines - Customer requests assisance removing duplicates in Delta Table., ARR Customer CIBCPTE - Azure SQL Procedure Execution in Databricks Notebook Failing , 4681 - g - ARR - American Airlines - Cluster not shutting down as expected 7348 - g - ARR - H&R Block - Job failure, 4681 - ARR - American Airlines - Cluster getting bogged by GC, 1920 - g - ARR - american airlines - failing jobs, Genie: 2205190010002610 || American Airlines || Databricks notebook is failing after instal,\n",
      "\n",
      "Cluster 71 words:\n",
      "\n",
      "Cluster 71 titles: SQL endpoint error when running the same query in dashboard, CreateExternalLocation owner error, describe schema EXTENDED shows root as owner after changing the owner, Business Impact field change testing.Ignore, Issues connecting SQL Endpoint in R Shiny Application, Change data feed does not work correctly for \"replaceWhere\" operation when replaceWhere predicate is on non partitioning column, Search all queries by created by or owner name, can we set \"spark.sql.mapKeyDedupPolicy\" to \"LAST_WIN\" on Databricks SQL(sql endpoint)) genie, Need to change the DBR version of SQL endpoint, Change Databricks owner,  funtionality issue on SQL endpoint and ML cluster, Account Owner EmailId Change Request, Unable to change network config despite shutting down all EC2s, We are noticing Secure groups provisioned through SCIM are missing on databricks side although no change happened on SCIM side, Delta Lake Change Feed Data error on job restart  Delta Lake Change Feed Data error on job restart, SQL endpoint cluster has senstive config in plain text, SQL Endpoint Change Owner, Delta Lake Change Feed Data error on job restart, ARR | Citrix | Need help change the cluster owner | SR:2205250060000952,\n",
      "\n",
      "Cluster 72 words:\n",
      "\n",
      "Cluster 72 titles: Customer is unable to write streaming data to Event Hub Customer is unable to write streaming data to Event Hub, ARR Customer Credit Swiss - Unable to Run Notebooks , Event Hub To Databricks - 20min connectivity unexplainable throughput drop - RCA assistance requested,\n",
      "\n",
      "Cluster 73 words:\n",
      "\n",
      "Cluster 73 titles: Possible bug in JDBC driver, ARR 2204110050002238  - Not able to connect to Databricks CLI using AAD token, worker cannot be registered to the driver, Driver shut down ,while XGBOOST training, Genie:ARR: Issue while connecting to Azure SQL using PYODBC driver Can't open lib 'ODBC Driver 17 for SQL Server' : file not found (0):SR2205060040003815, We are using Databricks Native connecter to connect with Power BI and While refreshing the report we are getting SSL read error, Connecting to Eventhubs using AAD, ARR |Import com.sap.db.jdbc.Driver fails | 2205110040001836, ARR:PYODBC driver cannot open lib ‘ODBC Driver 17 for SQL server’:file not found(0) while connecting to Azure SQL. Encountered error msg intermittently:SR2205060040003815 , ARR | Continuation of 00138590 |Cluster failed due to driver unhealthy error - 2203150040007744, Query regarding JDBC driver properties, Databricks Cluster Driver is failing, ARR Customer Credit Suisse: Issues using Databricks Connect in their Analysis Workspace when using IntelliJ. , Databricks JDBC driver strips list of columns in insert statement, We are using Databricks Native connecter to connect with Power BI and While refreshing the report we are getting SSL read error-------follow up of  00145189, Failed to connect Azure SQL Server using ActiveDirectoryIntegrated in Databricks Failed to connect Azure SQL Server using ActiveDirectoryIntegrated in Databricks, The library named of msodbcsql17 is installed however pyodbc failed with error '('01000', '[01000] [unixODBC] Can't open  'ODBC Driver'', JDBC Driver Documentation, Confirmation of Databricks JDBC Driver, driver memory consumption issue, connect to databricks using the ODBC driver,\n",
      "\n",
      "Cluster 74 words:\n",
      "\n",
      "Cluster 74 titles: Autoloader task getting stuck for 50 hours , Streaming data processing getting stuck after few hours, Partition option preventing data insertion, Failed to find data source: tahoe., Cluster not getting terminated even when job is getting completed, The VMs are not getting deallocated and costing to us, Data Security, Box plot not computed on all data, Checkpoint data corruption incidents in 2 weeks, Autoloader streaming is not consistent, The VMs are not getting deallocated and costing to us, Issue loading data to Cosmo DB, Data governance gap for streaming workloads, ARR - NBA - 2205120040006710 - Data processing is failing 2650234915343663 - c450f3d1-583c-495f-b5d3-0b38b99e70c0 - 2203020010003431, job cluster were idle for couple of hours genie, Databricks streaming job is lagging in processing the data 2205230010000380  2205210030000125 , Data loss with applyInPandas,  Kafka streaming tasks are failing continuously without any data transmission, Data loss with applyInPandas, Kafka streaming tasks are failing continuously without any data transmission, Streaming Exception , Databricks job ran for hours without any progress,\n",
      "\n",
      "Cluster 75 words:\n",
      "\n",
      "Cluster 75 titles: Add IP to allow list, Repos Tab not Opening, Repos ALLOW list not working, Access Control List input not working for Job API, Files in Repos issue,\n",
      "\n",
      "Cluster 76 words:\n",
      "\n",
      "Cluster 76 titles: Cluster (10.4) shuts off randomly, [ARR] [Sev B] SR-2204200030000408 -Databricks cannot access key vault randomly, Databricks not being able to connect to key-vault., Job no longer works; showing Access key or secret key is null, [ARR] [Sev B] SR-2205260030001963-Cs_new_fix_issue genie 2205260030001963 [ARR] [Sev B] SR-2205250010001325-Few Jobs in PII Prod Databricks workspace are failing continuously with Connection Reset issue, ARR Air Canada - Jobs randomly failing with module not found. , [ARR] [Sev C] SR-2110140040008211-intermittent access to the databricks,\n",
      "\n",
      "Cluster 77 words:\n",
      "\n",
      "Cluster 77 titles: char/varchar type length limitation after upgrading to 10.5 runtime AWS credentials authenticating error after upgrading to 10.5 runtime, First redirect to Help Center does not work, Second does, Job failing while using Runtime 10.4 spark version 3.2.1, We can't upgrade to current runtime version 10.x, Runtime 10.4 - Checkpoint reading error, DBR version 10.X LTS DOES NOT WORK properly with Ranger, [Mooncake][2205090050002395][The cluster does not terminate after the job finished], java.lang.ClassCastException when we try runtime 10.5, Does SQL dashboards have filter components?,  runtime 10.4 duplicates columns where 9.1 does not ,  Notebook showing function does not exist, runtime 10.4 duplicates columns where 9.1 does not , Notebook showing function does not exist Notebook execution failure,  Notebook showing function does not exist, [ARR] Recursive view is not supported in databricks cluster runtime version 10.4?, Upgrading to DBR 10.4 on PVC brakes DELTA MERGE operation,\n",
      "\n",
      "Cluster 78 words:\n",
      "\n",
      "Cluster 78 titles: User-specified schema incompatible with the schema  inferred from its query, from_json: Space in column name in schema string literal, Collibra Unable to acquire Metadata from Databricks Schema via JDBC., ARR| Adobe | Job api 2.1 response schema doesn't match document |SR: 2205180010000639 , 2 schema on top of each other, [ARR] [Sev B] SR-2205130030001214 Getting the following error while reading file Unable to infer schema for Parquet. It must be specified manually, ValueError: year 0 is out of range when trying to parse json schema using spark.read.json, Spark ReadStream fails to infer schema,\n",
      "\n",
      "Cluster 79 words:\n",
      "\n",
      "Cluster 79 titles: Open a New Tab from Recents, Unrecognized parameter external_customer_info when creating new OEM workspace, stting up a new connectivity to AWS S3. It is required a new certificate to be installed., Autoloader not streaming new records, Genie 2205190050000485 , SR 2205190050002600 - Photon | Spark | There is no space for new record, New GEnie 2205190050000485 ,\n",
      "\n",
      "Cluster 80 words:\n",
      "\n",
      "Cluster 80 titles: Unable to use pretrained models in Spark-NLP, Genie: UBS || 2205050040001186 || Connection Time Out while Connecting with Spark, Unable to read table using spark sql JDBC query connection issue, Unable to read table using spark sql, Unable to delete Private Endpoint connection in AzureDatabricksworkspaces- 220429003000055,  org.apache.spark.sql.AnalysisException: Incompatible format detected., Failed to find data source: com.microsoft.sqlserver.jdbc.spark, [ARR] [Sev B] SR-2205060030001077-Postgresql connection failing for metastore because of spark configuration (spark.databricks.pyspark.enableProcessIsolation true), Not able to create JDBC connection, CSS-ARR-2205100030001515-Error when using LoginTimeout  in SQL Endpoint  JDBC url, losing connection with SQL, pyspark JDBC Tuning, Unable to read Delta Tables using Service Principal Authentication, spark dataframe is not able to read column that contains data as #VALUE, Proof of TLS1.2 being used for delta table jdbc connection, Unable to query View which has a complex structure column, SQL end point connection with Microstra, Can we use pyspark udf in spark sql like scala udfs ?, Optimising spark.sql.shuffle.partitions, Sporadic connection error when writing to feature table, Unable to see the SQL persona in Databricks instances, SQL Parse exception on SQL analytics, succeeds on Athena, Unable to read java file, unable to perform jdbc connection to synpase using aad authentication- Saved, JDBC query connection issue  R Notebook fails sometimes; fails only at specific time every day,\n",
      "\n",
      "Cluster 81 words:\n",
      "\n",
      "Cluster 81 titles: 2204180040002686, 2204180040002686 |  MyFedEx | ARR, 2204180040002686 | MyFedEx | ARR,\n",
      "\n",
      "Cluster 82 words:\n",
      "\n",
      "Cluster 82 titles: json files without line delimiter, describe , optimize commands are not working as expected , Optimize Table , Optimize command skipping large number of files, [ARR][2205130040006196][AT & T]issue when writing huge number of records [ARR][2205130040006196][AT & T]issue when writing huge number of records, Optimize Parallelization on Snowflake I/O and HuggingFace BERT-based model, optimize the cost, Limit increase: \"The quota for the number of jobs has been reached\", Continuation of  00143942  | The Databricks job fails frequently - 2204250010002866 CASE NUMBER # 00142833 | 2203310040008004 - CosmosDBSpark failure on large files,\n",
      "\n",
      "Cluster 83 words:\n",
      "\n",
      "Cluster 83 titles: Notification not able to be disabled on status website Ambiguous columns in join operation, Genie-2205060030000515 one node in a bad status, Divergency of jobs status, databricks workspace does not return status of all the completed jobs using REST API, Spark streaming job continues in background while status is failed, QA-UAT Users status is inactive,\n",
      "\n",
      "Cluster 84 words:\n",
      "\n",
      "Cluster 84 titles: IP Allowlist for `atlassian` workspace, update CMK for Managed Services and Storage for workspace ml-sandbox Update CMK for Managed Services and Storage for ml-us-dev workspace, Concurrent update failure to Delta Autoloader cloudfiles events by creation timestamp, pre-populated list is not available in Data Explorer, Backend service unavailable - Unable to see list of clusters, Expired personal acces token (PAT) in combination with IP-adress whilelist for Databricks workspace, azure databricks ip ranges clarity, Origin of Elastic IP in account, [ARR][IP Access List CIDR range Setup Suggestions], Update IP address whitelist for finra-prod shard, Update IP access list, ossuleimtestworkspace-IP access List,\n",
      "\n",
      "Cluster 85 words:\n",
      "\n",
      "Cluster 85 titles: 2204150040004935 no package error despite package is intalled  2204040040006958  2204040040006958  Cluster not able to run python notebook cell and struck for 65 hours holding cluster resources, Hanging notebook. This is related to CASE NUMBER # 00144460, Databricks Job failures and hanging with no metrics/logs, Genie python, Notebook cell hanging with python, Notebook cell hanging with python, How to provide input to a cell prompt in a Databricks Notebook, 2205200030002012 | Python SDK,\n",
      "\n",
      "Cluster 86 words:\n",
      "\n",
      "Cluster 86 titles: Overwatch Cost Report , Workspace network configuration Warning, Access deleted cluster configuration, Configuration HiveServerType is not available, Question about configuration in Databricks Cluster, ARR | 2205200040002676 - databricks overwatch proxy configuration issue, Cluster configuration to set the default table format to Parquet, Squid Proxy Implementation for Outbound Traffic,\n",
      "\n",
      "Cluster 87 words:\n",
      "\n",
      "Cluster 87 titles: Issues while switching to 10.4 LTS Photon enabled cluster, inserting unidentified charachters in delta tables., Migration from  DB 7.3 LTS and 9.1 LTS and Performance issue., Getting error \"Shuffle partition number too small\" when converting from 7.3 to 9.1 LTS, Cluster upgraded from 9.1 LTS to 10.4 and Code throwing an error on bit filter, ARR - SQL using a CTE that runs fine in Databricks Runtime 9.1 LTS Photon, but gives an error in 10.4 LTS Photon genie access ARR - Ganglia metrics not loading in Linux machine,  Deprecated Cluster Runtime 6.4 unable to hit API'S, FOLLOUP | ARR | 2204250060001035 | Error with union command saying object of type 'NoneType' has no len() only in DBR 9.1 LTS, Genie: Capital Group || 2205060040005682 || When upgrading from 8.3 to 9 LTS or 10.4 LTS we are seeing job run increase Genie: Capital Group || 2205060040005682 || When upgrading from 8.3 to 9 LTS or 10.4 LTS we are seeing job run increase Genie: Capital Group || 2205060040005682 || When upgrading from 8.3 to 9 LTS or 10.4 LTS we are seeing job run increase ARR || NFCU || 220301004000853 || Cluster AAD connectivity down, coalesce causing file already exists error when running a large dataset   ClassNotFoundException: org.apache.hadoop.fs.s3a.commit.S3ACommitterFactory on 10.4 LTS runtime, Conda on 9.1 LTS ML Runtime, ARR - Log4j 1.2.17 Version CVE-2019-17571 - in 9.1 LTS Runtime ARR - write txt file with headers in the datalake from databricks, RStudio Notebooks on rbase:10.4-LTS requires additional installs, memory error and Deprecated runtime, Plotly plot 9.1 Runtime Display Error, Genie:ARR:Job Failed on DBR 10.4 LTS, Runtime Error, cannot open the connection, Runtime Error, cannot open the connection, 0.4 LTS Runtime Issue, Upgrading the Preloaded Databricks Runtime Version of a Databricks Pool, Update to 10.4 LTS,\n",
      "\n",
      "Cluster 88 words:\n",
      "\n",
      "Cluster 88 titles: RDS error on control plane, Error al cargar tablas en el cluster, Permission error while accessing files in the REPO, Error downloading dbc archive, Enable \"Files in Repo\", Google Kubernetes Error, [ARR][Compilation Error][Genie], Py4JJavaError: An error occurred while calling o69119.collectToPython, ERROR processing query/statement. Error Code: 0, SQL state: Error running query: java.io.IOException: No space left on device, Opening Error, Genie access request \"unexpected error occurred\" error when accessing endpoint´s conf page , Unable to run notebooks from repo tab in databricks, Error when displaying in a chart, ARR| continuation of 00143529 | Issue using Databricks Repo API, genie-Repo Error, All envs down with following error, Repo Error, 2205260040005420 | Outage 2205260040004092 | Repo, The run of a repo notebook is taking 8 minutes to process each cell genie, RStudio Error,  Error in SQL statement: SparkException genie request,\n",
      "\n",
      "Cluster 89 words:\n",
      "\n",
      "Cluster 89 titles: genie deleted VMs continue to write data to LogAnalytics, 2205110050001274 - diagnostic logs and encryption of managed resouces of databricks  2205130050000433 - job taking more than 24 hours to write to SQL server, Unable to write from Databricks into Synapse Unable to write from Databricks into Synapse, Solution for local unit test delta write,  Azure Databricks long jobs fail b/c they can't authenticate to the DBFS to write data at the end of the job, spark cosmos write error, Not able to Write to Container using Pyspark.write method, Not able to Write to Container using Pyspark.write method, Not able to Write to Container using Pyspark.write method, Intermittent Access denied while write to Amazon S3 write encrypted storage ,\n",
      "\n",
      "Cluster 90 words:\n",
      "\n",
      "Cluster 90 titles: Follow up case 00142110, Follow up on case 00143345 | ARR SR# 2203040030000703, Case sensitivity difference in version 10.4 and 9.1, Discuss cluster detailed for a sepcific use-case, Follow up case: 00140430, Follow up case on 00144834 | ARR SR# 2205050030001519, see CASE NUMBER # 00140994, Follow up on case 00145094 | ARR SR# 2205060030001100, ARR | 2205160040000885 - Resource pool management  Follow up case | 00143287, follow up case CASE NUMBER # 00140608  - job failing with the are due to No Space left on the device., follow-up to this case 00142921,\n",
      "\n",
      "Cluster 91 words:\n",
      "\n",
      "Cluster 91 titles: Databricks Latency , genie-Lot of Latency in apllying the changes, Lot of Latency in apllying the changes ,\n",
      "\n",
      "Cluster 92 words:\n",
      "\n",
      "Cluster 92 titles: Adding Users through Okta Resets Group Entitlements, Not able to export users' notebooks in this workspace genie, keplergl library not working on databricks' notebooks How to grant access to default catalog to all workspace users How to compute box plots charts on all rows , Some users with \"Can Manage\" access have lost the ability to clone folders/notebooks, Unable to add users to databricks cloud account, Setting up DBT to not export to DBFS, Databricks Migrate lab solution Export script is failing while exporting for Notebook ACL in Production Workspace, Job Cluster Notebooks are not visible to users Databrick notebook fail intermittently, Notebooks/cluster Detach and Re-attcah issue, Failed Databricks notebooks, [ARR][Public Analytics][2205250030002283 ]Notebooks/Folders under FIONA/RBS need to restore and audit report  [ARR][Public Analytics][2205250030002283 ] Missing Notebooks/Folders under FIONA/RBS in DEV ADB03, Recover the deleted notebooks that are not committed from repos, Failed Databricks notebooks,\n",
      "\n",
      "Cluster 93 words:\n",
      "\n",
      "Cluster 93 titles: Notebooks are taking more time to complete than average time, 2205050010000980_notebook is taking longer time 2205050010000980_Need Genie Access, Execution taking longer time, dbfs cp command taking longer time, Databricks - No VM SKUs available  Notebooks are taking more time to complete than average time, command executions taking longer  or not executing, genie-Cluster no longer turns on., Databricks execution taking a lot of time, [ARR] [Sev B] SR- 2205260030000798 Notebook Execution taking more than the usual time,\n",
      "\n",
      "Cluster 94 words:\n",
      "\n",
      "Cluster 94 titles: genie for #2205120050000454, genie for #2205120050000454,\n",
      "\n",
      "Cluster 95 words:\n",
      "\n",
      "Cluster 95 titles: Jobs time out (follow up 00138978) How to connect to SFTP site from Azure Databricks, Databricks clusters with DBR 7.3 are not connecting to the external metastore, cluster Databricks doesn't use external metastore, 2205 - g - ARR - GAP - External data access using ACLs, Querying data at an external location sometimes fails, Genie Access | Databricks cannot connect to external API Genie Access | Databricks cannot connect to external API, Need to enable secret access in Databricks from Databricks-connect, Not able to connect to ADLS with External HMS, Not able to connect to ADLS with External HMS, databricks-connect with token is deprecated,\n",
      "\n",
      "Cluster 96 words:\n",
      "\n",
      "Cluster 96 titles: 1920 - g - ARR - AmericanAirlines - Job failure, Job Failure due to skewed data in prod, Transaction Log Integrity Check Failure, Job failure, Docker image pull failure ECR, User is getting failure message in a legacy shard when connecting to the metastore., Job Failure, Share models across workspaces implementation giving \"403' error Job failure in Databricks production due to import statement not found Patient 360 - Production Job failure due to exception \"IllegalArgumentException\" Job failure due to exception \"IllegalArgumentException\", FOLLOUP | ARR | 2205040030000589 | Metastore connection failure, Launch Cluster Failure on PRD, ARR |  gc allocation failure | , 2205040030001887 | ARR | Job failure due to 'StreamingQueryException: next on empty iterator', 2205060010001700 | Job Failure 2204110040000576 | Private Endpoint, Job failure due to cluster error, Unexpected failure while waiting for the cluster, failure to clean up existing notifications on S3 bucket , 2205040040003792 | Job Failure 2204220010000657 | Job Failure, Multiple Production job failure due to RuntimeException, ARR - 2202250030001786 - NielsenIQ Coke Mastertrack - Cluster failure Genie 2202250030001786, For Multiple Clusters We are Recieving the following error - 'Unexpected Failure While Waiting for the Cluster to be Ready' , Job failure, Request RCA from a Cluster Creation Failure, 2205160040006990 | Job Failure, Provisioning Cluster Failure, Job failure due to driver disconnected, 2205170040005657 | blob failure, Cluster failure due to bootstrap failure - dbc-1891663a-774f, job failure due to broadcast error, Genie: AA || 2205200010002365 || Job failed because of cluster launch failure, 2205180040008873 | Job Failure, Job Failure, 2205230040005172 | Job Failure, NPIP tunnel setup failure in Spark job, Stream Ingestion cloudfiles failure, Notebook execution failure, 2205260040007389 | Job Failure, Job failure due to cluster BOOTSTRAP_TIMEOUT, Job cluster launch failure due to instance request limit, Genie: Boeing|| 2205270040005511 || JSON file failure, Genie:  2205300010001729 || Soncor|| Cluster failure and pipeline failure,\n",
      "\n",
      "Cluster 97 words:\n",
      "\n",
      "Cluster 97 titles: 2205100040004471 2205100050002215, 2205100040004471 ARR | 2205100050002215 | Jobs are failing even after adding dependent libs | GSK 2205110030000348, 2205100040004471, ARR | 2205100040004471 | Unexpected failure while waiting for the cluster | JNJ  2205100040004471 2205120030001564 ,\n",
      "\n",
      "Cluster 98 words:\n",
      "\n",
      "Cluster 98 titles: L2 Align XPO PD Monthly dag failure -Photon ran out of memory , DESC query failing with AmazonS3Exception, query failing, Photon out of Memory Issue on the XPOPD Monthly Dag,  MOVE Dag is failing , MOVE dag is failing, dataset refresh failing, Model failing in existing workspace, Job is Failing, MOVE dag is failing, MOVE dag is failing, ARR | 2205200030001371 | job intermittently failing with unexpected_exception | JNJ 2205200030001371, Informatica job is failing in Databricks,  Model failing in existing workspace,\n",
      "\n",
      "Cluster 99 words:\n",
      "\n",
      "Cluster 99 titles: Sometimes, queries use Photon runtime run slower than one without Photon  , Pyspark SQL Dataframe: Incorrect / Inconsistent Count Results, photon clusters giving incorrect results., photon clusters giving incorrect results., Jobs API giving error, Databricks cluster giving spark exception for pythin packages, Behaviour Difference in Photon,\n",
      "\n",
      "Cluster 100 words:\n",
      "\n",
      "Cluster 100 titles: Fail to install python library glpk , Unable to install package GaitPy, How to install older release of python, unable to install great_expectations python module, is there any release on 20th or 21st May could impact the cypher in request socket,\n",
      "\n",
      "Cluster 101 words:\n",
      "\n",
      "Cluster 101 titles: Question on DLT charge, ARR | delta table question | 2204220050000908, Error in delta table merge from SQL Endpoint, Question on managed table, Open Source delta table not support TBLPROPERTIES like delta.autoOptimize.autoCompact, [Question] Install 'jupyterlab-chart-editor' in databricks notebook, ARR:No Stream Progress With No-op Delta Merge:SR2205110040005641  Genie:ARR:SR2205110040005641 , ARR 2205040030001503 | empty 4B delta files generation, Efficient way to query partitions that have changed from a delta table, Delta Sharing Issue, Follow up of 00122446. (Streaming delta table with changeDataFeed enabled breaks when zero rows are merged) Streaming delta table with changeDataFeed enabled breaks when zero rows are merged, ARR | 2205230030001082 | Is access to the delta table using ADLS credential passthrough with SQL endpoints supported?, [ARR] [Sev X] SR- 2205240040005038 Operation on target Ingest to Delta Table failed, configuring delta cache for cluster, Best practice for images in delta lake, [SR: 2205270060000149] Consistency of Delta Lake table when copying data to another location, Eventhub Streaming to databricks delta table stopped due to offset mismatched, Create Delta Table Statements Fail Intermittently,\n",
      "\n",
      "Cluster 102 words:\n",
      "\n",
      "Cluster 102 titles: Genie:ARR:SevC -Not able to connect to Onprem Cassandra from Databricks CLuster:SR-2205020040004046, Genie:ARR:SevC -Not able to connect to Onprem Cassandra from Databricks CLuster:SR-2205020040004046, ARR | 2204270030002047 - [Needs IST Support] Resource accidental deletion ARR | 2204290030001039 - we are not able find log who deleted the databricks cluster, ARR- Existing cluster does not sync after job cluster finish- 2204260050002691, Can't able to access /mnt/advancedanalytics mount files in HC cluster Can't able to install wheel files in the HC clusters GKE cluster is not up on the new shared VPC, Be able to sink Spark accumulators to prometheus, [ARR][Cluster not able to spin up], ARR| AzureResourceProviderThrottling during cluster upsize | 2205170040004867 , Not able to create cluster pool with DBR Light 2.4 Extended Not able to create cluster pool with DBR Light 2.4 Extended, 2205230030001141 | ARR | Cluster Deleted, 2205090030000751002-Need Genie Access CSS-ARR-2205250030000526-could not able to see cluster list in compute service, 2205240030000450 | ARR | Error creating cluster, ARR- Databricks cluster not loading dependency consistently- 2205160030002086- followup of 00147763,  Cluster spin up issue, [ARR][Mars Inc][2205170040006218 ]Issue with cluster resizing & autoscaling, ARR - Not being able to open folder structures from storage,\n",
      "\n",
      "Cluster 103 words:\n",
      "\n",
      "Cluster 103 titles: The DevOps pipeline for databricks is failing. Hence, we need advise regarding this issue., numpy failed to import in notebook, Failed to import git on cluster with docker image and ML Flow, Genie : 2205030040006687 -  Issue with running databricks notebook, NBA: Job failed for intermediate pipeline due to \"UnknownHostException\" exception in Databricks, Notebook not connecting to pipeline, [Genie] Can not get a simple pipeline working, Error while running the existing prod app on 10.4 cluster while its running fine with 6.4, TEST RND - DisconnectedClientException, UnexpectedHttpException while running a notebook, Management of Notebook, Getting error 'Failure starting repl. Try detaching and re-attaching the notebook.'  while running any notebook, Cluster formation during pipeline run., Cluster is not running, genie-Not able to launch pipeline cluster, 2205170030000281  Followup 00143872 (Credential Passthrough is not working with Spark submit jobs Job should be failed but still running for more than 1 hour, spam email from databricks notebook found by MS cyber team Databricks cluster is running from past 6 months without shutting down, Try detaching and re-attaching the notebook, Notebook continues to appear as running and it cannot be manually stopped, [Genie] Can not get a simple pipeline working, Terraform pipeline fails while creating cluster, genie-Pipeline failed on running notebook, Notebook submitting unwanted Jobs to cluster,\n",
      "\n",
      "Cluster 104 words:\n",
      "\n",
      "Cluster 104 titles: [ARR] [Sev B] SR-2204080030001854 ExecutorLostFailure (executor 15 exited caused by one of the running tasks) Reason: Executor heartbeat timed out after 157195 ms genie 2204080030001854 geine 2204080030001854, Please help to get the VM service log for a succssful run., Genie: Safeway || 2204220010001571 || log4j enable Debug, Incomplete Contacts in Help Center, Customer running into intermittent failures due to heartbit timed out, ARR | 2205110030001559 | please help find instanceid/vmid, https://adb-4xxx.7.azuredatabricks.net/?o=4xxxx#job/6xxxx/run/1xxxxx, Help me debug a job run that timed out, ARR | 2205160030001741 | AzureADAuthenticator.getTokenCall threw java.net.SocketTimeoutException : Read timed , cannot get debug log level ,\n",
      "\n",
      "Cluster 105 words:\n",
      "\n",
      "Cluster 105 titles: Random issue running a query in Databricks, Issue with databricks training set, Issue connecting to Databricks non-prod environment via webUI, Databricks Issue, Databricks SQL Endpoint Access/Permissions issue, Issue with length of Job ID, Random issue running a query in Databricks, Autoloader File Notification Config Issue, Ganglia Historical metrics snapshots issue, ARR:2204210040012046 Streaming jobAutoscaling issue, ARR | Databricks permissions issue, Issue triggering notebook from Airflow, Dedup Issue, autoloader streaming query issue, Genie: Safeway || 2205120010003782 || SQL connectivity issue, Issue with cluster provisioning, EDL - Databricks CLI access issue, Databricks SQL UI Issue, Databricks SQL UI Issue, Airflow<>Databricks prod HTTP issue, ARR| Genie| Databricks mounted blobs issue | 2205200050000856, Databricks Issue, Databricks Prod Issue Caused by SparkException,  Databricks Support - SQL Workspace Issue, Outage issue, SQL Analytics Issue,\n",
      "\n",
      "Cluster 106 words:\n",
      "\n",
      "Cluster 106 titles: Understanding on any impacts of enabling EBS SSD GP3, Clarity on additional EBS Volumes being added, Enabling EBS SSD GP3 in Workspace setting is picking throughput 128MBps by default instead of 125Mbps , Are GCM cipher suites enabled by default now?_Azure China_2205190010000432, SAML error while setting up,\n",
      "\n",
      "Cluster 107 words:\n",
      "\n",
      "Cluster 107 titles: Power BI connector not working, SSH Databricks cluster connection error Power BI, 2204280030000904 Power BI  databricks connector new release issue, Azure Databricks Connectivity Issue with Reporting Tools (Power BI and Tableau).,  SSH Databricks cluster connection error Power BI Connection between databricks workspace and datalake, odbc error in power BI conencting to DBX,\n",
      "\n",
      "Cluster 108 words:\n",
      "\n",
      "Cluster 108 titles: CSS-ARR-S500-SR#2204300030000321-Genie Access Request, CSS-ARR-S500-SR#2204300030000321-Genie Access Request CS-ARR-S500-SR#2204300030000321-Genie Access Request, CSS-ARR-S500-SR#2204300030000321-Databricks Job are slow., CSS-ARR-S500-SR#2205110050000087-Genie Access Request, CSS-ARR-S500-SR#2204250030000325-Genie Access Request, CSS-ARR-S500-SR#2205170050000139- Genie Access Request CSS-ARR-S500-SR#2205170050000139-Databricks job getting failed., CSS-ARR-S500-SR#2205110050000087-Databricks jobs don't start with error CLOUD_PROVIDER_LAUNCH_FAILURE CSS-ARR-S500SR#2205130050000700-Genie Access Request, CSS-ARR-S500-SR#2205170050002982 -Genie Access Request, CSS-ARR-S500-SR#2205170050002982-Cluster start fails with Storage download error, CSS-ARR-S500-SR#2205130050000700-OSError: [Errno 95] Operation not supported, CSS-ARR-S500-SR#2205180030001898-Genie Access Request, CSS-ARR-S500-SR#2205180030001898-Genie Access Request CSS-ARR-S500-SR#2205180030001898-Genie Access Request, MS CSS, CSS-ARR-S500-SR#2205250030000489-Genie Access Request, CSS-ARR-S500-SR#2205200040003401-Unable to Launch Cluster, CSS-ARR-S500-SR#2205250030000489-Long running job, CSS-ARR-S500-SR#2205250030000548-Auto assignment user as admin role, CSS-ARR-SR#2205240030000602-Support partial CSV File reading using Copy Into command CSS-ARR-SR#2205270050000347-Genie Access Request, CSS-ARR-S500-SR#2205300030000938-Registering the model using adls gen2 path, CSS-ARR-S500-SR#2205310030000543-Genie Access Request, CSS-ARR-S500-SR#2205270040003393-ADLS2 access issue, CSS-ARR-S500-SR#2205270040003393-Genie Access Request,\n",
      "\n",
      "Cluster 109 words:\n",
      "\n",
      "Cluster 109 titles: ARR| Genie | Databricks was unable to connect to VNET Injected PostgreSQL server for a couple hours - 2204120010008387001, Unable to connect to Azure SQL DB, Unable to connect to PostgreSQL remote db, Remote RPC client disassociated, Unable to connect to PostgreSQL remote db, Cant connect to local computer/remote vm from Databricks workspace using ssh, genie-Unable to connect/authorize to ADLS,\n",
      "\n",
      "Cluster 110 words:\n",
      "\n",
      "Cluster 110 titles: Job failing with with 'spark cluster stopped unexpectedly' error, The spark context has stopped and the driver is restarting, The spark driver has stopped unexpectedly and seems like a memory issue 1.Databricks-Log contains no information about causing column in case of type mismatch during Synapse-Write, [ARR][2205190040006377 ][Procter and Gamble]the spark driver has stopped unexpectedly and is restarting. your notebook will be automatically reattached. [ARR][2204260040005094 ][Geico]Unable to set log destiation to dbfs mnt [ARR][2204260040005094 ][Geico]Unable to set log destiation to dbfs mnt, The spark driver has stopped unexpectedly and seems like a memory issue, ARR | Databricks job deleted automatically | 2205250030001931 , [ARR][2205190040006377 ][Procter and Gamble]the spark driver has stopped unexpectedly and is restarting. your notebook will be automatically reattached.,\n",
      "\n",
      "Cluster 111 words:\n",
      "\n",
      "Cluster 111 titles: 6706 - ARR - AT&T - No new databricks secret scopes can be created by users. Max limit(100) on the workspace already reached. Can we please increase this limit., feature request(db connect using secret scopes)  Case, feature request(db connect using secret scopes) Case, Increase number of Databricks secret scopes, 2204130030000914 | ARR |  UnAuthorization error when listing databricks secret scopes,\n",
      "\n",
      "Cluster 112 words:\n",
      "\n",
      "Cluster 112 titles: Please enable dbutils.secrets.get, customer interested in consultancy services, Enable dbutils.secrets.get for customer., dbutils.fs.mount error, enable table access control, [ARR] [Sev C] SR-2205190030001704 Getting error on doing dbutils.fs.ls('dbfs:/mnt/uad/gokul/') , Job cluster creation is failing due to being unable to fetch secrets, Customer wants to know who deleted a folder, Enable prometheus metrics,  Enabling customer-managed keys for managed services, Enable dbutils.secrets.get on databricks-prod workspace,\n",
      "\n",
      "Cluster 113 words:\n",
      "\n",
      "Cluster 113 titles: 2205180010000145 | Model reg, [REG: 2205230060000761] Cannot understand what error message means - Genie Access,\n",
      "\n",
      "Cluster 114 words:\n",
      "\n",
      "Cluster 114 titles: 2205180030000806 genie, ARR|  PointsBet | Job stuck at getting secret | SR: 2205180030000806 , 2205180030000806 dev genie 2205180030000806 genie Follow up for 00148100 ARR ServA,\n",
      "\n",
      "Cluster 115 words:\n",
      "\n",
      "Cluster 115 titles: GuardDuty Finding - DBX Prod, Please Engage Microsoft Azure Support - Databricks loading  JDBC SQL driver libraries  (Intermittent in prod & non-prod), ARR | SevA | 2205160050000323 | Databricks jobs are intermittently failing: cannot import name 'LeaseProperties' from 'azure.storage.blob' , Job failing in PROD, ARR | SevA | 2205260040003611 | Backed service unavailable in eastus2 , SSM Agent installation on Databricks Prod and Non-prod Worker notes, ARR | SevA | 2205300040003430 | Databricks jobs are failing after DBR upgrade in PROD 2205300040003430 || Genie Access Request, 2205300040003430-Need Genie Access 2205300040003430-Notebook getting failed,\n",
      "\n",
      "Cluster 116 words:\n",
      "\n",
      "Cluster 116 titles: File corruption when saving to s3, Error: cannot read grants: got empty permissions list Error adding member to group, Use s3 access point, Trying to get the size of folders in dbfs Trying to get the size of folders in dbfs, Looking to understand if databricks supports watch for s3 path, CSS-ARR-2205090030001270_While trying to “create feature table” – the command is taking more than 8hrs 2205160030000775_Need Genie Access, Trying to achieve a shuffle-less join with partitionBy, Saving dataframe as managed tables on s3, job unexpectedly trying to access parquet files in glacier , Genie : 2205180040008310 -  Invalid fs.azure.account.key error - while trying to save data to ADLS container from Databricks, Error while trying to modify table, ARR - ATT - Invalid fs.azure.account.key error - while trying to save data to ADLS container from Databricks- 2205180040008310 , Error when trying to read from s3, Job fails with \"An error occurred while trying to connect to the Java server (127.0.0.1:35291)\", Unable to attach notebooks to cluster.  Databricks times out when trying to list available compute. updating tags fails.,\n",
      "\n",
      "Cluster 117 words:\n",
      "\n",
      "Cluster 117 titles: Faced [adb-dp-8081006549057212.12.azuredatabricks.net refused to connect] on Ganglia tabs except  [Main] table, CSS-ARR-SFMC-2203170040001201-ADB Cluster Hung Issue  2203170040001201_Need Genie Access, PowerBI to Databricks connections, powerbi certificate stale issue, CSS-ARR-2203170040001201-ADB Cluster Hung Issue , genie-workspace_does_not_exist_error when launching Databricks Workspace genie- PowerBi Failing To Connect To Databricks Table and Fetch Data, PowerBi Failing To Connect To Databricks Table and Fetch Data, [ARR] [Sev C] 2205180030001625-Sometimes, we are facing an SSL connect issue when importing the data to PowerBI from Azure SQL Endpoint of ADB, connection issue with powerbi  ssl read, PowerBi Failing To Connect To Databricks Table and Fetch Data,\n",
      "\n",
      "Cluster 118 words:\n",
      "\n",
      "Cluster 118 titles: Libraries are not properly uninstalled from cluster, ARR - MTR - 2205140060000097 - libraries failing to install but shows as installed 7797454808119526 - f8197865-f5c7-4719-a848-6301201fe96a - 2205140060000097, Error in installing Geopandas package, Issue in installing the libraries., ARR | Some libraries are failing when cluster restarts | 2205170040006180 ARR | Some libraries are failing when cluster restarts | 2205170040006180 ARR | Some libraries are failing when cluster restarts | 2205170040006180, genie- Multiple Clusters/Jobs are not starting or installing libraries, Libraries error after restart cluter, Libraries are not installing, 2205250050002151 problem installing libraries on 7.3 LTS,\n",
      "\n",
      "Cluster 119 words:\n",
      "\n",
      "Cluster 119 titles: 2205130060000046 , Genie-2205130060000046,\n",
      "\n",
      "Cluster 120 words:\n",
      "\n",
      "Cluster 120 titles: Cluster startup takes more than 10mins, Databricks cluster startup - 2204250010002422, Use YOLOV5 on Databricks, Azure deployment in violation of the Microsoft Online Services Acceptable Use Policy Databricks cluster startup, Cluster startup errors, Genie Cluster startup, Use from_avro or to_avro with confluence,\n",
      "\n",
      "Cluster 121 words:\n",
      "\n",
      "Cluster 121 titles: Metastore access issues., limitations to replace our hive metastore with AWS Glue catalog, External hive metastore failing, Error while migrating database from hive to glue, Metastore is Down- This error is appearing intermittently and during this time Externalk Hivemetastore is not available, Unable to edit metastore admin, Error: Unable to instantiate org.apache.hadoop.hive.metastore.HiveMetaStoreClient, Issue with metastore connection, Intermittent Job Failures caused by Hive Metastore Instantiation, 2204270030000356 | ARR | Metastore down issue, Hive Metastore Integration, Error while migrating database from hive to glue, How to export Hive metastore ,\n",
      "\n",
      "Cluster 122 words:\n",
      "\n",
      "Cluster 122 titles: Identity Column is generating Duplicates,  Issue when filtering for boolean column in DBR 10.4,  Unable to import named 'azure.storage' and 'azure.identity', column sorting in table on dashboard, genie column name with % gives an error, Genie:ARR:SevC - Special Character in Column Name Causing Issue with Upgraded DBR-2205180040005805, genie-Customer is seeing duplicate records after a running data bricks activity, Job failing because of column not found issue, Databricks views are being recreated with all column names in lowercase., Genie:ARR: IDENTITY Column Not Unique :SR 2205250040005673 , ARR:IDENTITY Column Not Unique,seeing duplicate values in the IDENTITY column:SR2205250040005673 , Databricks Merge Statement is creating duplicate rows, Databricks views are being recreated with all column names in lowercase.,\n",
      "\n",
      "Cluster 123 words:\n",
      "\n",
      "Cluster 123 titles: Can't create jobs with ACL, Terraform High Concurrency Cluster with Table ACL's on, ARR | Spark DataFrame Checkpoints under Table ACL - continuation of 00142979 - 2204200040005509, Driver is up but is not responsive errors in high concurrency clusters, 2205 - ARR - GAP - ACL table ownership, High system cpu usage from May 10th-Genie, ACL permissions ACL permissions Follow up of 00139396, ACL - direct files read, Not able to create a high concurrency cluster,  Not able to import lightgbm module in new high cuncurrency cluster., High Concurrency Cluster in Prod did not Terminate for 2 weeks,\n",
      "\n",
      "Cluster 124 words:\n",
      "\n",
      "Cluster 124 titles: ARR - Sev A - Databricks notebook is stuck , ARR |  T-Mobile USA | Job stuck at CREATE DF | SR: 2205020040000453  2205020040000453 genie, ARR | T-Mobile USA | Reading to df got stuck | SR: 2205020040000453 , Jobs stuck in SQL Endpoint, Could you please help understand the reason while is stuck, Query stuck in running state, Job is Stuck , [REG: 2204270060000429] Spark job is stuck - Genie Access, [ARR] Ganglia metrics not loaded [ARR] Execution of commands  in databaricks cluster stuck, [Genie] Unable to deploy model, stuck at build image, Autoloader tasks keep getting stuck , spark commands get stuck, Job gets stuck on “uploading command\" , Notebook commands get hung on spark.read; Spark Job gets initiated but commands get stuck indefinitely., Job stuck in running state Genie for 2205300030001727 , Job is stuck,\n",
      "\n",
      "Cluster 125 words:\n",
      "\n",
      "Cluster 125 titles: New Data/Table Replication Across workspaces, Workspace limit exceeded, only 20 workspaces are allowed for your account, ARR - Customer would like access to private preview feature - Private workspaces, Intermittent issues while affecting multiple workspaces, All Biogen Databricks workspaces are down, Workspaces are not reachable,\n",
      "\n",
      "Cluster 126 words:\n",
      "\n",
      "Cluster 126 titles: Databricks: OutOfMemory Error, Genie authentication, Cannot select Authentication Type in Azure Genie page,  Multiple issues with clusters changed over night - logging, shared config, Cluster logging object ownership, Ray on Databricks with error, No Authentication Type appeared for Databricks AZURE Genie, The error 'ModuleNotFoundError' occurred, but the libs were installed on databricks, Request Authentication Issue, Authentication unavailable, Authentication error while logging to Databricks,\n",
      "\n",
      "Cluster 127 words:\n",
      "\n",
      "Cluster 127 titles: Need Help with Seperate work Spaces in the same accout?, InvariantViolationException: Exceeds char/varchar type length limitation when try to create table Getting Error while creating Partition for table. , Need help with SHOW CREATE TABLE in spark higher version, Need documentation to integrate bitbucket Server with Databricks, Need help integrating SSO at account level, Perform cenrtain check without SPARK Actions Need help why dataframe cache is not working, Need help to implement Instana JVM Startup Agent, HElp us to install Library in 10LTS ML Jobs are failing after changing DBR Version, Delta table restore to version took 45 minutes, Add Comment to Column Create Table AS, Need help verifying the actions from DataBricks, File cannot inherit from folder when create table,\n",
      "\n",
      "Cluster 128 words:\n",
      "\n",
      "Cluster 128 titles: ARR | genie | 2205110050002089, Genie 2205110050002089 ,\n",
      "\n",
      "Cluster 129 words:\n",
      "\n",
      "Cluster 129 titles: Could not find ADLS Gen2 Token, Could not find ADLS Gen2 Token, Could not find ADLS Gen2 Token, Intermittent error \"Could not find ADLS Gen2 Token\" when running Jobs with credentials passthrough Genie 2205230040003508,\n",
      "\n",
      "Cluster 130 words:\n",
      "\n",
      "Cluster 130 titles: broadcast the table that is larger than 8GB: 25 GB, DBR PROD -  Cannot broadcast the table that is larger than 8GB: 9 GB,\n",
      "\n",
      "Cluster 131 words:\n",
      "\n",
      "Cluster 131 titles: error message on main dbx dashboard, CSS-ARR-SR#2205040030000589-Jobs failing due to TCP/IP connection error, ARR | getting time out error when jobs are triggered, All Workflows (Jobs) fail immediately with an error message, Run result unavailable: job failed with error message 403: Invalid Authorization, ALL Jobs are failing with this new error message, Misleading error message when github token is given but expired, 2205130040002413 databricks's autoloader can not consume message from the queue storage 2205130040002413, Error Message: 'JavaPackage' object is not callable-, Error in jobs: OutOfMemorySparkException  Getting Random ExecutorLostFailure, Error Message: 'JavaPackage' object is not callable, Sudden cluster termination with error message \"CLOUD_PROVIDER_SHUTDOWN\" | ARR SR# 2205250030000379,\n",
      "\n",
      "Cluster 132 words:\n",
      "\n",
      "Cluster 132 titles: Huge Lag in performance in Notebook Navigation, Follow up of  (00141972)Significant performance degradation when upgrating from 9.1 ML LTS to 10.4 ML LTS. 'Process Test Performance, AutoLoader Performance Issues, Performance improvement on newer DBRs, [ARR] [Sev C] SR-2205080030000417-Slow performance, Databricks notebook performance is degraded  Databricks job failing without any logs, 2112100050001306  follow up for SF 00128160: job performance issue, Long running production workflow performance issue, Slow performance observed in a frequently running job on Production, Job performance Job performance, [ARR] [Sev C] SR-2205080030000417-Slow performance, Performance Tuning the job, [ARR][Poor Performance of a Cluster], 2205190030000562 | Performance 2205180040008873 | Metadata exception, [ARR] [Sev B] SR-2205190010002627 RCA-performance issue for job executing, Performance issue on the notebooks execution. , S500 | Highly escalated| job performance degredation  workspace access | 2205170050002219, How to assess performance of notebook included with %run magic, Job performance, [ARR][GrabTaxi][Job Report Storage Performance related] [ARR][Genie][Storage Latency], Notebook Execution taking to much time. Need performance tuning,\n",
      "\n",
      "Cluster 133 words:\n",
      "\n",
      "Cluster 133 titles: 2205050050001457 - Genie, 2205050050001457 - Genie,\n",
      "\n",
      "Cluster 134 words:\n",
      "\n",
      "Cluster 134 titles: Unable to access the Details Page of the Jobs runs, 2205050030000380  When the same notebook runs with job cluster, it is not able to parse a particular xml block and returns NULL instead, Same job sometimes runs for ever, 2205100040006478 Databricks issues without any logs in the job runs 2205230010002783  Spark Task runs and does not rerturn results , Job runs slower than expected. There are no logs to investigate | ARR SR# 2205260040002506 , 2205240040004222 | ARR | Jobs are running slow than the previous runs Follow-up case for - 00144864, Can we have a chance to know which VM type has which kind of disk's tyoe? 2205300030001614  Two runs and one one just took 2 mins and others took 4h,\n",
      "\n",
      "Cluster 135 words:\n",
      "\n",
      "Cluster 135 titles: Requesting guidance on Token Rotation mechanism, Data Lake multiple Hourly Job Failures due to Invalid access token error, Uncaught TypeError: Cannot Read Properties of Undefined, UnCaught Syntax error, Unexpected error while creating the cluster for job - INVALID PARAMETER VALUE, Uncaught SyntaxError: Unexpected token '&&', Unexpected behavior in a Notebook , 2205190050002332 Token quota exceeded (600 tokens) genie, ARR | Blackrock-OneAladdin| Restapi using access token+management token not working for workspace enabled private endpoint| SR:2205190030000177  , genie-not using a valid access token. Update the access token for the linked service,\n",
      "\n",
      "Cluster 136 words:\n",
      "\n",
      "Cluster 136 titles: ARR | 2204260030001644 | Grant access control to mount point, Admin Account Console SSO, Cannot mount a storage account, 2205090030001672 | ARR |  losing access to mount point, Genie 2205120050001524  Starting 22 March, there is a substantial increase in cost of the DBFS storage account, ARR-Getting time out issues with storage account, 7173 - g - ARR - ATT - Storage account inaccessible 5641 - ARR - MolinaHealthcare - Functionality issue on SQL editor filter, Account SSO Timeout, Not able to mount storage account, Cannot log in on account page, Intermittent issues when interacting with Storage Account, Request to delete legacy account, Not able to mount storage account, Cannot access storage account from Databricks cluster, Failed to access cloud storage: AbfsRestOperationException, [Arr][Storage Latency], Genie:2205270010001059 ALTER TABLE statement failing with configurationInvalid fs.azure.account.key,\n",
      "\n",
      "Cluster 137 words:\n",
      "\n",
      "Cluster 137 titles: 2205060040000451, 2205060040000451,\n",
      "\n",
      "Cluster 138 words:\n",
      "\n",
      "Cluster 138 titles: Editing clusters throwing errors, Intermittent errors while upsizing the nodes., errors running deployment script in databricks errors running deployment script in databricks, errors running deployment script in databricks, PAT throwing 403 errors with databricks apis, Azure Databricks Deployment getting failed, The deployment of the resource is failing due to InvalidAccessToken, Error with Model Deployment which used to be able to be deployed, Databricks unexplained errors, Databricks deployment failure using automation.,\n",
      "\n",
      "Cluster 139 words:\n",
      "\n",
      "Cluster 139 titles: [ARR] Whitelist WS to use Git Enterprize 1102382472621232, Whitelist Power BI urls, please whitelist  3.216.161.215, whitelist, whitelist,\n",
      "\n"
     ]
    }
   ],
   "source": [
    "from __future__ import print_function\n",
    "\n",
    "print(\"Top terms per cluster:\")\n",
    "print()\n",
    "order_centroids = km.cluster_centers_.argsort()[:, ::-1]\n",
    "for i in range(num_clusters):\n",
    "    print(\"Cluster %d words:\" % i, end='')\n",
    "    print()\n",
    "    print()\n",
    "    print(\"Cluster %d titles:\" % i, end='')\n",
    "    for title in frame.loc[i]['title'].values.tolist():\n",
    "        print(' %s,' % title, end='')\n",
    "    print()\n",
    "    print()"
   ]
  },
  {
   "cell_type": "code",
   "execution_count": 43,
   "id": "97216fd0",
   "metadata": {},
   "outputs": [],
   "source": [
    "# import os  # for os.path.basename\n",
    "\n",
    "# import matplotlib.pyplot as plt\n",
    "# import matplotlib as mpl\n",
    "\n",
    "# from sklearn.manifold import MDS\n",
    "\n",
    "# MDS()\n",
    "\n",
    "# # two components as we're plotting points in a two-dimensional plane\n",
    "# # \"precomputed\" because we provide a distance matrix\n",
    "# # we will also specify `random_state` so the plot is reproducible.\n",
    "# mds = MDS(n_components=2, dissimilarity=\"precomputed\", random_state=1)\n",
    "\n",
    "# pos = mds.fit_transform(dist)  # shape (n_components, n_samples)\n",
    "\n",
    "# xs, ys = pos[:, 0], pos[:, 1]"
   ]
  },
  {
   "cell_type": "code",
   "execution_count": 44,
   "id": "a2ece583",
   "metadata": {},
   "outputs": [],
   "source": [
    "# #strip any proper nouns (NNP) or plural proper nouns (NNPS) from a text\n",
    "# from nltk.tag import pos_tag\n",
    "# nltk.download('averaged_perceptron_tagger')\n",
    "\n",
    "# def strip_proppers_POS(text):\n",
    "#     tagged = pos_tag(text.split()) #use NLTK's part of speech tagger\n",
    "#     non_propernouns = [word for word,pos in tagged if pos != 'genie' and pos != 'Genie']\n",
    "#     return non_propernouns"
   ]
  },
  {
   "cell_type": "code",
   "execution_count": 45,
   "id": "7b8805e0",
   "metadata": {},
   "outputs": [],
   "source": [
    "#queries1 = frame['title'].apply(lambda z:strip_proppers_POS(z))"
   ]
  },
  {
   "cell_type": "code",
   "execution_count": null,
   "id": "d76ec042",
   "metadata": {},
   "outputs": [],
   "source": []
  },
  {
   "cell_type": "code",
   "execution_count": 46,
   "id": "f907b919",
   "metadata": {},
   "outputs": [],
   "source": [
    "# from matplotlib import colors as mcolors\n",
    "# cluster_labels = km.predict(X)\n",
    "# colors = dict(mcolors.BASE_COLORS,**mcolors.CSS4_COLORS)\n",
    "# col = [c for c in colors.values()]\n",
    "# cluster_colors = [col[index] for index in cluster_labels]\n",
    "# #name\n",
    "# #https://stackoverflow.com/questions/69663376/python-3-how-to-plot-39-k-means-clusters-all-with-a-different-color\n",
    "    "
   ]
  },
  {
   "cell_type": "code",
   "execution_count": 47,
   "id": "626252e8",
   "metadata": {
    "scrolled": false
   },
   "outputs": [],
   "source": [
    "# #create data frame that has the result of the MDS plus the cluster numbers and titles\n",
    "# df = pd.DataFrame(dict(x=xs, y=ys, label=clusters, title=queries)) \n",
    "\n",
    "# #group by cluster\n",
    "# groups = df.groupby('label')\n",
    "\n",
    "# # set up plot\n",
    "# fig, ax = plt.subplots(figsize=(17, 9)) # set size\n",
    "# ax.margins(0.05) # Optional, just adds 5% padding to the autoscaling\n",
    "\n",
    "# for name, group in groups:\n",
    "#     ax.plot(group.x, group.y, marker='o',label=cluster_labels[name], color=cluster_colors[name], linestyle='', ms=12, mec='none')\n",
    "#     ax.set_aspect('auto')\n",
    "#     ax.tick_params(\\\n",
    "#         axis= 'x',          # changes apply to the x-axis\n",
    "#         which='both',      # both major and minor ticks are affected\n",
    "#         bottom='off',      # ticks along the bottom edge are off\n",
    "#         top='off',         # ticks along the top edge are off\n",
    "#         labelbottom='off')\n",
    "#     ax.tick_params(\\\n",
    "#         axis= 'y',         # changes apply to the y-axis\n",
    "#         which='both',      # both major and minor ticks are affected\n",
    "#         left='off',      # ticks along the bottom edge are off\n",
    "#         top='off',         # ticks along the top edge are off\n",
    "#         labelleft='off')\n",
    "    \n",
    "# ax.legend(numpoints=1)  #show legend with only 1 point\n",
    "\n",
    "# #add label in x,y position with the label as the film title\n",
    "# for i in range(len(df)):\n",
    "#     ax.text(df.loc[i]['x'], df.loc[i]['y'], df.loc[i]['title'], size=8)  \n",
    "\n",
    "# plt.show()    "
   ]
  },
  {
   "cell_type": "code",
   "execution_count": 48,
   "id": "03b20110",
   "metadata": {},
   "outputs": [],
   "source": [
    "# group.head()"
   ]
  },
  {
   "cell_type": "code",
   "execution_count": 49,
   "id": "c28f769a",
   "metadata": {},
   "outputs": [],
   "source": [
    "# queries"
   ]
  },
  {
   "cell_type": "code",
   "execution_count": null,
   "id": "ef4328f6",
   "metadata": {},
   "outputs": [],
   "source": []
  },
  {
   "cell_type": "code",
   "execution_count": null,
   "id": "c4118c80",
   "metadata": {},
   "outputs": [],
   "source": []
  },
  {
   "cell_type": "code",
   "execution_count": null,
   "id": "559a3e55",
   "metadata": {},
   "outputs": [],
   "source": []
  },
  {
   "cell_type": "code",
   "execution_count": null,
   "id": "82b10e70",
   "metadata": {},
   "outputs": [],
   "source": []
  },
  {
   "cell_type": "code",
   "execution_count": null,
   "id": "0e8831c2",
   "metadata": {},
   "outputs": [],
   "source": []
  },
  {
   "cell_type": "markdown",
   "id": "4c645a2d",
   "metadata": {},
   "source": [
    "# MAPPING of files "
   ]
  },
  {
   "cell_type": "code",
   "execution_count": 50,
   "id": "ebf0d04d",
   "metadata": {},
   "outputs": [
    {
     "name": "stdout",
     "output_type": "stream",
     "text": [
      "{'Not able to connect to ADLS with External HMS': [57, 158], 'Unable to access AzureDatabricks workspace': [165, 168, 1927, 1928], 'Not able to Write to Container using Pyspark.write method': [75, 181, 919], 'Notebook execution failure': [330, 348], 'Databricks views are being recreated with all column names in lowercase.': [122, 423], 'Data loss with applyInPandas': [357, 447], 'Failed Databricks notebooks': [34, 451], 'Cluster terminated.Reason:Self Bootstrap Failure': [467, 474, 894], 'Recover databricks workspace': [522, 523], 'passwordless SFTP connection': [528, 531], 'Runtime Error, cannot open the connection': [539, 552], ' Notebook showing function does not exist': [267, 565], 'PowerBi Failing To Connect To Databricks Table and Fetch Data': [62, 598], 'SQL joins gives wrong result': [449, 662], 'On some occasions the count file is having more numbers than the data file': [84, 688], 'Not able to create cluster pool with DBR Light 2.4 Extended': [700, 703], 'Conuming avro messages from kafka makes problem.': [591, 764], 'Databricks:  When clicking on completed jobs get HTTP ERROR 403': [687, 768, 1891], 'Delta Lake Change Feed Data error on job restart': [229, 773], 'Cluster Terminating': [166, 821], 'Failed to connect Azure SQL Server using ActiveDirectoryIntegrated in Databricks': [834, 842], '[ARR][2205190040006377 ][Procter and Gamble]the spark driver has stopped unexpectedly and is restarting. your notebook will be automatically reattached.': [182, 871], '[ARR][2204260040005094 ][Geico]Unable to set log destiation to dbfs mnt': [872, 873, 882], '958145594491036 - 10280a44-7716-4c2a-8238-1b1796d4fde3 - 2205190040004859': [532, 889], 'MOVE dag is failing': [559, 941, 1714], 'Databricks SQL UI Issue': [939, 945], 'ARR | Some libraries are failing when cluster restarts | 2205170040006180': [979, 980, 981], 'Prod & Dev DBKS Job Failures due to Azure VM Extension Outage for Bootstrap Script Execution': [960, 1082], 'whitelist': [1061, 1088], 'Job performance': [343, 1136, 1141], 'The spark driver has stopped unexpectedly and seems like a memory issue': [827, 1187], 'Customer is unable to write streaming data to Event Hub': [1245, 1246], 'Notebook cell hanging with python': [1226, 1293], 'Not able to mount storage account': [1160, 1326, 3049], '[ARR][2205130040006196][AT & T]issue when writing huge number of records': [1345, 1346], 'Unable to write from Databricks into Synapse': [1370, 1372], 'gar for ': [1108, 1413], ' Spark Structured Streaming Job Not Running': [603, 1421], 'Job were running slow and few nodes getting skipped': [1436, 1438], 'Job aborted': [1040, 1481], 'ACL permissions': [1526, 1529, 2937], 'Could not find ADLS Gen2 Token': [1106, 1549, 1799], 'File read from Container is taking very long time': [1537, 1576, 1700], \"I got stuck to an error in data bricks , the error is ' Command result size exceeds limit: Exceeded 20971520 bytes (current = 20972463)'\": [1419, 1625, 1626], 'Azure Databricks Vnet Connectivity': [639, 1651], '[ARR] [Sev C] SR-2205080030000417-Slow performance': [1047, 1673], 'SQL query works in DBR 9.1 but fails in DBR 10.4': [1671, 1698], 'Dip and spike in incoming messages at 12AM UTC': [1715, 1717], '3337075389283370 - 6b64b59f-432d-401e-b552-d855f1e1d2e0 - 2204060040002674': [1483, 1739, 2647, 3416, 4556], 'photon clusters giving incorrect results.': [1743, 1764], 'Trying to get the size of folders in dbfs': [1810, 1812], 'errors running deployment script in databricks': [1835, 1858, 1859], 'Error while migrating database from hive to glue': [340, 1881], 'unable to create Db and tables': [1819, 1889, 2552], 'Unable to connect to PostgreSQL remote db': [1184, 1922], 'The VMs are not getting deallocated and costing to us': [1524, 1946], 'Connection pool shut down': [1600, 2009], 'Pycrypto installation failed using init script': [1817, 2047], 'Unable to read table using spark sql': [2034, 2053], 'JDBC query connection issue': [63, 2060], 'Databricks Issue': [597, 2168, 3869, 4837], 'Job Failure': [616, 2204], 'Access Azure Synapse from Azure Databricks with SQLDW spark connector': [656, 2252], 'Job failure': [1352, 2269, 3749, 5823], 'Cluster lost at least one node. Reason: Communication lost': [2115, 2348, 3224], 'Error connecting to Trino JDBC': [1883, 2363], 'changing default timestamp for hive tables and databricks workspace to CET': [2275, 2367, 2368], 'Random issue running a query in Databricks': [2032, 2379, 3346], 'Databricks - Cluster Upgrade with gdal': [1390, 2384], 'SQL access': [1002, 2418, 4152], 'Unable to create empty delta tables in the ADLS stoarage': [2456, 2457], ' Unable to create empty delta tables in the ADLS stoarage': [2452, 2474]}\n"
     ]
    }
   ],
   "source": [
    "\n",
    "input_data = pd.read_csv(\"input.csv\")\n",
    "output_data = pd.read_csv(\"output.csv\")\n",
    "\n",
    "input_data.columns = [\"ID\",\"keyword\"]\n",
    "output_data.columns = [\"ID\",\"keyword\"]\n",
    "\n",
    "input_data.describe()\n",
    "\n",
    "# Drop Duplicates from Output CSV, ID column\n",
    "output_data.drop_duplicates(inplace=True)\n",
    "\n",
    "input_data.drop(columns=\"ID\",inplace=True)\n",
    "output_data.drop(columns=\"ID\",inplace=True)\n",
    "\n",
    "input_data\n",
    "\n",
    "output_data\n",
    "\n",
    "# Create Mappings JSON\n",
    "# create dict to store keywords and indices they match in original document\n",
    "from collections import defaultdict\n",
    "mappings_json = defaultdict(list)\n",
    "mappings_json\n",
    "\n",
    "# create list of keys from output csv, which will be used to find indices in original csv\n",
    "output_keys = list(output_data['keyword'])\n",
    "\n",
    "# some keywords have 0 results on their own such as numbers like \"2205200030001371\"\n",
    "# add to dict only if found indices are not 0\n",
    "# increment indices by 2 to compensate for removal of \"genie\"\n",
    "for key in output_keys:\n",
    "    indices = input_data.index[input_data['keyword'] == key].to_list()\n",
    "    indices = list(map(lambda x : x+2, indices))\n",
    "    if len(indices):\n",
    "        mappings_json[key] = indices\n",
    "\n",
    "print(dict(mappings_json))"
   ]
  },
  {
   "cell_type": "code",
   "execution_count": 51,
   "id": "1701afb1",
   "metadata": {},
   "outputs": [],
   "source": [
    "mapping_list = list(dict(mappings_json).items())"
   ]
  },
  {
   "cell_type": "code",
   "execution_count": 52,
   "id": "ecc3674f",
   "metadata": {},
   "outputs": [],
   "source": [
    "df_list = pd.DataFrame(mapping_list)"
   ]
  },
  {
   "cell_type": "code",
   "execution_count": 53,
   "id": "7c855c37",
   "metadata": {},
   "outputs": [],
   "source": [
    "df_list.columns = ['titles','num_original_docs']"
   ]
  },
  {
   "cell_type": "code",
   "execution_count": 54,
   "id": "f9015d32",
   "metadata": {},
   "outputs": [
    {
     "data": {
      "text/html": [
       "<div>\n",
       "<style scoped>\n",
       "    .dataframe tbody tr th:only-of-type {\n",
       "        vertical-align: middle;\n",
       "    }\n",
       "\n",
       "    .dataframe tbody tr th {\n",
       "        vertical-align: top;\n",
       "    }\n",
       "\n",
       "    .dataframe thead th {\n",
       "        text-align: right;\n",
       "    }\n",
       "</style>\n",
       "<table border=\"1\" class=\"dataframe\">\n",
       "  <thead>\n",
       "    <tr style=\"text-align: right;\">\n",
       "      <th></th>\n",
       "      <th>titles</th>\n",
       "      <th>num_original_docs</th>\n",
       "    </tr>\n",
       "  </thead>\n",
       "  <tbody>\n",
       "    <tr>\n",
       "      <th>0</th>\n",
       "      <td>Not able to connect to ADLS with External HMS</td>\n",
       "      <td>[57, 158]</td>\n",
       "    </tr>\n",
       "    <tr>\n",
       "      <th>1</th>\n",
       "      <td>Unable to access AzureDatabricks workspace</td>\n",
       "      <td>[165, 168, 1927, 1928]</td>\n",
       "    </tr>\n",
       "    <tr>\n",
       "      <th>2</th>\n",
       "      <td>Not able to Write to Container using Pyspark.w...</td>\n",
       "      <td>[75, 181, 919]</td>\n",
       "    </tr>\n",
       "    <tr>\n",
       "      <th>3</th>\n",
       "      <td>Notebook execution failure</td>\n",
       "      <td>[330, 348]</td>\n",
       "    </tr>\n",
       "    <tr>\n",
       "      <th>4</th>\n",
       "      <td>Databricks views are being recreated with all ...</td>\n",
       "      <td>[122, 423]</td>\n",
       "    </tr>\n",
       "  </tbody>\n",
       "</table>\n",
       "</div>"
      ],
      "text/plain": [
       "                                              titles       num_original_docs\n",
       "0      Not able to connect to ADLS with External HMS               [57, 158]\n",
       "1         Unable to access AzureDatabricks workspace  [165, 168, 1927, 1928]\n",
       "2  Not able to Write to Container using Pyspark.w...          [75, 181, 919]\n",
       "3                         Notebook execution failure              [330, 348]\n",
       "4  Databricks views are being recreated with all ...              [122, 423]"
      ]
     },
     "execution_count": 54,
     "metadata": {},
     "output_type": "execute_result"
    }
   ],
   "source": [
    "df_list.head()"
   ]
  },
  {
   "cell_type": "code",
   "execution_count": 56,
   "id": "aac32cca",
   "metadata": {},
   "outputs": [
    {
     "data": {
      "text/plain": [
       "72"
      ]
     },
     "execution_count": 56,
     "metadata": {},
     "output_type": "execute_result"
    }
   ],
   "source": [
    "len(df_list)"
   ]
  },
  {
   "cell_type": "code",
   "execution_count": 55,
   "id": "67d9d932",
   "metadata": {},
   "outputs": [],
   "source": [
    "df_list.to_csv('databricks_newfile.csv')"
   ]
  },
  {
   "cell_type": "code",
   "execution_count": null,
   "id": "d2e8d3bd",
   "metadata": {},
   "outputs": [],
   "source": []
  }
 ],
 "metadata": {
  "kernelspec": {
   "display_name": "Python 3 (ipykernel)",
   "language": "python",
   "name": "python3"
  },
  "language_info": {
   "codemirror_mode": {
    "name": "ipython",
    "version": 3
   },
   "file_extension": ".py",
   "mimetype": "text/x-python",
   "name": "python",
   "nbconvert_exporter": "python",
   "pygments_lexer": "ipython3",
   "version": "3.7.13"
  }
 },
 "nbformat": 4,
 "nbformat_minor": 5
}

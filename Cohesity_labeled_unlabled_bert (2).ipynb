{
 "cells": [
  {
   "cell_type": "markdown",
   "id": "f385ded7-588a-4644-8d77-9b73481ce5aa",
   "metadata": {
    "tags": []
   },
   "source": [
    "# Cohesity Labled Unlabled"
   ]
  },
  {
   "cell_type": "markdown",
   "id": "a1aed9b7-128d-44a8-9e44-b742df33bfad",
   "metadata": {},
   "source": [
    "Install Annoy\n",
    "#https://anaconda.org/conda-forge/python-annoy"
   ]
  },
  {
   "cell_type": "code",
   "execution_count": 92,
   "id": "2a24f53c-c12f-4bf4-a91a-aecdbe295019",
   "metadata": {},
   "outputs": [],
   "source": [
    "import pandas as pd\n",
    "import numpy as np\n",
    "import re\n",
    "from annoy import AnnoyIndex\n",
    "#import warnings\n",
    "from sentence_transformers import SentenceTransformer\n",
    "import contractions\n",
    "# import tensorflow as tf"
   ]
  },
  {
   "cell_type": "markdown",
   "id": "329ac5c6-6212-4bf2-a352-c3c2e8117adf",
   "metadata": {},
   "source": [
    "### Loading The Model from Hugging Face library"
   ]
  },
  {
   "cell_type": "code",
   "execution_count": 93,
   "id": "e00af5e7-ac82-451e-b400-f3a6a3a30d36",
   "metadata": {
    "tags": []
   },
   "outputs": [],
   "source": [
    "model = SentenceTransformer('all-mpnet-base-v2')"
   ]
  },
  {
   "cell_type": "code",
   "execution_count": 94,
   "id": "bbbc2c30-3816-4a38-91ba-232f69d7c828",
   "metadata": {},
   "outputs": [],
   "source": [
    "xls = pd.ExcelFile('cohesity_with_without_clicks.xlsx')"
   ]
  },
  {
   "cell_type": "code",
   "execution_count": 95,
   "id": "ab0548ff-000f-4a98-8be1-5d47ff9fc08c",
   "metadata": {},
   "outputs": [],
   "source": [
    "df1_with_clicks = pd.read_excel('cohesity_with_without_clicks.xlsx', sheet_name='Search with Clicks Case created',usecols=['Activity Detail','Email'])\n",
    "df2_without_clicks = pd.read_excel('cohesity_with_without_clicks.xlsx', sheet_name='Search with no clicks',usecols = ['Activity Detail','Email'])"
   ]
  },
  {
   "cell_type": "code",
   "execution_count": 96,
   "id": "d4b65fb3-3194-49ab-acfa-a2f43e2d89d4",
   "metadata": {},
   "outputs": [
    {
     "data": {
      "text/html": [
       "<div>\n",
       "<style scoped>\n",
       "    .dataframe tbody tr th:only-of-type {\n",
       "        vertical-align: middle;\n",
       "    }\n",
       "\n",
       "    .dataframe tbody tr th {\n",
       "        vertical-align: top;\n",
       "    }\n",
       "\n",
       "    .dataframe thead th {\n",
       "        text-align: right;\n",
       "    }\n",
       "</style>\n",
       "<table border=\"1\" class=\"dataframe\">\n",
       "  <thead>\n",
       "    <tr style=\"text-align: right;\">\n",
       "      <th></th>\n",
       "      <th>Email</th>\n",
       "      <th>Activity Detail</th>\n",
       "    </tr>\n",
       "  </thead>\n",
       "  <tbody>\n",
       "    <tr>\n",
       "      <th>0</th>\n",
       "      <td>stephen.troy@envestnet.com</td>\n",
       "      <td>add new node to cluster</td>\n",
       "    </tr>\n",
       "    <tr>\n",
       "      <th>1</th>\n",
       "      <td>stephen.troy@envestnet.com</td>\n",
       "      <td>add new node to cluster</td>\n",
       "    </tr>\n",
       "  </tbody>\n",
       "</table>\n",
       "</div>"
      ],
      "text/plain": [
       "                        Email          Activity Detail\n",
       "0  stephen.troy@envestnet.com  add new node to cluster\n",
       "1  stephen.troy@envestnet.com  add new node to cluster"
      ]
     },
     "execution_count": 96,
     "metadata": {},
     "output_type": "execute_result"
    }
   ],
   "source": [
    "df1_with_clicks.head(2)"
   ]
  },
  {
   "cell_type": "code",
   "execution_count": 97,
   "id": "c27b59bd-6442-4bd0-b77a-e29794a6a755",
   "metadata": {},
   "outputs": [
    {
     "data": {
      "text/html": [
       "<div>\n",
       "<style scoped>\n",
       "    .dataframe tbody tr th:only-of-type {\n",
       "        vertical-align: middle;\n",
       "    }\n",
       "\n",
       "    .dataframe tbody tr th {\n",
       "        vertical-align: top;\n",
       "    }\n",
       "\n",
       "    .dataframe thead th {\n",
       "        text-align: right;\n",
       "    }\n",
       "</style>\n",
       "<table border=\"1\" class=\"dataframe\">\n",
       "  <thead>\n",
       "    <tr style=\"text-align: right;\">\n",
       "      <th></th>\n",
       "      <th>Email</th>\n",
       "      <th>Activity Detail</th>\n",
       "    </tr>\n",
       "  </thead>\n",
       "  <tbody>\n",
       "    <tr>\n",
       "      <th>0</th>\n",
       "      <td>mariele.klering@vodafone.nz</td>\n",
       "      <td>alerts of securitypolicydenial after upgrade t...</td>\n",
       "    </tr>\n",
       "    <tr>\n",
       "      <th>1</th>\n",
       "      <td>yuka.katayama@g.softbank.co.jp</td>\n",
       "      <td>about the amount of data transferred / written...</td>\n",
       "    </tr>\n",
       "  </tbody>\n",
       "</table>\n",
       "</div>"
      ],
      "text/plain": [
       "                            Email  \\\n",
       "0     mariele.klering@vodafone.nz   \n",
       "1  yuka.katayama@g.softbank.co.jp   \n",
       "\n",
       "                                     Activity Detail  \n",
       "0  alerts of securitypolicydenial after upgrade t...  \n",
       "1  about the amount of data transferred / written...  "
      ]
     },
     "execution_count": 97,
     "metadata": {},
     "output_type": "execute_result"
    }
   ],
   "source": [
    "df2_without_clicks.head(2)"
   ]
  },
  {
   "cell_type": "code",
   "execution_count": 98,
   "id": "047f7924-a8ae-48df-9c86-77013b9d8da7",
   "metadata": {
    "tags": []
   },
   "outputs": [],
   "source": [
    "def preprocessing(text):\n",
    "  #to lowercase\n",
    "    text = str(text).lower()\n",
    "    #removing unnecessary dictionaries and braces\n",
    "    text = re.sub(r'\\([^)]*\\)', '', text)\n",
    "    text = re.sub(r'\\{[^)]*\\}', '', text)\n",
    "    #remove new lines\n",
    "    text = text.replace('\\\\n',' ')\n",
    "    #replacement\n",
    "    text = text.replace(re.escape(\"\\]\\[\"), \"\")\n",
    "    text = text.replace(re.escape(\"]\"), \"\")\n",
    "    #remove none meaningful    \n",
    "    text = re.sub(r'\\\\x[0-9a-f]{2}', '',text)\n",
    "    #remove emails\n",
    "    text = re.sub(r'\\S*@\\S*\\s?',' ',text)\n",
    "    #remove mentions\n",
    "    text = re.sub(r'@\\S+', ' ', text)\n",
    "    #contractions\n",
    "    text = contractions.fix(text)\n",
    "    #remove hashtags\n",
    "    text = re.sub(r'@\\S+', ' ', text)\n",
    "    #remove emojis\n",
    "    text = re.sub(r'[^\\x00-\\x7F]+', ' ', text)\n",
    "    #remove retweets\n",
    "    text = text.replace(r'rt', '')\n",
    "    #remove all punct\n",
    "    text = re.sub('[^A-za-z0-9]', ' ', text)\n",
    "    #remove extras whitespaces\n",
    "    text = re.sub('\\s+', ' ', text)\n",
    "    return text\n"
   ]
  },
  {
   "cell_type": "markdown",
   "id": "2758b2ba-48ed-48c9-88fe-08290c7010e8",
   "metadata": {},
   "source": [
    "# Preprocessing "
   ]
  },
  {
   "cell_type": "code",
   "execution_count": 99,
   "id": "e2141611-1eb4-4192-af3a-2b6b2e9002e4",
   "metadata": {},
   "outputs": [],
   "source": [
    "df1_with_clicks['Activity Detail'] = df1_with_clicks['Activity Detail'].apply(preprocessing)"
   ]
  },
  {
   "cell_type": "code",
   "execution_count": 100,
   "id": "dbe1550a-173d-4a79-b12d-da93c29eb970",
   "metadata": {},
   "outputs": [],
   "source": [
    "df2_without_clicks['Activity Detail'] = df2_without_clicks['Activity Detail'].apply(preprocessing)"
   ]
  },
  {
   "cell_type": "code",
   "execution_count": 101,
   "id": "7edf90e8-19aa-459f-99b6-78c079faf7d2",
   "metadata": {},
   "outputs": [
    {
     "data": {
      "text/html": [
       "<div>\n",
       "<style scoped>\n",
       "    .dataframe tbody tr th:only-of-type {\n",
       "        vertical-align: middle;\n",
       "    }\n",
       "\n",
       "    .dataframe tbody tr th {\n",
       "        vertical-align: top;\n",
       "    }\n",
       "\n",
       "    .dataframe thead th {\n",
       "        text-align: right;\n",
       "    }\n",
       "</style>\n",
       "<table border=\"1\" class=\"dataframe\">\n",
       "  <thead>\n",
       "    <tr style=\"text-align: right;\">\n",
       "      <th></th>\n",
       "      <th>Email</th>\n",
       "      <th>Activity Detail</th>\n",
       "    </tr>\n",
       "  </thead>\n",
       "  <tbody>\n",
       "    <tr>\n",
       "      <th>0</th>\n",
       "      <td>stephen.troy@envestnet.com</td>\n",
       "      <td>add new node to cluster</td>\n",
       "    </tr>\n",
       "    <tr>\n",
       "      <th>1</th>\n",
       "      <td>stephen.troy@envestnet.com</td>\n",
       "      <td>add new node to cluster</td>\n",
       "    </tr>\n",
       "    <tr>\n",
       "      <th>2</th>\n",
       "      <td>stephen.troy@envestnet.com</td>\n",
       "      <td>add new cohesity node</td>\n",
       "    </tr>\n",
       "    <tr>\n",
       "      <th>3</th>\n",
       "      <td>stephen.troy@envestnet.com</td>\n",
       "      <td>add new cohesity node</td>\n",
       "    </tr>\n",
       "  </tbody>\n",
       "</table>\n",
       "</div>"
      ],
      "text/plain": [
       "                        Email          Activity Detail\n",
       "0  stephen.troy@envestnet.com  add new node to cluster\n",
       "1  stephen.troy@envestnet.com  add new node to cluster\n",
       "2  stephen.troy@envestnet.com    add new cohesity node\n",
       "3  stephen.troy@envestnet.com    add new cohesity node"
      ]
     },
     "execution_count": 101,
     "metadata": {},
     "output_type": "execute_result"
    }
   ],
   "source": [
    "df1_with_clicks.head(4)"
   ]
  },
  {
   "cell_type": "code",
   "execution_count": 102,
   "id": "b0ac199a-4109-4ae4-918f-3dadbc24067d",
   "metadata": {},
   "outputs": [
    {
     "data": {
      "text/html": [
       "<div>\n",
       "<style scoped>\n",
       "    .dataframe tbody tr th:only-of-type {\n",
       "        vertical-align: middle;\n",
       "    }\n",
       "\n",
       "    .dataframe tbody tr th {\n",
       "        vertical-align: top;\n",
       "    }\n",
       "\n",
       "    .dataframe thead th {\n",
       "        text-align: right;\n",
       "    }\n",
       "</style>\n",
       "<table border=\"1\" class=\"dataframe\">\n",
       "  <thead>\n",
       "    <tr style=\"text-align: right;\">\n",
       "      <th></th>\n",
       "      <th>Email</th>\n",
       "      <th>Activity Detail</th>\n",
       "    </tr>\n",
       "  </thead>\n",
       "  <tbody>\n",
       "    <tr>\n",
       "      <th>0</th>\n",
       "      <td>mariele.klering@vodafone.nz</td>\n",
       "      <td>ales of securitypolicydenial after upgrade to 6 6</td>\n",
       "    </tr>\n",
       "    <tr>\n",
       "      <th>1</th>\n",
       "      <td>yuka.katayama@g.softbank.co.jp</td>\n",
       "      <td>about the amount of data transferred written d...</td>\n",
       "    </tr>\n",
       "    <tr>\n",
       "      <th>2</th>\n",
       "      <td>t.yu@accenture.com</td>\n",
       "      <td>ce00608013 ce00608013 vmoptimizedntfsvolumeind...</td>\n",
       "    </tr>\n",
       "    <tr>\n",
       "      <th>3</th>\n",
       "      <td>opsbackupandrecovery@toyota.com</td>\n",
       "      <td>unable to server register agent version mismatch</td>\n",
       "    </tr>\n",
       "  </tbody>\n",
       "</table>\n",
       "</div>"
      ],
      "text/plain": [
       "                             Email  \\\n",
       "0      mariele.klering@vodafone.nz   \n",
       "1   yuka.katayama@g.softbank.co.jp   \n",
       "2               t.yu@accenture.com   \n",
       "3  opsbackupandrecovery@toyota.com   \n",
       "\n",
       "                                     Activity Detail  \n",
       "0  ales of securitypolicydenial after upgrade to 6 6  \n",
       "1  about the amount of data transferred written d...  \n",
       "2  ce00608013 ce00608013 vmoptimizedntfsvolumeind...  \n",
       "3   unable to server register agent version mismatch  "
      ]
     },
     "execution_count": 102,
     "metadata": {},
     "output_type": "execute_result"
    }
   ],
   "source": [
    "df2_without_clicks.head(4)"
   ]
  },
  {
   "cell_type": "code",
   "execution_count": 103,
   "id": "2c4d2c43-564c-452e-a3df-32e5c82c4332",
   "metadata": {},
   "outputs": [
    {
     "data": {
      "text/plain": [
       "(2987, 2)"
      ]
     },
     "execution_count": 103,
     "metadata": {},
     "output_type": "execute_result"
    }
   ],
   "source": [
    "df1_with_clicks.shape"
   ]
  },
  {
   "cell_type": "code",
   "execution_count": 104,
   "id": "ce10bf9e-b1d2-4526-b7ca-aae4eb377100",
   "metadata": {},
   "outputs": [
    {
     "data": {
      "text/plain": [
       "(6345, 2)"
      ]
     },
     "execution_count": 104,
     "metadata": {},
     "output_type": "execute_result"
    }
   ],
   "source": [
    "df2_without_clicks.shape"
   ]
  },
  {
   "cell_type": "code",
   "execution_count": 105,
   "id": "eee15359-8587-47c5-a737-43b3b7c0819f",
   "metadata": {},
   "outputs": [
    {
     "data": {
      "text/plain": [
       "Index(['Email', 'Activity Detail'], dtype='object')"
      ]
     },
     "execution_count": 105,
     "metadata": {},
     "output_type": "execute_result"
    }
   ],
   "source": [
    "df1_with_clicks.keys()"
   ]
  },
  {
   "cell_type": "markdown",
   "id": "2ec43172-41d8-4f2c-85d4-62149a8a8b1b",
   "metadata": {},
   "source": [
    "# Dropping Duplicates"
   ]
  },
  {
   "cell_type": "code",
   "execution_count": 111,
   "id": "a00d3ec2-4cf3-490d-88d7-dffa9da17cf7",
   "metadata": {},
   "outputs": [],
   "source": [
    "df1_with_clicks = df1_with_clicks['Activity Detail'].drop_duplicates().reset_index()"
   ]
  },
  {
   "cell_type": "code",
   "execution_count": 114,
   "id": "a888b6b7-8430-4ccf-8162-b3c8d4d71f64",
   "metadata": {},
   "outputs": [
    {
     "data": {
      "text/plain": [
       "(2295, 2)"
      ]
     },
     "execution_count": 114,
     "metadata": {},
     "output_type": "execute_result"
    }
   ],
   "source": [
    "df1_with_clicks.shape"
   ]
  },
  {
   "cell_type": "code",
   "execution_count": 115,
   "id": "f3f7402e-77c7-4133-979e-f9a43a36e0a9",
   "metadata": {},
   "outputs": [],
   "source": [
    "df2_without_clicks = df2_without_clicks['Activity Detail'].drop_duplicates().reset_index()"
   ]
  },
  {
   "cell_type": "code",
   "execution_count": 116,
   "id": "41224866-cd44-40bd-8d02-53124678b44d",
   "metadata": {},
   "outputs": [
    {
     "name": "stdout",
     "output_type": "stream",
     "text": [
      "(2295, 2) (5398, 2)\n"
     ]
    }
   ],
   "source": [
    "print (df1_with_clicks.shape,df2_without_clicks.shape)"
   ]
  },
  {
   "cell_type": "markdown",
   "id": "8ba0c413-0788-4f96-9ff6-df453aa590b0",
   "metadata": {
    "tags": []
   },
   "source": [
    "# Encodings of Clicks and wihout clicks"
   ]
  },
  {
   "cell_type": "code",
   "execution_count": 117,
   "id": "d0ddf130-cd19-432f-8221-57b5ab463c23",
   "metadata": {},
   "outputs": [],
   "source": [
    "df1_clicks_encode = model.encode(df1_with_clicks['Activity Detail'])"
   ]
  },
  {
   "cell_type": "code",
   "execution_count": 118,
   "id": "8d11d919-5d70-40be-aa76-73b57780e774",
   "metadata": {},
   "outputs": [],
   "source": [
    "df2_clicks_encode = model.encode(df2_without_clicks['Activity Detail'])"
   ]
  },
  {
   "cell_type": "markdown",
   "id": "6a61e0d9-4adc-42dd-a2cb-be60910bcfa9",
   "metadata": {},
   "source": [
    "# Save Encoding"
   ]
  },
  {
   "cell_type": "code",
   "execution_count": 120,
   "id": "d891f8ca-8dac-46cd-847a-7b6366b608fe",
   "metadata": {
    "tags": []
   },
   "outputs": [],
   "source": [
    "df1_clicks_encode = np.array(df1_clicks_encode)\n",
    "np.save('clicksEmbedding.npy', df1_clicks_encode)\n",
    "\n",
    "df2_clicks_encode = np.array(df2_clicks_encode)\n",
    "np.save('withoutClicksEmbedding.npy', df2_clicks_encode)"
   ]
  },
  {
   "cell_type": "markdown",
   "id": "cefa28c7-07dd-473d-9bb0-09c612f9fa3c",
   "metadata": {},
   "source": [
    "# Loading Embeddings"
   ]
  },
  {
   "cell_type": "code",
   "execution_count": 123,
   "id": "af6d1e7e-a5a6-443f-8f39-302c18d23e49",
   "metadata": {},
   "outputs": [
    {
     "name": "stdout",
     "output_type": "stream",
     "text": [
      "Loaded a DataFrame with 2295 rows and an embeddings matrix of dimensions (2295, 768)\n"
     ]
    }
   ],
   "source": [
    "click_embeding = np.load('clicksEmbedding.npy')\n",
    "print(f'Loaded a DataFrame with {len(df1_with_clicks)} rows and an embeddings matrix of dimensions {click_embeding.shape}')"
   ]
  },
  {
   "cell_type": "code",
   "execution_count": 124,
   "id": "a7531d42-b662-425d-b481-424644da8a2c",
   "metadata": {},
   "outputs": [
    {
     "name": "stdout",
     "output_type": "stream",
     "text": [
      "Loaded a DataFrame with 5398 rows and an embeddings matrix of dimensions (5398, 768)\n"
     ]
    }
   ],
   "source": [
    "withoutclick_embeding = np.load('withoutClicksEmbedding.npy')\n",
    "print(f'Loaded a DataFrame with {len(df2_without_clicks)} rows and an embeddings matrix of dimensions {withoutclick_embeding.shape}')"
   ]
  },
  {
   "cell_type": "markdown",
   "id": "f6251708-833a-4329-940a-edcef1ac5aab",
   "metadata": {},
   "source": [
    "# Creating Search Index"
   ]
  },
  {
   "cell_type": "code",
   "execution_count": 125,
   "id": "f17c78d8-0ad8-4870-8940-17b85834d59a",
   "metadata": {},
   "outputs": [
    {
     "data": {
      "text/plain": [
       "True"
      ]
     },
     "execution_count": 125,
     "metadata": {},
     "output_type": "execute_result"
    }
   ],
   "source": [
    "# Create the search index, pass the size of embedding for clicks\n",
    "search_index = AnnoyIndex(click_embeding.shape[1], 'angular')\n",
    "# Add all the vectors to the search index\n",
    "for i in range(len(click_embeding)):\n",
    "    search_index.add_item(i, click_embeding[i])\n",
    "\n",
    "search_index.build(10) # 10 trees\n",
    "search_index.save('askhn.ann')"
   ]
  },
  {
   "cell_type": "code",
   "execution_count": 126,
   "id": "df33ad87-b7ac-4c0d-a514-326efbfe9804",
   "metadata": {},
   "outputs": [
    {
     "data": {
      "text/plain": [
       "True"
      ]
     },
     "execution_count": 126,
     "metadata": {},
     "output_type": "execute_result"
    }
   ],
   "source": [
    "# Create the search index, pass the size of embedding without clicks\n",
    "search_index_ = AnnoyIndex(withoutclick_embeding.shape[1], 'angular')\n",
    "# Add all the vectors to the search index\n",
    "for i in range(len(withoutclick_embeding)):\n",
    "    search_index_.add_item(i, withoutclick_embeding[i])\n",
    "\n",
    "search_index_.build(10) # 10 trees\n",
    "search_index_.save('askhn_.ann')"
   ]
  },
  {
   "cell_type": "markdown",
   "id": "4869efa9-2232-4ef7-9a3c-29df2fd00080",
   "metadata": {
    "tags": []
   },
   "source": [
    "# Creating Similarity Dataframe"
   ]
  },
  {
   "cell_type": "markdown",
   "id": "b5b883a0-7169-4b02-a78d-c34a0b6b3cd6",
   "metadata": {
    "tags": []
   },
   "source": [
    "### Similarity in With Clicks"
   ]
  },
  {
   "cell_type": "code",
   "execution_count": 127,
   "id": "1450026e-c2e9-45a7-b43a-8714e7e78dc8",
   "metadata": {},
   "outputs": [],
   "source": [
    "def simalarity_embedding(num):\n",
    "    data_list = []\n",
    "    for ids in range(1,num):\n",
    "        \n",
    "        similar_item_ids = search_index.get_nns_by_item(ids,100,search_k = -1,include_distances=True)\n",
    "        \n",
    "        data = pd.DataFrame(data={'Activity Detail':df1_with_clicks.iloc[ids]['Activity Detail'],'Match_Act_Detail': df1_with_clicks.iloc[similar_item_ids[0]]['Activity Detail'],\n",
    "                             'Distance': similar_item_ids[1]}).drop(ids)\n",
    "        # print(data)\n",
    "        data_list.append(data)\n",
    "    appended_data = pd.concat(data_list)\n",
    "    return appended_data"
   ]
  },
  {
   "cell_type": "code",
   "execution_count": 128,
   "id": "5bee6ce9-25ca-4cb8-b047-06c15fc21d6d",
   "metadata": {},
   "outputs": [],
   "source": [
    "data_k_nebighours = simalarity_embedding(click_embeding.shape[0])"
   ]
  },
  {
   "cell_type": "code",
   "execution_count": 130,
   "id": "174a8076-fc18-44dd-a8c7-c57079292eec",
   "metadata": {},
   "outputs": [
    {
     "data": {
      "text/plain": [
       "(227106, 3)"
      ]
     },
     "execution_count": 130,
     "metadata": {},
     "output_type": "execute_result"
    }
   ],
   "source": [
    "data_k_nebighours.shape"
   ]
  },
  {
   "cell_type": "markdown",
   "id": "5711ab31-af8d-42e2-907b-e41694f49e86",
   "metadata": {},
   "source": [
    "# Simalarity Without Clicks"
   ]
  },
  {
   "cell_type": "code",
   "execution_count": 133,
   "id": "09348e9f-a580-402d-8446-e07e2caed46c",
   "metadata": {},
   "outputs": [],
   "source": [
    "def simalarity_embedding_without(num):\n",
    "    data_list = []\n",
    "    for ids in range(1,num):\n",
    "        \n",
    "        similar_item_ids = search_index_.get_nns_by_item(ids,100,search_k = -1,include_distances=True)\n",
    "        \n",
    "        data = pd.DataFrame(data={'Activity Detail':df2_without_clicks.iloc[ids]['Activity Detail'],'Match_Act_Detail': df2_without_clicks.iloc[similar_item_ids[0]]['Activity Detail'],\n",
    "                             'Distance': similar_item_ids[1]}).drop(ids)\n",
    "        # print(data)\n",
    "        data_list.append(data)\n",
    "    appended_data = pd.concat(data_list)\n",
    "    return appended_data"
   ]
  },
  {
   "cell_type": "code",
   "execution_count": 134,
   "id": "205775bf-cd9d-4105-84a3-7fb0cc4bd175",
   "metadata": {},
   "outputs": [],
   "source": [
    "data_k_nebighours_wothout = simalarity_embedding_without(withoutclick_embeding.shape[0])"
   ]
  },
  {
   "cell_type": "code",
   "execution_count": 135,
   "id": "8a277f8d-3b98-44d4-a813-0946bc103796",
   "metadata": {},
   "outputs": [
    {
     "data": {
      "text/plain": [
       "(534303, 3)"
      ]
     },
     "execution_count": 135,
     "metadata": {},
     "output_type": "execute_result"
    }
   ],
   "source": [
    "data_k_nebighours_wothout.shape"
   ]
  },
  {
   "cell_type": "markdown",
   "id": "a7259afd-1dfe-4f18-9210-38c39e46706f",
   "metadata": {
    "tags": []
   },
   "source": [
    "# Threshhold for clicks and not not clicked"
   ]
  },
  {
   "cell_type": "markdown",
   "id": "1963453d-c590-4857-9233-18a0bdceddc8",
   "metadata": {},
   "source": [
    "- Clicks"
   ]
  },
  {
   "cell_type": "code",
   "execution_count": 230,
   "id": "83533c1f-7b7f-469e-9f8c-f19b30677905",
   "metadata": {},
   "outputs": [
    {
     "data": {
      "text/html": [
       "<div>\n",
       "<style scoped>\n",
       "    .dataframe tbody tr th:only-of-type {\n",
       "        vertical-align: middle;\n",
       "    }\n",
       "\n",
       "    .dataframe tbody tr th {\n",
       "        vertical-align: top;\n",
       "    }\n",
       "\n",
       "    .dataframe thead th {\n",
       "        text-align: right;\n",
       "    }\n",
       "</style>\n",
       "<table border=\"1\" class=\"dataframe\">\n",
       "  <thead>\n",
       "    <tr style=\"text-align: right;\">\n",
       "      <th></th>\n",
       "      <th>Activity Detail</th>\n",
       "      <th>Match_Act_Detail</th>\n",
       "      <th>Distance</th>\n",
       "    </tr>\n",
       "  </thead>\n",
       "  <tbody>\n",
       "    <tr>\n",
       "      <th>1108</th>\n",
       "      <td>token</td>\n",
       "      <td>token</td>\n",
       "      <td>0.0</td>\n",
       "    </tr>\n",
       "    <tr>\n",
       "      <th>75</th>\n",
       "      <td>invalid cluster list</td>\n",
       "      <td>invalid cluster list</td>\n",
       "      <td>0.0</td>\n",
       "    </tr>\n",
       "    <tr>\n",
       "      <th>74</th>\n",
       "      <td>invalid cluster list</td>\n",
       "      <td>invalid cluster list</td>\n",
       "      <td>0.0</td>\n",
       "    </tr>\n",
       "    <tr>\n",
       "      <th>584</th>\n",
       "      <td>cannot complete login due to an incorrect user...</td>\n",
       "      <td>cannot complete login due to an incorrect use...</td>\n",
       "      <td>0.0</td>\n",
       "    </tr>\n",
       "    <tr>\n",
       "      <th>1397</th>\n",
       "      <td>querychangeddiskareas failed with reason soap ...</td>\n",
       "      <td>querychangeddiskareas failed with reason soap ...</td>\n",
       "      <td>0.0</td>\n",
       "    </tr>\n",
       "    <tr>\n",
       "      <th>344</th>\n",
       "      <td>collect api</td>\n",
       "      <td>collect api</td>\n",
       "      <td>0.0</td>\n",
       "    </tr>\n",
       "    <tr>\n",
       "      <th>343</th>\n",
       "      <td>collect api</td>\n",
       "      <td>collect api</td>\n",
       "      <td>0.0</td>\n",
       "    </tr>\n",
       "    <tr>\n",
       "      <th>803</th>\n",
       "      <td>the specified network password is not correct</td>\n",
       "      <td>the specified network password is not correct</td>\n",
       "      <td>0.0</td>\n",
       "    </tr>\n",
       "    <tr>\n",
       "      <th>104</th>\n",
       "      <td>cannot complete login due to an incorrect use...</td>\n",
       "      <td>cannot complete login due to an incorrect user...</td>\n",
       "      <td>0.0</td>\n",
       "    </tr>\n",
       "    <tr>\n",
       "      <th>705</th>\n",
       "      <td>invalid request snapshot path does not exist</td>\n",
       "      <td>invalid request snapshot path does not exist</td>\n",
       "      <td>0.0</td>\n",
       "    </tr>\n",
       "    <tr>\n",
       "      <th>704</th>\n",
       "      <td>invalid request snapshot path does not exist</td>\n",
       "      <td>invalid request snapshot path does not exist</td>\n",
       "      <td>0.0</td>\n",
       "    </tr>\n",
       "    <tr>\n",
       "      <th>798</th>\n",
       "      <td>backlog in indexing of vm contents</td>\n",
       "      <td>backlog in indexing of vm contents</td>\n",
       "      <td>0.0</td>\n",
       "    </tr>\n",
       "    <tr>\n",
       "      <th>796</th>\n",
       "      <td>backlog in indexing of vm contents</td>\n",
       "      <td>backlog in indexing of vm contents</td>\n",
       "      <td>0.0</td>\n",
       "    </tr>\n",
       "    <tr>\n",
       "      <th>522</th>\n",
       "      <td>the specified network password is not correct</td>\n",
       "      <td>the specified network password is not correct</td>\n",
       "      <td>0.0</td>\n",
       "    </tr>\n",
       "    <tr>\n",
       "      <th>908</th>\n",
       "      <td>rman_shell info</td>\n",
       "      <td>rman_shell info</td>\n",
       "      <td>0.0</td>\n",
       "    </tr>\n",
       "    <tr>\n",
       "      <th>907</th>\n",
       "      <td>rman_shell info</td>\n",
       "      <td>rman_shell info</td>\n",
       "      <td>0.0</td>\n",
       "    </tr>\n",
       "    <tr>\n",
       "      <th>43</th>\n",
       "      <td>token</td>\n",
       "      <td>token</td>\n",
       "      <td>0.0</td>\n",
       "    </tr>\n",
       "    <tr>\n",
       "      <th>1125</th>\n",
       "      <td>copy_backup_run_op</td>\n",
       "      <td>copy_backup_run_op</td>\n",
       "      <td>0.0</td>\n",
       "    </tr>\n",
       "    <tr>\n",
       "      <th>1124</th>\n",
       "      <td>copy_backup_run_op</td>\n",
       "      <td>copy_backup_run_op</td>\n",
       "      <td>0.0</td>\n",
       "    </tr>\n",
       "    <tr>\n",
       "      <th>1247</th>\n",
       "      <td>error occurred while fetching summary of prote...</td>\n",
       "      <td>error occurred while fetching summary of prote...</td>\n",
       "      <td>0.0</td>\n",
       "    </tr>\n",
       "    <tr>\n",
       "      <th>1245</th>\n",
       "      <td>error occurred while fetching summary of prote...</td>\n",
       "      <td>error occurred while fetching summary of prote...</td>\n",
       "      <td>0.0</td>\n",
       "    </tr>\n",
       "    <tr>\n",
       "      <th>1390</th>\n",
       "      <td>gateway is not reachable</td>\n",
       "      <td>gateway is not reachable</td>\n",
       "      <td>0.0</td>\n",
       "    </tr>\n",
       "    <tr>\n",
       "      <th>1386</th>\n",
       "      <td>gateway is not reachable</td>\n",
       "      <td>gateway is not reachable</td>\n",
       "      <td>0.0</td>\n",
       "    </tr>\n",
       "    <tr>\n",
       "      <th>250</th>\n",
       "      <td>querychangeddiskareas failed with reason soap ...</td>\n",
       "      <td>querychangeddiskareas failed with reason soap ...</td>\n",
       "      <td>0.0</td>\n",
       "    </tr>\n",
       "    <tr>\n",
       "      <th>1519</th>\n",
       "      <td>failed to retrieve info for task</td>\n",
       "      <td>failed to retrieve info for task</td>\n",
       "      <td>0.0</td>\n",
       "    </tr>\n",
       "    <tr>\n",
       "      <th>1906</th>\n",
       "      <td>failed to retrieve info for task</td>\n",
       "      <td>failed to retrieve info for task</td>\n",
       "      <td>0.0</td>\n",
       "    </tr>\n",
       "    <tr>\n",
       "      <th>1518</th>\n",
       "      <td>failed to retrieve info for task</td>\n",
       "      <td>failed to retrieve info for task</td>\n",
       "      <td>0.0</td>\n",
       "    </tr>\n",
       "    <tr>\n",
       "      <th>1906</th>\n",
       "      <td>failed to retrieve info for task</td>\n",
       "      <td>failed to retrieve info for task</td>\n",
       "      <td>0.0</td>\n",
       "    </tr>\n",
       "    <tr>\n",
       "      <th>1536</th>\n",
       "      <td>snapshot id did not match for cbt driver</td>\n",
       "      <td>snapshot id did not match for cbt driver</td>\n",
       "      <td>0.0</td>\n",
       "    </tr>\n",
       "    <tr>\n",
       "      <th>1533</th>\n",
       "      <td>snapshot id did not match for cbt driver</td>\n",
       "      <td>snapshot id did not match for cbt driver</td>\n",
       "      <td>0.0</td>\n",
       "    </tr>\n",
       "    <tr>\n",
       "      <th>1579</th>\n",
       "      <td>vlan update hostname</td>\n",
       "      <td>vlan update hostname</td>\n",
       "      <td>0.0</td>\n",
       "    </tr>\n",
       "    <tr>\n",
       "      <th>1581</th>\n",
       "      <td>vlan update hostname</td>\n",
       "      <td>vlan update hostname</td>\n",
       "      <td>0.0</td>\n",
       "    </tr>\n",
       "    <tr>\n",
       "      <th>1578</th>\n",
       "      <td>vlan update hostname</td>\n",
       "      <td>vlan update hostname</td>\n",
       "      <td>0.0</td>\n",
       "    </tr>\n",
       "    <tr>\n",
       "      <th>1581</th>\n",
       "      <td>vlan update hostname</td>\n",
       "      <td>vlan update hostname</td>\n",
       "      <td>0.0</td>\n",
       "    </tr>\n",
       "    <tr>\n",
       "      <th>1578</th>\n",
       "      <td>vlan update hostname</td>\n",
       "      <td>vlan update hostname</td>\n",
       "      <td>0.0</td>\n",
       "    </tr>\n",
       "    <tr>\n",
       "      <th>1579</th>\n",
       "      <td>vlan update hostname</td>\n",
       "      <td>vlan update hostname</td>\n",
       "      <td>0.0</td>\n",
       "    </tr>\n",
       "    <tr>\n",
       "      <th>1798</th>\n",
       "      <td>nexus_proxy resta</td>\n",
       "      <td>nexus_proxy resta</td>\n",
       "      <td>0.0</td>\n",
       "    </tr>\n",
       "    <tr>\n",
       "      <th>1797</th>\n",
       "      <td>nexus_proxy resta</td>\n",
       "      <td>nexus_proxy resta</td>\n",
       "      <td>0.0</td>\n",
       "    </tr>\n",
       "    <tr>\n",
       "      <th>1518</th>\n",
       "      <td>failed to retrieve info for task</td>\n",
       "      <td>failed to retrieve info for task</td>\n",
       "      <td>0.0</td>\n",
       "    </tr>\n",
       "    <tr>\n",
       "      <th>1519</th>\n",
       "      <td>failed to retrieve info for task</td>\n",
       "      <td>failed to retrieve info for task</td>\n",
       "      <td>0.0</td>\n",
       "    </tr>\n",
       "    <tr>\n",
       "      <th>2021</th>\n",
       "      <td>setting up vm files in preparation to copy the...</td>\n",
       "      <td>setting up vm files in preparation to copy th...</td>\n",
       "      <td>0.0</td>\n",
       "    </tr>\n",
       "    <tr>\n",
       "      <th>2020</th>\n",
       "      <td>setting up vm files in preparation to copy th...</td>\n",
       "      <td>setting up vm files in preparation to copy the...</td>\n",
       "      <td>0.0</td>\n",
       "    </tr>\n",
       "    <tr>\n",
       "      <th>2157</th>\n",
       "      <td>coh_bootbank_cohfilter_1 0 4 1oem 650 0 0 459...</td>\n",
       "      <td>coh_bootbank_cohfilter_1 0 4 1oem 650 0 0 4598673</td>\n",
       "      <td>0.0</td>\n",
       "    </tr>\n",
       "    <tr>\n",
       "      <th>2156</th>\n",
       "      <td>coh_bootbank_cohfilter_1 0 4 1oem 650 0 0 4598673</td>\n",
       "      <td>coh_bootbank_cohfilter_1 0 4 1oem 650 0 0 459...</td>\n",
       "      <td>0.0</td>\n",
       "    </tr>\n",
       "  </tbody>\n",
       "</table>\n",
       "</div>"
      ],
      "text/plain": [
       "                                        Activity Detail  \\\n",
       "1108                                              token   \n",
       "75                                 invalid cluster list   \n",
       "74                                invalid cluster list    \n",
       "584   cannot complete login due to an incorrect user...   \n",
       "1397  querychangeddiskareas failed with reason soap ...   \n",
       "344                                         collect api   \n",
       "343                                         collect api   \n",
       "803      the specified network password is not correct    \n",
       "104    cannot complete login due to an incorrect use...   \n",
       "705       invalid request snapshot path does not exist    \n",
       "704        invalid request snapshot path does not exist   \n",
       "798                 backlog in indexing of vm contents    \n",
       "796                  backlog in indexing of vm contents   \n",
       "522      the specified network password is not correct    \n",
       "908                                     rman_shell info   \n",
       "907                                    rman_shell info    \n",
       "43                                                token   \n",
       "1125                                copy_backup_run_op    \n",
       "1124                                 copy_backup_run_op   \n",
       "1247  error occurred while fetching summary of prote...   \n",
       "1245  error occurred while fetching summary of prote...   \n",
       "1390                           gateway is not reachable   \n",
       "1386                          gateway is not reachable    \n",
       "250   querychangeddiskareas failed with reason soap ...   \n",
       "1519                   failed to retrieve info for task   \n",
       "1906                   failed to retrieve info for task   \n",
       "1518                  failed to retrieve info for task    \n",
       "1906                  failed to retrieve info for task    \n",
       "1536           snapshot id did not match for cbt driver   \n",
       "1533          snapshot id did not match for cbt driver    \n",
       "1579                               vlan update hostname   \n",
       "1581                               vlan update hostname   \n",
       "1578                              vlan update hostname    \n",
       "1581                              vlan update hostname    \n",
       "1578                              vlan update hostname    \n",
       "1579                              vlan update hostname    \n",
       "1798                                  nexus_proxy resta   \n",
       "1797                                  nexus_proxy resta   \n",
       "1518                  failed to retrieve info for task    \n",
       "1519                  failed to retrieve info for task    \n",
       "2021  setting up vm files in preparation to copy the...   \n",
       "2020   setting up vm files in preparation to copy th...   \n",
       "2157   coh_bootbank_cohfilter_1 0 4 1oem 650 0 0 459...   \n",
       "2156  coh_bootbank_cohfilter_1 0 4 1oem 650 0 0 4598673   \n",
       "\n",
       "                                       Match_Act_Detail  Distance  \n",
       "1108                                              token       0.0  \n",
       "75                                invalid cluster list        0.0  \n",
       "74                                 invalid cluster list       0.0  \n",
       "584    cannot complete login due to an incorrect use...       0.0  \n",
       "1397  querychangeddiskareas failed with reason soap ...       0.0  \n",
       "344                                         collect api       0.0  \n",
       "343                                         collect api       0.0  \n",
       "803      the specified network password is not correct        0.0  \n",
       "104   cannot complete login due to an incorrect user...       0.0  \n",
       "705        invalid request snapshot path does not exist       0.0  \n",
       "704       invalid request snapshot path does not exist        0.0  \n",
       "798                  backlog in indexing of vm contents       0.0  \n",
       "796                 backlog in indexing of vm contents        0.0  \n",
       "522      the specified network password is not correct        0.0  \n",
       "908                                    rman_shell info        0.0  \n",
       "907                                     rman_shell info       0.0  \n",
       "43                                                token       0.0  \n",
       "1125                                 copy_backup_run_op       0.0  \n",
       "1124                                copy_backup_run_op        0.0  \n",
       "1247  error occurred while fetching summary of prote...       0.0  \n",
       "1245  error occurred while fetching summary of prote...       0.0  \n",
       "1390                          gateway is not reachable        0.0  \n",
       "1386                           gateway is not reachable       0.0  \n",
       "250   querychangeddiskareas failed with reason soap ...       0.0  \n",
       "1519                  failed to retrieve info for task        0.0  \n",
       "1906                  failed to retrieve info for task        0.0  \n",
       "1518                   failed to retrieve info for task       0.0  \n",
       "1906                  failed to retrieve info for task        0.0  \n",
       "1536          snapshot id did not match for cbt driver        0.0  \n",
       "1533           snapshot id did not match for cbt driver       0.0  \n",
       "1579                              vlan update hostname        0.0  \n",
       "1581                              vlan update hostname        0.0  \n",
       "1578                               vlan update hostname       0.0  \n",
       "1581                              vlan update hostname        0.0  \n",
       "1578                               vlan update hostname       0.0  \n",
       "1579                              vlan update hostname        0.0  \n",
       "1798                                  nexus_proxy resta       0.0  \n",
       "1797                                  nexus_proxy resta       0.0  \n",
       "1518                   failed to retrieve info for task       0.0  \n",
       "1519                  failed to retrieve info for task        0.0  \n",
       "2021   setting up vm files in preparation to copy th...       0.0  \n",
       "2020  setting up vm files in preparation to copy the...       0.0  \n",
       "2157  coh_bootbank_cohfilter_1 0 4 1oem 650 0 0 4598673       0.0  \n",
       "2156   coh_bootbank_cohfilter_1 0 4 1oem 650 0 0 459...       0.0  "
      ]
     },
     "execution_count": 230,
     "metadata": {},
     "output_type": "execute_result"
    }
   ],
   "source": [
    "data_k_nebighours.loc[data_k_nebighours['Distance'] == 0]"
   ]
  },
  {
   "cell_type": "code",
   "execution_count": 198,
   "id": "f951f304-ccb6-479b-887b-5c2ac1e735cc",
   "metadata": {
    "tags": []
   },
   "outputs": [],
   "source": [
    "# Removing values with zero and rounding\n",
    "\n",
    "\n",
    "# Rounding\n",
    "data_k_nebighours['Distance'] = data_k_nebighours['Distance'].round(1)\n",
    "\n",
    "\n",
    "clicks_threshold = data_k_nebighours[(data_k_nebighours['Distance'] <= 0.6 ) & (data_k_nebighours['Distance'] >0.0 )]\n",
    "clicks_outlier = data_k_nebighours[(data_k_nebighours['Distance'] > 0.6)]"
   ]
  },
  {
   "cell_type": "markdown",
   "id": "89b5cef7-b010-474b-93c9-cd4cc7300a42",
   "metadata": {},
   "source": [
    "- without clicks"
   ]
  },
  {
   "cell_type": "code",
   "execution_count": 204,
   "id": "84138859-0400-443c-b678-23c243567598",
   "metadata": {},
   "outputs": [],
   "source": [
    "data_k_nebighours_wothout['Distance'] = data_k_nebighours_wothout['Distance'].round(1)\n",
    "\n",
    "\n",
    "Withoutclicks_threshold = data_k_nebighours_wothout[(data_k_nebighours_wothout['Distance'] <= 0.6 ) & (data_k_nebighours_wothout['Distance'] >0.0 )]\n",
    "Withoutclicks_outlier = data_k_nebighours_wothout[(data_k_nebighours_wothout['Distance'] > 0.6)]"
   ]
  },
  {
   "cell_type": "code",
   "execution_count": 205,
   "id": "aad4de9e-7c95-4d78-bfde-174ce98eecff",
   "metadata": {},
   "outputs": [
    {
     "name": "stdout",
     "output_type": "stream",
     "text": [
      "(2600, 3) (7395, 3)\n"
     ]
    }
   ],
   "source": [
    "print(clicks_threshold.shape, Withoutclicks_threshold.shape)"
   ]
  },
  {
   "cell_type": "code",
   "execution_count": 206,
   "id": "3addfdd6-5f1c-4087-9aa2-ab62d4a0ea4c",
   "metadata": {},
   "outputs": [
    {
     "data": {
      "text/html": [
       "<div>\n",
       "<style scoped>\n",
       "    .dataframe tbody tr th:only-of-type {\n",
       "        vertical-align: middle;\n",
       "    }\n",
       "\n",
       "    .dataframe tbody tr th {\n",
       "        vertical-align: top;\n",
       "    }\n",
       "\n",
       "    .dataframe thead th {\n",
       "        text-align: right;\n",
       "    }\n",
       "</style>\n",
       "<table border=\"1\" class=\"dataframe\">\n",
       "  <thead>\n",
       "    <tr style=\"text-align: right;\">\n",
       "      <th></th>\n",
       "      <th>Activity Detail</th>\n",
       "      <th>Match_Act_Detail</th>\n",
       "      <th>Distance</th>\n",
       "    </tr>\n",
       "  </thead>\n",
       "  <tbody>\n",
       "    <tr>\n",
       "      <th>1263</th>\n",
       "      <td>add new cohesity node</td>\n",
       "      <td>cohesity add node</td>\n",
       "      <td>0.3</td>\n",
       "    </tr>\n",
       "    <tr>\n",
       "      <th>1363</th>\n",
       "      <td>add new cohesity node</td>\n",
       "      <td>add new cohesity node to cohesity cluster</td>\n",
       "      <td>0.5</td>\n",
       "    </tr>\n",
       "    <tr>\n",
       "      <th>265</th>\n",
       "      <td>add new cohesity node</td>\n",
       "      <td>urgently adding 3 nodes lent by cohesity</td>\n",
       "      <td>0.6</td>\n",
       "    </tr>\n",
       "    <tr>\n",
       "      <th>5</th>\n",
       "      <td>share permissions in the cohesity clusters</td>\n",
       "      <td>unknown share permissions in the cohesity clus...</td>\n",
       "      <td>0.6</td>\n",
       "    </tr>\n",
       "    <tr>\n",
       "      <th>4</th>\n",
       "      <td>unknown share permissions in the cohesity clus...</td>\n",
       "      <td>share permissions in the cohesity clusters</td>\n",
       "      <td>0.6</td>\n",
       "    </tr>\n",
       "  </tbody>\n",
       "</table>\n",
       "</div>"
      ],
      "text/plain": [
       "                                        Activity Detail  \\\n",
       "1263                              add new cohesity node   \n",
       "1363                              add new cohesity node   \n",
       "265                               add new cohesity node   \n",
       "5            share permissions in the cohesity clusters   \n",
       "4     unknown share permissions in the cohesity clus...   \n",
       "\n",
       "                                       Match_Act_Detail  Distance  \n",
       "1263                                  cohesity add node       0.3  \n",
       "1363          add new cohesity node to cohesity cluster       0.5  \n",
       "265            urgently adding 3 nodes lent by cohesity       0.6  \n",
       "5     unknown share permissions in the cohesity clus...       0.6  \n",
       "4            share permissions in the cohesity clusters       0.6  "
      ]
     },
     "execution_count": 206,
     "metadata": {},
     "output_type": "execute_result"
    }
   ],
   "source": [
    "clicks_threshold.head()"
   ]
  },
  {
   "cell_type": "code",
   "execution_count": 214,
   "id": "aaedd13f-9d13-4d31-97c1-3fc16c0368a5",
   "metadata": {},
   "outputs": [
    {
     "name": "stdout",
     "output_type": "stream",
     "text": [
      "0.6 0.1\n",
      "0.6 0.1\n",
      "==================================================\n",
      "1.4 0.7\n",
      "1.3 0.7\n"
     ]
    }
   ],
   "source": [
    "print(clicks_threshold['Distance'].max(),clicks_threshold['Distance'].min())\n",
    "print(Withoutclicks_threshold['Distance'].max(),Withoutclicks_threshold['Distance'].min())\n",
    "print('='*50)\n",
    "print(clicks_outlier['Distance'].max(),clicks_outlier['Distance'].min())\n",
    "print(Withoutclicks_outlier['Distance'].max(),Withoutclicks_outlier['Distance'].min())"
   ]
  },
  {
   "cell_type": "code",
   "execution_count": 223,
   "id": "e045a92f-74bc-435b-9f89-8ebcc1d425c9",
   "metadata": {},
   "outputs": [
    {
     "name": "stdout",
     "output_type": "stream",
     "text": [
      "Clicked\n",
      "(2600, 3) (224462, 3)\n",
      "Without_Click\n",
      "(7395, 3) (526806, 3)\n"
     ]
    }
   ],
   "source": [
    "print('Clicked')\n",
    "print(clicks_threshold.shape,clicks_outlier.shape)\n",
    "\n",
    "\n",
    "print('Without_Click')\n",
    "print(Withoutclicks_threshold.shape,Withoutclicks_outlier.shape)"
   ]
  },
  {
   "cell_type": "markdown",
   "id": "91a1a40c-b229-4c6a-8afe-a2fdab23842b",
   "metadata": {},
   "source": [
    "- Grouping"
   ]
  },
  {
   "cell_type": "code",
   "execution_count": 215,
   "id": "0c212c31-c4dd-4111-b28f-2e4317fc5a08",
   "metadata": {},
   "outputs": [],
   "source": [
    "dfclicks_groupby = clicks_threshold.groupby(['Activity Detail','Distance'])\n",
    "dfclicks_outlier = clicks_outlier.groupby(['Activity Detail','Distance'])"
   ]
  },
  {
   "cell_type": "code",
   "execution_count": 216,
   "id": "d0197b65-f650-4e4d-9e45-a7a82afd0ddc",
   "metadata": {},
   "outputs": [],
   "source": [
    "df_not_clicks_groupby = Withoutclicks_threshold.groupby(['Activity Detail','Distance'])\n",
    "df_not_clicks_outlier = Withoutclicks_outlier.groupby(['Activity Detail','Distance'])"
   ]
  },
  {
   "cell_type": "markdown",
   "id": "de065496-dbfe-4eac-9d5c-611032b7a547",
   "metadata": {},
   "source": [
    "# Creating_exelfiles"
   ]
  },
  {
   "cell_type": "code",
   "execution_count": 220,
   "id": "6d31e695-1424-4a45-8f47-16bb1f6c51aa",
   "metadata": {},
   "outputs": [],
   "source": [
    "dfclicks_groupby.first().to_excel('Clicked.xlsx')\n",
    "dfclicks_outlier.first().to_excel('Clicked_outlier.xlsx')\n",
    "\n",
    "df_not_clicks_groupby.first().to_excel('Without_clicks.xlsx')\n",
    "df_not_clicks_outlier.first().to_excel('Withoutclicks_outlier.xlsx')"
   ]
  },
  {
   "cell_type": "code",
   "execution_count": null,
   "id": "f77ecf22-c514-495c-b3fb-c58bf2432b73",
   "metadata": {},
   "outputs": [],
   "source": []
  }
 ],
 "metadata": {
  "kernelspec": {
   "display_name": "Python 3 (ipykernel)",
   "language": "python",
   "name": "python3"
  },
  "language_info": {
   "codemirror_mode": {
    "name": "ipython",
    "version": 3
   },
   "file_extension": ".py",
   "mimetype": "text/x-python",
   "name": "python",
   "nbconvert_exporter": "python",
   "pygments_lexer": "ipython3",
   "version": "3.7.13"
  }
 },
 "nbformat": 4,
 "nbformat_minor": 5
}
